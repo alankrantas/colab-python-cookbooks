{
  "nbformat": 4,
  "nbformat_minor": 0,
  "metadata": {
    "colab": {
      "name": "colab_flaml_time_series.ipynb",
      "provenance": [],
      "collapsed_sections": []
    },
    "kernelspec": {
      "name": "python3",
      "display_name": "Python 3"
    },
    "language_info": {
      "name": "python"
    }
  },
  "cells": [
    {
      "cell_type": "markdown",
      "source": [
        "# Flaml (Fast and Lightweight AutoML) Time Series Forecast Demo\n",
        "\n",
        "Restart runtime after installation (ignore errors). 0.9.4 has some model choosing bugs."
      ],
      "metadata": {
        "id": "3rsDk_olFj3E"
      }
    },
    {
      "cell_type": "code",
      "metadata": {
        "colab": {
          "base_uri": "https://localhost:8080/"
        },
        "id": "5cwZc3YLqaoq",
        "outputId": "7c0b9db8-58e8-4a11-b446-8861530aea87"
      },
      "source": [
        "!pip3 install \"flaml[ts_forecast]\"==0.9.3"
      ],
      "execution_count": null,
      "outputs": [
        {
          "output_type": "stream",
          "name": "stdout",
          "text": [
            "Collecting flaml[ts_forecast]==0.9.3\n",
            "  Downloading FLAML-0.9.3-py3-none-any.whl (141 kB)\n",
            "\u001b[K     |████████████████████████████████| 141 kB 4.3 MB/s \n",
            "\u001b[?25hRequirement already satisfied: pandas>=1.1.4 in /usr/local/lib/python3.7/dist-packages (from flaml[ts_forecast]==0.9.3) (1.1.5)\n",
            "Collecting lightgbm>=2.3.1\n",
            "  Downloading lightgbm-3.3.2-py3-none-manylinux1_x86_64.whl (2.0 MB)\n",
            "\u001b[K     |████████████████████████████████| 2.0 MB 24.3 MB/s \n",
            "\u001b[?25hRequirement already satisfied: NumPy>=1.16.2 in /usr/local/lib/python3.7/dist-packages (from flaml[ts_forecast]==0.9.3) (1.19.5)\n",
            "Requirement already satisfied: xgboost<=1.3.3,>=0.90 in /usr/local/lib/python3.7/dist-packages (from flaml[ts_forecast]==0.9.3) (0.90)\n",
            "Requirement already satisfied: scikit-learn>=0.24 in /usr/local/lib/python3.7/dist-packages (from flaml[ts_forecast]==0.9.3) (1.0.1)\n",
            "Requirement already satisfied: scipy>=1.4.1 in /usr/local/lib/python3.7/dist-packages (from flaml[ts_forecast]==0.9.3) (1.4.1)\n",
            "Collecting prophet>=1.0.1\n",
            "  Downloading prophet-1.0.1.tar.gz (65 kB)\n",
            "\u001b[K     |████████████████████████████████| 65 kB 4.1 MB/s \n",
            "\u001b[?25hCollecting statsmodels>=0.12.2\n",
            "  Downloading statsmodels-0.13.1-cp37-cp37m-manylinux_2_17_x86_64.manylinux2014_x86_64.whl (9.8 MB)\n",
            "\u001b[K     |████████████████████████████████| 9.8 MB 58.7 MB/s \n",
            "\u001b[?25hRequirement already satisfied: wheel in /usr/local/lib/python3.7/dist-packages (from lightgbm>=2.3.1->flaml[ts_forecast]==0.9.3) (0.37.0)\n",
            "Requirement already satisfied: pytz>=2017.2 in /usr/local/lib/python3.7/dist-packages (from pandas>=1.1.4->flaml[ts_forecast]==0.9.3) (2018.9)\n",
            "Requirement already satisfied: python-dateutil>=2.7.3 in /usr/local/lib/python3.7/dist-packages (from pandas>=1.1.4->flaml[ts_forecast]==0.9.3) (2.8.2)\n",
            "Requirement already satisfied: Cython>=0.22 in /usr/local/lib/python3.7/dist-packages (from prophet>=1.0.1->flaml[ts_forecast]==0.9.3) (0.29.24)\n",
            "Collecting cmdstanpy==0.9.68\n",
            "  Downloading cmdstanpy-0.9.68-py3-none-any.whl (49 kB)\n",
            "\u001b[K     |████████████████████████████████| 49 kB 5.6 MB/s \n",
            "\u001b[?25hRequirement already satisfied: pystan~=2.19.1.1 in /usr/local/lib/python3.7/dist-packages (from prophet>=1.0.1->flaml[ts_forecast]==0.9.3) (2.19.1.1)\n",
            "Requirement already satisfied: matplotlib>=2.0.0 in /usr/local/lib/python3.7/dist-packages (from prophet>=1.0.1->flaml[ts_forecast]==0.9.3) (3.2.2)\n",
            "Requirement already satisfied: LunarCalendar>=0.0.9 in /usr/local/lib/python3.7/dist-packages (from prophet>=1.0.1->flaml[ts_forecast]==0.9.3) (0.0.9)\n",
            "Requirement already satisfied: convertdate>=2.1.2 in /usr/local/lib/python3.7/dist-packages (from prophet>=1.0.1->flaml[ts_forecast]==0.9.3) (2.3.2)\n",
            "Requirement already satisfied: holidays>=0.10.2 in /usr/local/lib/python3.7/dist-packages (from prophet>=1.0.1->flaml[ts_forecast]==0.9.3) (0.10.5.2)\n",
            "Requirement already satisfied: setuptools-git>=1.2 in /usr/local/lib/python3.7/dist-packages (from prophet>=1.0.1->flaml[ts_forecast]==0.9.3) (1.2)\n",
            "Requirement already satisfied: tqdm>=4.36.1 in /usr/local/lib/python3.7/dist-packages (from prophet>=1.0.1->flaml[ts_forecast]==0.9.3) (4.62.3)\n",
            "Collecting ujson\n",
            "  Downloading ujson-5.1.0-cp37-cp37m-manylinux_2_17_x86_64.manylinux2014_x86_64.whl (43 kB)\n",
            "\u001b[K     |████████████████████████████████| 43 kB 2.2 MB/s \n",
            "\u001b[?25hRequirement already satisfied: pymeeus<=1,>=0.3.13 in /usr/local/lib/python3.7/dist-packages (from convertdate>=2.1.2->prophet>=1.0.1->flaml[ts_forecast]==0.9.3) (0.5.11)\n",
            "Requirement already satisfied: hijri-converter in /usr/local/lib/python3.7/dist-packages (from holidays>=0.10.2->prophet>=1.0.1->flaml[ts_forecast]==0.9.3) (2.2.2)\n",
            "Requirement already satisfied: six in /usr/local/lib/python3.7/dist-packages (from holidays>=0.10.2->prophet>=1.0.1->flaml[ts_forecast]==0.9.3) (1.15.0)\n",
            "Requirement already satisfied: korean-lunar-calendar in /usr/local/lib/python3.7/dist-packages (from holidays>=0.10.2->prophet>=1.0.1->flaml[ts_forecast]==0.9.3) (0.2.1)\n",
            "Requirement already satisfied: ephem>=3.7.5.3 in /usr/local/lib/python3.7/dist-packages (from LunarCalendar>=0.0.9->prophet>=1.0.1->flaml[ts_forecast]==0.9.3) (4.1)\n",
            "Requirement already satisfied: cycler>=0.10 in /usr/local/lib/python3.7/dist-packages (from matplotlib>=2.0.0->prophet>=1.0.1->flaml[ts_forecast]==0.9.3) (0.11.0)\n",
            "Requirement already satisfied: pyparsing!=2.0.4,!=2.1.2,!=2.1.6,>=2.0.1 in /usr/local/lib/python3.7/dist-packages (from matplotlib>=2.0.0->prophet>=1.0.1->flaml[ts_forecast]==0.9.3) (3.0.6)\n",
            "Requirement already satisfied: kiwisolver>=1.0.1 in /usr/local/lib/python3.7/dist-packages (from matplotlib>=2.0.0->prophet>=1.0.1->flaml[ts_forecast]==0.9.3) (1.3.2)\n",
            "Requirement already satisfied: joblib>=0.11 in /usr/local/lib/python3.7/dist-packages (from scikit-learn>=0.24->flaml[ts_forecast]==0.9.3) (1.1.0)\n",
            "Requirement already satisfied: threadpoolctl>=2.0.0 in /usr/local/lib/python3.7/dist-packages (from scikit-learn>=0.24->flaml[ts_forecast]==0.9.3) (3.0.0)\n",
            "Requirement already satisfied: patsy>=0.5.2 in /usr/local/lib/python3.7/dist-packages (from statsmodels>=0.12.2->flaml[ts_forecast]==0.9.3) (0.5.2)\n",
            "Building wheels for collected packages: prophet\n",
            "  Building wheel for prophet (setup.py) ... \u001b[?25l\u001b[?25hdone\n",
            "  Created wheel for prophet: filename=prophet-1.0.1-py3-none-any.whl size=6640437 sha256=fe77324154f7483d2efa5b741b87cfd4f8eb4119bf2006f4369f5f0df43d4c71\n",
            "  Stored in directory: /root/.cache/pip/wheels/4e/a0/1a/02c9ec9e3e9de6bdbb3d769d11992a6926889d71567d6b9b67\n",
            "Successfully built prophet\n",
            "Installing collected packages: ujson, lightgbm, cmdstanpy, statsmodels, prophet, flaml\n",
            "  Attempting uninstall: lightgbm\n",
            "    Found existing installation: lightgbm 2.2.3\n",
            "    Uninstalling lightgbm-2.2.3:\n",
            "      Successfully uninstalled lightgbm-2.2.3\n",
            "  Attempting uninstall: cmdstanpy\n",
            "    Found existing installation: cmdstanpy 0.9.5\n",
            "    Uninstalling cmdstanpy-0.9.5:\n",
            "      Successfully uninstalled cmdstanpy-0.9.5\n",
            "  Attempting uninstall: statsmodels\n",
            "    Found existing installation: statsmodels 0.10.2\n",
            "    Uninstalling statsmodels-0.10.2:\n",
            "      Successfully uninstalled statsmodels-0.10.2\n",
            "\u001b[31mERROR: pip's dependency resolver does not currently take into account all the packages that are installed. This behaviour is the source of the following dependency conflicts.\n",
            "fbprophet 0.7.1 requires cmdstanpy==0.9.5, but you have cmdstanpy 0.9.68 which is incompatible.\u001b[0m\n",
            "Successfully installed cmdstanpy-0.9.68 flaml-0.9.3 lightgbm-3.3.2 prophet-1.0.1 statsmodels-0.13.1 ujson-5.1.0\n"
          ]
        }
      ]
    },
    {
      "cell_type": "code",
      "metadata": {
        "id": "41nlIJ11qitm"
      },
      "source": [
        "import numpy as np\n",
        "import pandas as pd\n",
        "import matplotlib.pyplot as plt\n",
        "import seaborn as sns\n",
        "from flaml import AutoML"
      ],
      "execution_count": null,
      "outputs": []
    },
    {
      "cell_type": "markdown",
      "source": [
        "### Import dataset"
      ],
      "metadata": {
        "id": "nJ35W0jh09ut"
      }
    },
    {
      "cell_type": "code",
      "source": [
        "df = sns.load_dataset('flights')\n",
        "df"
      ],
      "metadata": {
        "colab": {
          "base_uri": "https://localhost:8080/",
          "height": 424
        },
        "id": "W7R0Q3HcJvp_",
        "outputId": "6ae5f136-5485-4b5a-a554-3115b8d4b591"
      },
      "execution_count": null,
      "outputs": [
        {
          "output_type": "execute_result",
          "data": {
            "text/html": [
              "\n",
              "  <div id=\"df-bc79c786-17e7-4f02-83da-f5cb64c7b948\">\n",
              "    <div class=\"colab-df-container\">\n",
              "      <div>\n",
              "<style scoped>\n",
              "    .dataframe tbody tr th:only-of-type {\n",
              "        vertical-align: middle;\n",
              "    }\n",
              "\n",
              "    .dataframe tbody tr th {\n",
              "        vertical-align: top;\n",
              "    }\n",
              "\n",
              "    .dataframe thead th {\n",
              "        text-align: right;\n",
              "    }\n",
              "</style>\n",
              "<table border=\"1\" class=\"dataframe\">\n",
              "  <thead>\n",
              "    <tr style=\"text-align: right;\">\n",
              "      <th></th>\n",
              "      <th>year</th>\n",
              "      <th>month</th>\n",
              "      <th>passengers</th>\n",
              "    </tr>\n",
              "  </thead>\n",
              "  <tbody>\n",
              "    <tr>\n",
              "      <th>0</th>\n",
              "      <td>1949</td>\n",
              "      <td>Jan</td>\n",
              "      <td>112</td>\n",
              "    </tr>\n",
              "    <tr>\n",
              "      <th>1</th>\n",
              "      <td>1949</td>\n",
              "      <td>Feb</td>\n",
              "      <td>118</td>\n",
              "    </tr>\n",
              "    <tr>\n",
              "      <th>2</th>\n",
              "      <td>1949</td>\n",
              "      <td>Mar</td>\n",
              "      <td>132</td>\n",
              "    </tr>\n",
              "    <tr>\n",
              "      <th>3</th>\n",
              "      <td>1949</td>\n",
              "      <td>Apr</td>\n",
              "      <td>129</td>\n",
              "    </tr>\n",
              "    <tr>\n",
              "      <th>4</th>\n",
              "      <td>1949</td>\n",
              "      <td>May</td>\n",
              "      <td>121</td>\n",
              "    </tr>\n",
              "    <tr>\n",
              "      <th>...</th>\n",
              "      <td>...</td>\n",
              "      <td>...</td>\n",
              "      <td>...</td>\n",
              "    </tr>\n",
              "    <tr>\n",
              "      <th>139</th>\n",
              "      <td>1960</td>\n",
              "      <td>Aug</td>\n",
              "      <td>606</td>\n",
              "    </tr>\n",
              "    <tr>\n",
              "      <th>140</th>\n",
              "      <td>1960</td>\n",
              "      <td>Sep</td>\n",
              "      <td>508</td>\n",
              "    </tr>\n",
              "    <tr>\n",
              "      <th>141</th>\n",
              "      <td>1960</td>\n",
              "      <td>Oct</td>\n",
              "      <td>461</td>\n",
              "    </tr>\n",
              "    <tr>\n",
              "      <th>142</th>\n",
              "      <td>1960</td>\n",
              "      <td>Nov</td>\n",
              "      <td>390</td>\n",
              "    </tr>\n",
              "    <tr>\n",
              "      <th>143</th>\n",
              "      <td>1960</td>\n",
              "      <td>Dec</td>\n",
              "      <td>432</td>\n",
              "    </tr>\n",
              "  </tbody>\n",
              "</table>\n",
              "<p>144 rows × 3 columns</p>\n",
              "</div>\n",
              "      <button class=\"colab-df-convert\" onclick=\"convertToInteractive('df-bc79c786-17e7-4f02-83da-f5cb64c7b948')\"\n",
              "              title=\"Convert this dataframe to an interactive table.\"\n",
              "              style=\"display:none;\">\n",
              "        \n",
              "  <svg xmlns=\"http://www.w3.org/2000/svg\" height=\"24px\"viewBox=\"0 0 24 24\"\n",
              "       width=\"24px\">\n",
              "    <path d=\"M0 0h24v24H0V0z\" fill=\"none\"/>\n",
              "    <path d=\"M18.56 5.44l.94 2.06.94-2.06 2.06-.94-2.06-.94-.94-2.06-.94 2.06-2.06.94zm-11 1L8.5 8.5l.94-2.06 2.06-.94-2.06-.94L8.5 2.5l-.94 2.06-2.06.94zm10 10l.94 2.06.94-2.06 2.06-.94-2.06-.94-.94-2.06-.94 2.06-2.06.94z\"/><path d=\"M17.41 7.96l-1.37-1.37c-.4-.4-.92-.59-1.43-.59-.52 0-1.04.2-1.43.59L10.3 9.45l-7.72 7.72c-.78.78-.78 2.05 0 2.83L4 21.41c.39.39.9.59 1.41.59.51 0 1.02-.2 1.41-.59l7.78-7.78 2.81-2.81c.8-.78.8-2.07 0-2.86zM5.41 20L4 18.59l7.72-7.72 1.47 1.35L5.41 20z\"/>\n",
              "  </svg>\n",
              "      </button>\n",
              "      \n",
              "  <style>\n",
              "    .colab-df-container {\n",
              "      display:flex;\n",
              "      flex-wrap:wrap;\n",
              "      gap: 12px;\n",
              "    }\n",
              "\n",
              "    .colab-df-convert {\n",
              "      background-color: #E8F0FE;\n",
              "      border: none;\n",
              "      border-radius: 50%;\n",
              "      cursor: pointer;\n",
              "      display: none;\n",
              "      fill: #1967D2;\n",
              "      height: 32px;\n",
              "      padding: 0 0 0 0;\n",
              "      width: 32px;\n",
              "    }\n",
              "\n",
              "    .colab-df-convert:hover {\n",
              "      background-color: #E2EBFA;\n",
              "      box-shadow: 0px 1px 2px rgba(60, 64, 67, 0.3), 0px 1px 3px 1px rgba(60, 64, 67, 0.15);\n",
              "      fill: #174EA6;\n",
              "    }\n",
              "\n",
              "    [theme=dark] .colab-df-convert {\n",
              "      background-color: #3B4455;\n",
              "      fill: #D2E3FC;\n",
              "    }\n",
              "\n",
              "    [theme=dark] .colab-df-convert:hover {\n",
              "      background-color: #434B5C;\n",
              "      box-shadow: 0px 1px 3px 1px rgba(0, 0, 0, 0.15);\n",
              "      filter: drop-shadow(0px 1px 2px rgba(0, 0, 0, 0.3));\n",
              "      fill: #FFFFFF;\n",
              "    }\n",
              "  </style>\n",
              "\n",
              "      <script>\n",
              "        const buttonEl =\n",
              "          document.querySelector('#df-bc79c786-17e7-4f02-83da-f5cb64c7b948 button.colab-df-convert');\n",
              "        buttonEl.style.display =\n",
              "          google.colab.kernel.accessAllowed ? 'block' : 'none';\n",
              "\n",
              "        async function convertToInteractive(key) {\n",
              "          const element = document.querySelector('#df-bc79c786-17e7-4f02-83da-f5cb64c7b948');\n",
              "          const dataTable =\n",
              "            await google.colab.kernel.invokeFunction('convertToInteractive',\n",
              "                                                     [key], {});\n",
              "          if (!dataTable) return;\n",
              "\n",
              "          const docLinkHtml = 'Like what you see? Visit the ' +\n",
              "            '<a target=\"_blank\" href=https://colab.research.google.com/notebooks/data_table.ipynb>data table notebook</a>'\n",
              "            + ' to learn more about interactive tables.';\n",
              "          element.innerHTML = '';\n",
              "          dataTable['output_type'] = 'display_data';\n",
              "          await google.colab.output.renderOutput(dataTable, element);\n",
              "          const docLink = document.createElement('div');\n",
              "          docLink.innerHTML = docLinkHtml;\n",
              "          element.appendChild(docLink);\n",
              "        }\n",
              "      </script>\n",
              "    </div>\n",
              "  </div>\n",
              "  "
            ],
            "text/plain": [
              "     year month  passengers\n",
              "0    1949   Jan         112\n",
              "1    1949   Feb         118\n",
              "2    1949   Mar         132\n",
              "3    1949   Apr         129\n",
              "4    1949   May         121\n",
              "..    ...   ...         ...\n",
              "139  1960   Aug         606\n",
              "140  1960   Sep         508\n",
              "141  1960   Oct         461\n",
              "142  1960   Nov         390\n",
              "143  1960   Dec         432\n",
              "\n",
              "[144 rows x 3 columns]"
            ]
          },
          "metadata": {},
          "execution_count": 2
        }
      ]
    },
    {
      "cell_type": "markdown",
      "source": [
        "### Preprocessing\n",
        "\n",
        "The first column must to be continuous ```datetime64``` values"
      ],
      "metadata": {
        "id": "EzJQiR1syz49"
      }
    },
    {
      "cell_type": "code",
      "source": [
        "t = pd.to_datetime(df.year.astype('str') + '-' + df.month.astype('str'), format='%Y-%b')\n",
        "df.insert(0, 'timestamp', t)\n",
        "df = df.drop(['year', 'month'], axis=1)\n",
        "df"
      ],
      "metadata": {
        "colab": {
          "base_uri": "https://localhost:8080/",
          "height": 424
        },
        "id": "K9xp8q34J5hz",
        "outputId": "b70b0f0b-8fe4-445f-d074-9ee7231c3665"
      },
      "execution_count": null,
      "outputs": [
        {
          "output_type": "execute_result",
          "data": {
            "text/html": [
              "\n",
              "  <div id=\"df-3cd83846-dc8c-4bd0-9ad9-c05f7b9bb9df\">\n",
              "    <div class=\"colab-df-container\">\n",
              "      <div>\n",
              "<style scoped>\n",
              "    .dataframe tbody tr th:only-of-type {\n",
              "        vertical-align: middle;\n",
              "    }\n",
              "\n",
              "    .dataframe tbody tr th {\n",
              "        vertical-align: top;\n",
              "    }\n",
              "\n",
              "    .dataframe thead th {\n",
              "        text-align: right;\n",
              "    }\n",
              "</style>\n",
              "<table border=\"1\" class=\"dataframe\">\n",
              "  <thead>\n",
              "    <tr style=\"text-align: right;\">\n",
              "      <th></th>\n",
              "      <th>timestamp</th>\n",
              "      <th>passengers</th>\n",
              "    </tr>\n",
              "  </thead>\n",
              "  <tbody>\n",
              "    <tr>\n",
              "      <th>0</th>\n",
              "      <td>1949-01-01</td>\n",
              "      <td>112</td>\n",
              "    </tr>\n",
              "    <tr>\n",
              "      <th>1</th>\n",
              "      <td>1949-02-01</td>\n",
              "      <td>118</td>\n",
              "    </tr>\n",
              "    <tr>\n",
              "      <th>2</th>\n",
              "      <td>1949-03-01</td>\n",
              "      <td>132</td>\n",
              "    </tr>\n",
              "    <tr>\n",
              "      <th>3</th>\n",
              "      <td>1949-04-01</td>\n",
              "      <td>129</td>\n",
              "    </tr>\n",
              "    <tr>\n",
              "      <th>4</th>\n",
              "      <td>1949-05-01</td>\n",
              "      <td>121</td>\n",
              "    </tr>\n",
              "    <tr>\n",
              "      <th>...</th>\n",
              "      <td>...</td>\n",
              "      <td>...</td>\n",
              "    </tr>\n",
              "    <tr>\n",
              "      <th>139</th>\n",
              "      <td>1960-08-01</td>\n",
              "      <td>606</td>\n",
              "    </tr>\n",
              "    <tr>\n",
              "      <th>140</th>\n",
              "      <td>1960-09-01</td>\n",
              "      <td>508</td>\n",
              "    </tr>\n",
              "    <tr>\n",
              "      <th>141</th>\n",
              "      <td>1960-10-01</td>\n",
              "      <td>461</td>\n",
              "    </tr>\n",
              "    <tr>\n",
              "      <th>142</th>\n",
              "      <td>1960-11-01</td>\n",
              "      <td>390</td>\n",
              "    </tr>\n",
              "    <tr>\n",
              "      <th>143</th>\n",
              "      <td>1960-12-01</td>\n",
              "      <td>432</td>\n",
              "    </tr>\n",
              "  </tbody>\n",
              "</table>\n",
              "<p>144 rows × 2 columns</p>\n",
              "</div>\n",
              "      <button class=\"colab-df-convert\" onclick=\"convertToInteractive('df-3cd83846-dc8c-4bd0-9ad9-c05f7b9bb9df')\"\n",
              "              title=\"Convert this dataframe to an interactive table.\"\n",
              "              style=\"display:none;\">\n",
              "        \n",
              "  <svg xmlns=\"http://www.w3.org/2000/svg\" height=\"24px\"viewBox=\"0 0 24 24\"\n",
              "       width=\"24px\">\n",
              "    <path d=\"M0 0h24v24H0V0z\" fill=\"none\"/>\n",
              "    <path d=\"M18.56 5.44l.94 2.06.94-2.06 2.06-.94-2.06-.94-.94-2.06-.94 2.06-2.06.94zm-11 1L8.5 8.5l.94-2.06 2.06-.94-2.06-.94L8.5 2.5l-.94 2.06-2.06.94zm10 10l.94 2.06.94-2.06 2.06-.94-2.06-.94-.94-2.06-.94 2.06-2.06.94z\"/><path d=\"M17.41 7.96l-1.37-1.37c-.4-.4-.92-.59-1.43-.59-.52 0-1.04.2-1.43.59L10.3 9.45l-7.72 7.72c-.78.78-.78 2.05 0 2.83L4 21.41c.39.39.9.59 1.41.59.51 0 1.02-.2 1.41-.59l7.78-7.78 2.81-2.81c.8-.78.8-2.07 0-2.86zM5.41 20L4 18.59l7.72-7.72 1.47 1.35L5.41 20z\"/>\n",
              "  </svg>\n",
              "      </button>\n",
              "      \n",
              "  <style>\n",
              "    .colab-df-container {\n",
              "      display:flex;\n",
              "      flex-wrap:wrap;\n",
              "      gap: 12px;\n",
              "    }\n",
              "\n",
              "    .colab-df-convert {\n",
              "      background-color: #E8F0FE;\n",
              "      border: none;\n",
              "      border-radius: 50%;\n",
              "      cursor: pointer;\n",
              "      display: none;\n",
              "      fill: #1967D2;\n",
              "      height: 32px;\n",
              "      padding: 0 0 0 0;\n",
              "      width: 32px;\n",
              "    }\n",
              "\n",
              "    .colab-df-convert:hover {\n",
              "      background-color: #E2EBFA;\n",
              "      box-shadow: 0px 1px 2px rgba(60, 64, 67, 0.3), 0px 1px 3px 1px rgba(60, 64, 67, 0.15);\n",
              "      fill: #174EA6;\n",
              "    }\n",
              "\n",
              "    [theme=dark] .colab-df-convert {\n",
              "      background-color: #3B4455;\n",
              "      fill: #D2E3FC;\n",
              "    }\n",
              "\n",
              "    [theme=dark] .colab-df-convert:hover {\n",
              "      background-color: #434B5C;\n",
              "      box-shadow: 0px 1px 3px 1px rgba(0, 0, 0, 0.15);\n",
              "      filter: drop-shadow(0px 1px 2px rgba(0, 0, 0, 0.3));\n",
              "      fill: #FFFFFF;\n",
              "    }\n",
              "  </style>\n",
              "\n",
              "      <script>\n",
              "        const buttonEl =\n",
              "          document.querySelector('#df-3cd83846-dc8c-4bd0-9ad9-c05f7b9bb9df button.colab-df-convert');\n",
              "        buttonEl.style.display =\n",
              "          google.colab.kernel.accessAllowed ? 'block' : 'none';\n",
              "\n",
              "        async function convertToInteractive(key) {\n",
              "          const element = document.querySelector('#df-3cd83846-dc8c-4bd0-9ad9-c05f7b9bb9df');\n",
              "          const dataTable =\n",
              "            await google.colab.kernel.invokeFunction('convertToInteractive',\n",
              "                                                     [key], {});\n",
              "          if (!dataTable) return;\n",
              "\n",
              "          const docLinkHtml = 'Like what you see? Visit the ' +\n",
              "            '<a target=\"_blank\" href=https://colab.research.google.com/notebooks/data_table.ipynb>data table notebook</a>'\n",
              "            + ' to learn more about interactive tables.';\n",
              "          element.innerHTML = '';\n",
              "          dataTable['output_type'] = 'display_data';\n",
              "          await google.colab.output.renderOutput(dataTable, element);\n",
              "          const docLink = document.createElement('div');\n",
              "          docLink.innerHTML = docLinkHtml;\n",
              "          element.appendChild(docLink);\n",
              "        }\n",
              "      </script>\n",
              "    </div>\n",
              "  </div>\n",
              "  "
            ],
            "text/plain": [
              "     timestamp  passengers\n",
              "0   1949-01-01         112\n",
              "1   1949-02-01         118\n",
              "2   1949-03-01         132\n",
              "3   1949-04-01         129\n",
              "4   1949-05-01         121\n",
              "..         ...         ...\n",
              "139 1960-08-01         606\n",
              "140 1960-09-01         508\n",
              "141 1960-10-01         461\n",
              "142 1960-11-01         390\n",
              "143 1960-12-01         432\n",
              "\n",
              "[144 rows x 2 columns]"
            ]
          },
          "metadata": {},
          "execution_count": 3
        }
      ]
    },
    {
      "cell_type": "code",
      "source": [
        "plt.figure(figsize=(12, 6))\n",
        "sns.lineplot(data=df, x='timestamp', y='passengers')\n",
        "plt.xlim([df.timestamp[0], df.timestamp[df.index.size-1]])\n",
        "plt.grid(True)\n",
        "plt.show()"
      ],
      "metadata": {
        "colab": {
          "base_uri": "https://localhost:8080/",
          "height": 388
        },
        "id": "JNxIIXZMLfOp",
        "outputId": "ff43dc95-143f-49e6-ce02-e3d20a446372"
      },
      "execution_count": null,
      "outputs": [
        {
          "output_type": "display_data",
          "data": {
            "image/png": "[encoded data removed]",
            "text/plain": [
              "<Figure size 864x432 with 1 Axes>"
            ]
          },
          "metadata": {
            "needs_background": "light"
          }
        }
      ]
    },
    {
      "cell_type": "markdown",
      "source": [
        "### Train model\n",
        "\n",
        "Use 20% data as test dataset"
      ],
      "metadata": {
        "id": "UyrXOiol1Q_O"
      }
    },
    {
      "cell_type": "code",
      "source": [
        "split = 0.2\n",
        "split_index = int(df.index.size*(1-split))\n",
        "\n",
        "train, test = df[:split_index], df[split_index:].drop(['passengers'], axis=1)"
      ],
      "metadata": {
        "id": "WVQiHKcj1V3v"
      },
      "execution_count": null,
      "outputs": []
    },
    {
      "cell_type": "code",
      "source": [
        "reg = AutoML()\n",
        "reg.fit(dataframe=train, label='passengers', task='ts_forecast', split_type='time', period=36, time_budget=60)"
      ],
      "metadata": {
        "colab": {
          "base_uri": "https://localhost:8080/"
        },
        "id": "oyBF0gvlLn57",
        "outputId": "fbef5e3f-6a80-4efc-cf27-7b40430a2d29"
      },
      "execution_count": null,
      "outputs": [
        {
          "output_type": "stream",
          "name": "stderr",
          "text": [
            "[flaml.automl: 01-09 16:24:09] {1973} INFO - task = ts_forecast\n",
            "[flaml.automl: 01-09 16:24:09] {1975} INFO - Data split method: time\n",
            "[flaml.automl: 01-09 16:24:09] {1979} INFO - Evaluation method: cv\n",
            "[flaml.automl: 01-09 16:24:09] {1201} INFO - Using nsplits=2 due to data size limit.\n",
            "[flaml.automl: 01-09 16:24:09] {2071} INFO - Minimizing error metric: mape\n",
            "[flaml.automl: 01-09 16:24:09] {2123} INFO - List of ML learners in AutoML Run: ['prophet', 'arima', 'sarimax']\n",
            "[flaml.automl: 01-09 16:24:09] {2380} INFO - iteration 0, current learner prophet\n",
            "[flaml.automl: 01-09 16:24:16] {2494} INFO - Estimated sufficient time budget=67412s. Estimated necessary time budget=67s.\n",
            "INFO:flaml.automl:Estimated sufficient time budget=67412s. Estimated necessary time budget=67s.\n",
            "[flaml.automl: 01-09 16:24:16] {2545} INFO -  at 7.1s,\testimator prophet's best error=0.0441,\tbest estimator prophet's best error=0.0441\n",
            "INFO:flaml.automl: at 7.1s,\testimator prophet's best error=0.0441,\tbest estimator prophet's best error=0.0441\n",
            "[flaml.automl: 01-09 16:24:16] {2380} INFO - iteration 1, current learner prophet\n",
            "INFO:flaml.automl:iteration 1, current learner prophet\n",
            "[flaml.automl: 01-09 16:24:22] {2545} INFO -  at 13.4s,\testimator prophet's best error=0.0441,\tbest estimator prophet's best error=0.0441\n",
            "INFO:flaml.automl: at 13.4s,\testimator prophet's best error=0.0441,\tbest estimator prophet's best error=0.0441\n",
            "[flaml.automl: 01-09 16:24:22] {2380} INFO - iteration 2, current learner prophet\n",
            "INFO:flaml.automl:iteration 2, current learner prophet\n",
            "[flaml.automl: 01-09 16:24:28] {2545} INFO -  at 19.5s,\testimator prophet's best error=0.0441,\tbest estimator prophet's best error=0.0441\n",
            "INFO:flaml.automl: at 19.5s,\testimator prophet's best error=0.0441,\tbest estimator prophet's best error=0.0441\n",
            "[flaml.automl: 01-09 16:24:28] {2380} INFO - iteration 3, current learner arima\n",
            "INFO:flaml.automl:iteration 3, current learner arima\n",
            "/usr/local/lib/python3.7/dist-packages/statsmodels/tsa/base/tsa_model.py:539: ValueWarning:\n",
            "\n",
            "No frequency information was provided, so inferred frequency MS will be used.\n",
            "\n",
            "/usr/local/lib/python3.7/dist-packages/statsmodels/tsa/base/tsa_model.py:539: ValueWarning:\n",
            "\n",
            "No frequency information was provided, so inferred frequency MS will be used.\n",
            "\n",
            "/usr/local/lib/python3.7/dist-packages/statsmodels/tsa/base/tsa_model.py:539: ValueWarning:\n",
            "\n",
            "No frequency information was provided, so inferred frequency MS will be used.\n",
            "\n",
            "[flaml.automl: 01-09 16:24:29] {2545} INFO -  at 19.8s,\testimator arima's best error=0.1997,\tbest estimator prophet's best error=0.0441\n",
            "INFO:flaml.automl: at 19.8s,\testimator arima's best error=0.1997,\tbest estimator prophet's best error=0.0441\n",
            "[flaml.automl: 01-09 16:24:29] {2380} INFO - iteration 4, current learner prophet\n",
            "INFO:flaml.automl:iteration 4, current learner prophet\n",
            "[flaml.automl: 01-09 16:24:35] {2545} INFO -  at 26.1s,\testimator prophet's best error=0.0441,\tbest estimator prophet's best error=0.0441\n",
            "INFO:flaml.automl: at 26.1s,\testimator prophet's best error=0.0441,\tbest estimator prophet's best error=0.0441\n",
            "[flaml.automl: 01-09 16:24:35] {2380} INFO - iteration 5, current learner arima\n",
            "INFO:flaml.automl:iteration 5, current learner arima\n",
            "[flaml.automl: 01-09 16:24:35] {2545} INFO -  at 26.4s,\testimator arima's best error=0.1997,\tbest estimator prophet's best error=0.0441\n",
            "INFO:flaml.automl: at 26.4s,\testimator arima's best error=0.1997,\tbest estimator prophet's best error=0.0441\n",
            "[flaml.automl: 01-09 16:24:35] {2380} INFO - iteration 6, current learner arima\n",
            "INFO:flaml.automl:iteration 6, current learner arima\n",
            "[flaml.automl: 01-09 16:24:35] {2545} INFO -  at 26.5s,\testimator arima's best error=0.1997,\tbest estimator prophet's best error=0.0441\n",
            "INFO:flaml.automl: at 26.5s,\testimator arima's best error=0.1997,\tbest estimator prophet's best error=0.0441\n",
            "[flaml.automl: 01-09 16:24:35] {2380} INFO - iteration 7, current learner arima\n",
            "INFO:flaml.automl:iteration 7, current learner arima\n",
            "[flaml.automl: 01-09 16:24:35] {2545} INFO -  at 26.5s,\testimator arima's best error=0.1997,\tbest estimator prophet's best error=0.0441\n",
            "INFO:flaml.automl: at 26.5s,\testimator arima's best error=0.1997,\tbest estimator prophet's best error=0.0441\n",
            "[flaml.automl: 01-09 16:24:35] {2380} INFO - iteration 8, current learner arima\n",
            "INFO:flaml.automl:iteration 8, current learner arima\n",
            "[flaml.automl: 01-09 16:24:36] {2545} INFO -  at 26.7s,\testimator arima's best error=0.1410,\tbest estimator prophet's best error=0.0441\n",
            "INFO:flaml.automl: at 26.7s,\testimator arima's best error=0.1410,\tbest estimator prophet's best error=0.0441\n",
            "[flaml.automl: 01-09 16:24:36] {2380} INFO - iteration 9, current learner arima\n",
            "INFO:flaml.automl:iteration 9, current learner arima\n",
            "[flaml.automl: 01-09 16:24:36] {2545} INFO -  at 27.1s,\testimator arima's best error=0.1410,\tbest estimator prophet's best error=0.0441\n",
            "INFO:flaml.automl: at 27.1s,\testimator arima's best error=0.1410,\tbest estimator prophet's best error=0.0441\n",
            "[flaml.automl: 01-09 16:24:36] {2380} INFO - iteration 10, current learner arima\n",
            "INFO:flaml.automl:iteration 10, current learner arima\n",
            "[flaml.automl: 01-09 16:24:36] {2545} INFO -  at 27.2s,\testimator arima's best error=0.1398,\tbest estimator prophet's best error=0.0441\n",
            "INFO:flaml.automl: at 27.2s,\testimator arima's best error=0.1398,\tbest estimator prophet's best error=0.0441\n",
            "[flaml.automl: 01-09 16:24:36] {2380} INFO - iteration 11, current learner sarimax\n",
            "INFO:flaml.automl:iteration 11, current learner sarimax\n",
            "[flaml.automl: 01-09 16:24:36] {2545} INFO -  at 27.4s,\testimator sarimax's best error=0.1997,\tbest estimator prophet's best error=0.0441\n",
            "INFO:flaml.automl: at 27.4s,\testimator sarimax's best error=0.1997,\tbest estimator prophet's best error=0.0441\n",
            "[flaml.automl: 01-09 16:24:36] {2380} INFO - iteration 12, current learner sarimax\n",
            "INFO:flaml.automl:iteration 12, current learner sarimax\n",
            "[flaml.automl: 01-09 16:24:37] {2545} INFO -  at 27.6s,\testimator sarimax's best error=0.1997,\tbest estimator prophet's best error=0.0441\n",
            "INFO:flaml.automl: at 27.6s,\testimator sarimax's best error=0.1997,\tbest estimator prophet's best error=0.0441\n",
            "[flaml.automl: 01-09 16:24:37] {2380} INFO - iteration 13, current learner sarimax\n",
            "INFO:flaml.automl:iteration 13, current learner sarimax\n",
            "[flaml.automl: 01-09 16:24:37] {2545} INFO -  at 27.6s,\testimator sarimax's best error=0.1997,\tbest estimator prophet's best error=0.0441\n",
            "INFO:flaml.automl: at 27.6s,\testimator sarimax's best error=0.1997,\tbest estimator prophet's best error=0.0441\n",
            "[flaml.automl: 01-09 16:24:37] {2380} INFO - iteration 14, current learner sarimax\n",
            "INFO:flaml.automl:iteration 14, current learner sarimax\n",
            "[flaml.automl: 01-09 16:24:37] {2545} INFO -  at 27.8s,\testimator sarimax's best error=0.1997,\tbest estimator prophet's best error=0.0441\n",
            "INFO:flaml.automl: at 27.8s,\testimator sarimax's best error=0.1997,\tbest estimator prophet's best error=0.0441\n",
            "[flaml.automl: 01-09 16:24:37] {2380} INFO - iteration 15, current learner sarimax\n",
            "INFO:flaml.automl:iteration 15, current learner sarimax\n",
            "[flaml.automl: 01-09 16:24:37] {2545} INFO -  at 27.9s,\testimator sarimax's best error=0.1394,\tbest estimator prophet's best error=0.0441\n",
            "INFO:flaml.automl: at 27.9s,\testimator sarimax's best error=0.1394,\tbest estimator prophet's best error=0.0441\n",
            "[flaml.automl: 01-09 16:24:37] {2380} INFO - iteration 16, current learner sarimax\n",
            "INFO:flaml.automl:iteration 16, current learner sarimax\n",
            "[flaml.automl: 01-09 16:24:37] {2545} INFO -  at 28.1s,\testimator sarimax's best error=0.1394,\tbest estimator prophet's best error=0.0441\n",
            "INFO:flaml.automl: at 28.1s,\testimator sarimax's best error=0.1394,\tbest estimator prophet's best error=0.0441\n",
            "[flaml.automl: 01-09 16:24:37] {2380} INFO - iteration 17, current learner prophet\n",
            "INFO:flaml.automl:iteration 17, current learner prophet\n",
            "[flaml.automl: 01-09 16:24:43] {2545} INFO -  at 33.8s,\testimator prophet's best error=0.0441,\tbest estimator prophet's best error=0.0441\n",
            "INFO:flaml.automl: at 33.8s,\testimator prophet's best error=0.0441,\tbest estimator prophet's best error=0.0441\n",
            "[flaml.automl: 01-09 16:24:43] {2380} INFO - iteration 18, current learner sarimax\n",
            "INFO:flaml.automl:iteration 18, current learner sarimax\n",
            "[flaml.automl: 01-09 16:24:43] {2545} INFO -  at 33.9s,\testimator sarimax's best error=0.1394,\tbest estimator prophet's best error=0.0441\n",
            "INFO:flaml.automl: at 33.9s,\testimator sarimax's best error=0.1394,\tbest estimator prophet's best error=0.0441\n",
            "[flaml.automl: 01-09 16:24:43] {2380} INFO - iteration 19, current learner sarimax\n",
            "INFO:flaml.automl:iteration 19, current learner sarimax\n",
            "[flaml.automl: 01-09 16:24:43] {2545} INFO -  at 34.0s,\testimator sarimax's best error=0.1394,\tbest estimator prophet's best error=0.0441\n",
            "INFO:flaml.automl: at 34.0s,\testimator sarimax's best error=0.1394,\tbest estimator prophet's best error=0.0441\n",
            "[flaml.automl: 01-09 16:24:43] {2380} INFO - iteration 20, current learner sarimax\n",
            "INFO:flaml.automl:iteration 20, current learner sarimax\n",
            "[flaml.automl: 01-09 16:24:43] {2545} INFO -  at 34.3s,\testimator sarimax's best error=0.1382,\tbest estimator prophet's best error=0.0441\n",
            "INFO:flaml.automl: at 34.3s,\testimator sarimax's best error=0.1382,\tbest estimator prophet's best error=0.0441\n",
            "[flaml.automl: 01-09 16:24:43] {2380} INFO - iteration 21, current learner prophet\n",
            "INFO:flaml.automl:iteration 21, current learner prophet\n",
            "[flaml.automl: 01-09 16:24:49] {2545} INFO -  at 40.5s,\testimator prophet's best error=0.0441,\tbest estimator prophet's best error=0.0441\n",
            "INFO:flaml.automl: at 40.5s,\testimator prophet's best error=0.0441,\tbest estimator prophet's best error=0.0441\n",
            "[flaml.automl: 01-09 16:24:49] {2380} INFO - iteration 22, current learner prophet\n",
            "INFO:flaml.automl:iteration 22, current learner prophet\n",
            "[flaml.automl: 01-09 16:24:55] {2545} INFO -  at 46.4s,\testimator prophet's best error=0.0441,\tbest estimator prophet's best error=0.0441\n",
            "INFO:flaml.automl: at 46.4s,\testimator prophet's best error=0.0441,\tbest estimator prophet's best error=0.0441\n",
            "[flaml.automl: 01-09 16:24:55] {2380} INFO - iteration 23, current learner arima\n",
            "INFO:flaml.automl:iteration 23, current learner arima\n",
            "[flaml.automl: 01-09 16:24:56] {2545} INFO -  at 46.8s,\testimator arima's best error=0.1398,\tbest estimator prophet's best error=0.0441\n",
            "INFO:flaml.automl: at 46.8s,\testimator arima's best error=0.1398,\tbest estimator prophet's best error=0.0441\n",
            "[flaml.automl: 01-09 16:24:56] {2380} INFO - iteration 24, current learner sarimax\n",
            "INFO:flaml.automl:iteration 24, current learner sarimax\n",
            "[flaml.automl: 01-09 16:24:56] {2545} INFO -  at 47.3s,\testimator sarimax's best error=0.1382,\tbest estimator prophet's best error=0.0441\n",
            "INFO:flaml.automl: at 47.3s,\testimator sarimax's best error=0.1382,\tbest estimator prophet's best error=0.0441\n",
            "[flaml.automl: 01-09 16:24:56] {2380} INFO - iteration 25, current learner prophet\n",
            "INFO:flaml.automl:iteration 25, current learner prophet\n",
            "[flaml.automl: 01-09 16:25:03] {2545} INFO -  at 53.9s,\testimator prophet's best error=0.0441,\tbest estimator prophet's best error=0.0441\n",
            "INFO:flaml.automl: at 53.9s,\testimator prophet's best error=0.0441,\tbest estimator prophet's best error=0.0441\n",
            "[flaml.automl: 01-09 16:25:03] {2380} INFO - iteration 26, current learner sarimax\n",
            "INFO:flaml.automl:iteration 26, current learner sarimax\n",
            "[flaml.automl: 01-09 16:25:03] {2545} INFO -  at 54.3s,\testimator sarimax's best error=0.1379,\tbest estimator prophet's best error=0.0441\n",
            "INFO:flaml.automl: at 54.3s,\testimator sarimax's best error=0.1379,\tbest estimator prophet's best error=0.0441\n",
            "[flaml.automl: 01-09 16:25:03] {2380} INFO - iteration 27, current learner sarimax\n",
            "INFO:flaml.automl:iteration 27, current learner sarimax\n",
            "[flaml.automl: 01-09 16:25:04] {2545} INFO -  at 54.9s,\testimator sarimax's best error=0.1379,\tbest estimator prophet's best error=0.0441\n",
            "INFO:flaml.automl: at 54.9s,\testimator sarimax's best error=0.1379,\tbest estimator prophet's best error=0.0441\n",
            "[flaml.automl: 01-09 16:25:04] {2380} INFO - iteration 28, current learner sarimax\n",
            "INFO:flaml.automl:iteration 28, current learner sarimax\n",
            "[flaml.automl: 01-09 16:25:04] {2545} INFO -  at 55.0s,\testimator sarimax's best error=0.1379,\tbest estimator prophet's best error=0.0441\n",
            "INFO:flaml.automl: at 55.0s,\testimator sarimax's best error=0.1379,\tbest estimator prophet's best error=0.0441\n",
            "[flaml.automl: 01-09 16:25:04] {2380} INFO - iteration 29, current learner arima\n",
            "INFO:flaml.automl:iteration 29, current learner arima\n",
            "[flaml.automl: 01-09 16:25:04] {2545} INFO -  at 55.1s,\testimator arima's best error=0.1398,\tbest estimator prophet's best error=0.0441\n",
            "INFO:flaml.automl: at 55.1s,\testimator arima's best error=0.1398,\tbest estimator prophet's best error=0.0441\n",
            "[flaml.automl: 01-09 16:25:04] {2380} INFO - iteration 30, current learner arima\n",
            "INFO:flaml.automl:iteration 30, current learner arima\n",
            "[flaml.automl: 01-09 16:25:04] {2545} INFO -  at 55.5s,\testimator arima's best error=0.1398,\tbest estimator prophet's best error=0.0441\n",
            "INFO:flaml.automl: at 55.5s,\testimator arima's best error=0.1398,\tbest estimator prophet's best error=0.0441\n",
            "[flaml.automl: 01-09 16:25:04] {2380} INFO - iteration 31, current learner arima\n",
            "INFO:flaml.automl:iteration 31, current learner arima\n",
            "[flaml.automl: 01-09 16:25:05] {2545} INFO -  at 55.7s,\testimator arima's best error=0.1398,\tbest estimator prophet's best error=0.0441\n",
            "INFO:flaml.automl: at 55.7s,\testimator arima's best error=0.1398,\tbest estimator prophet's best error=0.0441\n",
            "[flaml.automl: 01-09 16:25:05] {2380} INFO - iteration 32, current learner sarimax\n",
            "INFO:flaml.automl:iteration 32, current learner sarimax\n",
            "[flaml.automl: 01-09 16:25:05] {2545} INFO -  at 56.2s,\testimator sarimax's best error=0.1300,\tbest estimator prophet's best error=0.0441\n",
            "INFO:flaml.automl: at 56.2s,\testimator sarimax's best error=0.1300,\tbest estimator prophet's best error=0.0441\n",
            "[flaml.automl: 01-09 16:25:05] {2380} INFO - iteration 33, current learner sarimax\n",
            "INFO:flaml.automl:iteration 33, current learner sarimax\n",
            "[flaml.automl: 01-09 16:25:05] {2545} INFO -  at 56.5s,\testimator sarimax's best error=0.1300,\tbest estimator prophet's best error=0.0441\n",
            "INFO:flaml.automl: at 56.5s,\testimator sarimax's best error=0.1300,\tbest estimator prophet's best error=0.0441\n",
            "[flaml.automl: 01-09 16:25:05] {2380} INFO - iteration 34, current learner sarimax\n",
            "INFO:flaml.automl:iteration 34, current learner sarimax\n",
            "[flaml.automl: 01-09 16:25:06] {2545} INFO -  at 56.9s,\testimator sarimax's best error=0.1300,\tbest estimator prophet's best error=0.0441\n",
            "INFO:flaml.automl: at 56.9s,\testimator sarimax's best error=0.1300,\tbest estimator prophet's best error=0.0441\n",
            "[flaml.automl: 01-09 16:25:06] {2380} INFO - iteration 35, current learner sarimax\n",
            "INFO:flaml.automl:iteration 35, current learner sarimax\n",
            "[flaml.automl: 01-09 16:25:06] {2545} INFO -  at 57.4s,\testimator sarimax's best error=0.1300,\tbest estimator prophet's best error=0.0441\n",
            "INFO:flaml.automl: at 57.4s,\testimator sarimax's best error=0.1300,\tbest estimator prophet's best error=0.0441\n",
            "[flaml.automl: 01-09 16:25:06] {2380} INFO - iteration 36, current learner sarimax\n",
            "INFO:flaml.automl:iteration 36, current learner sarimax\n",
            "[flaml.automl: 01-09 16:25:07] {2545} INFO -  at 57.7s,\testimator sarimax's best error=0.1300,\tbest estimator prophet's best error=0.0441\n",
            "INFO:flaml.automl: at 57.7s,\testimator sarimax's best error=0.1300,\tbest estimator prophet's best error=0.0441\n",
            "[flaml.automl: 01-09 16:25:07] {2380} INFO - iteration 37, current learner sarimax\n",
            "INFO:flaml.automl:iteration 37, current learner sarimax\n",
            "[flaml.automl: 01-09 16:25:07] {2545} INFO -  at 58.0s,\testimator sarimax's best error=0.1300,\tbest estimator prophet's best error=0.0441\n",
            "INFO:flaml.automl: at 58.0s,\testimator sarimax's best error=0.1300,\tbest estimator prophet's best error=0.0441\n",
            "[flaml.automl: 01-09 16:25:07] {2380} INFO - iteration 38, current learner sarimax\n",
            "INFO:flaml.automl:iteration 38, current learner sarimax\n",
            "[flaml.automl: 01-09 16:25:07] {2545} INFO -  at 58.5s,\testimator sarimax's best error=0.1300,\tbest estimator prophet's best error=0.0441\n",
            "INFO:flaml.automl: at 58.5s,\testimator sarimax's best error=0.1300,\tbest estimator prophet's best error=0.0441\n",
            "[flaml.automl: 01-09 16:25:07] {2380} INFO - iteration 39, current learner sarimax\n",
            "INFO:flaml.automl:iteration 39, current learner sarimax\n",
            "[flaml.automl: 01-09 16:25:08] {2545} INFO -  at 58.8s,\testimator sarimax's best error=0.1300,\tbest estimator prophet's best error=0.0441\n",
            "INFO:flaml.automl: at 58.8s,\testimator sarimax's best error=0.1300,\tbest estimator prophet's best error=0.0441\n",
            "[flaml.automl: 01-09 16:25:08] {2380} INFO - iteration 40, current learner sarimax\n",
            "INFO:flaml.automl:iteration 40, current learner sarimax\n",
            "[flaml.automl: 01-09 16:25:08] {2545} INFO -  at 59.3s,\testimator sarimax's best error=0.1300,\tbest estimator prophet's best error=0.0441\n",
            "INFO:flaml.automl: at 59.3s,\testimator sarimax's best error=0.1300,\tbest estimator prophet's best error=0.0441\n",
            "[flaml.automl: 01-09 16:25:08] {2380} INFO - iteration 41, current learner arima\n",
            "INFO:flaml.automl:iteration 41, current learner arima\n",
            "[flaml.automl: 01-09 16:25:08] {2545} INFO -  at 59.4s,\testimator arima's best error=0.1398,\tbest estimator prophet's best error=0.0441\n",
            "INFO:flaml.automl: at 59.4s,\testimator arima's best error=0.1398,\tbest estimator prophet's best error=0.0441\n",
            "[flaml.automl: 01-09 16:25:08] {2380} INFO - iteration 42, current learner sarimax\n",
            "INFO:flaml.automl:iteration 42, current learner sarimax\n",
            "[flaml.automl: 01-09 16:25:09] {2545} INFO -  at 60.0s,\testimator sarimax's best error=0.1218,\tbest estimator prophet's best error=0.0441\n",
            "INFO:flaml.automl: at 60.0s,\testimator sarimax's best error=0.1218,\tbest estimator prophet's best error=0.0441\n",
            "[flaml.automl: 01-09 16:25:09] {2758} INFO - retrain prophet for 0.2s\n",
            "INFO:flaml.automl:retrain prophet for 0.2s\n",
            "[flaml.automl: 01-09 16:25:09] {2763} INFO - retrained model: <prophet.forecaster.Prophet object at 0x7fa540791950>\n",
            "INFO:flaml.automl:retrained model: <prophet.forecaster.Prophet object at 0x7fa540791950>\n",
            "[flaml.automl: 01-09 16:25:09] {2152} INFO - fit succeeded\n",
            "INFO:flaml.automl:fit succeeded\n",
            "[flaml.automl: 01-09 16:25:09] {2154} INFO - Time taken to find the best model: 40.482646465301514\n",
            "INFO:flaml.automl:Time taken to find the best model: 40.482646465301514\n"
          ]
        }
      ]
    },
    {
      "cell_type": "code",
      "source": [
        "print('Best ML leaner:', reg.best_estimator)\n",
        "print('Best hyperparmeter config:', reg.best_config)"
      ],
      "metadata": {
        "colab": {
          "base_uri": "https://localhost:8080/"
        },
        "id": "oahfQ2qNpNNa",
        "outputId": "fe3db25a-a7a2-4793-da65-6ded68bb421c"
      },
      "execution_count": null,
      "outputs": [
        {
          "output_type": "stream",
          "name": "stdout",
          "text": [
            "Best ML leaner: prophet\n",
            "Best hyperparmeter config: {'changepoint_prior_scale': 0.05, 'seasonality_prior_scale': 9.907664630875948, 'holidays_prior_scale': 6.372933414610401, 'seasonality_mode': 'multiplicative'}\n"
          ]
        }
      ]
    },
    {
      "cell_type": "markdown",
      "source": [
        "### Predict values\n",
        "\n",
        "If the model is *Prophet*, pass a DataFrame with timestamps to the ```predict()``` method.\n",
        "\n",
        "If the model is *ARIMA* or *SARIMAX*, pass a number (number of future values to be predicted). "
      ],
      "metadata": {
        "id": "zX1WUYMy2oHP"
      }
    },
    {
      "cell_type": "code",
      "source": [
        "if reg.best_estimator == 'prophet':\n",
        "  predicted = reg.predict(test)  # prophet\n",
        "else:\n",
        "  reg.predict(test.index.size)  # arima/sarimax\n",
        "\n",
        "predicted.index = test.index  # use test DataFrame index\n",
        "predicted"
      ],
      "metadata": {
        "colab": {
          "base_uri": "https://localhost:8080/"
        },
        "id": "DFun7E9SM15f",
        "outputId": "d5b47266-4073-40d2-ccc9-e298ab1da200"
      },
      "execution_count": null,
      "outputs": [
        {
          "output_type": "execute_result",
          "data": {
            "text/plain": [
              "115    481.414994\n",
              "116    425.953437\n",
              "117    370.054510\n",
              "118    321.826565\n",
              "119    365.513180\n",
              "120    373.317561\n",
              "121    363.686584\n",
              "122    411.917009\n",
              "123    401.497661\n",
              "124    411.557305\n",
              "125    471.221905\n",
              "126    537.270811\n",
              "127    517.442129\n",
              "128    461.822571\n",
              "129    399.929155\n",
              "130    344.433148\n",
              "131    394.651835\n",
              "132    403.061587\n",
              "133    396.452131\n",
              "134    454.337014\n",
              "135    439.315042\n",
              "136    439.772153\n",
              "137    515.647580\n",
              "138    560.413885\n",
              "139    565.307534\n",
              "140    490.835078\n",
              "141    428.215269\n",
              "142    379.155906\n",
              "143    422.516086\n",
              "Name: yhat, dtype: float64"
            ]
          },
          "metadata": {},
          "execution_count": 8
        }
      ]
    },
    {
      "cell_type": "code",
      "source": [
        "from sklearn.metrics import mean_absolute_error\n",
        "\n",
        "print('Prection MAE:', mean_absolute_error(df[split_index:].passengers, predicted).round(3))"
      ],
      "metadata": {
        "colab": {
          "base_uri": "https://localhost:8080/"
        },
        "id": "6sdZrNGJ6egp",
        "outputId": "e79a1e4a-2198-4ab3-916e-2ec9a5f7c887"
      },
      "execution_count": null,
      "outputs": [
        {
          "output_type": "stream",
          "name": "stdout",
          "text": [
            "Prection MAE: 18.675\n"
          ]
        }
      ]
    },
    {
      "cell_type": "markdown",
      "source": [
        "### Predict future new values"
      ],
      "metadata": {
        "id": "Cj2RfI-_3Ub-"
      }
    },
    {
      "cell_type": "code",
      "source": [
        "new_test = pd.DataFrame({'timestamp': pd.date_range(start='1960-12-01', end='1963-12-01', freq='MS')})\n",
        "\n",
        "if reg.best_estimator == 'prophet':\n",
        "  new_predicted = reg.predict(new_test)\n",
        "else:\n",
        "  reg.predict(new_test.index.size)\n",
        "\n",
        "new_predicted"
      ],
      "metadata": {
        "colab": {
          "base_uri": "https://localhost:8080/"
        },
        "id": "ApPM6e49vmQR",
        "outputId": "0818e194-589b-4b52-8343-6163f089ca9b"
      },
      "execution_count": null,
      "outputs": [
        {
          "output_type": "execute_result",
          "data": {
            "text/plain": [
              "0     422.516086\n",
              "1     430.747138\n",
              "2     410.441926\n",
              "3     483.237653\n",
              "4     468.078913\n",
              "5     472.016016\n",
              "6     548.779811\n",
              "7     605.858158\n",
              "8     601.477570\n",
              "9     526.695168\n",
              "10    458.188405\n",
              "11    401.707712\n",
              "12    451.524368\n",
              "13    460.368760\n",
              "14    443.274657\n",
              "15    511.530210\n",
              "16    496.552822\n",
              "17    504.457610\n",
              "18    581.574629\n",
              "19    652.093386\n",
              "20    637.151831\n",
              "21    562.809174\n",
              "22    488.171069\n",
              "23    423.858372\n",
              "24    480.645860\n",
              "25    490.127829\n",
              "26    476.732806\n",
              "27    539.196675\n",
              "28    524.749735\n",
              "29    537.106100\n",
              "30    614.047372\n",
              "31    699.108202\n",
              "32    672.316831\n",
              "33    599.177562\n",
              "34    518.153825\n",
              "35    445.617745\n",
              "36    509.894073\n",
              "Name: yhat, dtype: float64"
            ]
          },
          "metadata": {},
          "execution_count": 10
        }
      ]
    },
    {
      "cell_type": "markdown",
      "source": [
        "### Visualization"
      ],
      "metadata": {
        "id": "83te_DN-3l0W"
      }
    },
    {
      "cell_type": "code",
      "source": [
        "plt.figure(figsize=(12, 6))\n",
        "sns.lineplot(data=df, x='timestamp', y='passengers', label='Original data')\n",
        "sns.lineplot(x=test.timestamp, y=predicted, label='Test Predictions')\n",
        "sns.lineplot(x=new_test.timestamp, y=new_predicted, label='Future Predictions')\n",
        "plt.xlim([df.timestamp[new_test.index.size], new_test.timestamp[new_test.index.size-1]])\n",
        "plt.grid(True)\n",
        "plt.show()"
      ],
      "metadata": {
        "colab": {
          "base_uri": "https://localhost:8080/",
          "height": 388
        },
        "id": "2DjFFY8NNwIn",
        "outputId": "38130ed8-d580-4ca5-db0b-7497f5f715c8"
      },
      "execution_count": null,
      "outputs": [
        {
          "output_type": "display_data",
          "data": {
            "image/png": "[encoded data removed]",
            "text/plain": [
              "<Figure size 864x432 with 1 Axes>"
            ]
          },
          "metadata": {
            "needs_background": "light"
          }
        }
      ]
    }
  ]
}