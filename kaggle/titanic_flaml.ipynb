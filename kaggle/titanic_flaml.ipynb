{
  "cells": [
    {
      "cell_type": "markdown",
      "metadata": {
        "id": "eVE135wSlx2A"
      },
      "source": [
        "## Use feature engineering & FLAML to solve [Titanic Kaggle Competition](https://www.kaggle.com/c/titanic/) (without data leakage)"
      ]
    },
    {
      "cell_type": "markdown",
      "metadata": {},
      "source": [
        "### Install FLAML"
      ]
    },
    {
      "cell_type": "code",
      "execution_count": 2,
      "metadata": {},
      "outputs": [],
      "source": [
        "!pip3 install install flaml"
      ]
    },
    {
      "cell_type": "markdown",
      "metadata": {
        "id": "NMcrSlpyXFij"
      },
      "source": [
        "### Load datasets"
      ]
    },
    {
      "cell_type": "code",
      "execution_count": 3,
      "metadata": {
        "id": "V95q0JH-P95u"
      },
      "outputs": [
        {
          "data": {
            "text/html": [
              "<div>\n",
              "<style scoped>\n",
              "    .dataframe tbody tr th:only-of-type {\n",
              "        vertical-align: middle;\n",
              "    }\n",
              "\n",
              "    .dataframe tbody tr th {\n",
              "        vertical-align: top;\n",
              "    }\n",
              "\n",
              "    .dataframe thead th {\n",
              "        text-align: right;\n",
              "    }\n",
              "</style>\n",
              "<table border=\"1\" class=\"dataframe\">\n",
              "  <thead>\n",
              "    <tr style=\"text-align: right;\">\n",
              "      <th></th>\n",
              "      <th>PassengerId</th>\n",
              "      <th>Survived</th>\n",
              "      <th>Pclass</th>\n",
              "      <th>Name</th>\n",
              "      <th>Sex</th>\n",
              "      <th>Age</th>\n",
              "      <th>SibSp</th>\n",
              "      <th>Parch</th>\n",
              "      <th>Ticket</th>\n",
              "      <th>Fare</th>\n",
              "      <th>Cabin</th>\n",
              "      <th>Embarked</th>\n",
              "    </tr>\n",
              "  </thead>\n",
              "  <tbody>\n",
              "    <tr>\n",
              "      <th>0</th>\n",
              "      <td>1</td>\n",
              "      <td>0</td>\n",
              "      <td>3</td>\n",
              "      <td>Braund, Mr. Owen Harris</td>\n",
              "      <td>male</td>\n",
              "      <td>22.0</td>\n",
              "      <td>1</td>\n",
              "      <td>0</td>\n",
              "      <td>A/5 21171</td>\n",
              "      <td>7.2500</td>\n",
              "      <td>NaN</td>\n",
              "      <td>S</td>\n",
              "    </tr>\n",
              "    <tr>\n",
              "      <th>1</th>\n",
              "      <td>2</td>\n",
              "      <td>1</td>\n",
              "      <td>1</td>\n",
              "      <td>Cumings, Mrs. John Bradley (Florence Briggs Th...</td>\n",
              "      <td>female</td>\n",
              "      <td>38.0</td>\n",
              "      <td>1</td>\n",
              "      <td>0</td>\n",
              "      <td>PC 17599</td>\n",
              "      <td>71.2833</td>\n",
              "      <td>C85</td>\n",
              "      <td>C</td>\n",
              "    </tr>\n",
              "    <tr>\n",
              "      <th>2</th>\n",
              "      <td>3</td>\n",
              "      <td>1</td>\n",
              "      <td>3</td>\n",
              "      <td>Heikkinen, Miss. Laina</td>\n",
              "      <td>female</td>\n",
              "      <td>26.0</td>\n",
              "      <td>0</td>\n",
              "      <td>0</td>\n",
              "      <td>STON/O2. 3101282</td>\n",
              "      <td>7.9250</td>\n",
              "      <td>NaN</td>\n",
              "      <td>S</td>\n",
              "    </tr>\n",
              "    <tr>\n",
              "      <th>3</th>\n",
              "      <td>4</td>\n",
              "      <td>1</td>\n",
              "      <td>1</td>\n",
              "      <td>Futrelle, Mrs. Jacques Heath (Lily May Peel)</td>\n",
              "      <td>female</td>\n",
              "      <td>35.0</td>\n",
              "      <td>1</td>\n",
              "      <td>0</td>\n",
              "      <td>113803</td>\n",
              "      <td>53.1000</td>\n",
              "      <td>C123</td>\n",
              "      <td>S</td>\n",
              "    </tr>\n",
              "    <tr>\n",
              "      <th>4</th>\n",
              "      <td>5</td>\n",
              "      <td>0</td>\n",
              "      <td>3</td>\n",
              "      <td>Allen, Mr. William Henry</td>\n",
              "      <td>male</td>\n",
              "      <td>35.0</td>\n",
              "      <td>0</td>\n",
              "      <td>0</td>\n",
              "      <td>373450</td>\n",
              "      <td>8.0500</td>\n",
              "      <td>NaN</td>\n",
              "      <td>S</td>\n",
              "    </tr>\n",
              "    <tr>\n",
              "      <th>...</th>\n",
              "      <td>...</td>\n",
              "      <td>...</td>\n",
              "      <td>...</td>\n",
              "      <td>...</td>\n",
              "      <td>...</td>\n",
              "      <td>...</td>\n",
              "      <td>...</td>\n",
              "      <td>...</td>\n",
              "      <td>...</td>\n",
              "      <td>...</td>\n",
              "      <td>...</td>\n",
              "      <td>...</td>\n",
              "    </tr>\n",
              "    <tr>\n",
              "      <th>886</th>\n",
              "      <td>887</td>\n",
              "      <td>0</td>\n",
              "      <td>2</td>\n",
              "      <td>Montvila, Rev. Juozas</td>\n",
              "      <td>male</td>\n",
              "      <td>27.0</td>\n",
              "      <td>0</td>\n",
              "      <td>0</td>\n",
              "      <td>211536</td>\n",
              "      <td>13.0000</td>\n",
              "      <td>NaN</td>\n",
              "      <td>S</td>\n",
              "    </tr>\n",
              "    <tr>\n",
              "      <th>887</th>\n",
              "      <td>888</td>\n",
              "      <td>1</td>\n",
              "      <td>1</td>\n",
              "      <td>Graham, Miss. Margaret Edith</td>\n",
              "      <td>female</td>\n",
              "      <td>19.0</td>\n",
              "      <td>0</td>\n",
              "      <td>0</td>\n",
              "      <td>112053</td>\n",
              "      <td>30.0000</td>\n",
              "      <td>B42</td>\n",
              "      <td>S</td>\n",
              "    </tr>\n",
              "    <tr>\n",
              "      <th>888</th>\n",
              "      <td>889</td>\n",
              "      <td>0</td>\n",
              "      <td>3</td>\n",
              "      <td>Johnston, Miss. Catherine Helen \"Carrie\"</td>\n",
              "      <td>female</td>\n",
              "      <td>NaN</td>\n",
              "      <td>1</td>\n",
              "      <td>2</td>\n",
              "      <td>W./C. 6607</td>\n",
              "      <td>23.4500</td>\n",
              "      <td>NaN</td>\n",
              "      <td>S</td>\n",
              "    </tr>\n",
              "    <tr>\n",
              "      <th>889</th>\n",
              "      <td>890</td>\n",
              "      <td>1</td>\n",
              "      <td>1</td>\n",
              "      <td>Behr, Mr. Karl Howell</td>\n",
              "      <td>male</td>\n",
              "      <td>26.0</td>\n",
              "      <td>0</td>\n",
              "      <td>0</td>\n",
              "      <td>111369</td>\n",
              "      <td>30.0000</td>\n",
              "      <td>C148</td>\n",
              "      <td>C</td>\n",
              "    </tr>\n",
              "    <tr>\n",
              "      <th>890</th>\n",
              "      <td>891</td>\n",
              "      <td>0</td>\n",
              "      <td>3</td>\n",
              "      <td>Dooley, Mr. Patrick</td>\n",
              "      <td>male</td>\n",
              "      <td>32.0</td>\n",
              "      <td>0</td>\n",
              "      <td>0</td>\n",
              "      <td>370376</td>\n",
              "      <td>7.7500</td>\n",
              "      <td>NaN</td>\n",
              "      <td>Q</td>\n",
              "    </tr>\n",
              "  </tbody>\n",
              "</table>\n",
              "<p>891 rows × 12 columns</p>\n",
              "</div>"
            ],
            "text/plain": [
              "     PassengerId  Survived  Pclass  \\\n",
              "0              1         0       3   \n",
              "1              2         1       1   \n",
              "2              3         1       3   \n",
              "3              4         1       1   \n",
              "4              5         0       3   \n",
              "..           ...       ...     ...   \n",
              "886          887         0       2   \n",
              "887          888         1       1   \n",
              "888          889         0       3   \n",
              "889          890         1       1   \n",
              "890          891         0       3   \n",
              "\n",
              "                                                  Name     Sex   Age  SibSp  \\\n",
              "0                              Braund, Mr. Owen Harris    male  22.0      1   \n",
              "1    Cumings, Mrs. John Bradley (Florence Briggs Th...  female  38.0      1   \n",
              "2                               Heikkinen, Miss. Laina  female  26.0      0   \n",
              "3         Futrelle, Mrs. Jacques Heath (Lily May Peel)  female  35.0      1   \n",
              "4                             Allen, Mr. William Henry    male  35.0      0   \n",
              "..                                                 ...     ...   ...    ...   \n",
              "886                              Montvila, Rev. Juozas    male  27.0      0   \n",
              "887                       Graham, Miss. Margaret Edith  female  19.0      0   \n",
              "888           Johnston, Miss. Catherine Helen \"Carrie\"  female   NaN      1   \n",
              "889                              Behr, Mr. Karl Howell    male  26.0      0   \n",
              "890                                Dooley, Mr. Patrick    male  32.0      0   \n",
              "\n",
              "     Parch            Ticket     Fare Cabin Embarked  \n",
              "0        0         A/5 21171   7.2500   NaN        S  \n",
              "1        0          PC 17599  71.2833   C85        C  \n",
              "2        0  STON/O2. 3101282   7.9250   NaN        S  \n",
              "3        0            113803  53.1000  C123        S  \n",
              "4        0            373450   8.0500   NaN        S  \n",
              "..     ...               ...      ...   ...      ...  \n",
              "886      0            211536  13.0000   NaN        S  \n",
              "887      0            112053  30.0000   B42        S  \n",
              "888      2        W./C. 6607  23.4500   NaN        S  \n",
              "889      0            111369  30.0000  C148        C  \n",
              "890      0            370376   7.7500   NaN        Q  \n",
              "\n",
              "[891 rows x 12 columns]"
            ]
          },
          "execution_count": 3,
          "metadata": {},
          "output_type": "execute_result"
        }
      ],
      "source": [
        "import pandas as pd\n",
        "\n",
        "train = pd.read_csv('./train.csv')\n",
        "test = pd.read_csv('./test.csv')\n",
        "\n",
        "train"
      ]
    },
    {
      "cell_type": "code",
      "execution_count": 4,
      "metadata": {
        "id": "xaW5wCR6P1_D"
      },
      "outputs": [
        {
          "name": "stdout",
          "output_type": "stream",
          "text": [
            "<class 'pandas.core.frame.DataFrame'>\n",
            "RangeIndex: 891 entries, 0 to 890\n",
            "Data columns (total 12 columns):\n",
            " #   Column       Non-Null Count  Dtype  \n",
            "---  ------       --------------  -----  \n",
            " 0   PassengerId  891 non-null    int64  \n",
            " 1   Survived     891 non-null    int64  \n",
            " 2   Pclass       891 non-null    int64  \n",
            " 3   Name         891 non-null    object \n",
            " 4   Sex          891 non-null    object \n",
            " 5   Age          714 non-null    float64\n",
            " 6   SibSp        891 non-null    int64  \n",
            " 7   Parch        891 non-null    int64  \n",
            " 8   Ticket       891 non-null    object \n",
            " 9   Fare         891 non-null    float64\n",
            " 10  Cabin        204 non-null    object \n",
            " 11  Embarked     889 non-null    object \n",
            "dtypes: float64(2), int64(5), object(5)\n",
            "memory usage: 83.7+ KB\n"
          ]
        }
      ],
      "source": [
        "train.info()"
      ]
    },
    {
      "cell_type": "markdown",
      "metadata": {},
      "source": [
        "Inspect the number of missing values:"
      ]
    },
    {
      "cell_type": "code",
      "execution_count": 5,
      "metadata": {},
      "outputs": [
        {
          "data": {
            "text/plain": [
              "PassengerId      0\n",
              "Survived         0\n",
              "Pclass           0\n",
              "Name             0\n",
              "Sex              0\n",
              "Age            177\n",
              "SibSp            0\n",
              "Parch            0\n",
              "Ticket           0\n",
              "Fare             0\n",
              "Cabin          687\n",
              "Embarked         2\n",
              "dtype: int64"
            ]
          },
          "execution_count": 5,
          "metadata": {},
          "output_type": "execute_result"
        }
      ],
      "source": [
        "train.isna().sum()"
      ]
    },
    {
      "cell_type": "markdown",
      "metadata": {
        "id": "8pvy-MQfXIdr"
      },
      "source": [
        "### Feature engineering and selection"
      ]
    },
    {
      "cell_type": "markdown",
      "metadata": {},
      "source": [
        "It's commonly known that ```Pclass``` and ```Sex``` are the most prominent survival factors:"
      ]
    },
    {
      "cell_type": "code",
      "execution_count": 6,
      "metadata": {},
      "outputs": [
        {
          "data": {
            "image/png": "[encoded data removed]",
            "text/plain": [
              "<Figure size 771.875x360 with 2 Axes>"
            ]
          },
          "metadata": {
            "needs_background": "light"
          },
          "output_type": "display_data"
        }
      ],
      "source": [
        "import seaborn as sns\n",
        "import matplotlib.pyplot as plt\n",
        "\n",
        "sns.catplot(kind='count', data=train, x='Pclass', col='Sex', hue='Survived')\n",
        "plt.show()"
      ]
    },
    {
      "cell_type": "markdown",
      "metadata": {},
      "source": [
        "Add a feature ```3rd_class``` since these passengers were far more likely to die:"
      ]
    },
    {
      "cell_type": "code",
      "execution_count": 7,
      "metadata": {},
      "outputs": [],
      "source": [
        "f = lambda n: n == 3\n",
        "\n",
        "train['3rd_class'] = train.Pclass.apply(f)\n",
        "test['3rd_class'] = test.Pclass.apply(f)"
      ]
    },
    {
      "cell_type": "code",
      "execution_count": 8,
      "metadata": {},
      "outputs": [
        {
          "data": {
            "image/png": "[encoded data removed]",
            "text/plain": [
              "<Figure size 432x432 with 1 Axes>"
            ]
          },
          "metadata": {
            "needs_background": "light"
          },
          "output_type": "display_data"
        }
      ],
      "source": [
        "plt.figure(figsize=(6, 6))\n",
        "sns.countplot(data=train, x='3rd_class', hue='Survived')\n",
        "plt.show()"
      ]
    },
    {
      "cell_type": "markdown",
      "metadata": {},
      "source": [
        "Passengers paid more (```Fare```) were more likely to survive (outliers are hidden in the graph):"
      ]
    },
    {
      "cell_type": "code",
      "execution_count": 9,
      "metadata": {},
      "outputs": [
        {
          "data": {
            "image/png": "[encoded data removed]",
            "text/plain": [
              "<Figure size 432x720 with 1 Axes>"
            ]
          },
          "metadata": {
            "needs_background": "light"
          },
          "output_type": "display_data"
        }
      ],
      "source": [
        "plt.figure(figsize=(6, 10))\n",
        "sns.boxplot(data=train, x='Pclass', y='Fare', hue='Survived', showfliers=False)\n",
        "plt.show()"
      ]
    },
    {
      "cell_type": "markdown",
      "metadata": {},
      "source": [
        "However it turns out that ticket prices were actually shared by families or groups (unless the passenger traveled alone), and may include discount for children or additional cost (like railway fare). Some even had free tickets (price = 0). Right now we will only scale it:"
      ]
    },
    {
      "cell_type": "code",
      "execution_count": 10,
      "metadata": {},
      "outputs": [
        {
          "data": {
            "text/plain": [
              "count    891.000000\n",
              "mean       0.768745\n",
              "std        2.152200\n",
              "min       -0.626005\n",
              "25%       -0.283409\n",
              "50%        0.000000\n",
              "75%        0.716591\n",
              "max       21.562738\n",
              "Name: Fare, dtype: float64"
            ]
          },
          "execution_count": 10,
          "metadata": {},
          "output_type": "execute_result"
        }
      ],
      "source": [
        "from sklearn.preprocessing import RobustScaler\n",
        "\n",
        "scaler = RobustScaler()\n",
        "\n",
        "scaled = train[['Fare']].copy()\n",
        "scaled = pd.DataFrame(scaler.fit_transform(scaled), columns=scaled.columns)\n",
        "train.Fare = scaled.Fare\n",
        "\n",
        "scaled = test[['Fare']].copy()\n",
        "scaled = pd.DataFrame(scaler.transform(scaled), columns=scaled.columns)\n",
        "test.Fare = test.Fare\n",
        "\n",
        "train.Fare.describe()"
      ]
    },
    {
      "cell_type": "markdown",
      "metadata": {},
      "source": [
        "Next we extract ```Title``` from ```Name```, which is the second word in the string (except *the*):"
      ]
    },
    {
      "cell_type": "code",
      "execution_count": 11,
      "metadata": {},
      "outputs": [
        {
          "data": {
            "text/plain": [
              "Mr.          517\n",
              "Miss.        182\n",
              "Mrs.         125\n",
              "Master.       40\n",
              "Dr.            7\n",
              "Rev.           6\n",
              "Mlle.          2\n",
              "Major.         2\n",
              "Col.           2\n",
              "Countess.      1\n",
              "Capt.          1\n",
              "Ms.            1\n",
              "Sir.           1\n",
              "Lady.          1\n",
              "Mme.           1\n",
              "Don.           1\n",
              "Jonkheer.      1\n",
              "Name: Title, dtype: int64"
            ]
          },
          "execution_count": 11,
          "metadata": {},
          "output_type": "execute_result"
        }
      ],
      "source": [
        "f = lambda x: x.split(',')[1].replace('the', '').split()[0]\n",
        "\n",
        "train['Title'] = train.Name.apply(f)\n",
        "test['Title'] = test.Name.apply(f)\n",
        "\n",
        "train.Title.value_counts()"
      ]
    },
    {
      "cell_type": "markdown",
      "metadata": {},
      "source": [
        "Drop the ```Name``` column:"
      ]
    },
    {
      "cell_type": "code",
      "execution_count": 12,
      "metadata": {},
      "outputs": [],
      "source": [
        "train = train.drop(['Name'], axis=1)\n",
        "test = test.drop(['Name'], axis=1)"
      ]
    },
    {
      "cell_type": "markdown",
      "metadata": {},
      "source": [
        "Simplify ```Title``` category:"
      ]
    },
    {
      "cell_type": "code",
      "execution_count": 13,
      "metadata": {
        "id": "9BcKRH2YS3S1"
      },
      "outputs": [
        {
          "data": {
            "text/plain": [
              "Mr         535\n",
              "Miss       186\n",
              "Mrs        126\n",
              "Master      40\n",
              "Royalty      4\n",
              "Name: Title, dtype: int64"
            ]
          },
          "execution_count": 13,
          "metadata": {},
          "output_type": "execute_result"
        }
      ],
      "source": [
        "def set_title(x):\n",
        "    title = x.Title.replace('.', '')\n",
        "    sex = x.Sex\n",
        "    if title in ['Sir', 'Jonkheer', 'Countess', 'Lady']:\n",
        "        return 'Royalty'\n",
        "    elif title in ['Capt', 'Col', 'Major', 'Don', 'Rev']:\n",
        "        return 'Mr'\n",
        "    elif title in ['Mlle', 'Mme', 'Ms']:\n",
        "        return 'Miss'\n",
        "    elif title =='Dr':\n",
        "        if sex == 'male':\n",
        "            return 'Mr'\n",
        "        else:\n",
        "            return 'Mrs'\n",
        "    elif title in ['Master', 'Mr', 'Mrs', 'Miss']:\n",
        "        return title\n",
        "    else:\n",
        "        return 'Other'\n",
        "\n",
        "train.Title = train.apply(set_title, axis=1)\n",
        "test.Title = test.apply(set_title, axis=1)\n",
        "\n",
        "train.Title.value_counts()"
      ]
    },
    {
      "cell_type": "markdown",
      "metadata": {},
      "source": [
        "*Master* refers to male children and *Miss* refers to (mostly younger) unmarried women. We can see that royalty, women and male children were more likely to survive."
      ]
    },
    {
      "cell_type": "code",
      "execution_count": 14,
      "metadata": {},
      "outputs": [
        {
          "data": {
            "image/png": "[encoded data removed]",
            "text/plain": [
              "<Figure size 576x576 with 1 Axes>"
            ]
          },
          "metadata": {
            "needs_background": "light"
          },
          "output_type": "display_data"
        }
      ],
      "source": [
        "plt.figure(figsize=(8, 8))\n",
        "sns.countplot(data=train, x='Title', hue='Survived')\n",
        "plt.show()"
      ]
    },
    {
      "cell_type": "markdown",
      "metadata": {},
      "source": [
        "Add a feature ```Mr``` (for these passengers were more likely to die):"
      ]
    },
    {
      "cell_type": "code",
      "execution_count": 15,
      "metadata": {},
      "outputs": [],
      "source": [
        "f = lambda t: t == 'Mr'\n",
        "\n",
        "train['Mr'] = train.Title.apply(f)\n",
        "test['Mr'] = test.Title.apply(f)"
      ]
    },
    {
      "cell_type": "code",
      "execution_count": 16,
      "metadata": {},
      "outputs": [
        {
          "data": {
            "image/png": "[encoded data removed]",
            "text/plain": [
              "<Figure size 432x432 with 1 Axes>"
            ]
          },
          "metadata": {
            "needs_background": "light"
          },
          "output_type": "display_data"
        }
      ],
      "source": [
        "plt.figure(figsize=(6, 6))\n",
        "sns.countplot(data=train, x='Mr', hue='Survived')\n",
        "plt.show()"
      ]
    },
    {
      "cell_type": "markdown",
      "metadata": {},
      "source": [
        "Now we'll look into the missing age. ```Title``` can be a useful reference:"
      ]
    },
    {
      "cell_type": "code",
      "execution_count": 17,
      "metadata": {},
      "outputs": [
        {
          "data": {
            "image/png": "[encoded data removed]",
            "text/plain": [
              "<Figure size 576x576 with 1 Axes>"
            ]
          },
          "metadata": {
            "needs_background": "light"
          },
          "output_type": "display_data"
        }
      ],
      "source": [
        "plt.figure(figsize=(8, 8))\n",
        "sns.boxplot(data=train, x='Title', y='Age')\n",
        "plt.show()"
      ]
    },
    {
      "cell_type": "markdown",
      "metadata": {},
      "source": [
        "And the missing age are also mostly in the 3rd class:"
      ]
    },
    {
      "cell_type": "code",
      "execution_count": 18,
      "metadata": {},
      "outputs": [
        {
          "data": {
            "image/png": "[encoded data removed]",
            "text/plain": [
              "<Figure size 576x576 with 1 Axes>"
            ]
          },
          "metadata": {
            "needs_background": "light"
          },
          "output_type": "display_data"
        }
      ],
      "source": [
        "plt.figure(figsize=(8, 8))\n",
        "sns.countplot(data=train[train.Age.isna()], x='Title', hue='Pclass')\n",
        "plt.show()"
      ]
    },
    {
      "cell_type": "markdown",
      "metadata": {},
      "source": [
        "Before imputing missing age data, we need to encode some categorical columns including ```Title```. First we extract ```Deck``` number from ```Cabin``` (the first letter):"
      ]
    },
    {
      "cell_type": "code",
      "execution_count": 19,
      "metadata": {},
      "outputs": [],
      "source": [
        "train['Deck'] = train.Cabin.str[0]\n",
        "test['Deck'] = test.Cabin.str[0]"
      ]
    },
    {
      "cell_type": "markdown",
      "metadata": {},
      "source": [
        "Drop ```Cabin```:"
      ]
    },
    {
      "cell_type": "code",
      "execution_count": 20,
      "metadata": {},
      "outputs": [],
      "source": [
        "train = train.drop(['Cabin'], axis=1)\n",
        "test = test.drop(['Cabin'], axis=1)"
      ]
    },
    {
      "cell_type": "markdown",
      "metadata": {},
      "source": [
        "```Deck``` is closely related to ```Pclass```:"
      ]
    },
    {
      "cell_type": "code",
      "execution_count": 21,
      "metadata": {},
      "outputs": [
        {
          "data": {
            "image/png": "[encoded data removed]",
            "text/plain": [
              "<Figure size 576x432 with 1 Axes>"
            ]
          },
          "metadata": {
            "needs_background": "light"
          },
          "output_type": "display_data"
        }
      ],
      "source": [
        "plt.figure(figsize=(8, 6))\n",
        "sns.countplot(data=train, x='Deck', hue='Pclass', order=train.Deck.value_counts().index.sort_values())\n",
        "plt.show()"
      ]
    },
    {
      "cell_type": "markdown",
      "metadata": {},
      "source": [
        "```Embarked``` is also related to ```Pclass```, so we fill its NaN value with the most common port in each ticket class:"
      ]
    },
    {
      "cell_type": "code",
      "execution_count": 22,
      "metadata": {},
      "outputs": [
        {
          "data": {
            "image/png": "[encoded data removed]",
            "text/plain": [
              "<Figure size 576x432 with 1 Axes>"
            ]
          },
          "metadata": {
            "needs_background": "light"
          },
          "output_type": "display_data"
        }
      ],
      "source": [
        "plt.figure(figsize=(8, 6))\n",
        "sns.countplot(data=train, x='Pclass', hue='Embarked')\n",
        "plt.show()"
      ]
    },
    {
      "cell_type": "code",
      "execution_count": 23,
      "metadata": {},
      "outputs": [],
      "source": [
        "for c in (1, 2, 3):\n",
        "    mode = train[train.Pclass==c].Embarked.mode()[0]\n",
        "    train.loc[(train.Pclass==c) & (train.Embarked.isna()), 'Embarked'] = mode\n",
        "    test.loc[(test.Pclass==c) & (test.Embarked.isna()), 'Embarked'] = mode"
      ]
    },
    {
      "cell_type": "markdown",
      "metadata": {},
      "source": [
        "Encode ```Sex```, ```Deck``` and ```Embarked```: (the labels are the same in both datasets)"
      ]
    },
    {
      "cell_type": "code",
      "execution_count": 24,
      "metadata": {
        "id": "EZlvvdrXSXxc"
      },
      "outputs": [
        {
          "name": "stdout",
          "output_type": "stream",
          "text": [
            "Encoding: Sex ['female' 'male']\n",
            "Encoding: Deck ['A' 'B' 'C' 'D' 'E' 'F' 'G' 'T' nan]\n",
            "Encoding: Embarked ['C' 'Q' 'S']\n"
          ]
        }
      ],
      "source": [
        "from sklearn.preprocessing import LabelEncoder\n",
        "\n",
        "le = LabelEncoder()\n",
        "encode_cols = ['Sex', 'Deck', 'Embarked']\n",
        "\n",
        "for col in encode_cols:\n",
        "    train[col] = le.fit_transform(train[col])\n",
        "    test[col] = le.transform(test[col])\n",
        "    print('Encoding:', col, le.classes_)"
      ]
    },
    {
      "cell_type": "markdown",
      "metadata": {},
      "source": [
        "Encode ```Title``` (using *defaultdict* so unknown title in the test data will be encoded as max label + 1)):\n",
        "\n",
        "> In fact, there is a title *Dona* (= *Mrs*) in the test dataset, but we will not process this information."
      ]
    },
    {
      "cell_type": "code",
      "execution_count": 25,
      "metadata": {},
      "outputs": [],
      "source": [
        "from collections import defaultdict\n",
        "\n",
        "le.fit(train.Title)\n",
        "le_dict = defaultdict(lambda: None, dict(zip(le.classes_, le.transform(le.classes_))))\n",
        "\n",
        "train.Title = train.Title.map(le_dict).fillna(len(le.classes_))\n",
        "test.Title = test.Title.map(le_dict).fillna(len(le.classes_))"
      ]
    },
    {
      "cell_type": "markdown",
      "metadata": {},
      "source": [
        "Now take a look at ```Ticket```. Some passengers (probably families or the same groups) share tickets together:"
      ]
    },
    {
      "cell_type": "code",
      "execution_count": 26,
      "metadata": {},
      "outputs": [
        {
          "data": {
            "text/plain": [
              "347082      7\n",
              "CA. 2343    7\n",
              "1601        7\n",
              "3101295     6\n",
              "CA 2144     6\n",
              "           ..\n",
              "9234        1\n",
              "19988       1\n",
              "2693        1\n",
              "PC 17612    1\n",
              "370376      1\n",
              "Name: Ticket, Length: 681, dtype: int64"
            ]
          },
          "execution_count": 26,
          "metadata": {},
          "output_type": "execute_result"
        }
      ],
      "source": [
        "train.Ticket.value_counts()"
      ]
    },
    {
      "cell_type": "markdown",
      "metadata": {},
      "source": [
        "Hence we add ```Ticket_count``` (number of shared Tickets) in both datasets, use infomation from the training set only:"
      ]
    },
    {
      "cell_type": "code",
      "execution_count": 27,
      "metadata": {},
      "outputs": [
        {
          "data": {
            "text/plain": [
              "0    547\n",
              "1    188\n",
              "2     63\n",
              "3     44\n",
              "6     21\n",
              "5     18\n",
              "4     10\n",
              "Name: Ticket_count, dtype: int64"
            ]
          },
          "execution_count": 27,
          "metadata": {},
          "output_type": "execute_result"
        }
      ],
      "source": [
        "ticket_counts = defaultdict(lambda: None, train.Ticket.value_counts().to_dict())\n",
        "\n",
        "train['Ticket_count'] = train.Ticket.map(ticket_counts, na_action='ignore').fillna(1) - 1\n",
        "test['Ticket_count'] = test.Ticket.map(ticket_counts, na_action='ignore').fillna(1) - 1\n",
        "\n",
        "train.Ticket_count.value_counts()"
      ]
    },
    {
      "cell_type": "markdown",
      "metadata": {},
      "source": [
        "It seems that people sharing ticket with 1~3 other people were more likely to survive:"
      ]
    },
    {
      "cell_type": "code",
      "execution_count": 28,
      "metadata": {},
      "outputs": [
        {
          "data": {
            "image/png": "[encoded data removed]",
            "text/plain": [
              "<Figure size 576x576 with 1 Axes>"
            ]
          },
          "metadata": {
            "needs_background": "light"
          },
          "output_type": "display_data"
        }
      ],
      "source": [
        "plt.figure(figsize=(8, 8))\n",
        "sns.countplot(data=train, x='Ticket_count', hue='Survived')\n",
        "plt.show()"
      ]
    },
    {
      "cell_type": "markdown",
      "metadata": {},
      "source": [
        "So we add a new feature ```Small_group```:"
      ]
    },
    {
      "cell_type": "code",
      "execution_count": 29,
      "metadata": {},
      "outputs": [],
      "source": [
        "f = lambda n: 1 <= n <= 3\n",
        "\n",
        "train['Small_group'] = train.Ticket_count.apply(f)\n",
        "test['Small_group'] = test.Ticket_count.apply(f)"
      ]
    },
    {
      "cell_type": "markdown",
      "metadata": {},
      "source": [
        "Drop ```Ticket``` and ```Ticket_count```:"
      ]
    },
    {
      "cell_type": "code",
      "execution_count": 30,
      "metadata": {},
      "outputs": [],
      "source": [
        "train = train.drop(['Ticket', 'Ticket_count'], axis=1)\n",
        "test = test.drop(['Ticket', 'Ticket_count'], axis=1)"
      ]
    },
    {
      "cell_type": "markdown",
      "metadata": {},
      "source": [
        "Now we use some columns to impute missing age data using KNN (k-Nearest Neighbors):"
      ]
    },
    {
      "cell_type": "code",
      "execution_count": 31,
      "metadata": {
        "id": "r7bhBm8eZb6Y"
      },
      "outputs": [
        {
          "data": {
            "text/plain": [
              "count    891.000000\n",
              "mean      29.540314\n",
              "std       13.251220\n",
              "min        0.420000\n",
              "25%       21.550000\n",
              "50%       30.000000\n",
              "75%       36.000000\n",
              "max       80.000000\n",
              "Name: Age, dtype: float64"
            ]
          },
          "execution_count": 31,
          "metadata": {},
          "output_type": "execute_result"
        }
      ],
      "source": [
        "from sklearn.impute import KNNImputer\n",
        "\n",
        "age_compare = train.copy()[['Age']]\n",
        "cols = ['Pclass', 'Sex', 'Age', 'Title']\n",
        "imputer = KNNImputer(n_neighbors=10)\n",
        "\n",
        "imputed = train[cols].copy()\n",
        "imputed = pd.DataFrame(imputer.fit_transform(imputed), columns=imputed.columns)\n",
        "train.Age = imputed.Age\n",
        "age_compare['Imputed_age'] = imputed.Age\n",
        "\n",
        "imputed = test[cols].copy()\n",
        "imputed = pd.DataFrame(imputer.transform(imputed), columns=imputed.columns)\n",
        "test.Age = imputed.Age\n",
        "\n",
        "train.Age.describe()"
      ]
    },
    {
      "cell_type": "markdown",
      "metadata": {},
      "source": [
        "Compare ```Age``` with the original data:"
      ]
    },
    {
      "cell_type": "code",
      "execution_count": 32,
      "metadata": {},
      "outputs": [
        {
          "data": {
            "image/png": "[encoded data removed]",
            "text/plain": [
              "<Figure size 288x432 with 1 Axes>"
            ]
          },
          "metadata": {
            "needs_background": "light"
          },
          "output_type": "display_data"
        }
      ],
      "source": [
        "plt.figure(figsize=(4, 6))\n",
        "sns.boxplot(data=age_compare)\n",
        "plt.show()"
      ]
    },
    {
      "cell_type": "markdown",
      "metadata": {},
      "source": [
        "It seems most of the imputed age data are added to the early 20s and 30s (women and men in 3rd class):"
      ]
    },
    {
      "cell_type": "code",
      "execution_count": 33,
      "metadata": {},
      "outputs": [
        {
          "data": {
            "image/png": "[encoded data removed]",
            "text/plain": [
              "<Figure size 720x576 with 1 Axes>"
            ]
          },
          "metadata": {
            "needs_background": "light"
          },
          "output_type": "display_data"
        }
      ],
      "source": [
        "plt.figure(figsize=(10, 8))\n",
        "sns.histplot(data=train, x='Age', bins=40, hue='Survived', kde=True)\n",
        "plt.show()"
      ]
    },
    {
      "cell_type": "code",
      "execution_count": 34,
      "metadata": {},
      "outputs": [
        {
          "data": {
            "image/png": "[encoded data removed]",
            "text/plain": [
              "<Figure size 720x576 with 1 Axes>"
            ]
          },
          "metadata": {
            "needs_background": "light"
          },
          "output_type": "display_data"
        }
      ],
      "source": [
        "plt.figure(figsize=(10, 8))\n",
        "sns.histplot(data=train, x='Age', bins=40, hue='Pclass', kde=True)\n",
        "plt.show()"
      ]
    },
    {
      "cell_type": "markdown",
      "metadata": {},
      "source": [
        "And it looks like children age 8 or under are most likely to survive:"
      ]
    },
    {
      "cell_type": "code",
      "execution_count": 35,
      "metadata": {},
      "outputs": [
        {
          "data": {
            "image/png": "[encoded data removed]",
            "text/plain": [
              "<Figure size 720x432 with 1 Axes>"
            ]
          },
          "metadata": {
            "needs_background": "light"
          },
          "output_type": "display_data"
        }
      ],
      "source": [
        "plt.figure(figsize=(10, 6))\n",
        "sns.countplot(data=train[train.Age <= 10], x='Age', hue='Survived')\n",
        "plt.show()"
      ]
    },
    {
      "cell_type": "markdown",
      "metadata": {},
      "source": [
        "Add a new feature ```Child```:"
      ]
    },
    {
      "cell_type": "code",
      "execution_count": 36,
      "metadata": {
        "id": "qLWH7pwLShtF"
      },
      "outputs": [],
      "source": [
        "f = lambda n: n <= 8\n",
        "\n",
        "train['Child'] = train.Age.apply(f)\n",
        "test['Child'] = test.Age.apply(f)"
      ]
    },
    {
      "cell_type": "markdown",
      "metadata": {},
      "source": [
        "Scale ```Age```:"
      ]
    },
    {
      "cell_type": "code",
      "execution_count": 37,
      "metadata": {},
      "outputs": [
        {
          "data": {
            "text/plain": [
              "count    891.000000\n",
              "mean      -0.031812\n",
              "std        0.917039\n",
              "min       -2.047059\n",
              "25%       -0.584775\n",
              "50%        0.000000\n",
              "75%        0.415225\n",
              "max        3.460208\n",
              "Name: Age, dtype: float64"
            ]
          },
          "execution_count": 37,
          "metadata": {},
          "output_type": "execute_result"
        }
      ],
      "source": [
        "scaler = RobustScaler()\n",
        "\n",
        "scaled = train[['Age']].copy()\n",
        "scaled = pd.DataFrame(scaler.fit_transform(scaled), columns=scaled.columns)\n",
        "train.Age = scaled.Age\n",
        "\n",
        "scaled = test[['Age']].copy()\n",
        "scaled = pd.DataFrame(scaler.transform(scaled), columns=scaled.columns)\n",
        "test.Age = test.Age\n",
        "\n",
        "train.Age.describe()"
      ]
    },
    {
      "cell_type": "markdown",
      "metadata": {},
      "source": [
        "Now add a new feature ```Family``` (```SibSp``` + ```Parch```):"
      ]
    },
    {
      "cell_type": "code",
      "execution_count": 38,
      "metadata": {},
      "outputs": [],
      "source": [
        "train['Family'] = train.SibSp + train.Parch\n",
        "test['Family'] = test.SibSp + test.Parch"
      ]
    },
    {
      "cell_type": "markdown",
      "metadata": {},
      "source": [
        "It seems people traveling with a family size of 1~3 were more likely to survive:"
      ]
    },
    {
      "cell_type": "code",
      "execution_count": 39,
      "metadata": {},
      "outputs": [
        {
          "data": {
            "image/png": "[encoded data removed]",
            "text/plain": [
              "<Figure size 720x576 with 1 Axes>"
            ]
          },
          "metadata": {
            "needs_background": "light"
          },
          "output_type": "display_data"
        }
      ],
      "source": [
        "plt.figure(figsize=(10, 8))\n",
        "sns.countplot(data=train, x='Family', hue='Survived')\n",
        "plt.show()"
      ]
    },
    {
      "cell_type": "markdown",
      "metadata": {},
      "source": [
        "So add a new feature ```Small_family```:"
      ]
    },
    {
      "cell_type": "code",
      "execution_count": 40,
      "metadata": {},
      "outputs": [],
      "source": [
        "f = lambda n: 1 <= n <= 3\n",
        "\n",
        "train['Small_family'] = train.Family.apply(f)\n",
        "test['Small_family'] = test.Family.apply(f)"
      ]
    },
    {
      "cell_type": "code",
      "execution_count": 41,
      "metadata": {},
      "outputs": [
        {
          "data": {
            "image/png": "[encoded data removed]",
            "text/plain": [
              "<Figure size 432x432 with 1 Axes>"
            ]
          },
          "metadata": {
            "needs_background": "light"
          },
          "output_type": "display_data"
        }
      ],
      "source": [
        "plt.figure(figsize=(6, 6))\n",
        "sns.countplot(data=train, x='Small_family', hue='Survived')\n",
        "plt.show()"
      ]
    },
    {
      "cell_type": "markdown",
      "metadata": {},
      "source": [
        "Now drop ```PassengerId```:"
      ]
    },
    {
      "cell_type": "code",
      "execution_count": 42,
      "metadata": {},
      "outputs": [],
      "source": [
        "train.pop('PassengerId')\n",
        "passenger_id = test.pop('PassengerId')"
      ]
    },
    {
      "cell_type": "markdown",
      "metadata": {},
      "source": [
        "After all above are done, inspect the correlation between each features and ```Survived```:"
      ]
    },
    {
      "cell_type": "code",
      "execution_count": 43,
      "metadata": {},
      "outputs": [
        {
          "data": {
            "text/plain": [
              "Survived        1.000000\n",
              "Pclass         -0.338481\n",
              "Sex            -0.543351\n",
              "Age            -0.076057\n",
              "SibSp          -0.035322\n",
              "Parch           0.081629\n",
              "Fare            0.257307\n",
              "Embarked       -0.167675\n",
              "3rd_class      -0.322308\n",
              "Title          -0.064717\n",
              "Mr             -0.567068\n",
              "Deck           -0.301116\n",
              "Small_group     0.298000\n",
              "Child           0.147223\n",
              "Family          0.016639\n",
              "Small_family    0.279855\n",
              "Name: Survived, dtype: float64"
            ]
          },
          "execution_count": 43,
          "metadata": {},
          "output_type": "execute_result"
        }
      ],
      "source": [
        "train.corr().Survived"
      ]
    },
    {
      "cell_type": "markdown",
      "metadata": {},
      "source": [
        "Drop columns that have low correlations (< 0.1) to ```Survived```:"
      ]
    },
    {
      "cell_type": "code",
      "execution_count": 44,
      "metadata": {},
      "outputs": [
        {
          "name": "stdout",
          "output_type": "stream",
          "text": [
            "Dropping cols: ['Age', 'SibSp', 'Parch', 'Title', 'Family']\n"
          ]
        }
      ],
      "source": [
        "drop_cols = []\n",
        "\n",
        "for col, corr in zip(train.corr().Survived.index, train.corr().Survived):\n",
        "    if abs(corr) < 0.1:\n",
        "        drop_cols.append(col)\n",
        "\n",
        "print('Dropping cols:', drop_cols)\n",
        "\n",
        "train = train.drop(drop_cols, axis=1)\n",
        "test = test.drop(drop_cols, axis=1)"
      ]
    },
    {
      "cell_type": "markdown",
      "metadata": {},
      "source": [
        "Ttake a look at correlations between all features:"
      ]
    },
    {
      "cell_type": "code",
      "execution_count": 45,
      "metadata": {},
      "outputs": [
        {
          "data": {
            "image/png": "[encoded data removed]",
            "text/plain": [
              "<Figure size 864x864 with 2 Axes>"
            ]
          },
          "metadata": {
            "needs_background": "light"
          },
          "output_type": "display_data"
        }
      ],
      "source": [
        "plt.figure(figsize=(12, 12))\n",
        "sns.heatmap(data=train.corr(), annot=True, vmin=-1, vmax=1, cmap='viridis')\n",
        "plt.show()"
      ]
    },
    {
      "cell_type": "markdown",
      "metadata": {},
      "source": [
        "Drop the columns that are highly correlated with others:\n",
        "\n",
        "> Note that ```3rd_class``` has slightly lower correlation with ```Survived``` compared to ```Pclass```, but ```Pclass``` has high correlation with ```Deck``` (collinearity). So we drop ```Pclass``` instead of ```3rd_class``` and ```Deck```."
      ]
    },
    {
      "cell_type": "code",
      "execution_count": 46,
      "metadata": {},
      "outputs": [],
      "source": [
        "drop_cols = ['Pclass', 'Sex']\n",
        "\n",
        "train = train.drop(drop_cols, axis=1)\n",
        "test = test.drop(drop_cols, axis=1)"
      ]
    },
    {
      "cell_type": "markdown",
      "metadata": {},
      "source": [
        "And these are our final features for model training:"
      ]
    },
    {
      "cell_type": "code",
      "execution_count": 47,
      "metadata": {},
      "outputs": [
        {
          "data": {
            "image/png": "[encoded data removed]",
            "text/plain": [
              "<Figure size 720x720 with 2 Axes>"
            ]
          },
          "metadata": {
            "needs_background": "light"
          },
          "output_type": "display_data"
        }
      ],
      "source": [
        "plt.figure(figsize=(10, 10))\n",
        "sns.heatmap(data=train.corr(), annot=True, vmin=-1, vmax=1, cmap='viridis')\n",
        "plt.show()"
      ]
    },
    {
      "cell_type": "markdown",
      "metadata": {
        "id": "DC3mXAIjXPt7"
      },
      "source": [
        "### Train FLAML model"
      ]
    },
    {
      "cell_type": "code",
      "execution_count": 48,
      "metadata": {
        "id": "zo2U5IL5UHge"
      },
      "outputs": [
        {
          "name": "stderr",
          "output_type": "stream",
          "text": [
            "[flaml.automl: 02-02 14:25:58] {2051} INFO - task = classification\n",
            "[flaml.automl: 02-02 14:25:58] {2053} INFO - Data split method: stratified\n",
            "[flaml.automl: 02-02 14:25:58] {2057} INFO - Evaluation method: cv\n",
            "[flaml.automl: 02-02 14:25:58] {2138} INFO - Minimizing error metric: 1-ap\n",
            "[flaml.automl: 02-02 14:25:58] {2196} INFO - List of ML learners in AutoML Run: ['lgbm', 'xgboost', 'xgb_limitdepth', 'rf', 'extra_tree']\n",
            "[flaml.automl: 02-02 14:25:58] {2449} INFO - iteration 0, current learner lgbm\n",
            "[flaml.automl: 02-02 14:25:58] {2562} INFO - Estimated sufficient time budget=858s. Estimated necessary time budget=6s.\n",
            "[flaml.automl: 02-02 14:25:58] {2609} INFO -  at 0.1s,\testimator lgbm's best error=0.1974,\tbest estimator lgbm's best error=0.1974\n",
            "[flaml.automl: 02-02 14:25:58] {2449} INFO - iteration 1, current learner lgbm\n",
            "[flaml.automl: 02-02 14:25:58] {2609} INFO -  at 0.2s,\testimator lgbm's best error=0.1769,\tbest estimator lgbm's best error=0.1769\n",
            "[flaml.automl: 02-02 14:25:58] {2449} INFO - iteration 2, current learner lgbm\n",
            "[flaml.automl: 02-02 14:25:59] {2609} INFO -  at 0.2s,\testimator lgbm's best error=0.1769,\tbest estimator lgbm's best error=0.1769\n",
            "[flaml.automl: 02-02 14:25:59] {2449} INFO - iteration 3, current learner lgbm\n",
            "[flaml.automl: 02-02 14:25:59] {2609} INFO -  at 0.2s,\testimator lgbm's best error=0.1737,\tbest estimator lgbm's best error=0.1737\n",
            "[flaml.automl: 02-02 14:25:59] {2449} INFO - iteration 4, current learner lgbm\n",
            "[flaml.automl: 02-02 14:25:59] {2609} INFO -  at 0.3s,\testimator lgbm's best error=0.1737,\tbest estimator lgbm's best error=0.1737\n",
            "[flaml.automl: 02-02 14:25:59] {2449} INFO - iteration 5, current learner lgbm\n",
            "[flaml.automl: 02-02 14:25:59] {2609} INFO -  at 0.3s,\testimator lgbm's best error=0.1642,\tbest estimator lgbm's best error=0.1642\n",
            "[flaml.automl: 02-02 14:25:59] {2449} INFO - iteration 6, current learner lgbm\n",
            "[flaml.automl: 02-02 14:25:59] {2609} INFO -  at 0.4s,\testimator lgbm's best error=0.1642,\tbest estimator lgbm's best error=0.1642\n",
            "[flaml.automl: 02-02 14:25:59] {2449} INFO - iteration 7, current learner lgbm\n",
            "[flaml.automl: 02-02 14:25:59] {2609} INFO -  at 0.4s,\testimator lgbm's best error=0.1642,\tbest estimator lgbm's best error=0.1642\n",
            "[flaml.automl: 02-02 14:25:59] {2449} INFO - iteration 8, current learner lgbm\n",
            "[flaml.automl: 02-02 14:25:59] {2609} INFO -  at 0.4s,\testimator lgbm's best error=0.1641,\tbest estimator lgbm's best error=0.1641\n",
            "[flaml.automl: 02-02 14:25:59] {2449} INFO - iteration 9, current learner lgbm\n",
            "[flaml.automl: 02-02 14:25:59] {2609} INFO -  at 0.5s,\testimator lgbm's best error=0.1633,\tbest estimator lgbm's best error=0.1633\n",
            "[flaml.automl: 02-02 14:25:59] {2449} INFO - iteration 10, current learner lgbm\n",
            "[flaml.automl: 02-02 14:25:59] {2609} INFO -  at 0.5s,\testimator lgbm's best error=0.1553,\tbest estimator lgbm's best error=0.1553\n",
            "[flaml.automl: 02-02 14:25:59] {2449} INFO - iteration 11, current learner lgbm\n",
            "[flaml.automl: 02-02 14:25:59] {2609} INFO -  at 0.6s,\testimator lgbm's best error=0.1408,\tbest estimator lgbm's best error=0.1408\n",
            "[flaml.automl: 02-02 14:25:59] {2449} INFO - iteration 12, current learner lgbm\n",
            "[flaml.automl: 02-02 14:25:59] {2609} INFO -  at 0.6s,\testimator lgbm's best error=0.1408,\tbest estimator lgbm's best error=0.1408\n",
            "[flaml.automl: 02-02 14:25:59] {2449} INFO - iteration 13, current learner lgbm\n",
            "[flaml.automl: 02-02 14:25:59] {2609} INFO -  at 0.7s,\testimator lgbm's best error=0.1408,\tbest estimator lgbm's best error=0.1408\n",
            "[flaml.automl: 02-02 14:25:59] {2449} INFO - iteration 14, current learner lgbm\n",
            "[flaml.automl: 02-02 14:25:59] {2609} INFO -  at 0.7s,\testimator lgbm's best error=0.1398,\tbest estimator lgbm's best error=0.1398\n",
            "[flaml.automl: 02-02 14:25:59] {2449} INFO - iteration 15, current learner xgboost\n",
            "[flaml.automl: 02-02 14:25:59] {2609} INFO -  at 0.9s,\testimator xgboost's best error=0.1969,\tbest estimator lgbm's best error=0.1398\n",
            "[flaml.automl: 02-02 14:25:59] {2449} INFO - iteration 16, current learner lgbm\n",
            "[flaml.automl: 02-02 14:25:59] {2609} INFO -  at 1.0s,\testimator lgbm's best error=0.1398,\tbest estimator lgbm's best error=0.1398\n",
            "[flaml.automl: 02-02 14:25:59] {2449} INFO - iteration 17, current learner xgboost\n",
            "[flaml.automl: 02-02 14:25:59] {2609} INFO -  at 1.1s,\testimator xgboost's best error=0.1969,\tbest estimator lgbm's best error=0.1398\n",
            "[flaml.automl: 02-02 14:25:59] {2449} INFO - iteration 18, current learner lgbm\n",
            "[flaml.automl: 02-02 14:26:00] {2609} INFO -  at 1.2s,\testimator lgbm's best error=0.1398,\tbest estimator lgbm's best error=0.1398\n",
            "[flaml.automl: 02-02 14:26:00] {2449} INFO - iteration 19, current learner xgboost\n",
            "[flaml.automl: 02-02 14:26:00] {2609} INFO -  at 1.3s,\testimator xgboost's best error=0.1934,\tbest estimator lgbm's best error=0.1398\n",
            "[flaml.automl: 02-02 14:26:00] {2449} INFO - iteration 20, current learner extra_tree\n",
            "[flaml.automl: 02-02 14:26:00] {2609} INFO -  at 1.5s,\testimator extra_tree's best error=0.1958,\tbest estimator lgbm's best error=0.1398\n",
            "[flaml.automl: 02-02 14:26:00] {2449} INFO - iteration 21, current learner lgbm\n",
            "[flaml.automl: 02-02 14:26:00] {2609} INFO -  at 1.6s,\testimator lgbm's best error=0.1398,\tbest estimator lgbm's best error=0.1398\n",
            "[flaml.automl: 02-02 14:26:00] {2449} INFO - iteration 22, current learner lgbm\n",
            "[flaml.automl: 02-02 14:26:00] {2609} INFO -  at 1.7s,\testimator lgbm's best error=0.1398,\tbest estimator lgbm's best error=0.1398\n",
            "[flaml.automl: 02-02 14:26:00] {2449} INFO - iteration 23, current learner extra_tree\n",
            "[flaml.automl: 02-02 14:26:00] {2609} INFO -  at 1.8s,\testimator extra_tree's best error=0.1785,\tbest estimator lgbm's best error=0.1398\n",
            "[flaml.automl: 02-02 14:26:00] {2449} INFO - iteration 24, current learner rf\n",
            "[flaml.automl: 02-02 14:26:00] {2609} INFO -  at 2.0s,\testimator rf's best error=0.1938,\tbest estimator lgbm's best error=0.1398\n",
            "[flaml.automl: 02-02 14:26:00] {2449} INFO - iteration 25, current learner extra_tree\n",
            "[flaml.automl: 02-02 14:26:00] {2609} INFO -  at 2.1s,\testimator extra_tree's best error=0.1785,\tbest estimator lgbm's best error=0.1398\n",
            "[flaml.automl: 02-02 14:26:00] {2449} INFO - iteration 26, current learner rf\n",
            "[flaml.automl: 02-02 14:26:01] {2609} INFO -  at 2.3s,\testimator rf's best error=0.1846,\tbest estimator lgbm's best error=0.1398\n",
            "[flaml.automl: 02-02 14:26:01] {2449} INFO - iteration 27, current learner rf\n",
            "[flaml.automl: 02-02 14:26:01] {2609} INFO -  at 2.4s,\testimator rf's best error=0.1846,\tbest estimator lgbm's best error=0.1398\n",
            "[flaml.automl: 02-02 14:26:01] {2449} INFO - iteration 28, current learner extra_tree\n",
            "[flaml.automl: 02-02 14:26:01] {2609} INFO -  at 2.6s,\testimator extra_tree's best error=0.1785,\tbest estimator lgbm's best error=0.1398\n",
            "[flaml.automl: 02-02 14:26:01] {2449} INFO - iteration 29, current learner extra_tree\n",
            "[flaml.automl: 02-02 14:26:01] {2609} INFO -  at 2.8s,\testimator extra_tree's best error=0.1692,\tbest estimator lgbm's best error=0.1398\n",
            "[flaml.automl: 02-02 14:26:01] {2449} INFO - iteration 30, current learner lgbm\n",
            "[flaml.automl: 02-02 14:26:01] {2609} INFO -  at 2.8s,\testimator lgbm's best error=0.1398,\tbest estimator lgbm's best error=0.1398\n",
            "[flaml.automl: 02-02 14:26:01] {2449} INFO - iteration 31, current learner lgbm\n",
            "[flaml.automl: 02-02 14:26:01] {2609} INFO -  at 3.0s,\testimator lgbm's best error=0.1398,\tbest estimator lgbm's best error=0.1398\n",
            "[flaml.automl: 02-02 14:26:01] {2449} INFO - iteration 32, current learner lgbm\n",
            "[flaml.automl: 02-02 14:26:01] {2609} INFO -  at 3.1s,\testimator lgbm's best error=0.1398,\tbest estimator lgbm's best error=0.1398\n",
            "[flaml.automl: 02-02 14:26:01] {2449} INFO - iteration 33, current learner extra_tree\n",
            "[flaml.automl: 02-02 14:26:02] {2609} INFO -  at 3.3s,\testimator extra_tree's best error=0.1692,\tbest estimator lgbm's best error=0.1398\n",
            "[flaml.automl: 02-02 14:26:02] {2449} INFO - iteration 34, current learner lgbm\n",
            "[flaml.automl: 02-02 14:26:02] {2609} INFO -  at 3.4s,\testimator lgbm's best error=0.1398,\tbest estimator lgbm's best error=0.1398\n",
            "[flaml.automl: 02-02 14:26:02] {2449} INFO - iteration 35, current learner lgbm\n",
            "[flaml.automl: 02-02 14:26:02] {2609} INFO -  at 3.5s,\testimator lgbm's best error=0.1398,\tbest estimator lgbm's best error=0.1398\n",
            "[flaml.automl: 02-02 14:26:02] {2449} INFO - iteration 36, current learner extra_tree\n",
            "[flaml.automl: 02-02 14:26:02] {2609} INFO -  at 3.6s,\testimator extra_tree's best error=0.1692,\tbest estimator lgbm's best error=0.1398\n",
            "[flaml.automl: 02-02 14:26:02] {2449} INFO - iteration 37, current learner lgbm\n",
            "[flaml.automl: 02-02 14:26:02] {2609} INFO -  at 3.8s,\testimator lgbm's best error=0.1398,\tbest estimator lgbm's best error=0.1398\n",
            "[flaml.automl: 02-02 14:26:02] {2449} INFO - iteration 38, current learner rf\n",
            "[flaml.automl: 02-02 14:26:02] {2609} INFO -  at 4.0s,\testimator rf's best error=0.1846,\tbest estimator lgbm's best error=0.1398\n",
            "[flaml.automl: 02-02 14:26:02] {2449} INFO - iteration 39, current learner lgbm\n",
            "[flaml.automl: 02-02 14:26:02] {2609} INFO -  at 4.1s,\testimator lgbm's best error=0.1398,\tbest estimator lgbm's best error=0.1398\n",
            "[flaml.automl: 02-02 14:26:02] {2449} INFO - iteration 40, current learner xgboost\n",
            "[flaml.automl: 02-02 14:26:03] {2609} INFO -  at 4.2s,\testimator xgboost's best error=0.1639,\tbest estimator lgbm's best error=0.1398\n",
            "[flaml.automl: 02-02 14:26:03] {2449} INFO - iteration 41, current learner xgboost\n",
            "[flaml.automl: 02-02 14:26:03] {2609} INFO -  at 4.3s,\testimator xgboost's best error=0.1639,\tbest estimator lgbm's best error=0.1398\n",
            "[flaml.automl: 02-02 14:26:03] {2449} INFO - iteration 42, current learner lgbm\n",
            "[flaml.automl: 02-02 14:26:03] {2609} INFO -  at 4.4s,\testimator lgbm's best error=0.1398,\tbest estimator lgbm's best error=0.1398\n",
            "[flaml.automl: 02-02 14:26:03] {2449} INFO - iteration 43, current learner xgboost\n",
            "[flaml.automl: 02-02 14:26:03] {2609} INFO -  at 4.5s,\testimator xgboost's best error=0.1639,\tbest estimator lgbm's best error=0.1398\n",
            "[flaml.automl: 02-02 14:26:03] {2449} INFO - iteration 44, current learner extra_tree\n",
            "[flaml.automl: 02-02 14:26:03] {2609} INFO -  at 4.7s,\testimator extra_tree's best error=0.1692,\tbest estimator lgbm's best error=0.1398\n",
            "[flaml.automl: 02-02 14:26:03] {2449} INFO - iteration 45, current learner xgboost\n",
            "[flaml.automl: 02-02 14:26:03] {2609} INFO -  at 4.8s,\testimator xgboost's best error=0.1621,\tbest estimator lgbm's best error=0.1398\n",
            "[flaml.automl: 02-02 14:26:03] {2449} INFO - iteration 46, current learner lgbm\n",
            "[flaml.automl: 02-02 14:26:03] {2609} INFO -  at 5.0s,\testimator lgbm's best error=0.1398,\tbest estimator lgbm's best error=0.1398\n",
            "[flaml.automl: 02-02 14:26:03] {2449} INFO - iteration 47, current learner rf\n",
            "[flaml.automl: 02-02 14:26:03] {2609} INFO -  at 5.2s,\testimator rf's best error=0.1846,\tbest estimator lgbm's best error=0.1398\n",
            "[flaml.automl: 02-02 14:26:03] {2449} INFO - iteration 48, current learner lgbm\n",
            "[flaml.automl: 02-02 14:26:04] {2609} INFO -  at 5.2s,\testimator lgbm's best error=0.1398,\tbest estimator lgbm's best error=0.1398\n",
            "[flaml.automl: 02-02 14:26:04] {2449} INFO - iteration 49, current learner lgbm\n",
            "[flaml.automl: 02-02 14:26:04] {2609} INFO -  at 5.3s,\testimator lgbm's best error=0.1398,\tbest estimator lgbm's best error=0.1398\n",
            "[flaml.automl: 02-02 14:26:04] {2449} INFO - iteration 50, current learner extra_tree\n",
            "[flaml.automl: 02-02 14:26:04] {2609} INFO -  at 5.5s,\testimator extra_tree's best error=0.1692,\tbest estimator lgbm's best error=0.1398\n",
            "[flaml.automl: 02-02 14:26:04] {2449} INFO - iteration 51, current learner lgbm\n",
            "[flaml.automl: 02-02 14:26:04] {2609} INFO -  at 5.6s,\testimator lgbm's best error=0.1398,\tbest estimator lgbm's best error=0.1398\n",
            "[flaml.automl: 02-02 14:26:04] {2449} INFO - iteration 52, current learner lgbm\n",
            "[flaml.automl: 02-02 14:26:04] {2609} INFO -  at 5.7s,\testimator lgbm's best error=0.1398,\tbest estimator lgbm's best error=0.1398\n",
            "[flaml.automl: 02-02 14:26:04] {2449} INFO - iteration 53, current learner lgbm\n",
            "[flaml.automl: 02-02 14:26:04] {2609} INFO -  at 5.8s,\testimator lgbm's best error=0.1398,\tbest estimator lgbm's best error=0.1398\n",
            "[flaml.automl: 02-02 14:26:04] {2449} INFO - iteration 54, current learner lgbm\n",
            "[flaml.automl: 02-02 14:26:04] {2609} INFO -  at 6.0s,\testimator lgbm's best error=0.1398,\tbest estimator lgbm's best error=0.1398\n",
            "[flaml.automl: 02-02 14:26:04] {2449} INFO - iteration 55, current learner rf\n",
            "[flaml.automl: 02-02 14:26:04] {2609} INFO -  at 6.2s,\testimator rf's best error=0.1792,\tbest estimator lgbm's best error=0.1398\n",
            "[flaml.automl: 02-02 14:26:04] {2449} INFO - iteration 56, current learner lgbm\n",
            "[flaml.automl: 02-02 14:26:05] {2609} INFO -  at 6.3s,\testimator lgbm's best error=0.1398,\tbest estimator lgbm's best error=0.1398\n",
            "[flaml.automl: 02-02 14:26:05] {2449} INFO - iteration 57, current learner lgbm\n",
            "[flaml.automl: 02-02 14:26:05] {2609} INFO -  at 6.5s,\testimator lgbm's best error=0.1398,\tbest estimator lgbm's best error=0.1398\n",
            "[flaml.automl: 02-02 14:26:05] {2449} INFO - iteration 58, current learner lgbm\n",
            "[flaml.automl: 02-02 14:26:05] {2609} INFO -  at 6.6s,\testimator lgbm's best error=0.1398,\tbest estimator lgbm's best error=0.1398\n",
            "[flaml.automl: 02-02 14:26:05] {2449} INFO - iteration 59, current learner lgbm\n",
            "[flaml.automl: 02-02 14:26:05] {2609} INFO -  at 6.7s,\testimator lgbm's best error=0.1398,\tbest estimator lgbm's best error=0.1398\n",
            "[flaml.automl: 02-02 14:26:05] {2449} INFO - iteration 60, current learner xgboost\n",
            "[flaml.automl: 02-02 14:26:05] {2609} INFO -  at 6.8s,\testimator xgboost's best error=0.1621,\tbest estimator lgbm's best error=0.1398\n",
            "[flaml.automl: 02-02 14:26:05] {2449} INFO - iteration 61, current learner lgbm\n",
            "[flaml.automl: 02-02 14:26:05] {2609} INFO -  at 6.9s,\testimator lgbm's best error=0.1391,\tbest estimator lgbm's best error=0.1391\n",
            "[flaml.automl: 02-02 14:26:05] {2449} INFO - iteration 62, current learner xgboost\n",
            "[flaml.automl: 02-02 14:26:05] {2609} INFO -  at 7.0s,\testimator xgboost's best error=0.1621,\tbest estimator lgbm's best error=0.1391\n",
            "[flaml.automl: 02-02 14:26:05] {2449} INFO - iteration 63, current learner rf\n",
            "[flaml.automl: 02-02 14:26:06] {2609} INFO -  at 7.2s,\testimator rf's best error=0.1792,\tbest estimator lgbm's best error=0.1391\n",
            "[flaml.automl: 02-02 14:26:06] {2449} INFO - iteration 64, current learner lgbm\n",
            "[flaml.automl: 02-02 14:26:06] {2609} INFO -  at 7.3s,\testimator lgbm's best error=0.1391,\tbest estimator lgbm's best error=0.1391\n",
            "[flaml.automl: 02-02 14:26:06] {2449} INFO - iteration 65, current learner lgbm\n",
            "[flaml.automl: 02-02 14:26:06] {2609} INFO -  at 7.4s,\testimator lgbm's best error=0.1391,\tbest estimator lgbm's best error=0.1391\n",
            "[flaml.automl: 02-02 14:26:06] {2449} INFO - iteration 66, current learner rf\n",
            "[flaml.automl: 02-02 14:26:06] {2609} INFO -  at 7.7s,\testimator rf's best error=0.1596,\tbest estimator lgbm's best error=0.1391\n",
            "[flaml.automl: 02-02 14:26:06] {2449} INFO - iteration 67, current learner rf\n",
            "[flaml.automl: 02-02 14:26:06] {2609} INFO -  at 7.9s,\testimator rf's best error=0.1596,\tbest estimator lgbm's best error=0.1391\n",
            "[flaml.automl: 02-02 14:26:06] {2449} INFO - iteration 68, current learner lgbm\n",
            "[flaml.automl: 02-02 14:26:06] {2609} INFO -  at 8.0s,\testimator lgbm's best error=0.1391,\tbest estimator lgbm's best error=0.1391\n",
            "[flaml.automl: 02-02 14:26:06] {2449} INFO - iteration 69, current learner rf\n",
            "[flaml.automl: 02-02 14:26:07] {2609} INFO -  at 8.3s,\testimator rf's best error=0.1596,\tbest estimator lgbm's best error=0.1391\n",
            "[flaml.automl: 02-02 14:26:07] {2449} INFO - iteration 70, current learner rf\n",
            "[flaml.automl: 02-02 14:26:07] {2609} INFO -  at 8.6s,\testimator rf's best error=0.1477,\tbest estimator lgbm's best error=0.1391\n",
            "[flaml.automl: 02-02 14:26:07] {2449} INFO - iteration 71, current learner rf\n",
            "[flaml.automl: 02-02 14:26:07] {2609} INFO -  at 8.8s,\testimator rf's best error=0.1477,\tbest estimator lgbm's best error=0.1391\n",
            "[flaml.automl: 02-02 14:26:07] {2449} INFO - iteration 72, current learner extra_tree\n",
            "[flaml.automl: 02-02 14:26:07] {2609} INFO -  at 9.0s,\testimator extra_tree's best error=0.1692,\tbest estimator lgbm's best error=0.1391\n",
            "[flaml.automl: 02-02 14:26:07] {2449} INFO - iteration 73, current learner rf\n",
            "[flaml.automl: 02-02 14:26:08] {2609} INFO -  at 9.4s,\testimator rf's best error=0.1477,\tbest estimator lgbm's best error=0.1391\n",
            "[flaml.automl: 02-02 14:26:08] {2449} INFO - iteration 74, current learner extra_tree\n",
            "[flaml.automl: 02-02 14:26:08] {2609} INFO -  at 9.5s,\testimator extra_tree's best error=0.1680,\tbest estimator lgbm's best error=0.1391\n",
            "[flaml.automl: 02-02 14:26:08] {2449} INFO - iteration 75, current learner lgbm\n",
            "[flaml.automl: 02-02 14:26:08] {2609} INFO -  at 9.6s,\testimator lgbm's best error=0.1391,\tbest estimator lgbm's best error=0.1391\n",
            "[flaml.automl: 02-02 14:26:08] {2449} INFO - iteration 76, current learner lgbm\n",
            "[flaml.automl: 02-02 14:26:08] {2609} INFO -  at 9.8s,\testimator lgbm's best error=0.1391,\tbest estimator lgbm's best error=0.1391\n",
            "[flaml.automl: 02-02 14:26:08] {2449} INFO - iteration 77, current learner rf\n",
            "[flaml.automl: 02-02 14:26:08] {2609} INFO -  at 10.0s,\testimator rf's best error=0.1477,\tbest estimator lgbm's best error=0.1391\n",
            "[flaml.automl: 02-02 14:26:08] {2449} INFO - iteration 78, current learner lgbm\n",
            "[flaml.automl: 02-02 14:26:08] {2609} INFO -  at 10.1s,\testimator lgbm's best error=0.1391,\tbest estimator lgbm's best error=0.1391\n",
            "[flaml.automl: 02-02 14:26:08] {2449} INFO - iteration 79, current learner lgbm\n",
            "[flaml.automl: 02-02 14:26:09] {2609} INFO -  at 10.2s,\testimator lgbm's best error=0.1391,\tbest estimator lgbm's best error=0.1391\n",
            "[flaml.automl: 02-02 14:26:09] {2449} INFO - iteration 80, current learner rf\n",
            "[flaml.automl: 02-02 14:26:09] {2609} INFO -  at 10.7s,\testimator rf's best error=0.1477,\tbest estimator lgbm's best error=0.1391\n",
            "[flaml.automl: 02-02 14:26:09] {2449} INFO - iteration 81, current learner lgbm\n",
            "[flaml.automl: 02-02 14:26:09] {2609} INFO -  at 10.9s,\testimator lgbm's best error=0.1391,\tbest estimator lgbm's best error=0.1391\n",
            "[flaml.automl: 02-02 14:26:09] {2449} INFO - iteration 82, current learner rf\n",
            "[flaml.automl: 02-02 14:26:09] {2609} INFO -  at 11.2s,\testimator rf's best error=0.1477,\tbest estimator lgbm's best error=0.1391\n",
            "[flaml.automl: 02-02 14:26:09] {2449} INFO - iteration 83, current learner rf\n",
            "[flaml.automl: 02-02 14:26:10] {2609} INFO -  at 11.4s,\testimator rf's best error=0.1477,\tbest estimator lgbm's best error=0.1391\n",
            "[flaml.automl: 02-02 14:26:10] {2449} INFO - iteration 84, current learner rf\n",
            "[flaml.automl: 02-02 14:26:10] {2609} INFO -  at 11.8s,\testimator rf's best error=0.1477,\tbest estimator lgbm's best error=0.1391\n",
            "[flaml.automl: 02-02 14:26:10] {2449} INFO - iteration 85, current learner xgboost\n",
            "[flaml.automl: 02-02 14:26:10] {2609} INFO -  at 11.9s,\testimator xgboost's best error=0.1593,\tbest estimator lgbm's best error=0.1391\n",
            "[flaml.automl: 02-02 14:26:10] {2449} INFO - iteration 86, current learner rf\n",
            "[flaml.automl: 02-02 14:26:11] {2609} INFO -  at 12.3s,\testimator rf's best error=0.1477,\tbest estimator lgbm's best error=0.1391\n",
            "[flaml.automl: 02-02 14:26:11] {2449} INFO - iteration 87, current learner lgbm\n",
            "[flaml.automl: 02-02 14:26:11] {2609} INFO -  at 12.4s,\testimator lgbm's best error=0.1391,\tbest estimator lgbm's best error=0.1391\n",
            "[flaml.automl: 02-02 14:26:11] {2449} INFO - iteration 88, current learner lgbm\n",
            "[flaml.automl: 02-02 14:26:11] {2609} INFO -  at 12.6s,\testimator lgbm's best error=0.1391,\tbest estimator lgbm's best error=0.1391\n",
            "[flaml.automl: 02-02 14:26:11] {2449} INFO - iteration 89, current learner rf\n",
            "[flaml.automl: 02-02 14:26:11] {2609} INFO -  at 12.9s,\testimator rf's best error=0.1477,\tbest estimator lgbm's best error=0.1391\n",
            "[flaml.automl: 02-02 14:26:11] {2449} INFO - iteration 90, current learner lgbm\n",
            "[flaml.automl: 02-02 14:26:11] {2609} INFO -  at 13.0s,\testimator lgbm's best error=0.1391,\tbest estimator lgbm's best error=0.1391\n",
            "[flaml.automl: 02-02 14:26:11] {2449} INFO - iteration 91, current learner rf\n",
            "[flaml.automl: 02-02 14:26:12] {2609} INFO -  at 13.4s,\testimator rf's best error=0.1477,\tbest estimator lgbm's best error=0.1391\n",
            "[flaml.automl: 02-02 14:26:12] {2449} INFO - iteration 92, current learner xgboost\n",
            "[flaml.automl: 02-02 14:26:12] {2609} INFO -  at 13.5s,\testimator xgboost's best error=0.1593,\tbest estimator lgbm's best error=0.1391\n",
            "[flaml.automl: 02-02 14:26:12] {2449} INFO - iteration 93, current learner xgboost\n",
            "[flaml.automl: 02-02 14:26:12] {2609} INFO -  at 13.6s,\testimator xgboost's best error=0.1563,\tbest estimator lgbm's best error=0.1391\n",
            "[flaml.automl: 02-02 14:26:12] {2449} INFO - iteration 94, current learner lgbm\n",
            "[flaml.automl: 02-02 14:26:12] {2609} INFO -  at 13.8s,\testimator lgbm's best error=0.1391,\tbest estimator lgbm's best error=0.1391\n",
            "[flaml.automl: 02-02 14:26:12] {2449} INFO - iteration 95, current learner rf\n",
            "[flaml.automl: 02-02 14:26:12] {2609} INFO -  at 14.2s,\testimator rf's best error=0.1477,\tbest estimator lgbm's best error=0.1391\n",
            "[flaml.automl: 02-02 14:26:12] {2449} INFO - iteration 96, current learner xgboost\n",
            "[flaml.automl: 02-02 14:26:13] {2609} INFO -  at 14.3s,\testimator xgboost's best error=0.1538,\tbest estimator lgbm's best error=0.1391\n",
            "[flaml.automl: 02-02 14:26:13] {2449} INFO - iteration 97, current learner xgboost\n",
            "[flaml.automl: 02-02 14:26:13] {2609} INFO -  at 14.4s,\testimator xgboost's best error=0.1538,\tbest estimator lgbm's best error=0.1391\n",
            "[flaml.automl: 02-02 14:26:13] {2449} INFO - iteration 98, current learner xgboost\n",
            "[flaml.automl: 02-02 14:26:13] {2609} INFO -  at 14.5s,\testimator xgboost's best error=0.1538,\tbest estimator lgbm's best error=0.1391\n",
            "[flaml.automl: 02-02 14:26:13] {2449} INFO - iteration 99, current learner lgbm\n",
            "[flaml.automl: 02-02 14:26:13] {2609} INFO -  at 14.7s,\testimator lgbm's best error=0.1391,\tbest estimator lgbm's best error=0.1391\n",
            "[flaml.automl: 02-02 14:26:13] {2449} INFO - iteration 100, current learner rf\n",
            "[flaml.automl: 02-02 14:26:13] {2609} INFO -  at 14.9s,\testimator rf's best error=0.1466,\tbest estimator lgbm's best error=0.1391\n",
            "[flaml.automl: 02-02 14:26:13] {2449} INFO - iteration 101, current learner xgboost\n",
            "[flaml.automl: 02-02 14:26:13] {2609} INFO -  at 15.0s,\testimator xgboost's best error=0.1538,\tbest estimator lgbm's best error=0.1391\n",
            "[flaml.automl: 02-02 14:26:13] {2449} INFO - iteration 102, current learner lgbm\n",
            "[flaml.automl: 02-02 14:26:13] {2609} INFO -  at 15.1s,\testimator lgbm's best error=0.1391,\tbest estimator lgbm's best error=0.1391\n",
            "[flaml.automl: 02-02 14:26:13] {2449} INFO - iteration 103, current learner xgboost\n",
            "[flaml.automl: 02-02 14:26:14] {2609} INFO -  at 15.2s,\testimator xgboost's best error=0.1538,\tbest estimator lgbm's best error=0.1391\n",
            "[flaml.automl: 02-02 14:26:14] {2449} INFO - iteration 104, current learner lgbm\n",
            "[flaml.automl: 02-02 14:26:14] {2609} INFO -  at 15.4s,\testimator lgbm's best error=0.1391,\tbest estimator lgbm's best error=0.1391\n",
            "[flaml.automl: 02-02 14:26:14] {2449} INFO - iteration 105, current learner lgbm\n",
            "[flaml.automl: 02-02 14:26:14] {2609} INFO -  at 15.4s,\testimator lgbm's best error=0.1391,\tbest estimator lgbm's best error=0.1391\n",
            "[flaml.automl: 02-02 14:26:14] {2449} INFO - iteration 106, current learner xgboost\n",
            "[flaml.automl: 02-02 14:26:14] {2609} INFO -  at 15.5s,\testimator xgboost's best error=0.1538,\tbest estimator lgbm's best error=0.1391\n",
            "[flaml.automl: 02-02 14:26:14] {2449} INFO - iteration 107, current learner lgbm\n",
            "[flaml.automl: 02-02 14:26:14] {2609} INFO -  at 15.6s,\testimator lgbm's best error=0.1391,\tbest estimator lgbm's best error=0.1391\n",
            "[flaml.automl: 02-02 14:26:14] {2449} INFO - iteration 108, current learner xgboost\n",
            "[flaml.automl: 02-02 14:26:14] {2609} INFO -  at 15.8s,\testimator xgboost's best error=0.1483,\tbest estimator lgbm's best error=0.1391\n",
            "[flaml.automl: 02-02 14:26:14] {2449} INFO - iteration 109, current learner xgboost\n",
            "[flaml.automl: 02-02 14:26:14] {2609} INFO -  at 15.9s,\testimator xgboost's best error=0.1483,\tbest estimator lgbm's best error=0.1391\n",
            "[flaml.automl: 02-02 14:26:14] {2449} INFO - iteration 110, current learner lgbm\n",
            "[flaml.automl: 02-02 14:26:14] {2609} INFO -  at 16.0s,\testimator lgbm's best error=0.1391,\tbest estimator lgbm's best error=0.1391\n",
            "[flaml.automl: 02-02 14:26:14] {2449} INFO - iteration 111, current learner xgboost\n",
            "[flaml.automl: 02-02 14:26:14] {2609} INFO -  at 16.2s,\testimator xgboost's best error=0.1477,\tbest estimator lgbm's best error=0.1391\n",
            "[flaml.automl: 02-02 14:26:14] {2449} INFO - iteration 112, current learner xgboost\n",
            "[flaml.automl: 02-02 14:26:15] {2609} INFO -  at 16.3s,\testimator xgboost's best error=0.1477,\tbest estimator lgbm's best error=0.1391\n",
            "[flaml.automl: 02-02 14:26:15] {2449} INFO - iteration 113, current learner extra_tree\n",
            "[flaml.automl: 02-02 14:26:15] {2609} INFO -  at 16.5s,\testimator extra_tree's best error=0.1680,\tbest estimator lgbm's best error=0.1391\n",
            "[flaml.automl: 02-02 14:26:15] {2449} INFO - iteration 114, current learner lgbm\n",
            "[flaml.automl: 02-02 14:26:15] {2609} INFO -  at 16.5s,\testimator lgbm's best error=0.1391,\tbest estimator lgbm's best error=0.1391\n",
            "[flaml.automl: 02-02 14:26:15] {2449} INFO - iteration 115, current learner lgbm\n",
            "[flaml.automl: 02-02 14:26:15] {2609} INFO -  at 16.6s,\testimator lgbm's best error=0.1391,\tbest estimator lgbm's best error=0.1391\n",
            "[flaml.automl: 02-02 14:26:15] {2449} INFO - iteration 116, current learner rf\n",
            "[flaml.automl: 02-02 14:26:15] {2609} INFO -  at 17.1s,\testimator rf's best error=0.1466,\tbest estimator lgbm's best error=0.1391\n",
            "[flaml.automl: 02-02 14:26:15] {2449} INFO - iteration 117, current learner lgbm\n",
            "[flaml.automl: 02-02 14:26:15] {2609} INFO -  at 17.1s,\testimator lgbm's best error=0.1391,\tbest estimator lgbm's best error=0.1391\n",
            "[flaml.automl: 02-02 14:26:15] {2449} INFO - iteration 118, current learner lgbm\n",
            "[flaml.automl: 02-02 14:26:16] {2609} INFO -  at 17.3s,\testimator lgbm's best error=0.1391,\tbest estimator lgbm's best error=0.1391\n",
            "[flaml.automl: 02-02 14:26:16] {2449} INFO - iteration 119, current learner lgbm\n",
            "[flaml.automl: 02-02 14:26:16] {2609} INFO -  at 17.4s,\testimator lgbm's best error=0.1391,\tbest estimator lgbm's best error=0.1391\n",
            "[flaml.automl: 02-02 14:26:16] {2449} INFO - iteration 120, current learner lgbm\n",
            "[flaml.automl: 02-02 14:26:16] {2609} INFO -  at 17.5s,\testimator lgbm's best error=0.1391,\tbest estimator lgbm's best error=0.1391\n",
            "[flaml.automl: 02-02 14:26:16] {2449} INFO - iteration 121, current learner xgboost\n",
            "[flaml.automl: 02-02 14:26:16] {2609} INFO -  at 17.6s,\testimator xgboost's best error=0.1477,\tbest estimator lgbm's best error=0.1391\n",
            "[flaml.automl: 02-02 14:26:16] {2449} INFO - iteration 122, current learner lgbm\n",
            "[flaml.automl: 02-02 14:26:16] {2609} INFO -  at 17.7s,\testimator lgbm's best error=0.1378,\tbest estimator lgbm's best error=0.1378\n",
            "[flaml.automl: 02-02 14:26:16] {2449} INFO - iteration 123, current learner lgbm\n",
            "[flaml.automl: 02-02 14:26:16] {2609} INFO -  at 17.8s,\testimator lgbm's best error=0.1378,\tbest estimator lgbm's best error=0.1378\n",
            "[flaml.automl: 02-02 14:26:16] {2449} INFO - iteration 124, current learner lgbm\n",
            "[flaml.automl: 02-02 14:26:16] {2609} INFO -  at 17.9s,\testimator lgbm's best error=0.1378,\tbest estimator lgbm's best error=0.1378\n",
            "[flaml.automl: 02-02 14:26:16] {2449} INFO - iteration 125, current learner lgbm\n",
            "[flaml.automl: 02-02 14:26:16] {2609} INFO -  at 18.0s,\testimator lgbm's best error=0.1378,\tbest estimator lgbm's best error=0.1378\n",
            "[flaml.automl: 02-02 14:26:16] {2449} INFO - iteration 126, current learner lgbm\n",
            "[flaml.automl: 02-02 14:26:16] {2609} INFO -  at 18.2s,\testimator lgbm's best error=0.1378,\tbest estimator lgbm's best error=0.1378\n",
            "[flaml.automl: 02-02 14:26:16] {2449} INFO - iteration 127, current learner lgbm\n",
            "[flaml.automl: 02-02 14:26:17] {2609} INFO -  at 18.3s,\testimator lgbm's best error=0.1378,\tbest estimator lgbm's best error=0.1378\n",
            "[flaml.automl: 02-02 14:26:17] {2449} INFO - iteration 128, current learner xgboost\n",
            "[flaml.automl: 02-02 14:26:17] {2609} INFO -  at 18.4s,\testimator xgboost's best error=0.1477,\tbest estimator lgbm's best error=0.1378\n",
            "[flaml.automl: 02-02 14:26:17] {2449} INFO - iteration 129, current learner lgbm\n",
            "[flaml.automl: 02-02 14:26:17] {2609} INFO -  at 18.7s,\testimator lgbm's best error=0.1378,\tbest estimator lgbm's best error=0.1378\n",
            "[flaml.automl: 02-02 14:26:17] {2449} INFO - iteration 130, current learner lgbm\n",
            "[flaml.automl: 02-02 14:26:17] {2609} INFO -  at 18.8s,\testimator lgbm's best error=0.1372,\tbest estimator lgbm's best error=0.1372\n",
            "[flaml.automl: 02-02 14:26:17] {2449} INFO - iteration 131, current learner lgbm\n",
            "[flaml.automl: 02-02 14:26:17] {2609} INFO -  at 18.8s,\testimator lgbm's best error=0.1372,\tbest estimator lgbm's best error=0.1372\n",
            "[flaml.automl: 02-02 14:26:17] {2449} INFO - iteration 132, current learner lgbm\n",
            "[flaml.automl: 02-02 14:26:17] {2609} INFO -  at 18.9s,\testimator lgbm's best error=0.1372,\tbest estimator lgbm's best error=0.1372\n",
            "[flaml.automl: 02-02 14:26:17] {2449} INFO - iteration 133, current learner lgbm\n",
            "[flaml.automl: 02-02 14:26:17] {2609} INFO -  at 19.0s,\testimator lgbm's best error=0.1372,\tbest estimator lgbm's best error=0.1372\n",
            "[flaml.automl: 02-02 14:26:17] {2449} INFO - iteration 134, current learner lgbm\n",
            "[flaml.automl: 02-02 14:26:17] {2609} INFO -  at 19.1s,\testimator lgbm's best error=0.1372,\tbest estimator lgbm's best error=0.1372\n",
            "[flaml.automl: 02-02 14:26:17] {2449} INFO - iteration 135, current learner xgboost\n",
            "[flaml.automl: 02-02 14:26:18] {2609} INFO -  at 19.3s,\testimator xgboost's best error=0.1477,\tbest estimator lgbm's best error=0.1372\n",
            "[flaml.automl: 02-02 14:26:18] {2449} INFO - iteration 136, current learner lgbm\n",
            "[flaml.automl: 02-02 14:26:18] {2609} INFO -  at 19.4s,\testimator lgbm's best error=0.1372,\tbest estimator lgbm's best error=0.1372\n",
            "[flaml.automl: 02-02 14:26:18] {2449} INFO - iteration 137, current learner lgbm\n",
            "[flaml.automl: 02-02 14:26:18] {2609} INFO -  at 19.5s,\testimator lgbm's best error=0.1372,\tbest estimator lgbm's best error=0.1372\n",
            "[flaml.automl: 02-02 14:26:18] {2449} INFO - iteration 138, current learner lgbm\n",
            "[flaml.automl: 02-02 14:26:18] {2609} INFO -  at 19.5s,\testimator lgbm's best error=0.1372,\tbest estimator lgbm's best error=0.1372\n",
            "[flaml.automl: 02-02 14:26:18] {2449} INFO - iteration 139, current learner lgbm\n",
            "[flaml.automl: 02-02 14:26:18] {2609} INFO -  at 19.6s,\testimator lgbm's best error=0.1372,\tbest estimator lgbm's best error=0.1372\n",
            "[flaml.automl: 02-02 14:26:18] {2449} INFO - iteration 140, current learner lgbm\n",
            "[flaml.automl: 02-02 14:26:18] {2609} INFO -  at 19.7s,\testimator lgbm's best error=0.1372,\tbest estimator lgbm's best error=0.1372\n",
            "[flaml.automl: 02-02 14:26:18] {2449} INFO - iteration 141, current learner lgbm\n",
            "[flaml.automl: 02-02 14:26:18] {2609} INFO -  at 19.8s,\testimator lgbm's best error=0.1372,\tbest estimator lgbm's best error=0.1372\n",
            "[flaml.automl: 02-02 14:26:18] {2449} INFO - iteration 142, current learner lgbm\n",
            "[flaml.automl: 02-02 14:26:18] {2609} INFO -  at 19.9s,\testimator lgbm's best error=0.1372,\tbest estimator lgbm's best error=0.1372\n",
            "[flaml.automl: 02-02 14:26:18] {2449} INFO - iteration 143, current learner lgbm\n",
            "[flaml.automl: 02-02 14:26:18] {2609} INFO -  at 20.0s,\testimator lgbm's best error=0.1372,\tbest estimator lgbm's best error=0.1372\n",
            "[flaml.automl: 02-02 14:26:18] {2449} INFO - iteration 144, current learner lgbm\n",
            "[flaml.automl: 02-02 14:26:18] {2609} INFO -  at 20.0s,\testimator lgbm's best error=0.1372,\tbest estimator lgbm's best error=0.1372\n",
            "[flaml.automl: 02-02 14:26:18] {2449} INFO - iteration 145, current learner lgbm\n",
            "[flaml.automl: 02-02 14:26:18] {2609} INFO -  at 20.1s,\testimator lgbm's best error=0.1372,\tbest estimator lgbm's best error=0.1372\n",
            "[flaml.automl: 02-02 14:26:18] {2449} INFO - iteration 146, current learner lgbm\n",
            "[flaml.automl: 02-02 14:26:19] {2609} INFO -  at 20.2s,\testimator lgbm's best error=0.1372,\tbest estimator lgbm's best error=0.1372\n",
            "[flaml.automl: 02-02 14:26:19] {2449} INFO - iteration 147, current learner lgbm\n",
            "[flaml.automl: 02-02 14:26:19] {2609} INFO -  at 20.3s,\testimator lgbm's best error=0.1372,\tbest estimator lgbm's best error=0.1372\n",
            "[flaml.automl: 02-02 14:26:19] {2449} INFO - iteration 148, current learner lgbm\n",
            "[flaml.automl: 02-02 14:26:19] {2609} INFO -  at 20.3s,\testimator lgbm's best error=0.1372,\tbest estimator lgbm's best error=0.1372\n",
            "[flaml.automl: 02-02 14:26:19] {2449} INFO - iteration 149, current learner lgbm\n",
            "[flaml.automl: 02-02 14:26:19] {2609} INFO -  at 20.4s,\testimator lgbm's best error=0.1372,\tbest estimator lgbm's best error=0.1372\n",
            "[flaml.automl: 02-02 14:26:19] {2449} INFO - iteration 150, current learner lgbm\n",
            "[flaml.automl: 02-02 14:26:19] {2609} INFO -  at 20.5s,\testimator lgbm's best error=0.1372,\tbest estimator lgbm's best error=0.1372\n",
            "[flaml.automl: 02-02 14:26:19] {2449} INFO - iteration 151, current learner lgbm\n",
            "[flaml.automl: 02-02 14:26:19] {2609} INFO -  at 20.5s,\testimator lgbm's best error=0.1372,\tbest estimator lgbm's best error=0.1372\n",
            "[flaml.automl: 02-02 14:26:19] {2449} INFO - iteration 152, current learner lgbm\n",
            "[flaml.automl: 02-02 14:26:19] {2609} INFO -  at 20.6s,\testimator lgbm's best error=0.1372,\tbest estimator lgbm's best error=0.1372\n",
            "[flaml.automl: 02-02 14:26:19] {2449} INFO - iteration 153, current learner lgbm\n",
            "[flaml.automl: 02-02 14:26:19] {2609} INFO -  at 20.7s,\testimator lgbm's best error=0.1372,\tbest estimator lgbm's best error=0.1372\n",
            "[flaml.automl: 02-02 14:26:19] {2449} INFO - iteration 154, current learner lgbm\n",
            "[flaml.automl: 02-02 14:26:19] {2609} INFO -  at 20.8s,\testimator lgbm's best error=0.1372,\tbest estimator lgbm's best error=0.1372\n",
            "[flaml.automl: 02-02 14:26:19] {2449} INFO - iteration 155, current learner rf\n",
            "[flaml.automl: 02-02 14:26:19] {2609} INFO -  at 21.0s,\testimator rf's best error=0.1466,\tbest estimator lgbm's best error=0.1372\n",
            "[flaml.automl: 02-02 14:26:19] {2449} INFO - iteration 156, current learner lgbm\n",
            "[flaml.automl: 02-02 14:26:19] {2609} INFO -  at 21.1s,\testimator lgbm's best error=0.1372,\tbest estimator lgbm's best error=0.1372\n",
            "[flaml.automl: 02-02 14:26:19] {2449} INFO - iteration 157, current learner lgbm\n",
            "[flaml.automl: 02-02 14:26:20] {2609} INFO -  at 21.2s,\testimator lgbm's best error=0.1372,\tbest estimator lgbm's best error=0.1372\n",
            "[flaml.automl: 02-02 14:26:20] {2449} INFO - iteration 158, current learner lgbm\n",
            "[flaml.automl: 02-02 14:26:20] {2609} INFO -  at 21.3s,\testimator lgbm's best error=0.1372,\tbest estimator lgbm's best error=0.1372\n",
            "[flaml.automl: 02-02 14:26:20] {2449} INFO - iteration 159, current learner lgbm\n",
            "[flaml.automl: 02-02 14:26:20] {2609} INFO -  at 21.3s,\testimator lgbm's best error=0.1372,\tbest estimator lgbm's best error=0.1372\n",
            "[flaml.automl: 02-02 14:26:20] {2449} INFO - iteration 160, current learner lgbm\n",
            "[flaml.automl: 02-02 14:26:20] {2609} INFO -  at 21.4s,\testimator lgbm's best error=0.1372,\tbest estimator lgbm's best error=0.1372\n",
            "[flaml.automl: 02-02 14:26:20] {2449} INFO - iteration 161, current learner lgbm\n",
            "[flaml.automl: 02-02 14:26:20] {2609} INFO -  at 21.5s,\testimator lgbm's best error=0.1372,\tbest estimator lgbm's best error=0.1372\n",
            "[flaml.automl: 02-02 14:26:20] {2449} INFO - iteration 162, current learner extra_tree\n",
            "[flaml.automl: 02-02 14:26:20] {2609} INFO -  at 21.7s,\testimator extra_tree's best error=0.1599,\tbest estimator lgbm's best error=0.1372\n",
            "[flaml.automl: 02-02 14:26:20] {2449} INFO - iteration 163, current learner extra_tree\n",
            "[flaml.automl: 02-02 14:26:20] {2609} INFO -  at 21.9s,\testimator extra_tree's best error=0.1599,\tbest estimator lgbm's best error=0.1372\n",
            "[flaml.automl: 02-02 14:26:20] {2449} INFO - iteration 164, current learner lgbm\n",
            "[flaml.automl: 02-02 14:26:20] {2609} INFO -  at 21.9s,\testimator lgbm's best error=0.1372,\tbest estimator lgbm's best error=0.1372\n",
            "[flaml.automl: 02-02 14:26:20] {2449} INFO - iteration 165, current learner lgbm\n",
            "[flaml.automl: 02-02 14:26:20] {2609} INFO -  at 22.0s,\testimator lgbm's best error=0.1372,\tbest estimator lgbm's best error=0.1372\n",
            "[flaml.automl: 02-02 14:26:20] {2449} INFO - iteration 166, current learner extra_tree\n",
            "[flaml.automl: 02-02 14:26:21] {2609} INFO -  at 22.3s,\testimator extra_tree's best error=0.1599,\tbest estimator lgbm's best error=0.1372\n",
            "[flaml.automl: 02-02 14:26:21] {2449} INFO - iteration 167, current learner extra_tree\n",
            "[flaml.automl: 02-02 14:26:21] {2609} INFO -  at 22.4s,\testimator extra_tree's best error=0.1599,\tbest estimator lgbm's best error=0.1372\n",
            "[flaml.automl: 02-02 14:26:21] {2449} INFO - iteration 168, current learner lgbm\n",
            "[flaml.automl: 02-02 14:26:21] {2609} INFO -  at 22.5s,\testimator lgbm's best error=0.1372,\tbest estimator lgbm's best error=0.1372\n",
            "[flaml.automl: 02-02 14:26:21] {2449} INFO - iteration 169, current learner lgbm\n",
            "[flaml.automl: 02-02 14:26:21] {2609} INFO -  at 22.7s,\testimator lgbm's best error=0.1372,\tbest estimator lgbm's best error=0.1372\n",
            "[flaml.automl: 02-02 14:26:21] {2449} INFO - iteration 170, current learner lgbm\n",
            "[flaml.automl: 02-02 14:26:21] {2609} INFO -  at 22.7s,\testimator lgbm's best error=0.1372,\tbest estimator lgbm's best error=0.1372\n",
            "[flaml.automl: 02-02 14:26:21] {2449} INFO - iteration 171, current learner lgbm\n",
            "[flaml.automl: 02-02 14:26:21] {2609} INFO -  at 22.8s,\testimator lgbm's best error=0.1372,\tbest estimator lgbm's best error=0.1372\n",
            "[flaml.automl: 02-02 14:26:21] {2449} INFO - iteration 172, current learner xgboost\n",
            "[flaml.automl: 02-02 14:26:21] {2609} INFO -  at 22.9s,\testimator xgboost's best error=0.1477,\tbest estimator lgbm's best error=0.1372\n",
            "[flaml.automl: 02-02 14:26:21] {2449} INFO - iteration 173, current learner lgbm\n",
            "[flaml.automl: 02-02 14:26:21] {2609} INFO -  at 23.0s,\testimator lgbm's best error=0.1372,\tbest estimator lgbm's best error=0.1372\n",
            "[flaml.automl: 02-02 14:26:21] {2449} INFO - iteration 174, current learner lgbm\n",
            "[flaml.automl: 02-02 14:26:21] {2609} INFO -  at 23.1s,\testimator lgbm's best error=0.1372,\tbest estimator lgbm's best error=0.1372\n",
            "[flaml.automl: 02-02 14:26:21] {2449} INFO - iteration 175, current learner extra_tree\n",
            "[flaml.automl: 02-02 14:26:22] {2609} INFO -  at 23.3s,\testimator extra_tree's best error=0.1516,\tbest estimator lgbm's best error=0.1372\n",
            "[flaml.automl: 02-02 14:26:22] {2449} INFO - iteration 176, current learner extra_tree\n",
            "[flaml.automl: 02-02 14:26:22] {2609} INFO -  at 23.5s,\testimator extra_tree's best error=0.1516,\tbest estimator lgbm's best error=0.1372\n",
            "[flaml.automl: 02-02 14:26:22] {2449} INFO - iteration 177, current learner lgbm\n",
            "[flaml.automl: 02-02 14:26:22] {2609} INFO -  at 23.5s,\testimator lgbm's best error=0.1372,\tbest estimator lgbm's best error=0.1372\n",
            "[flaml.automl: 02-02 14:26:22] {2449} INFO - iteration 178, current learner extra_tree\n",
            "[flaml.automl: 02-02 14:26:22] {2609} INFO -  at 23.8s,\testimator extra_tree's best error=0.1516,\tbest estimator lgbm's best error=0.1372\n",
            "[flaml.automl: 02-02 14:26:22] {2449} INFO - iteration 179, current learner extra_tree\n",
            "[flaml.automl: 02-02 14:26:22] {2609} INFO -  at 24.1s,\testimator extra_tree's best error=0.1516,\tbest estimator lgbm's best error=0.1372\n",
            "[flaml.automl: 02-02 14:26:22] {2449} INFO - iteration 180, current learner extra_tree\n",
            "[flaml.automl: 02-02 14:26:23] {2609} INFO -  at 24.2s,\testimator extra_tree's best error=0.1516,\tbest estimator lgbm's best error=0.1372\n",
            "[flaml.automl: 02-02 14:26:23] {2449} INFO - iteration 181, current learner lgbm\n",
            "[flaml.automl: 02-02 14:26:23] {2609} INFO -  at 24.3s,\testimator lgbm's best error=0.1372,\tbest estimator lgbm's best error=0.1372\n",
            "[flaml.automl: 02-02 14:26:23] {2449} INFO - iteration 182, current learner lgbm\n",
            "[flaml.automl: 02-02 14:26:23] {2609} INFO -  at 24.4s,\testimator lgbm's best error=0.1372,\tbest estimator lgbm's best error=0.1372\n",
            "[flaml.automl: 02-02 14:26:23] {2449} INFO - iteration 183, current learner lgbm\n",
            "[flaml.automl: 02-02 14:26:23] {2609} INFO -  at 24.5s,\testimator lgbm's best error=0.1372,\tbest estimator lgbm's best error=0.1372\n",
            "[flaml.automl: 02-02 14:26:23] {2449} INFO - iteration 184, current learner xgboost\n",
            "[flaml.automl: 02-02 14:26:23] {2609} INFO -  at 24.7s,\testimator xgboost's best error=0.1477,\tbest estimator lgbm's best error=0.1372\n",
            "[flaml.automl: 02-02 14:26:23] {2449} INFO - iteration 185, current learner lgbm\n",
            "[flaml.automl: 02-02 14:26:23] {2609} INFO -  at 24.7s,\testimator lgbm's best error=0.1372,\tbest estimator lgbm's best error=0.1372\n",
            "[flaml.automl: 02-02 14:26:23] {2449} INFO - iteration 186, current learner extra_tree\n",
            "[flaml.automl: 02-02 14:26:23] {2609} INFO -  at 25.0s,\testimator extra_tree's best error=0.1516,\tbest estimator lgbm's best error=0.1372\n",
            "[flaml.automl: 02-02 14:26:23] {2449} INFO - iteration 187, current learner lgbm\n",
            "[flaml.automl: 02-02 14:26:23] {2609} INFO -  at 25.0s,\testimator lgbm's best error=0.1372,\tbest estimator lgbm's best error=0.1372\n",
            "[flaml.automl: 02-02 14:26:23] {2449} INFO - iteration 188, current learner lgbm\n",
            "[flaml.automl: 02-02 14:26:23] {2609} INFO -  at 25.1s,\testimator lgbm's best error=0.1372,\tbest estimator lgbm's best error=0.1372\n",
            "[flaml.automl: 02-02 14:26:23] {2449} INFO - iteration 189, current learner extra_tree\n",
            "[flaml.automl: 02-02 14:26:24] {2609} INFO -  at 25.3s,\testimator extra_tree's best error=0.1516,\tbest estimator lgbm's best error=0.1372\n",
            "[flaml.automl: 02-02 14:26:24] {2449} INFO - iteration 190, current learner lgbm\n",
            "[flaml.automl: 02-02 14:26:24] {2609} INFO -  at 25.4s,\testimator lgbm's best error=0.1372,\tbest estimator lgbm's best error=0.1372\n",
            "[flaml.automl: 02-02 14:26:24] {2449} INFO - iteration 191, current learner xgboost\n",
            "[flaml.automl: 02-02 14:26:24] {2609} INFO -  at 25.6s,\testimator xgboost's best error=0.1477,\tbest estimator lgbm's best error=0.1372\n",
            "[flaml.automl: 02-02 14:26:24] {2449} INFO - iteration 192, current learner lgbm\n",
            "[flaml.automl: 02-02 14:26:24] {2609} INFO -  at 25.7s,\testimator lgbm's best error=0.1372,\tbest estimator lgbm's best error=0.1372\n",
            "[flaml.automl: 02-02 14:26:24] {2449} INFO - iteration 193, current learner extra_tree\n",
            "[flaml.automl: 02-02 14:26:24] {2609} INFO -  at 26.0s,\testimator extra_tree's best error=0.1516,\tbest estimator lgbm's best error=0.1372\n",
            "[flaml.automl: 02-02 14:26:24] {2449} INFO - iteration 194, current learner lgbm\n",
            "[flaml.automl: 02-02 14:26:24] {2609} INFO -  at 26.1s,\testimator lgbm's best error=0.1372,\tbest estimator lgbm's best error=0.1372\n",
            "[flaml.automl: 02-02 14:26:24] {2449} INFO - iteration 195, current learner lgbm\n",
            "[flaml.automl: 02-02 14:26:24] {2609} INFO -  at 26.1s,\testimator lgbm's best error=0.1372,\tbest estimator lgbm's best error=0.1372\n",
            "[flaml.automl: 02-02 14:26:24] {2449} INFO - iteration 196, current learner extra_tree\n",
            "[flaml.automl: 02-02 14:26:25] {2609} INFO -  at 26.3s,\testimator extra_tree's best error=0.1516,\tbest estimator lgbm's best error=0.1372\n",
            "[flaml.automl: 02-02 14:26:25] {2449} INFO - iteration 197, current learner extra_tree\n",
            "[flaml.automl: 02-02 14:26:25] {2609} INFO -  at 26.5s,\testimator extra_tree's best error=0.1516,\tbest estimator lgbm's best error=0.1372\n",
            "[flaml.automl: 02-02 14:26:25] {2449} INFO - iteration 198, current learner extra_tree\n",
            "[flaml.automl: 02-02 14:26:25] {2609} INFO -  at 26.7s,\testimator extra_tree's best error=0.1516,\tbest estimator lgbm's best error=0.1372\n",
            "[flaml.automl: 02-02 14:26:25] {2449} INFO - iteration 199, current learner extra_tree\n",
            "[flaml.automl: 02-02 14:26:25] {2609} INFO -  at 26.9s,\testimator extra_tree's best error=0.1516,\tbest estimator lgbm's best error=0.1372\n",
            "[flaml.automl: 02-02 14:26:25] {2449} INFO - iteration 200, current learner lgbm\n",
            "[flaml.automl: 02-02 14:26:25] {2609} INFO -  at 27.0s,\testimator lgbm's best error=0.1372,\tbest estimator lgbm's best error=0.1372\n",
            "[flaml.automl: 02-02 14:26:25] {2449} INFO - iteration 201, current learner lgbm\n",
            "[flaml.automl: 02-02 14:26:25] {2609} INFO -  at 27.0s,\testimator lgbm's best error=0.1372,\tbest estimator lgbm's best error=0.1372\n",
            "[flaml.automl: 02-02 14:26:25] {2449} INFO - iteration 202, current learner lgbm\n",
            "[flaml.automl: 02-02 14:26:25] {2609} INFO -  at 27.1s,\testimator lgbm's best error=0.1372,\tbest estimator lgbm's best error=0.1372\n",
            "[flaml.automl: 02-02 14:26:25] {2449} INFO - iteration 203, current learner extra_tree\n",
            "[flaml.automl: 02-02 14:26:26] {2609} INFO -  at 27.3s,\testimator extra_tree's best error=0.1516,\tbest estimator lgbm's best error=0.1372\n",
            "[flaml.automl: 02-02 14:26:26] {2449} INFO - iteration 204, current learner extra_tree\n",
            "[flaml.automl: 02-02 14:26:26] {2609} INFO -  at 27.5s,\testimator extra_tree's best error=0.1516,\tbest estimator lgbm's best error=0.1372\n",
            "[flaml.automl: 02-02 14:26:26] {2449} INFO - iteration 205, current learner lgbm\n",
            "[flaml.automl: 02-02 14:26:26] {2609} INFO -  at 27.6s,\testimator lgbm's best error=0.1372,\tbest estimator lgbm's best error=0.1372\n",
            "[flaml.automl: 02-02 14:26:26] {2449} INFO - iteration 206, current learner extra_tree\n",
            "[flaml.automl: 02-02 14:26:26] {2609} INFO -  at 27.8s,\testimator extra_tree's best error=0.1516,\tbest estimator lgbm's best error=0.1372\n",
            "[flaml.automl: 02-02 14:26:26] {2449} INFO - iteration 207, current learner lgbm\n",
            "[flaml.automl: 02-02 14:26:26] {2609} INFO -  at 27.9s,\testimator lgbm's best error=0.1372,\tbest estimator lgbm's best error=0.1372\n",
            "[flaml.automl: 02-02 14:26:26] {2449} INFO - iteration 208, current learner lgbm\n",
            "[flaml.automl: 02-02 14:26:26] {2609} INFO -  at 27.9s,\testimator lgbm's best error=0.1372,\tbest estimator lgbm's best error=0.1372\n",
            "[flaml.automl: 02-02 14:26:26] {2449} INFO - iteration 209, current learner lgbm\n",
            "[flaml.automl: 02-02 14:26:26] {2609} INFO -  at 28.0s,\testimator lgbm's best error=0.1372,\tbest estimator lgbm's best error=0.1372\n",
            "[flaml.automl: 02-02 14:26:26] {2449} INFO - iteration 210, current learner lgbm\n",
            "[flaml.automl: 02-02 14:26:26] {2609} INFO -  at 28.1s,\testimator lgbm's best error=0.1372,\tbest estimator lgbm's best error=0.1372\n",
            "[flaml.automl: 02-02 14:26:26] {2449} INFO - iteration 211, current learner lgbm\n",
            "[flaml.automl: 02-02 14:26:27] {2609} INFO -  at 28.2s,\testimator lgbm's best error=0.1372,\tbest estimator lgbm's best error=0.1372\n",
            "[flaml.automl: 02-02 14:26:27] {2449} INFO - iteration 212, current learner extra_tree\n",
            "[flaml.automl: 02-02 14:26:27] {2609} INFO -  at 28.4s,\testimator extra_tree's best error=0.1516,\tbest estimator lgbm's best error=0.1372\n",
            "[flaml.automl: 02-02 14:26:27] {2449} INFO - iteration 213, current learner extra_tree\n",
            "[flaml.automl: 02-02 14:26:27] {2609} INFO -  at 28.6s,\testimator extra_tree's best error=0.1516,\tbest estimator lgbm's best error=0.1372\n",
            "[flaml.automl: 02-02 14:26:27] {2449} INFO - iteration 214, current learner lgbm\n",
            "[flaml.automl: 02-02 14:26:27] {2609} INFO -  at 28.7s,\testimator lgbm's best error=0.1372,\tbest estimator lgbm's best error=0.1372\n",
            "[flaml.automl: 02-02 14:26:27] {2449} INFO - iteration 215, current learner extra_tree\n",
            "[flaml.automl: 02-02 14:26:27] {2609} INFO -  at 28.9s,\testimator extra_tree's best error=0.1516,\tbest estimator lgbm's best error=0.1372\n",
            "[flaml.automl: 02-02 14:26:27] {2449} INFO - iteration 216, current learner lgbm\n",
            "[flaml.automl: 02-02 14:26:27] {2609} INFO -  at 29.0s,\testimator lgbm's best error=0.1372,\tbest estimator lgbm's best error=0.1372\n",
            "[flaml.automl: 02-02 14:26:27] {2449} INFO - iteration 217, current learner lgbm\n",
            "[flaml.automl: 02-02 14:26:27] {2609} INFO -  at 29.1s,\testimator lgbm's best error=0.1372,\tbest estimator lgbm's best error=0.1372\n",
            "[flaml.automl: 02-02 14:26:27] {2449} INFO - iteration 218, current learner lgbm\n",
            "[flaml.automl: 02-02 14:26:27] {2609} INFO -  at 29.1s,\testimator lgbm's best error=0.1372,\tbest estimator lgbm's best error=0.1372\n",
            "[flaml.automl: 02-02 14:26:27] {2449} INFO - iteration 219, current learner lgbm\n",
            "[flaml.automl: 02-02 14:26:28] {2609} INFO -  at 29.3s,\testimator lgbm's best error=0.1372,\tbest estimator lgbm's best error=0.1372\n",
            "[flaml.automl: 02-02 14:26:28] {2449} INFO - iteration 220, current learner lgbm\n",
            "[flaml.automl: 02-02 14:26:28] {2609} INFO -  at 29.3s,\testimator lgbm's best error=0.1372,\tbest estimator lgbm's best error=0.1372\n",
            "[flaml.automl: 02-02 14:26:28] {2449} INFO - iteration 221, current learner extra_tree\n",
            "[flaml.automl: 02-02 14:26:28] {2609} INFO -  at 29.5s,\testimator extra_tree's best error=0.1516,\tbest estimator lgbm's best error=0.1372\n",
            "[flaml.automl: 02-02 14:26:28] {2449} INFO - iteration 222, current learner extra_tree\n",
            "[flaml.automl: 02-02 14:26:28] {2609} INFO -  at 29.8s,\testimator extra_tree's best error=0.1516,\tbest estimator lgbm's best error=0.1372\n",
            "[flaml.automl: 02-02 14:26:28] {2449} INFO - iteration 223, current learner lgbm\n",
            "[flaml.automl: 02-02 14:26:28] {2609} INFO -  at 29.9s,\testimator lgbm's best error=0.1372,\tbest estimator lgbm's best error=0.1372\n",
            "[flaml.automl: 02-02 14:26:28] {2449} INFO - iteration 224, current learner lgbm\n",
            "[flaml.automl: 02-02 14:26:28] {2609} INFO -  at 29.9s,\testimator lgbm's best error=0.1372,\tbest estimator lgbm's best error=0.1372\n",
            "[flaml.automl: 02-02 14:26:28] {2449} INFO - iteration 225, current learner lgbm\n",
            "[flaml.automl: 02-02 14:26:28] {2609} INFO -  at 30.0s,\testimator lgbm's best error=0.1372,\tbest estimator lgbm's best error=0.1372\n",
            "[flaml.automl: 02-02 14:26:28] {2449} INFO - iteration 226, current learner lgbm\n",
            "[flaml.automl: 02-02 14:26:28] {2609} INFO -  at 30.1s,\testimator lgbm's best error=0.1372,\tbest estimator lgbm's best error=0.1372\n",
            "[flaml.automl: 02-02 14:26:28] {2449} INFO - iteration 227, current learner extra_tree\n",
            "[flaml.automl: 02-02 14:26:29] {2609} INFO -  at 30.2s,\testimator extra_tree's best error=0.1516,\tbest estimator lgbm's best error=0.1372\n",
            "[flaml.automl: 02-02 14:26:29] {2449} INFO - iteration 228, current learner lgbm\n",
            "[flaml.automl: 02-02 14:26:29] {2609} INFO -  at 30.3s,\testimator lgbm's best error=0.1372,\tbest estimator lgbm's best error=0.1372\n",
            "[flaml.automl: 02-02 14:26:29] {2449} INFO - iteration 229, current learner extra_tree\n",
            "[flaml.automl: 02-02 14:26:29] {2609} INFO -  at 30.5s,\testimator extra_tree's best error=0.1516,\tbest estimator lgbm's best error=0.1372\n",
            "[flaml.automl: 02-02 14:26:29] {2449} INFO - iteration 230, current learner lgbm\n",
            "[flaml.automl: 02-02 14:26:29] {2609} INFO -  at 30.6s,\testimator lgbm's best error=0.1372,\tbest estimator lgbm's best error=0.1372\n",
            "[flaml.automl: 02-02 14:26:29] {2449} INFO - iteration 231, current learner extra_tree\n",
            "[flaml.automl: 02-02 14:26:29] {2609} INFO -  at 30.8s,\testimator extra_tree's best error=0.1516,\tbest estimator lgbm's best error=0.1372\n",
            "[flaml.automl: 02-02 14:26:29] {2449} INFO - iteration 232, current learner extra_tree\n",
            "[flaml.automl: 02-02 14:26:29] {2609} INFO -  at 31.0s,\testimator extra_tree's best error=0.1516,\tbest estimator lgbm's best error=0.1372\n",
            "[flaml.automl: 02-02 14:26:29] {2449} INFO - iteration 233, current learner extra_tree\n",
            "[flaml.automl: 02-02 14:26:30] {2609} INFO -  at 31.2s,\testimator extra_tree's best error=0.1516,\tbest estimator lgbm's best error=0.1372\n",
            "[flaml.automl: 02-02 14:26:30] {2449} INFO - iteration 234, current learner lgbm\n",
            "[flaml.automl: 02-02 14:26:30] {2609} INFO -  at 31.3s,\testimator lgbm's best error=0.1372,\tbest estimator lgbm's best error=0.1372\n",
            "[flaml.automl: 02-02 14:26:30] {2449} INFO - iteration 235, current learner lgbm\n",
            "[flaml.automl: 02-02 14:26:30] {2609} INFO -  at 31.4s,\testimator lgbm's best error=0.1372,\tbest estimator lgbm's best error=0.1372\n",
            "[flaml.automl: 02-02 14:26:30] {2449} INFO - iteration 236, current learner rf\n",
            "[flaml.automl: 02-02 14:26:30] {2609} INFO -  at 31.6s,\testimator rf's best error=0.1466,\tbest estimator lgbm's best error=0.1372\n",
            "[flaml.automl: 02-02 14:26:30] {2449} INFO - iteration 237, current learner lgbm\n",
            "[flaml.automl: 02-02 14:26:30] {2609} INFO -  at 31.7s,\testimator lgbm's best error=0.1372,\tbest estimator lgbm's best error=0.1372\n",
            "[flaml.automl: 02-02 14:26:30] {2449} INFO - iteration 238, current learner xgb_limitdepth\n",
            "[flaml.automl: 02-02 14:26:30] {2609} INFO -  at 31.9s,\testimator xgb_limitdepth's best error=0.1500,\tbest estimator lgbm's best error=0.1372\n",
            "[flaml.automl: 02-02 14:26:30] {2449} INFO - iteration 239, current learner xgb_limitdepth\n",
            "[flaml.automl: 02-02 14:26:30] {2609} INFO -  at 32.0s,\testimator xgb_limitdepth's best error=0.1500,\tbest estimator lgbm's best error=0.1372\n",
            "[flaml.automl: 02-02 14:26:30] {2449} INFO - iteration 240, current learner xgb_limitdepth\n",
            "[flaml.automl: 02-02 14:26:30] {2609} INFO -  at 32.2s,\testimator xgb_limitdepth's best error=0.1500,\tbest estimator lgbm's best error=0.1372\n",
            "[flaml.automl: 02-02 14:26:30] {2449} INFO - iteration 241, current learner lgbm\n",
            "[flaml.automl: 02-02 14:26:31] {2609} INFO -  at 32.2s,\testimator lgbm's best error=0.1372,\tbest estimator lgbm's best error=0.1372\n",
            "[flaml.automl: 02-02 14:26:31] {2449} INFO - iteration 242, current learner xgb_limitdepth\n",
            "[flaml.automl: 02-02 14:26:31] {2609} INFO -  at 32.4s,\testimator xgb_limitdepth's best error=0.1500,\tbest estimator lgbm's best error=0.1372\n",
            "[flaml.automl: 02-02 14:26:31] {2449} INFO - iteration 243, current learner xgb_limitdepth\n",
            "[flaml.automl: 02-02 14:26:31] {2609} INFO -  at 32.5s,\testimator xgb_limitdepth's best error=0.1500,\tbest estimator lgbm's best error=0.1372\n",
            "[flaml.automl: 02-02 14:26:31] {2449} INFO - iteration 244, current learner xgb_limitdepth\n",
            "[flaml.automl: 02-02 14:26:31] {2609} INFO -  at 32.6s,\testimator xgb_limitdepth's best error=0.1500,\tbest estimator lgbm's best error=0.1372\n",
            "[flaml.automl: 02-02 14:26:31] {2449} INFO - iteration 245, current learner xgb_limitdepth\n",
            "[flaml.automl: 02-02 14:26:31] {2609} INFO -  at 32.8s,\testimator xgb_limitdepth's best error=0.1500,\tbest estimator lgbm's best error=0.1372\n",
            "[flaml.automl: 02-02 14:26:31] {2449} INFO - iteration 246, current learner xgb_limitdepth\n",
            "[flaml.automl: 02-02 14:26:31] {2609} INFO -  at 33.0s,\testimator xgb_limitdepth's best error=0.1500,\tbest estimator lgbm's best error=0.1372\n",
            "[flaml.automl: 02-02 14:26:31] {2449} INFO - iteration 247, current learner xgb_limitdepth\n",
            "[flaml.automl: 02-02 14:26:31] {2609} INFO -  at 33.1s,\testimator xgb_limitdepth's best error=0.1500,\tbest estimator lgbm's best error=0.1372\n",
            "[flaml.automl: 02-02 14:26:31] {2449} INFO - iteration 248, current learner xgb_limitdepth\n",
            "[flaml.automl: 02-02 14:26:32] {2609} INFO -  at 33.2s,\testimator xgb_limitdepth's best error=0.1500,\tbest estimator lgbm's best error=0.1372\n",
            "[flaml.automl: 02-02 14:26:32] {2449} INFO - iteration 249, current learner xgb_limitdepth\n",
            "[flaml.automl: 02-02 14:26:32] {2609} INFO -  at 33.4s,\testimator xgb_limitdepth's best error=0.1500,\tbest estimator lgbm's best error=0.1372\n",
            "[flaml.automl: 02-02 14:26:32] {2449} INFO - iteration 250, current learner xgb_limitdepth\n",
            "[flaml.automl: 02-02 14:26:32] {2609} INFO -  at 33.5s,\testimator xgb_limitdepth's best error=0.1500,\tbest estimator lgbm's best error=0.1372\n",
            "[flaml.automl: 02-02 14:26:32] {2449} INFO - iteration 251, current learner lgbm\n",
            "[flaml.automl: 02-02 14:26:32] {2609} INFO -  at 33.6s,\testimator lgbm's best error=0.1372,\tbest estimator lgbm's best error=0.1372\n",
            "[flaml.automl: 02-02 14:26:32] {2449} INFO - iteration 252, current learner xgb_limitdepth\n",
            "[flaml.automl: 02-02 14:26:32] {2609} INFO -  at 33.8s,\testimator xgb_limitdepth's best error=0.1497,\tbest estimator lgbm's best error=0.1372\n",
            "[flaml.automl: 02-02 14:26:32] {2449} INFO - iteration 253, current learner xgboost\n",
            "[flaml.automl: 02-02 14:26:32] {2609} INFO -  at 33.9s,\testimator xgboost's best error=0.1477,\tbest estimator lgbm's best error=0.1372\n",
            "[flaml.automl: 02-02 14:26:32] {2449} INFO - iteration 254, current learner extra_tree\n",
            "[flaml.automl: 02-02 14:26:33] {2609} INFO -  at 34.2s,\testimator extra_tree's best error=0.1516,\tbest estimator lgbm's best error=0.1372\n",
            "[flaml.automl: 02-02 14:26:33] {2449} INFO - iteration 255, current learner lgbm\n",
            "[flaml.automl: 02-02 14:26:33] {2609} INFO -  at 34.3s,\testimator lgbm's best error=0.1372,\tbest estimator lgbm's best error=0.1372\n",
            "[flaml.automl: 02-02 14:26:33] {2449} INFO - iteration 256, current learner extra_tree\n",
            "[flaml.automl: 02-02 14:26:33] {2609} INFO -  at 34.5s,\testimator extra_tree's best error=0.1516,\tbest estimator lgbm's best error=0.1372\n",
            "[flaml.automl: 02-02 14:26:33] {2449} INFO - iteration 257, current learner lgbm\n",
            "[flaml.automl: 02-02 14:26:33] {2609} INFO -  at 34.6s,\testimator lgbm's best error=0.1331,\tbest estimator lgbm's best error=0.1331\n",
            "[flaml.automl: 02-02 14:26:33] {2449} INFO - iteration 258, current learner extra_tree\n",
            "[flaml.automl: 02-02 14:26:33] {2609} INFO -  at 34.7s,\testimator extra_tree's best error=0.1516,\tbest estimator lgbm's best error=0.1331\n",
            "[flaml.automl: 02-02 14:26:33] {2449} INFO - iteration 259, current learner lgbm\n",
            "[flaml.automl: 02-02 14:26:33] {2609} INFO -  at 34.8s,\testimator lgbm's best error=0.1331,\tbest estimator lgbm's best error=0.1331\n",
            "[flaml.automl: 02-02 14:26:33] {2449} INFO - iteration 260, current learner rf\n",
            "[flaml.automl: 02-02 14:26:33] {2609} INFO -  at 35.1s,\testimator rf's best error=0.1466,\tbest estimator lgbm's best error=0.1331\n",
            "[flaml.automl: 02-02 14:26:33] {2449} INFO - iteration 261, current learner lgbm\n",
            "[flaml.automl: 02-02 14:26:34] {2609} INFO -  at 35.2s,\testimator lgbm's best error=0.1331,\tbest estimator lgbm's best error=0.1331\n",
            "[flaml.automl: 02-02 14:26:34] {2449} INFO - iteration 262, current learner lgbm\n",
            "[flaml.automl: 02-02 14:26:34] {2609} INFO -  at 35.3s,\testimator lgbm's best error=0.1331,\tbest estimator lgbm's best error=0.1331\n",
            "[flaml.automl: 02-02 14:26:34] {2449} INFO - iteration 263, current learner lgbm\n",
            "[flaml.automl: 02-02 14:26:34] {2609} INFO -  at 35.4s,\testimator lgbm's best error=0.1331,\tbest estimator lgbm's best error=0.1331\n",
            "[flaml.automl: 02-02 14:26:34] {2449} INFO - iteration 264, current learner lgbm\n",
            "[flaml.automl: 02-02 14:26:34] {2609} INFO -  at 35.6s,\testimator lgbm's best error=0.1331,\tbest estimator lgbm's best error=0.1331\n",
            "[flaml.automl: 02-02 14:26:34] {2449} INFO - iteration 265, current learner xgboost\n",
            "[flaml.automl: 02-02 14:26:34] {2609} INFO -  at 35.7s,\testimator xgboost's best error=0.1477,\tbest estimator lgbm's best error=0.1331\n",
            "[flaml.automl: 02-02 14:26:34] {2449} INFO - iteration 266, current learner extra_tree\n",
            "[flaml.automl: 02-02 14:26:34] {2609} INFO -  at 35.9s,\testimator extra_tree's best error=0.1516,\tbest estimator lgbm's best error=0.1331\n",
            "[flaml.automl: 02-02 14:26:34] {2449} INFO - iteration 267, current learner xgboost\n",
            "[flaml.automl: 02-02 14:26:35] {2609} INFO -  at 36.2s,\testimator xgboost's best error=0.1477,\tbest estimator lgbm's best error=0.1331\n",
            "[flaml.automl: 02-02 14:26:35] {2449} INFO - iteration 268, current learner lgbm\n",
            "[flaml.automl: 02-02 14:26:35] {2609} INFO -  at 36.3s,\testimator lgbm's best error=0.1331,\tbest estimator lgbm's best error=0.1331\n",
            "[flaml.automl: 02-02 14:26:35] {2449} INFO - iteration 269, current learner extra_tree\n",
            "[flaml.automl: 02-02 14:26:35] {2609} INFO -  at 36.5s,\testimator extra_tree's best error=0.1516,\tbest estimator lgbm's best error=0.1331\n",
            "[flaml.automl: 02-02 14:26:35] {2449} INFO - iteration 270, current learner lgbm\n",
            "[flaml.automl: 02-02 14:26:35] {2609} INFO -  at 36.6s,\testimator lgbm's best error=0.1331,\tbest estimator lgbm's best error=0.1331\n",
            "[flaml.automl: 02-02 14:26:35] {2449} INFO - iteration 271, current learner lgbm\n",
            "[flaml.automl: 02-02 14:26:35] {2609} INFO -  at 36.7s,\testimator lgbm's best error=0.1331,\tbest estimator lgbm's best error=0.1331\n",
            "[flaml.automl: 02-02 14:26:35] {2449} INFO - iteration 272, current learner lgbm\n",
            "[flaml.automl: 02-02 14:26:35] {2609} INFO -  at 36.9s,\testimator lgbm's best error=0.1331,\tbest estimator lgbm's best error=0.1331\n",
            "[flaml.automl: 02-02 14:26:35] {2449} INFO - iteration 273, current learner lgbm\n",
            "[flaml.automl: 02-02 14:26:35] {2609} INFO -  at 37.0s,\testimator lgbm's best error=0.1331,\tbest estimator lgbm's best error=0.1331\n",
            "[flaml.automl: 02-02 14:26:35] {2449} INFO - iteration 274, current learner lgbm\n",
            "[flaml.automl: 02-02 14:26:35] {2609} INFO -  at 37.1s,\testimator lgbm's best error=0.1331,\tbest estimator lgbm's best error=0.1331\n",
            "[flaml.automl: 02-02 14:26:35] {2449} INFO - iteration 275, current learner lgbm\n",
            "[flaml.automl: 02-02 14:26:36] {2609} INFO -  at 37.2s,\testimator lgbm's best error=0.1331,\tbest estimator lgbm's best error=0.1331\n",
            "[flaml.automl: 02-02 14:26:36] {2449} INFO - iteration 276, current learner lgbm\n",
            "[flaml.automl: 02-02 14:26:36] {2609} INFO -  at 37.3s,\testimator lgbm's best error=0.1331,\tbest estimator lgbm's best error=0.1331\n",
            "[flaml.automl: 02-02 14:26:36] {2449} INFO - iteration 277, current learner lgbm\n",
            "[flaml.automl: 02-02 14:26:36] {2609} INFO -  at 37.4s,\testimator lgbm's best error=0.1331,\tbest estimator lgbm's best error=0.1331\n",
            "[flaml.automl: 02-02 14:26:36] {2449} INFO - iteration 278, current learner lgbm\n",
            "[flaml.automl: 02-02 14:26:36] {2609} INFO -  at 37.5s,\testimator lgbm's best error=0.1331,\tbest estimator lgbm's best error=0.1331\n",
            "[flaml.automl: 02-02 14:26:36] {2449} INFO - iteration 279, current learner extra_tree\n",
            "[flaml.automl: 02-02 14:26:36] {2609} INFO -  at 37.8s,\testimator extra_tree's best error=0.1516,\tbest estimator lgbm's best error=0.1331\n",
            "[flaml.automl: 02-02 14:26:36] {2449} INFO - iteration 280, current learner lgbm\n",
            "[flaml.automl: 02-02 14:26:36] {2609} INFO -  at 37.8s,\testimator lgbm's best error=0.1331,\tbest estimator lgbm's best error=0.1331\n",
            "[flaml.automl: 02-02 14:26:36] {2449} INFO - iteration 281, current learner lgbm\n",
            "[flaml.automl: 02-02 14:26:36] {2609} INFO -  at 37.9s,\testimator lgbm's best error=0.1331,\tbest estimator lgbm's best error=0.1331\n",
            "[flaml.automl: 02-02 14:26:36] {2449} INFO - iteration 282, current learner lgbm\n",
            "[flaml.automl: 02-02 14:26:36] {2609} INFO -  at 38.0s,\testimator lgbm's best error=0.1331,\tbest estimator lgbm's best error=0.1331\n",
            "[flaml.automl: 02-02 14:26:36] {2449} INFO - iteration 283, current learner lgbm\n",
            "[flaml.automl: 02-02 14:26:36] {2609} INFO -  at 38.1s,\testimator lgbm's best error=0.1331,\tbest estimator lgbm's best error=0.1331\n",
            "[flaml.automl: 02-02 14:26:36] {2449} INFO - iteration 284, current learner xgboost\n",
            "[flaml.automl: 02-02 14:26:37] {2609} INFO -  at 38.3s,\testimator xgboost's best error=0.1477,\tbest estimator lgbm's best error=0.1331\n",
            "[flaml.automl: 02-02 14:26:37] {2449} INFO - iteration 285, current learner extra_tree\n",
            "[flaml.automl: 02-02 14:26:37] {2609} INFO -  at 38.5s,\testimator extra_tree's best error=0.1516,\tbest estimator lgbm's best error=0.1331\n",
            "[flaml.automl: 02-02 14:26:37] {2449} INFO - iteration 286, current learner extra_tree\n",
            "[flaml.automl: 02-02 14:26:37] {2609} INFO -  at 38.7s,\testimator extra_tree's best error=0.1516,\tbest estimator lgbm's best error=0.1331\n",
            "[flaml.automl: 02-02 14:26:37] {2449} INFO - iteration 287, current learner lgbm\n",
            "[flaml.automl: 02-02 14:26:37] {2609} INFO -  at 38.8s,\testimator lgbm's best error=0.1331,\tbest estimator lgbm's best error=0.1331\n",
            "[flaml.automl: 02-02 14:26:37] {2449} INFO - iteration 288, current learner lgbm\n",
            "[flaml.automl: 02-02 14:26:37] {2609} INFO -  at 38.9s,\testimator lgbm's best error=0.1331,\tbest estimator lgbm's best error=0.1331\n",
            "[flaml.automl: 02-02 14:26:37] {2449} INFO - iteration 289, current learner lgbm\n",
            "[flaml.automl: 02-02 14:26:37] {2609} INFO -  at 39.1s,\testimator lgbm's best error=0.1331,\tbest estimator lgbm's best error=0.1331\n",
            "[flaml.automl: 02-02 14:26:37] {2449} INFO - iteration 290, current learner rf\n",
            "[flaml.automl: 02-02 14:26:38] {2609} INFO -  at 39.4s,\testimator rf's best error=0.1466,\tbest estimator lgbm's best error=0.1331\n",
            "[flaml.automl: 02-02 14:26:38] {2449} INFO - iteration 291, current learner lgbm\n",
            "[flaml.automl: 02-02 14:26:38] {2609} INFO -  at 39.5s,\testimator lgbm's best error=0.1331,\tbest estimator lgbm's best error=0.1331\n",
            "[flaml.automl: 02-02 14:26:38] {2449} INFO - iteration 292, current learner xgboost\n",
            "[flaml.automl: 02-02 14:26:38] {2609} INFO -  at 39.7s,\testimator xgboost's best error=0.1455,\tbest estimator lgbm's best error=0.1331\n",
            "[flaml.automl: 02-02 14:26:38] {2449} INFO - iteration 293, current learner lgbm\n",
            "[flaml.automl: 02-02 14:26:38] {2609} INFO -  at 39.8s,\testimator lgbm's best error=0.1331,\tbest estimator lgbm's best error=0.1331\n",
            "[flaml.automl: 02-02 14:26:38] {2449} INFO - iteration 294, current learner xgboost\n",
            "[flaml.automl: 02-02 14:26:38] {2609} INFO -  at 40.0s,\testimator xgboost's best error=0.1455,\tbest estimator lgbm's best error=0.1331\n",
            "[flaml.automl: 02-02 14:26:38] {2449} INFO - iteration 295, current learner lgbm\n",
            "[flaml.automl: 02-02 14:26:38] {2609} INFO -  at 40.1s,\testimator lgbm's best error=0.1331,\tbest estimator lgbm's best error=0.1331\n",
            "[flaml.automl: 02-02 14:26:38] {2449} INFO - iteration 296, current learner xgboost\n",
            "[flaml.automl: 02-02 14:26:39] {2609} INFO -  at 40.3s,\testimator xgboost's best error=0.1455,\tbest estimator lgbm's best error=0.1331\n",
            "[flaml.automl: 02-02 14:26:39] {2449} INFO - iteration 297, current learner lgbm\n",
            "[flaml.automl: 02-02 14:26:39] {2609} INFO -  at 40.4s,\testimator lgbm's best error=0.1331,\tbest estimator lgbm's best error=0.1331\n",
            "[flaml.automl: 02-02 14:26:39] {2449} INFO - iteration 298, current learner lgbm\n",
            "[flaml.automl: 02-02 14:26:39] {2609} INFO -  at 40.5s,\testimator lgbm's best error=0.1331,\tbest estimator lgbm's best error=0.1331\n",
            "[flaml.automl: 02-02 14:26:39] {2449} INFO - iteration 299, current learner lgbm\n",
            "[flaml.automl: 02-02 14:26:39] {2609} INFO -  at 40.6s,\testimator lgbm's best error=0.1331,\tbest estimator lgbm's best error=0.1331\n",
            "[flaml.automl: 02-02 14:26:39] {2449} INFO - iteration 300, current learner lgbm\n",
            "[flaml.automl: 02-02 14:26:39] {2609} INFO -  at 40.6s,\testimator lgbm's best error=0.1331,\tbest estimator lgbm's best error=0.1331\n",
            "[flaml.automl: 02-02 14:26:39] {2449} INFO - iteration 301, current learner lgbm\n",
            "[flaml.automl: 02-02 14:26:39] {2609} INFO -  at 40.8s,\testimator lgbm's best error=0.1331,\tbest estimator lgbm's best error=0.1331\n",
            "[flaml.automl: 02-02 14:26:39] {2449} INFO - iteration 302, current learner lgbm\n",
            "[flaml.automl: 02-02 14:26:39] {2609} INFO -  at 40.9s,\testimator lgbm's best error=0.1331,\tbest estimator lgbm's best error=0.1331\n",
            "[flaml.automl: 02-02 14:26:39] {2449} INFO - iteration 303, current learner extra_tree\n",
            "[flaml.automl: 02-02 14:26:39] {2609} INFO -  at 41.1s,\testimator extra_tree's best error=0.1516,\tbest estimator lgbm's best error=0.1331\n",
            "[flaml.automl: 02-02 14:26:39] {2449} INFO - iteration 304, current learner lgbm\n",
            "[flaml.automl: 02-02 14:26:40] {2609} INFO -  at 41.2s,\testimator lgbm's best error=0.1331,\tbest estimator lgbm's best error=0.1331\n",
            "[flaml.automl: 02-02 14:26:40] {2449} INFO - iteration 305, current learner xgboost\n",
            "[flaml.automl: 02-02 14:26:40] {2609} INFO -  at 41.6s,\testimator xgboost's best error=0.1455,\tbest estimator lgbm's best error=0.1331\n",
            "[flaml.automl: 02-02 14:26:40] {2449} INFO - iteration 306, current learner rf\n",
            "[flaml.automl: 02-02 14:26:40] {2609} INFO -  at 41.8s,\testimator rf's best error=0.1466,\tbest estimator lgbm's best error=0.1331\n",
            "[flaml.automl: 02-02 14:26:40] {2449} INFO - iteration 307, current learner lgbm\n",
            "[flaml.automl: 02-02 14:26:40] {2609} INFO -  at 41.9s,\testimator lgbm's best error=0.1331,\tbest estimator lgbm's best error=0.1331\n",
            "[flaml.automl: 02-02 14:26:40] {2449} INFO - iteration 308, current learner lgbm\n",
            "[flaml.automl: 02-02 14:26:40] {2609} INFO -  at 42.0s,\testimator lgbm's best error=0.1331,\tbest estimator lgbm's best error=0.1331\n",
            "[flaml.automl: 02-02 14:26:40] {2449} INFO - iteration 309, current learner lgbm\n",
            "[flaml.automl: 02-02 14:26:41] {2609} INFO -  at 42.2s,\testimator lgbm's best error=0.1331,\tbest estimator lgbm's best error=0.1331\n",
            "[flaml.automl: 02-02 14:26:41] {2449} INFO - iteration 310, current learner lgbm\n",
            "[flaml.automl: 02-02 14:26:41] {2609} INFO -  at 42.3s,\testimator lgbm's best error=0.1331,\tbest estimator lgbm's best error=0.1331\n",
            "[flaml.automl: 02-02 14:26:41] {2449} INFO - iteration 311, current learner lgbm\n",
            "[flaml.automl: 02-02 14:26:41] {2609} INFO -  at 42.4s,\testimator lgbm's best error=0.1331,\tbest estimator lgbm's best error=0.1331\n",
            "[flaml.automl: 02-02 14:26:41] {2449} INFO - iteration 312, current learner lgbm\n",
            "[flaml.automl: 02-02 14:26:41] {2609} INFO -  at 42.5s,\testimator lgbm's best error=0.1331,\tbest estimator lgbm's best error=0.1331\n",
            "[flaml.automl: 02-02 14:26:41] {2449} INFO - iteration 313, current learner lgbm\n",
            "[flaml.automl: 02-02 14:26:41] {2609} INFO -  at 42.6s,\testimator lgbm's best error=0.1331,\tbest estimator lgbm's best error=0.1331\n",
            "[flaml.automl: 02-02 14:26:41] {2449} INFO - iteration 314, current learner lgbm\n",
            "[flaml.automl: 02-02 14:26:41] {2609} INFO -  at 42.7s,\testimator lgbm's best error=0.1331,\tbest estimator lgbm's best error=0.1331\n",
            "[flaml.automl: 02-02 14:26:41] {2449} INFO - iteration 315, current learner extra_tree\n",
            "[flaml.automl: 02-02 14:26:41] {2609} INFO -  at 42.9s,\testimator extra_tree's best error=0.1516,\tbest estimator lgbm's best error=0.1331\n",
            "[flaml.automl: 02-02 14:26:41] {2449} INFO - iteration 316, current learner extra_tree\n",
            "[flaml.automl: 02-02 14:26:41] {2609} INFO -  at 43.0s,\testimator extra_tree's best error=0.1516,\tbest estimator lgbm's best error=0.1331\n",
            "[flaml.automl: 02-02 14:26:41] {2449} INFO - iteration 317, current learner lgbm\n",
            "[flaml.automl: 02-02 14:26:41] {2609} INFO -  at 43.1s,\testimator lgbm's best error=0.1331,\tbest estimator lgbm's best error=0.1331\n",
            "[flaml.automl: 02-02 14:26:41] {2449} INFO - iteration 318, current learner lgbm\n",
            "[flaml.automl: 02-02 14:26:42] {2609} INFO -  at 43.2s,\testimator lgbm's best error=0.1331,\tbest estimator lgbm's best error=0.1331\n",
            "[flaml.automl: 02-02 14:26:42] {2449} INFO - iteration 319, current learner lgbm\n",
            "[flaml.automl: 02-02 14:26:42] {2609} INFO -  at 43.3s,\testimator lgbm's best error=0.1331,\tbest estimator lgbm's best error=0.1331\n",
            "[flaml.automl: 02-02 14:26:42] {2449} INFO - iteration 320, current learner lgbm\n",
            "[flaml.automl: 02-02 14:26:42] {2609} INFO -  at 43.5s,\testimator lgbm's best error=0.1331,\tbest estimator lgbm's best error=0.1331\n",
            "[flaml.automl: 02-02 14:26:42] {2449} INFO - iteration 321, current learner xgboost\n",
            "[flaml.automl: 02-02 14:26:42] {2609} INFO -  at 43.6s,\testimator xgboost's best error=0.1455,\tbest estimator lgbm's best error=0.1331\n",
            "[flaml.automl: 02-02 14:26:42] {2449} INFO - iteration 322, current learner lgbm\n",
            "[flaml.automl: 02-02 14:26:42] {2609} INFO -  at 43.8s,\testimator lgbm's best error=0.1331,\tbest estimator lgbm's best error=0.1331\n",
            "[flaml.automl: 02-02 14:26:42] {2449} INFO - iteration 323, current learner lgbm\n",
            "[flaml.automl: 02-02 14:26:42] {2609} INFO -  at 43.8s,\testimator lgbm's best error=0.1331,\tbest estimator lgbm's best error=0.1331\n",
            "[flaml.automl: 02-02 14:26:42] {2449} INFO - iteration 324, current learner xgb_limitdepth\n",
            "[flaml.automl: 02-02 14:26:42] {2609} INFO -  at 44.0s,\testimator xgb_limitdepth's best error=0.1497,\tbest estimator lgbm's best error=0.1331\n",
            "[flaml.automl: 02-02 14:26:42] {2449} INFO - iteration 325, current learner lgbm\n",
            "[flaml.automl: 02-02 14:26:42] {2609} INFO -  at 44.2s,\testimator lgbm's best error=0.1331,\tbest estimator lgbm's best error=0.1331\n",
            "[flaml.automl: 02-02 14:26:42] {2449} INFO - iteration 326, current learner lgbm\n",
            "[flaml.automl: 02-02 14:26:43] {2609} INFO -  at 44.2s,\testimator lgbm's best error=0.1331,\tbest estimator lgbm's best error=0.1331\n",
            "[flaml.automl: 02-02 14:26:43] {2449} INFO - iteration 327, current learner lgbm\n",
            "[flaml.automl: 02-02 14:26:43] {2609} INFO -  at 44.3s,\testimator lgbm's best error=0.1331,\tbest estimator lgbm's best error=0.1331\n",
            "[flaml.automl: 02-02 14:26:43] {2449} INFO - iteration 328, current learner lgbm\n",
            "[flaml.automl: 02-02 14:26:43] {2609} INFO -  at 44.4s,\testimator lgbm's best error=0.1331,\tbest estimator lgbm's best error=0.1331\n",
            "[flaml.automl: 02-02 14:26:43] {2449} INFO - iteration 329, current learner lgbm\n",
            "[flaml.automl: 02-02 14:26:43] {2609} INFO -  at 44.6s,\testimator lgbm's best error=0.1331,\tbest estimator lgbm's best error=0.1331\n",
            "[flaml.automl: 02-02 14:26:43] {2449} INFO - iteration 330, current learner lgbm\n",
            "[flaml.automl: 02-02 14:26:43] {2609} INFO -  at 44.7s,\testimator lgbm's best error=0.1331,\tbest estimator lgbm's best error=0.1331\n",
            "[flaml.automl: 02-02 14:26:43] {2449} INFO - iteration 331, current learner lgbm\n",
            "[flaml.automl: 02-02 14:26:43] {2609} INFO -  at 44.7s,\testimator lgbm's best error=0.1331,\tbest estimator lgbm's best error=0.1331\n",
            "[flaml.automl: 02-02 14:26:43] {2449} INFO - iteration 332, current learner lgbm\n",
            "[flaml.automl: 02-02 14:26:43] {2609} INFO -  at 44.9s,\testimator lgbm's best error=0.1331,\tbest estimator lgbm's best error=0.1331\n",
            "[flaml.automl: 02-02 14:26:43] {2449} INFO - iteration 333, current learner lgbm\n",
            "[flaml.automl: 02-02 14:26:43] {2609} INFO -  at 44.9s,\testimator lgbm's best error=0.1331,\tbest estimator lgbm's best error=0.1331\n",
            "[flaml.automl: 02-02 14:26:43] {2449} INFO - iteration 334, current learner lgbm\n",
            "[flaml.automl: 02-02 14:26:43] {2609} INFO -  at 45.0s,\testimator lgbm's best error=0.1331,\tbest estimator lgbm's best error=0.1331\n",
            "[flaml.automl: 02-02 14:26:43] {2449} INFO - iteration 335, current learner lgbm\n",
            "[flaml.automl: 02-02 14:26:43] {2609} INFO -  at 45.1s,\testimator lgbm's best error=0.1331,\tbest estimator lgbm's best error=0.1331\n",
            "[flaml.automl: 02-02 14:26:43] {2449} INFO - iteration 336, current learner xgboost\n",
            "[flaml.automl: 02-02 14:26:44] {2609} INFO -  at 45.3s,\testimator xgboost's best error=0.1455,\tbest estimator lgbm's best error=0.1331\n",
            "[flaml.automl: 02-02 14:26:44] {2449} INFO - iteration 337, current learner lgbm\n",
            "[flaml.automl: 02-02 14:26:44] {2609} INFO -  at 45.4s,\testimator lgbm's best error=0.1331,\tbest estimator lgbm's best error=0.1331\n",
            "[flaml.automl: 02-02 14:26:44] {2449} INFO - iteration 338, current learner lgbm\n",
            "[flaml.automl: 02-02 14:26:44] {2609} INFO -  at 45.5s,\testimator lgbm's best error=0.1331,\tbest estimator lgbm's best error=0.1331\n",
            "[flaml.automl: 02-02 14:26:44] {2449} INFO - iteration 339, current learner xgboost\n",
            "[flaml.automl: 02-02 14:26:44] {2609} INFO -  at 45.7s,\testimator xgboost's best error=0.1455,\tbest estimator lgbm's best error=0.1331\n",
            "[flaml.automl: 02-02 14:26:44] {2449} INFO - iteration 340, current learner lgbm\n",
            "[flaml.automl: 02-02 14:26:44] {2609} INFO -  at 45.8s,\testimator lgbm's best error=0.1331,\tbest estimator lgbm's best error=0.1331\n",
            "[flaml.automl: 02-02 14:26:44] {2449} INFO - iteration 341, current learner lgbm\n",
            "[flaml.automl: 02-02 14:26:44] {2609} INFO -  at 45.9s,\testimator lgbm's best error=0.1331,\tbest estimator lgbm's best error=0.1331\n",
            "[flaml.automl: 02-02 14:26:44] {2449} INFO - iteration 342, current learner rf\n",
            "[flaml.automl: 02-02 14:26:45] {2609} INFO -  at 46.2s,\testimator rf's best error=0.1466,\tbest estimator lgbm's best error=0.1331\n",
            "[flaml.automl: 02-02 14:26:45] {2449} INFO - iteration 343, current learner rf\n",
            "[flaml.automl: 02-02 14:26:45] {2609} INFO -  at 46.5s,\testimator rf's best error=0.1466,\tbest estimator lgbm's best error=0.1331\n",
            "[flaml.automl: 02-02 14:26:45] {2449} INFO - iteration 344, current learner lgbm\n",
            "[flaml.automl: 02-02 14:26:45] {2609} INFO -  at 46.6s,\testimator lgbm's best error=0.1331,\tbest estimator lgbm's best error=0.1331\n",
            "[flaml.automl: 02-02 14:26:45] {2449} INFO - iteration 345, current learner rf\n",
            "[flaml.automl: 02-02 14:26:45] {2609} INFO -  at 46.9s,\testimator rf's best error=0.1466,\tbest estimator lgbm's best error=0.1331\n",
            "[flaml.automl: 02-02 14:26:45] {2449} INFO - iteration 346, current learner extra_tree\n",
            "[flaml.automl: 02-02 14:26:45] {2609} INFO -  at 47.1s,\testimator extra_tree's best error=0.1516,\tbest estimator lgbm's best error=0.1331\n",
            "[flaml.automl: 02-02 14:26:45] {2449} INFO - iteration 347, current learner xgb_limitdepth\n",
            "[flaml.automl: 02-02 14:26:46] {2609} INFO -  at 47.3s,\testimator xgb_limitdepth's best error=0.1472,\tbest estimator lgbm's best error=0.1331\n",
            "[flaml.automl: 02-02 14:26:46] {2449} INFO - iteration 348, current learner xgb_limitdepth\n",
            "[flaml.automl: 02-02 14:26:46] {2609} INFO -  at 47.5s,\testimator xgb_limitdepth's best error=0.1472,\tbest estimator lgbm's best error=0.1331\n",
            "[flaml.automl: 02-02 14:26:46] {2449} INFO - iteration 349, current learner lgbm\n",
            "[flaml.automl: 02-02 14:26:46] {2609} INFO -  at 47.6s,\testimator lgbm's best error=0.1331,\tbest estimator lgbm's best error=0.1331\n",
            "[flaml.automl: 02-02 14:26:46] {2449} INFO - iteration 350, current learner xgb_limitdepth\n",
            "[flaml.automl: 02-02 14:26:46] {2609} INFO -  at 47.8s,\testimator xgb_limitdepth's best error=0.1436,\tbest estimator lgbm's best error=0.1331\n",
            "[flaml.automl: 02-02 14:26:46] {2449} INFO - iteration 351, current learner xgb_limitdepth\n",
            "[flaml.automl: 02-02 14:26:46] {2609} INFO -  at 48.0s,\testimator xgb_limitdepth's best error=0.1416,\tbest estimator lgbm's best error=0.1331\n",
            "[flaml.automl: 02-02 14:26:46] {2449} INFO - iteration 352, current learner xgb_limitdepth\n",
            "[flaml.automl: 02-02 14:26:47] {2609} INFO -  at 48.3s,\testimator xgb_limitdepth's best error=0.1416,\tbest estimator lgbm's best error=0.1331\n",
            "[flaml.automl: 02-02 14:26:47] {2449} INFO - iteration 353, current learner xgb_limitdepth\n",
            "[flaml.automl: 02-02 14:26:47] {2609} INFO -  at 48.4s,\testimator xgb_limitdepth's best error=0.1416,\tbest estimator lgbm's best error=0.1331\n",
            "[flaml.automl: 02-02 14:26:47] {2449} INFO - iteration 354, current learner lgbm\n",
            "[flaml.automl: 02-02 14:26:47] {2609} INFO -  at 48.5s,\testimator lgbm's best error=0.1331,\tbest estimator lgbm's best error=0.1331\n",
            "[flaml.automl: 02-02 14:26:47] {2449} INFO - iteration 355, current learner xgb_limitdepth\n",
            "[flaml.automl: 02-02 14:26:47] {2609} INFO -  at 48.8s,\testimator xgb_limitdepth's best error=0.1416,\tbest estimator lgbm's best error=0.1331\n",
            "[flaml.automl: 02-02 14:26:47] {2449} INFO - iteration 356, current learner xgb_limitdepth\n",
            "[flaml.automl: 02-02 14:26:47] {2609} INFO -  at 49.0s,\testimator xgb_limitdepth's best error=0.1416,\tbest estimator lgbm's best error=0.1331\n",
            "[flaml.automl: 02-02 14:26:47] {2449} INFO - iteration 357, current learner lgbm\n",
            "[flaml.automl: 02-02 14:26:47] {2609} INFO -  at 49.2s,\testimator lgbm's best error=0.1331,\tbest estimator lgbm's best error=0.1331\n",
            "[flaml.automl: 02-02 14:26:47] {2449} INFO - iteration 358, current learner lgbm\n",
            "[flaml.automl: 02-02 14:26:48] {2609} INFO -  at 49.2s,\testimator lgbm's best error=0.1331,\tbest estimator lgbm's best error=0.1331\n",
            "[flaml.automl: 02-02 14:26:48] {2449} INFO - iteration 359, current learner xgb_limitdepth\n",
            "[flaml.automl: 02-02 14:26:48] {2609} INFO -  at 49.5s,\testimator xgb_limitdepth's best error=0.1416,\tbest estimator lgbm's best error=0.1331\n",
            "[flaml.automl: 02-02 14:26:48] {2449} INFO - iteration 360, current learner lgbm\n",
            "[flaml.automl: 02-02 14:26:48] {2609} INFO -  at 49.5s,\testimator lgbm's best error=0.1331,\tbest estimator lgbm's best error=0.1331\n",
            "[flaml.automl: 02-02 14:26:48] {2449} INFO - iteration 361, current learner xgb_limitdepth\n",
            "[flaml.automl: 02-02 14:26:48] {2609} INFO -  at 49.7s,\testimator xgb_limitdepth's best error=0.1416,\tbest estimator lgbm's best error=0.1331\n",
            "[flaml.automl: 02-02 14:26:48] {2449} INFO - iteration 362, current learner lgbm\n",
            "[flaml.automl: 02-02 14:26:48] {2609} INFO -  at 49.9s,\testimator lgbm's best error=0.1331,\tbest estimator lgbm's best error=0.1331\n",
            "[flaml.automl: 02-02 14:26:48] {2449} INFO - iteration 363, current learner xgb_limitdepth\n",
            "[flaml.automl: 02-02 14:26:48] {2609} INFO -  at 50.1s,\testimator xgb_limitdepth's best error=0.1416,\tbest estimator lgbm's best error=0.1331\n",
            "[flaml.automl: 02-02 14:26:48] {2449} INFO - iteration 364, current learner extra_tree\n",
            "[flaml.automl: 02-02 14:26:49] {2609} INFO -  at 50.3s,\testimator extra_tree's best error=0.1516,\tbest estimator lgbm's best error=0.1331\n",
            "[flaml.automl: 02-02 14:26:49] {2449} INFO - iteration 365, current learner lgbm\n",
            "[flaml.automl: 02-02 14:26:49] {2609} INFO -  at 50.4s,\testimator lgbm's best error=0.1331,\tbest estimator lgbm's best error=0.1331\n",
            "[flaml.automl: 02-02 14:26:49] {2449} INFO - iteration 366, current learner lgbm\n",
            "[flaml.automl: 02-02 14:26:49] {2609} INFO -  at 50.5s,\testimator lgbm's best error=0.1331,\tbest estimator lgbm's best error=0.1331\n",
            "[flaml.automl: 02-02 14:26:49] {2449} INFO - iteration 367, current learner rf\n",
            "[flaml.automl: 02-02 14:26:49] {2609} INFO -  at 50.8s,\testimator rf's best error=0.1466,\tbest estimator lgbm's best error=0.1331\n",
            "[flaml.automl: 02-02 14:26:49] {2449} INFO - iteration 368, current learner xgboost\n",
            "[flaml.automl: 02-02 14:26:49] {2609} INFO -  at 51.0s,\testimator xgboost's best error=0.1455,\tbest estimator lgbm's best error=0.1331\n",
            "[flaml.automl: 02-02 14:26:49] {2449} INFO - iteration 369, current learner extra_tree\n",
            "[flaml.automl: 02-02 14:26:50] {2609} INFO -  at 51.2s,\testimator extra_tree's best error=0.1516,\tbest estimator lgbm's best error=0.1331\n",
            "[flaml.automl: 02-02 14:26:50] {2449} INFO - iteration 370, current learner xgb_limitdepth\n",
            "[flaml.automl: 02-02 14:26:50] {2609} INFO -  at 51.3s,\testimator xgb_limitdepth's best error=0.1416,\tbest estimator lgbm's best error=0.1331\n",
            "[flaml.automl: 02-02 14:26:50] {2449} INFO - iteration 371, current learner extra_tree\n",
            "[flaml.automl: 02-02 14:26:50] {2609} INFO -  at 51.6s,\testimator extra_tree's best error=0.1516,\tbest estimator lgbm's best error=0.1331\n",
            "[flaml.automl: 02-02 14:26:50] {2449} INFO - iteration 372, current learner xgboost\n",
            "[flaml.automl: 02-02 14:26:50] {2609} INFO -  at 51.7s,\testimator xgboost's best error=0.1455,\tbest estimator lgbm's best error=0.1331\n",
            "[flaml.automl: 02-02 14:26:50] {2449} INFO - iteration 373, current learner xgboost\n",
            "[flaml.automl: 02-02 14:26:50] {2609} INFO -  at 51.8s,\testimator xgboost's best error=0.1455,\tbest estimator lgbm's best error=0.1331\n",
            "[flaml.automl: 02-02 14:26:50] {2449} INFO - iteration 374, current learner lgbm\n",
            "[flaml.automl: 02-02 14:26:50] {2609} INFO -  at 51.9s,\testimator lgbm's best error=0.1331,\tbest estimator lgbm's best error=0.1331\n",
            "[flaml.automl: 02-02 14:26:50] {2449} INFO - iteration 375, current learner lgbm\n",
            "[flaml.automl: 02-02 14:26:50] {2609} INFO -  at 52.0s,\testimator lgbm's best error=0.1331,\tbest estimator lgbm's best error=0.1331\n",
            "[flaml.automl: 02-02 14:26:50] {2449} INFO - iteration 376, current learner lgbm\n",
            "[flaml.automl: 02-02 14:26:50] {2609} INFO -  at 52.1s,\testimator lgbm's best error=0.1331,\tbest estimator lgbm's best error=0.1331\n",
            "[flaml.automl: 02-02 14:26:50] {2449} INFO - iteration 377, current learner lgbm\n",
            "[flaml.automl: 02-02 14:26:51] {2609} INFO -  at 52.2s,\testimator lgbm's best error=0.1331,\tbest estimator lgbm's best error=0.1331\n",
            "[flaml.automl: 02-02 14:26:51] {2449} INFO - iteration 378, current learner xgb_limitdepth\n",
            "[flaml.automl: 02-02 14:26:51] {2609} INFO -  at 52.5s,\testimator xgb_limitdepth's best error=0.1416,\tbest estimator lgbm's best error=0.1331\n",
            "[flaml.automl: 02-02 14:26:51] {2449} INFO - iteration 379, current learner lgbm\n",
            "[flaml.automl: 02-02 14:26:51] {2609} INFO -  at 52.6s,\testimator lgbm's best error=0.1331,\tbest estimator lgbm's best error=0.1331\n",
            "[flaml.automl: 02-02 14:26:51] {2449} INFO - iteration 380, current learner lgbm\n",
            "[flaml.automl: 02-02 14:26:51] {2609} INFO -  at 52.7s,\testimator lgbm's best error=0.1331,\tbest estimator lgbm's best error=0.1331\n",
            "[flaml.automl: 02-02 14:26:51] {2449} INFO - iteration 381, current learner xgb_limitdepth\n",
            "[flaml.automl: 02-02 14:26:51] {2609} INFO -  at 52.9s,\testimator xgb_limitdepth's best error=0.1416,\tbest estimator lgbm's best error=0.1331\n",
            "[flaml.automl: 02-02 14:26:51] {2449} INFO - iteration 382, current learner xgb_limitdepth\n",
            "[flaml.automl: 02-02 14:26:51] {2609} INFO -  at 53.1s,\testimator xgb_limitdepth's best error=0.1416,\tbest estimator lgbm's best error=0.1331\n",
            "[flaml.automl: 02-02 14:26:51] {2449} INFO - iteration 383, current learner xgb_limitdepth\n",
            "[flaml.automl: 02-02 14:26:52] {2609} INFO -  at 53.2s,\testimator xgb_limitdepth's best error=0.1416,\tbest estimator lgbm's best error=0.1331\n",
            "[flaml.automl: 02-02 14:26:52] {2449} INFO - iteration 384, current learner lgbm\n",
            "[flaml.automl: 02-02 14:26:52] {2609} INFO -  at 53.3s,\testimator lgbm's best error=0.1331,\tbest estimator lgbm's best error=0.1331\n",
            "[flaml.automl: 02-02 14:26:52] {2449} INFO - iteration 385, current learner lgbm\n",
            "[flaml.automl: 02-02 14:26:52] {2609} INFO -  at 53.4s,\testimator lgbm's best error=0.1331,\tbest estimator lgbm's best error=0.1331\n",
            "[flaml.automl: 02-02 14:26:52] {2449} INFO - iteration 386, current learner xgboost\n",
            "[flaml.automl: 02-02 14:26:52] {2609} INFO -  at 53.7s,\testimator xgboost's best error=0.1436,\tbest estimator lgbm's best error=0.1331\n",
            "[flaml.automl: 02-02 14:26:52] {2449} INFO - iteration 387, current learner extra_tree\n",
            "[flaml.automl: 02-02 14:26:52] {2609} INFO -  at 54.0s,\testimator extra_tree's best error=0.1516,\tbest estimator lgbm's best error=0.1331\n",
            "[flaml.automl: 02-02 14:26:52] {2449} INFO - iteration 388, current learner lgbm\n",
            "[flaml.automl: 02-02 14:26:52] {2609} INFO -  at 54.1s,\testimator lgbm's best error=0.1331,\tbest estimator lgbm's best error=0.1331\n",
            "[flaml.automl: 02-02 14:26:52] {2449} INFO - iteration 389, current learner lgbm\n",
            "[flaml.automl: 02-02 14:26:53] {2609} INFO -  at 54.2s,\testimator lgbm's best error=0.1331,\tbest estimator lgbm's best error=0.1331\n",
            "[flaml.automl: 02-02 14:26:53] {2449} INFO - iteration 390, current learner lgbm\n",
            "[flaml.automl: 02-02 14:26:53] {2609} INFO -  at 54.4s,\testimator lgbm's best error=0.1331,\tbest estimator lgbm's best error=0.1331\n",
            "[flaml.automl: 02-02 14:26:53] {2449} INFO - iteration 391, current learner xgb_limitdepth\n",
            "[flaml.automl: 02-02 14:26:53] {2609} INFO -  at 54.7s,\testimator xgb_limitdepth's best error=0.1416,\tbest estimator lgbm's best error=0.1331\n",
            "[flaml.automl: 02-02 14:26:53] {2449} INFO - iteration 392, current learner lgbm\n",
            "[flaml.automl: 02-02 14:26:53] {2609} INFO -  at 54.8s,\testimator lgbm's best error=0.1331,\tbest estimator lgbm's best error=0.1331\n",
            "[flaml.automl: 02-02 14:26:53] {2449} INFO - iteration 393, current learner lgbm\n",
            "[flaml.automl: 02-02 14:26:53] {2609} INFO -  at 54.9s,\testimator lgbm's best error=0.1331,\tbest estimator lgbm's best error=0.1331\n",
            "[flaml.automl: 02-02 14:26:53] {2449} INFO - iteration 394, current learner xgboost\n",
            "[flaml.automl: 02-02 14:26:53] {2609} INFO -  at 55.1s,\testimator xgboost's best error=0.1436,\tbest estimator lgbm's best error=0.1331\n",
            "[flaml.automl: 02-02 14:26:53] {2449} INFO - iteration 395, current learner lgbm\n",
            "[flaml.automl: 02-02 14:26:53] {2609} INFO -  at 55.2s,\testimator lgbm's best error=0.1331,\tbest estimator lgbm's best error=0.1331\n",
            "[flaml.automl: 02-02 14:26:53] {2449} INFO - iteration 396, current learner xgb_limitdepth\n",
            "[flaml.automl: 02-02 14:26:54] {2609} INFO -  at 55.4s,\testimator xgb_limitdepth's best error=0.1416,\tbest estimator lgbm's best error=0.1331\n",
            "[flaml.automl: 02-02 14:26:54] {2449} INFO - iteration 397, current learner lgbm\n",
            "[flaml.automl: 02-02 14:26:54] {2609} INFO -  at 55.5s,\testimator lgbm's best error=0.1331,\tbest estimator lgbm's best error=0.1331\n",
            "[flaml.automl: 02-02 14:26:54] {2449} INFO - iteration 398, current learner lgbm\n",
            "[flaml.automl: 02-02 14:26:54] {2609} INFO -  at 55.6s,\testimator lgbm's best error=0.1331,\tbest estimator lgbm's best error=0.1331\n",
            "[flaml.automl: 02-02 14:26:54] {2449} INFO - iteration 399, current learner xgboost\n",
            "[flaml.automl: 02-02 14:26:54] {2609} INFO -  at 55.9s,\testimator xgboost's best error=0.1436,\tbest estimator lgbm's best error=0.1331\n",
            "[flaml.automl: 02-02 14:26:54] {2449} INFO - iteration 400, current learner xgb_limitdepth\n",
            "[flaml.automl: 02-02 14:26:54] {2609} INFO -  at 56.1s,\testimator xgb_limitdepth's best error=0.1416,\tbest estimator lgbm's best error=0.1331\n",
            "[flaml.automl: 02-02 14:26:54] {2449} INFO - iteration 401, current learner lgbm\n",
            "[flaml.automl: 02-02 14:26:55] {2609} INFO -  at 56.2s,\testimator lgbm's best error=0.1331,\tbest estimator lgbm's best error=0.1331\n",
            "[flaml.automl: 02-02 14:26:55] {2449} INFO - iteration 402, current learner xgb_limitdepth\n",
            "[flaml.automl: 02-02 14:26:55] {2609} INFO -  at 56.4s,\testimator xgb_limitdepth's best error=0.1416,\tbest estimator lgbm's best error=0.1331\n",
            "[flaml.automl: 02-02 14:26:55] {2449} INFO - iteration 403, current learner lgbm\n",
            "[flaml.automl: 02-02 14:26:55] {2609} INFO -  at 56.5s,\testimator lgbm's best error=0.1331,\tbest estimator lgbm's best error=0.1331\n",
            "[flaml.automl: 02-02 14:26:55] {2449} INFO - iteration 404, current learner xgboost\n",
            "[flaml.automl: 02-02 14:26:55] {2609} INFO -  at 56.7s,\testimator xgboost's best error=0.1436,\tbest estimator lgbm's best error=0.1331\n",
            "[flaml.automl: 02-02 14:26:55] {2449} INFO - iteration 405, current learner extra_tree\n",
            "[flaml.automl: 02-02 14:26:55] {2609} INFO -  at 56.9s,\testimator extra_tree's best error=0.1516,\tbest estimator lgbm's best error=0.1331\n",
            "[flaml.automl: 02-02 14:26:55] {2449} INFO - iteration 406, current learner xgb_limitdepth\n",
            "[flaml.automl: 02-02 14:26:55] {2609} INFO -  at 57.1s,\testimator xgb_limitdepth's best error=0.1416,\tbest estimator lgbm's best error=0.1331\n",
            "[flaml.automl: 02-02 14:26:55] {2449} INFO - iteration 407, current learner lgbm\n",
            "[flaml.automl: 02-02 14:26:56] {2609} INFO -  at 57.2s,\testimator lgbm's best error=0.1331,\tbest estimator lgbm's best error=0.1331\n",
            "[flaml.automl: 02-02 14:26:56] {2449} INFO - iteration 408, current learner xgb_limitdepth\n",
            "[flaml.automl: 02-02 14:26:56] {2609} INFO -  at 57.6s,\testimator xgb_limitdepth's best error=0.1416,\tbest estimator lgbm's best error=0.1331\n",
            "[flaml.automl: 02-02 14:26:56] {2449} INFO - iteration 409, current learner lgbm\n",
            "[flaml.automl: 02-02 14:26:56] {2609} INFO -  at 57.7s,\testimator lgbm's best error=0.1331,\tbest estimator lgbm's best error=0.1331\n",
            "[flaml.automl: 02-02 14:26:56] {2449} INFO - iteration 410, current learner extra_tree\n",
            "[flaml.automl: 02-02 14:26:56] {2609} INFO -  at 57.9s,\testimator extra_tree's best error=0.1516,\tbest estimator lgbm's best error=0.1331\n",
            "[flaml.automl: 02-02 14:26:56] {2449} INFO - iteration 411, current learner lgbm\n",
            "[flaml.automl: 02-02 14:26:56] {2609} INFO -  at 58.0s,\testimator lgbm's best error=0.1331,\tbest estimator lgbm's best error=0.1331\n",
            "[flaml.automl: 02-02 14:26:56] {2449} INFO - iteration 412, current learner lgbm\n",
            "[flaml.automl: 02-02 14:26:56] {2609} INFO -  at 58.1s,\testimator lgbm's best error=0.1331,\tbest estimator lgbm's best error=0.1331\n",
            "[flaml.automl: 02-02 14:26:56] {2449} INFO - iteration 413, current learner lgbm\n",
            "[flaml.automl: 02-02 14:26:57] {2609} INFO -  at 58.2s,\testimator lgbm's best error=0.1331,\tbest estimator lgbm's best error=0.1331\n",
            "[flaml.automl: 02-02 14:26:57] {2449} INFO - iteration 414, current learner lgbm\n",
            "[flaml.automl: 02-02 14:26:57] {2609} INFO -  at 58.3s,\testimator lgbm's best error=0.1331,\tbest estimator lgbm's best error=0.1331\n",
            "[flaml.automl: 02-02 14:26:57] {2449} INFO - iteration 415, current learner lgbm\n",
            "[flaml.automl: 02-02 14:26:57] {2609} INFO -  at 58.4s,\testimator lgbm's best error=0.1331,\tbest estimator lgbm's best error=0.1331\n",
            "[flaml.automl: 02-02 14:26:57] {2449} INFO - iteration 416, current learner xgboost\n",
            "[flaml.automl: 02-02 14:26:57] {2609} INFO -  at 58.7s,\testimator xgboost's best error=0.1399,\tbest estimator lgbm's best error=0.1331\n",
            "[flaml.automl: 02-02 14:26:57] {2449} INFO - iteration 417, current learner xgboost\n",
            "[flaml.automl: 02-02 14:26:57] {2609} INFO -  at 58.8s,\testimator xgboost's best error=0.1399,\tbest estimator lgbm's best error=0.1331\n",
            "[flaml.automl: 02-02 14:26:57] {2449} INFO - iteration 418, current learner xgboost\n",
            "[flaml.automl: 02-02 14:26:57] {2609} INFO -  at 59.1s,\testimator xgboost's best error=0.1399,\tbest estimator lgbm's best error=0.1331\n",
            "[flaml.automl: 02-02 14:26:57] {2449} INFO - iteration 419, current learner xgboost\n",
            "[flaml.automl: 02-02 14:26:58] {2609} INFO -  at 59.4s,\testimator xgboost's best error=0.1399,\tbest estimator lgbm's best error=0.1331\n",
            "[flaml.automl: 02-02 14:26:58] {2449} INFO - iteration 420, current learner xgboost\n",
            "[flaml.automl: 02-02 14:26:58] {2609} INFO -  at 59.6s,\testimator xgboost's best error=0.1399,\tbest estimator lgbm's best error=0.1331\n",
            "[flaml.automl: 02-02 14:26:58] {2449} INFO - iteration 421, current learner xgb_limitdepth\n",
            "[flaml.automl: 02-02 14:26:58] {2609} INFO -  at 59.7s,\testimator xgb_limitdepth's best error=0.1416,\tbest estimator lgbm's best error=0.1331\n",
            "[flaml.automl: 02-02 14:26:58] {2449} INFO - iteration 422, current learner lgbm\n",
            "[flaml.automl: 02-02 14:26:58] {2609} INFO -  at 59.9s,\testimator lgbm's best error=0.1331,\tbest estimator lgbm's best error=0.1331\n",
            "[flaml.automl: 02-02 14:26:58] {2449} INFO - iteration 423, current learner lgbm\n",
            "[flaml.automl: 02-02 14:26:58] {2609} INFO -  at 60.0s,\testimator lgbm's best error=0.1331,\tbest estimator lgbm's best error=0.1331\n",
            "[flaml.automl: 02-02 14:26:58] {2839} INFO - retrain lgbm for 0.0s\n",
            "[flaml.automl: 02-02 14:26:58] {2846} INFO - retrained model: LGBMClassifier(colsample_bytree=0.4938513205517679,\n",
            "               learning_rate=0.33337728353417095, max_bin=511,\n",
            "               min_child_samples=12, n_estimators=11, num_leaves=106,\n",
            "               reg_alpha=0.01575295559037546, reg_lambda=0.008659013459249926,\n",
            "               verbose=-1)\n",
            "[flaml.automl: 02-02 14:26:58] {2225} INFO - fit succeeded\n",
            "[flaml.automl: 02-02 14:26:58] {2226} INFO - Time taken to find the best model: 34.55167841911316\n"
          ]
        }
      ],
      "source": [
        "from flaml import AutoML\n",
        "\n",
        "clf = AutoML()\n",
        "clf.fit(dataframe=train, label='Survived', \n",
        "        task='classification', \n",
        "        estimator_list=['lgbm', 'xgboost', 'xgb_limitdepth', 'rf', 'extra_tree'],\n",
        "        metric='ap',\n",
        "        time_budget=60)"
      ]
    },
    {
      "cell_type": "code",
      "execution_count": 49,
      "metadata": {},
      "outputs": [
        {
          "name": "stdout",
          "output_type": "stream",
          "text": [
            "Best ML leaner: lgbm\n",
            "Best hyperparmeter config:\n",
            " {'n_estimators': 11, 'num_leaves': 106, 'min_child_samples': 12, 'learning_rate': 0.33337728353417095, 'log_max_bin': 9, 'colsample_bytree': 0.4938513205517679, 'reg_alpha': 0.01575295559037546, 'reg_lambda': 0.008659013459249926}\n"
          ]
        }
      ],
      "source": [
        "print('Best ML leaner:', clf.best_estimator)\n",
        "print('Best hyperparmeter config:\\n', clf.best_config)"
      ]
    },
    {
      "cell_type": "code",
      "execution_count": 50,
      "metadata": {},
      "outputs": [],
      "source": [
        "predicted = clf.predict(train.drop(['Survived'], axis=1)).astype('uint8')"
      ]
    },
    {
      "cell_type": "code",
      "execution_count": 51,
      "metadata": {},
      "outputs": [
        {
          "name": "stdout",
          "output_type": "stream",
          "text": [
            "Train dataset accuracy: 0.87542\n"
          ]
        }
      ],
      "source": [
        "from sklearn.metrics import accuracy_score\n",
        "\n",
        "print('Train dataset accuracy:', accuracy_score(train.Survived, predicted).round(5))"
      ]
    },
    {
      "cell_type": "markdown",
      "metadata": {
        "id": "H2qxn0boXUR7"
      },
      "source": [
        "### Predict test labels and generate submission"
      ]
    },
    {
      "cell_type": "code",
      "execution_count": 52,
      "metadata": {
        "id": "JU7Q6XzeUhtM"
      },
      "outputs": [],
      "source": [
        "predicted = clf.predict(test).astype('uint8')"
      ]
    },
    {
      "cell_type": "code",
      "execution_count": 53,
      "metadata": {
        "id": "Rrf5t4zxWx0p"
      },
      "outputs": [
        {
          "data": {
            "text/html": [
              "<div>\n",
              "<style scoped>\n",
              "    .dataframe tbody tr th:only-of-type {\n",
              "        vertical-align: middle;\n",
              "    }\n",
              "\n",
              "    .dataframe tbody tr th {\n",
              "        vertical-align: top;\n",
              "    }\n",
              "\n",
              "    .dataframe thead th {\n",
              "        text-align: right;\n",
              "    }\n",
              "</style>\n",
              "<table border=\"1\" class=\"dataframe\">\n",
              "  <thead>\n",
              "    <tr style=\"text-align: right;\">\n",
              "      <th></th>\n",
              "      <th>PassengerId</th>\n",
              "      <th>Survived</th>\n",
              "    </tr>\n",
              "  </thead>\n",
              "  <tbody>\n",
              "    <tr>\n",
              "      <th>0</th>\n",
              "      <td>892</td>\n",
              "      <td>0</td>\n",
              "    </tr>\n",
              "    <tr>\n",
              "      <th>1</th>\n",
              "      <td>893</td>\n",
              "      <td>0</td>\n",
              "    </tr>\n",
              "    <tr>\n",
              "      <th>2</th>\n",
              "      <td>894</td>\n",
              "      <td>0</td>\n",
              "    </tr>\n",
              "    <tr>\n",
              "      <th>3</th>\n",
              "      <td>895</td>\n",
              "      <td>0</td>\n",
              "    </tr>\n",
              "    <tr>\n",
              "      <th>4</th>\n",
              "      <td>896</td>\n",
              "      <td>0</td>\n",
              "    </tr>\n",
              "    <tr>\n",
              "      <th>...</th>\n",
              "      <td>...</td>\n",
              "      <td>...</td>\n",
              "    </tr>\n",
              "    <tr>\n",
              "      <th>413</th>\n",
              "      <td>1305</td>\n",
              "      <td>0</td>\n",
              "    </tr>\n",
              "    <tr>\n",
              "      <th>414</th>\n",
              "      <td>1306</td>\n",
              "      <td>1</td>\n",
              "    </tr>\n",
              "    <tr>\n",
              "      <th>415</th>\n",
              "      <td>1307</td>\n",
              "      <td>0</td>\n",
              "    </tr>\n",
              "    <tr>\n",
              "      <th>416</th>\n",
              "      <td>1308</td>\n",
              "      <td>0</td>\n",
              "    </tr>\n",
              "    <tr>\n",
              "      <th>417</th>\n",
              "      <td>1309</td>\n",
              "      <td>1</td>\n",
              "    </tr>\n",
              "  </tbody>\n",
              "</table>\n",
              "<p>418 rows × 2 columns</p>\n",
              "</div>"
            ],
            "text/plain": [
              "     PassengerId  Survived\n",
              "0            892         0\n",
              "1            893         0\n",
              "2            894         0\n",
              "3            895         0\n",
              "4            896         0\n",
              "..           ...       ...\n",
              "413         1305         0\n",
              "414         1306         1\n",
              "415         1307         0\n",
              "416         1308         0\n",
              "417         1309         1\n",
              "\n",
              "[418 rows x 2 columns]"
            ]
          },
          "execution_count": 53,
          "metadata": {},
          "output_type": "execute_result"
        }
      ],
      "source": [
        "submission = pd.DataFrame({'PassengerId': passenger_id, 'Survived': predicted})\n",
        "submission.to_csv('./submission.csv', index=False)\n",
        "\n",
        "submission"
      ]
    },
    {
      "cell_type": "markdown",
      "metadata": {
        "id": "Y3wKRpwaWv9d"
      },
      "source": [
        "Kaggle score (categorical accuracy): **0.79186**"
      ]
    }
  ],
  "metadata": {
    "colab": {
      "collapsed_sections": [],
      "name": "titanic_flaml.ipynb",
      "provenance": []
    },
    "kernelspec": {
      "display_name": "Python 3",
      "language": "python",
      "name": "python3"
    },
    "language_info": {
      "codemirror_mode": {
        "name": "ipython",
        "version": 3
      },
      "file_extension": ".py",
      "mimetype": "text/x-python",
      "name": "python",
      "nbconvert_exporter": "python",
      "pygments_lexer": "ipython3",
      "version": "3.9.9"
    }
  },
  "nbformat": 4,
  "nbformat_minor": 0
}
