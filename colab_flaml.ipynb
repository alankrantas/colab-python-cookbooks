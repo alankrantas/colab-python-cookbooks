{
  "nbformat": 4,
  "nbformat_minor": 0,
  "metadata": {
    "colab": {
      "name": "colab-flaml.ipynb",
      "provenance": [],
      "collapsed_sections": []
    },
    "kernelspec": {
      "name": "python3",
      "display_name": "Python 3"
    },
    "language_info": {
      "name": "python"
    }
  },
  "cells": [
    {
      "cell_type": "markdown",
      "metadata": {
        "id": "51mSm__--VjY"
      },
      "source": [
        "# FLAML (Fast and Lightweight AutoML) demos"
      ]
    },
    {
      "cell_type": "code",
      "metadata": {
        "colab": {
          "base_uri": "https://localhost:8080/"
        },
        "id": "yHy8yNXksqcK",
        "outputId": "3642d8d1-b9fe-49e6-d6b0-23d814c7288d"
      },
      "source": [
        "!pip3 install flaml"
      ],
      "execution_count": null,
      "outputs": [
        {
          "output_type": "stream",
          "name": "stdout",
          "text": [
            "Collecting flaml\n",
            "  Downloading FLAML-0.8.0-py3-none-any.whl (130 kB)\n",
            "\u001b[K     |████████████████████████████████| 130 kB 4.3 MB/s \n",
            "\u001b[?25hRequirement already satisfied: scipy>=1.4.1 in /usr/local/lib/python3.7/dist-packages (from flaml) (1.4.1)\n",
            "Collecting lightgbm>=2.3.1\n",
            "  Downloading lightgbm-3.3.1-py3-none-manylinux1_x86_64.whl (2.0 MB)\n",
            "\u001b[K     |████████████████████████████████| 2.0 MB 20.6 MB/s \n",
            "\u001b[?25hRequirement already satisfied: pandas>=1.1.4 in /usr/local/lib/python3.7/dist-packages (from flaml) (1.1.5)\n",
            "Requirement already satisfied: NumPy>=1.16.2 in /usr/local/lib/python3.7/dist-packages (from flaml) (1.19.5)\n",
            "Requirement already satisfied: scikit-learn>=0.24 in /usr/local/lib/python3.7/dist-packages (from flaml) (1.0.1)\n",
            "Requirement already satisfied: xgboost<=1.3.3,>=0.90 in /usr/local/lib/python3.7/dist-packages (from flaml) (0.90)\n",
            "Requirement already satisfied: wheel in /usr/local/lib/python3.7/dist-packages (from lightgbm>=2.3.1->flaml) (0.37.0)\n",
            "Requirement already satisfied: python-dateutil>=2.7.3 in /usr/local/lib/python3.7/dist-packages (from pandas>=1.1.4->flaml) (2.8.2)\n",
            "Requirement already satisfied: pytz>=2017.2 in /usr/local/lib/python3.7/dist-packages (from pandas>=1.1.4->flaml) (2018.9)\n",
            "Requirement already satisfied: six>=1.5 in /usr/local/lib/python3.7/dist-packages (from python-dateutil>=2.7.3->pandas>=1.1.4->flaml) (1.15.0)\n",
            "Requirement already satisfied: joblib>=0.11 in /usr/local/lib/python3.7/dist-packages (from scikit-learn>=0.24->flaml) (1.1.0)\n",
            "Requirement already satisfied: threadpoolctl>=2.0.0 in /usr/local/lib/python3.7/dist-packages (from scikit-learn>=0.24->flaml) (3.0.0)\n",
            "Installing collected packages: lightgbm, flaml\n",
            "  Attempting uninstall: lightgbm\n",
            "    Found existing installation: lightgbm 2.2.3\n",
            "    Uninstalling lightgbm-2.2.3:\n",
            "      Successfully uninstalled lightgbm-2.2.3\n",
            "Successfully installed flaml-0.8.0 lightgbm-3.3.1\n"
          ]
        }
      ]
    },
    {
      "cell_type": "markdown",
      "metadata": {
        "id": "wpJpgSF2YQvF"
      },
      "source": [
        "## Classifier"
      ]
    },
    {
      "cell_type": "code",
      "metadata": {
        "colab": {
          "base_uri": "https://localhost:8080/",
          "height": 424
        },
        "id": "2Osfi_FrPJ3V",
        "outputId": "9960fafb-744e-4866-a2cd-16f42b5d333b"
      },
      "source": [
        "import pandas as pd\n",
        "\n",
        "df = pd.read_csv('https://archive.ics.uci.edu/ml/machine-learning-databases/iris/iris.data',\n",
        "                     header=None, names=('sepal length', 'sepal width', 'petal length', 'petal width', 'species'))\n",
        "df"
      ],
      "execution_count": null,
      "outputs": [
        {
          "output_type": "execute_result",
          "data": {
            "text/html": [
              "<div>\n",
              "<style scoped>\n",
              "    .dataframe tbody tr th:only-of-type {\n",
              "        vertical-align: middle;\n",
              "    }\n",
              "\n",
              "    .dataframe tbody tr th {\n",
              "        vertical-align: top;\n",
              "    }\n",
              "\n",
              "    .dataframe thead th {\n",
              "        text-align: right;\n",
              "    }\n",
              "</style>\n",
              "<table border=\"1\" class=\"dataframe\">\n",
              "  <thead>\n",
              "    <tr style=\"text-align: right;\">\n",
              "      <th></th>\n",
              "      <th>sepal length</th>\n",
              "      <th>sepal width</th>\n",
              "      <th>petal length</th>\n",
              "      <th>petal width</th>\n",
              "      <th>species</th>\n",
              "    </tr>\n",
              "  </thead>\n",
              "  <tbody>\n",
              "    <tr>\n",
              "      <th>0</th>\n",
              "      <td>5.1</td>\n",
              "      <td>3.5</td>\n",
              "      <td>1.4</td>\n",
              "      <td>0.2</td>\n",
              "      <td>Iris-setosa</td>\n",
              "    </tr>\n",
              "    <tr>\n",
              "      <th>1</th>\n",
              "      <td>4.9</td>\n",
              "      <td>3.0</td>\n",
              "      <td>1.4</td>\n",
              "      <td>0.2</td>\n",
              "      <td>Iris-setosa</td>\n",
              "    </tr>\n",
              "    <tr>\n",
              "      <th>2</th>\n",
              "      <td>4.7</td>\n",
              "      <td>3.2</td>\n",
              "      <td>1.3</td>\n",
              "      <td>0.2</td>\n",
              "      <td>Iris-setosa</td>\n",
              "    </tr>\n",
              "    <tr>\n",
              "      <th>3</th>\n",
              "      <td>4.6</td>\n",
              "      <td>3.1</td>\n",
              "      <td>1.5</td>\n",
              "      <td>0.2</td>\n",
              "      <td>Iris-setosa</td>\n",
              "    </tr>\n",
              "    <tr>\n",
              "      <th>4</th>\n",
              "      <td>5.0</td>\n",
              "      <td>3.6</td>\n",
              "      <td>1.4</td>\n",
              "      <td>0.2</td>\n",
              "      <td>Iris-setosa</td>\n",
              "    </tr>\n",
              "    <tr>\n",
              "      <th>...</th>\n",
              "      <td>...</td>\n",
              "      <td>...</td>\n",
              "      <td>...</td>\n",
              "      <td>...</td>\n",
              "      <td>...</td>\n",
              "    </tr>\n",
              "    <tr>\n",
              "      <th>145</th>\n",
              "      <td>6.7</td>\n",
              "      <td>3.0</td>\n",
              "      <td>5.2</td>\n",
              "      <td>2.3</td>\n",
              "      <td>Iris-virginica</td>\n",
              "    </tr>\n",
              "    <tr>\n",
              "      <th>146</th>\n",
              "      <td>6.3</td>\n",
              "      <td>2.5</td>\n",
              "      <td>5.0</td>\n",
              "      <td>1.9</td>\n",
              "      <td>Iris-virginica</td>\n",
              "    </tr>\n",
              "    <tr>\n",
              "      <th>147</th>\n",
              "      <td>6.5</td>\n",
              "      <td>3.0</td>\n",
              "      <td>5.2</td>\n",
              "      <td>2.0</td>\n",
              "      <td>Iris-virginica</td>\n",
              "    </tr>\n",
              "    <tr>\n",
              "      <th>148</th>\n",
              "      <td>6.2</td>\n",
              "      <td>3.4</td>\n",
              "      <td>5.4</td>\n",
              "      <td>2.3</td>\n",
              "      <td>Iris-virginica</td>\n",
              "    </tr>\n",
              "    <tr>\n",
              "      <th>149</th>\n",
              "      <td>5.9</td>\n",
              "      <td>3.0</td>\n",
              "      <td>5.1</td>\n",
              "      <td>1.8</td>\n",
              "      <td>Iris-virginica</td>\n",
              "    </tr>\n",
              "  </tbody>\n",
              "</table>\n",
              "<p>150 rows × 5 columns</p>\n",
              "</div>"
            ],
            "text/plain": [
              "     sepal length  sepal width  petal length  petal width         species\n",
              "0             5.1          3.5           1.4          0.2     Iris-setosa\n",
              "1             4.9          3.0           1.4          0.2     Iris-setosa\n",
              "2             4.7          3.2           1.3          0.2     Iris-setosa\n",
              "3             4.6          3.1           1.5          0.2     Iris-setosa\n",
              "4             5.0          3.6           1.4          0.2     Iris-setosa\n",
              "..            ...          ...           ...          ...             ...\n",
              "145           6.7          3.0           5.2          2.3  Iris-virginica\n",
              "146           6.3          2.5           5.0          1.9  Iris-virginica\n",
              "147           6.5          3.0           5.2          2.0  Iris-virginica\n",
              "148           6.2          3.4           5.4          2.3  Iris-virginica\n",
              "149           5.9          3.0           5.1          1.8  Iris-virginica\n",
              "\n",
              "[150 rows x 5 columns]"
            ]
          },
          "metadata": {},
          "execution_count": 32
        }
      ]
    },
    {
      "cell_type": "code",
      "metadata": {
        "colab": {
          "base_uri": "https://localhost:8080/"
        },
        "id": "plYZ7cOM21dy",
        "outputId": "62a1c60c-da9e-4613-eb8d-92a9c37e9d67"
      },
      "source": [
        "from sklearn.preprocessing import LabelEncoder\n",
        "\n",
        "le = LabelEncoder()\n",
        "df.species = le.fit_transform(df.species)\n",
        "labels = le.classes_\n",
        "\n",
        "labels"
      ],
      "execution_count": null,
      "outputs": [
        {
          "output_type": "execute_result",
          "data": {
            "text/plain": [
              "array(['Iris-setosa', 'Iris-versicolor', 'Iris-virginica'], dtype=object)"
            ]
          },
          "metadata": {},
          "execution_count": 33
        }
      ]
    },
    {
      "cell_type": "code",
      "metadata": {
        "id": "E7ogfQP-ssMg"
      },
      "source": [
        "from sklearn.model_selection import train_test_split\n",
        "\n",
        "train, test = train_test_split(df, test_size=0.2, random_state=42)\n",
        "\n",
        "x_train = train.drop(['species'], axis=1)\n",
        "y_train = train.species\n",
        "x_test = test.drop(['species'], axis=1)\n",
        "y_test = test.species"
      ],
      "execution_count": null,
      "outputs": []
    },
    {
      "cell_type": "code",
      "metadata": {
        "colab": {
          "base_uri": "https://localhost:8080/"
        },
        "id": "6QQ87mussx4_",
        "outputId": "799898c3-fdc6-48e3-a62e-0c2e656d4bbb"
      },
      "source": [
        "from flaml import AutoML\n",
        "\n",
        "clf = AutoML()\n",
        "clf.fit(x_train, y_train, task='classification', estimator_list=['lgbm'], time_budget=10)"
      ],
      "execution_count": null,
      "outputs": [
        {
          "output_type": "stream",
          "name": "stderr",
          "text": [
            "[flaml.automl: 11-26 06:29:53] {1923} INFO - task = classification\n",
            "[flaml.automl: 11-26 06:29:53] {1925} INFO - Data split method: stratified\n",
            "[flaml.automl: 11-26 06:29:53] {1929} INFO - Evaluation method: cv\n",
            "[flaml.automl: 11-26 06:29:53] {1996} INFO - Minimizing error metric: log_loss\n",
            "[flaml.automl: 11-26 06:29:53] {2048} INFO - List of ML learners in AutoML Run: ['lgbm']\n",
            "[flaml.automl: 11-26 06:29:53] {2288} INFO - iteration 0, current learner lgbm\n",
            "[flaml.automl: 11-26 06:29:54] {2402} INFO - Estimated sufficient time budget=678s. Estimated necessary time budget=1s.\n",
            "[flaml.automl: 11-26 06:29:54] {2482} INFO -  at 0.1s,\testimator lgbm's best error=0.6695,\tbest estimator lgbm's best error=0.6695\n",
            "[flaml.automl: 11-26 06:29:54] {2288} INFO - iteration 1, current learner lgbm\n",
            "[flaml.automl: 11-26 06:29:54] {2482} INFO -  at 0.2s,\testimator lgbm's best error=0.6695,\tbest estimator lgbm's best error=0.6695\n",
            "[flaml.automl: 11-26 06:29:54] {2288} INFO - iteration 2, current learner lgbm\n",
            "[flaml.automl: 11-26 06:29:54] {2482} INFO -  at 0.3s,\testimator lgbm's best error=0.3505,\tbest estimator lgbm's best error=0.3505\n"
          ]
        },
        {
          "output_type": "stream",
          "name": "stdout",
          "text": [
            "[LightGBM] [Warning] Unknown parameter: global_max_steps\n",
            "[LightGBM] [Warning] Unknown parameter: global_max_steps\n",
            "[LightGBM] [Warning] Unknown parameter: global_max_steps\n",
            "[LightGBM] [Warning] Unknown parameter: global_max_steps\n",
            "[LightGBM] [Warning] Unknown parameter: global_max_steps\n",
            "[LightGBM] [Warning] Unknown parameter: global_max_steps\n",
            "[LightGBM] [Warning] Unknown parameter: global_max_steps\n",
            "[LightGBM] [Warning] Unknown parameter: global_max_steps\n",
            "[LightGBM] [Warning] Unknown parameter: global_max_steps\n",
            "[LightGBM] [Warning] Unknown parameter: global_max_steps\n",
            "[LightGBM] [Warning] Unknown parameter: global_max_steps\n",
            "[LightGBM] [Warning] Unknown parameter: global_max_steps\n",
            "[LightGBM] [Warning] Unknown parameter: global_max_steps\n",
            "[LightGBM] [Warning] Unknown parameter: global_max_steps\n",
            "[LightGBM] [Warning] Unknown parameter: global_max_steps\n"
          ]
        },
        {
          "output_type": "stream",
          "name": "stderr",
          "text": [
            "[flaml.automl: 11-26 06:29:54] {2288} INFO - iteration 3, current learner lgbm\n",
            "[flaml.automl: 11-26 06:29:54] {2482} INFO -  at 0.3s,\testimator lgbm's best error=0.2013,\tbest estimator lgbm's best error=0.2013\n",
            "[flaml.automl: 11-26 06:29:54] {2288} INFO - iteration 4, current learner lgbm\n",
            "[flaml.automl: 11-26 06:29:54] {2482} INFO -  at 0.4s,\testimator lgbm's best error=0.2013,\tbest estimator lgbm's best error=0.2013\n",
            "[flaml.automl: 11-26 06:29:54] {2288} INFO - iteration 5, current learner lgbm\n",
            "[flaml.automl: 11-26 06:29:54] {2482} INFO -  at 0.5s,\testimator lgbm's best error=0.2013,\tbest estimator lgbm's best error=0.2013\n"
          ]
        },
        {
          "output_type": "stream",
          "name": "stdout",
          "text": [
            "[LightGBM] [Warning] Unknown parameter: global_max_steps\n",
            "[LightGBM] [Warning] Unknown parameter: global_max_steps\n",
            "[LightGBM] [Warning] Unknown parameter: global_max_steps\n",
            "[LightGBM] [Warning] Unknown parameter: global_max_steps\n",
            "[LightGBM] [Warning] Unknown parameter: global_max_steps\n",
            "[LightGBM] [Warning] Unknown parameter: global_max_steps\n",
            "[LightGBM] [Warning] Unknown parameter: global_max_steps\n",
            "[LightGBM] [Warning] Unknown parameter: global_max_steps\n",
            "[LightGBM] [Warning] Unknown parameter: global_max_steps\n",
            "[LightGBM] [Warning] Unknown parameter: global_max_steps\n",
            "[LightGBM] [Warning] Unknown parameter: global_max_steps\n",
            "[LightGBM] [Warning] Unknown parameter: global_max_steps\n",
            "[LightGBM] [Warning] Unknown parameter: global_max_steps\n",
            "[LightGBM] [Warning] Unknown parameter: global_max_steps\n",
            "[LightGBM] [Warning] Unknown parameter: global_max_steps\n"
          ]
        },
        {
          "output_type": "stream",
          "name": "stderr",
          "text": [
            "[flaml.automl: 11-26 06:29:54] {2288} INFO - iteration 6, current learner lgbm\n",
            "[flaml.automl: 11-26 06:29:54] {2482} INFO -  at 0.5s,\testimator lgbm's best error=0.2013,\tbest estimator lgbm's best error=0.2013\n",
            "[flaml.automl: 11-26 06:29:54] {2288} INFO - iteration 7, current learner lgbm\n",
            "[flaml.automl: 11-26 06:29:54] {2482} INFO -  at 0.6s,\testimator lgbm's best error=0.1904,\tbest estimator lgbm's best error=0.1904\n",
            "[flaml.automl: 11-26 06:29:54] {2288} INFO - iteration 8, current learner lgbm\n",
            "[flaml.automl: 11-26 06:29:54] {2482} INFO -  at 0.7s,\testimator lgbm's best error=0.1811,\tbest estimator lgbm's best error=0.1811\n"
          ]
        },
        {
          "output_type": "stream",
          "name": "stdout",
          "text": [
            "[LightGBM] [Warning] Unknown parameter: global_max_steps\n",
            "[LightGBM] [Warning] Unknown parameter: global_max_steps\n",
            "[LightGBM] [Warning] Unknown parameter: global_max_steps\n",
            "[LightGBM] [Warning] Unknown parameter: global_max_steps\n",
            "[LightGBM] [Warning] Unknown parameter: global_max_steps\n",
            "[LightGBM] [Warning] Unknown parameter: global_max_steps\n",
            "[LightGBM] [Warning] Unknown parameter: global_max_steps\n",
            "[LightGBM] [Warning] Unknown parameter: global_max_steps\n",
            "[LightGBM] [Warning] Unknown parameter: global_max_steps\n",
            "[LightGBM] [Warning] Unknown parameter: global_max_steps\n",
            "[LightGBM] [Warning] Unknown parameter: global_max_steps\n",
            "[LightGBM] [Warning] Unknown parameter: global_max_steps\n",
            "[LightGBM] [Warning] Unknown parameter: global_max_steps\n",
            "[LightGBM] [Warning] Unknown parameter: global_max_steps\n",
            "[LightGBM] [Warning] Unknown parameter: global_max_steps\n"
          ]
        },
        {
          "output_type": "stream",
          "name": "stderr",
          "text": [
            "[flaml.automl: 11-26 06:29:54] {2288} INFO - iteration 9, current learner lgbm\n",
            "[flaml.automl: 11-26 06:29:54] {2482} INFO -  at 0.8s,\testimator lgbm's best error=0.1811,\tbest estimator lgbm's best error=0.1811\n",
            "[flaml.automl: 11-26 06:29:54] {2288} INFO - iteration 10, current learner lgbm\n",
            "[flaml.automl: 11-26 06:29:54] {2482} INFO -  at 0.8s,\testimator lgbm's best error=0.1811,\tbest estimator lgbm's best error=0.1811\n",
            "[flaml.automl: 11-26 06:29:54] {2288} INFO - iteration 11, current learner lgbm\n"
          ]
        },
        {
          "output_type": "stream",
          "name": "stdout",
          "text": [
            "[LightGBM] [Warning] Unknown parameter: global_max_steps\n",
            "[LightGBM] [Warning] Unknown parameter: global_max_steps\n",
            "[LightGBM] [Warning] Unknown parameter: global_max_steps\n",
            "[LightGBM] [Warning] Unknown parameter: global_max_steps\n",
            "[LightGBM] [Warning] Unknown parameter: global_max_steps\n",
            "[LightGBM] [Warning] Unknown parameter: global_max_steps\n",
            "[LightGBM] [Warning] Unknown parameter: global_max_steps\n",
            "[LightGBM] [Warning] Unknown parameter: global_max_steps\n",
            "[LightGBM] [Warning] Unknown parameter: global_max_steps\n",
            "[LightGBM] [Warning] Unknown parameter: global_max_steps\n",
            "[LightGBM] [Warning] Unknown parameter: global_max_steps\n",
            "[LightGBM] [Warning] Unknown parameter: global_max_steps\n",
            "[LightGBM] [Warning] Unknown parameter: global_max_steps\n",
            "[LightGBM] [Warning] Unknown parameter: global_max_steps\n"
          ]
        },
        {
          "output_type": "stream",
          "name": "stderr",
          "text": [
            "[flaml.automl: 11-26 06:29:54] {2482} INFO -  at 0.9s,\testimator lgbm's best error=0.1811,\tbest estimator lgbm's best error=0.1811\n",
            "[flaml.automl: 11-26 06:29:54] {2288} INFO - iteration 12, current learner lgbm\n",
            "[flaml.automl: 11-26 06:29:54] {2482} INFO -  at 1.0s,\testimator lgbm's best error=0.1811,\tbest estimator lgbm's best error=0.1811\n",
            "[flaml.automl: 11-26 06:29:54] {2288} INFO - iteration 13, current learner lgbm\n",
            "[flaml.automl: 11-26 06:29:55] {2482} INFO -  at 1.1s,\testimator lgbm's best error=0.1811,\tbest estimator lgbm's best error=0.1811\n",
            "[flaml.automl: 11-26 06:29:55] {2288} INFO - iteration 14, current learner lgbm\n"
          ]
        },
        {
          "output_type": "stream",
          "name": "stdout",
          "text": [
            "[LightGBM] [Warning] Unknown parameter: global_max_steps\n",
            "[LightGBM] [Warning] Unknown parameter: global_max_steps\n",
            "[LightGBM] [Warning] Unknown parameter: global_max_steps\n",
            "[LightGBM] [Warning] Unknown parameter: global_max_steps\n",
            "[LightGBM] [Warning] Unknown parameter: global_max_steps\n",
            "[LightGBM] [Warning] Unknown parameter: global_max_steps\n",
            "[LightGBM] [Warning] Unknown parameter: global_max_steps\n",
            "[LightGBM] [Warning] Unknown parameter: global_max_steps\n",
            "[LightGBM] [Warning] Unknown parameter: global_max_steps\n",
            "[LightGBM] [Warning] Unknown parameter: global_max_steps\n",
            "[LightGBM] [Warning] Unknown parameter: global_max_steps\n",
            "[LightGBM] [Warning] Unknown parameter: global_max_steps\n"
          ]
        },
        {
          "output_type": "stream",
          "name": "stderr",
          "text": [
            "[flaml.automl: 11-26 06:29:55] {2482} INFO -  at 1.2s,\testimator lgbm's best error=0.1811,\tbest estimator lgbm's best error=0.1811\n",
            "[flaml.automl: 11-26 06:29:55] {2288} INFO - iteration 15, current learner lgbm\n",
            "[flaml.automl: 11-26 06:29:55] {2482} INFO -  at 1.2s,\testimator lgbm's best error=0.1811,\tbest estimator lgbm's best error=0.1811\n",
            "[flaml.automl: 11-26 06:29:55] {2288} INFO - iteration 16, current learner lgbm\n",
            "[flaml.automl: 11-26 06:29:55] {2482} INFO -  at 1.3s,\testimator lgbm's best error=0.1811,\tbest estimator lgbm's best error=0.1811\n",
            "[flaml.automl: 11-26 06:29:55] {2288} INFO - iteration 17, current learner lgbm\n"
          ]
        },
        {
          "output_type": "stream",
          "name": "stdout",
          "text": [
            "[LightGBM] [Warning] Unknown parameter: global_max_steps\n",
            "[LightGBM] [Warning] Unknown parameter: global_max_steps\n",
            "[LightGBM] [Warning] Unknown parameter: global_max_steps\n",
            "[LightGBM] [Warning] Unknown parameter: global_max_steps\n",
            "[LightGBM] [Warning] Unknown parameter: global_max_steps\n",
            "[LightGBM] [Warning] Unknown parameter: global_max_steps\n",
            "[LightGBM] [Warning] Unknown parameter: global_max_steps\n",
            "[LightGBM] [Warning] Unknown parameter: global_max_steps\n",
            "[LightGBM] [Warning] Unknown parameter: global_max_steps\n",
            "[LightGBM] [Warning] Unknown parameter: global_max_steps\n",
            "[LightGBM] [Warning] Unknown parameter: global_max_steps\n",
            "[LightGBM] [Warning] Unknown parameter: global_max_steps\n",
            "[LightGBM] [Warning] Unknown parameter: global_max_steps\n",
            "[LightGBM] [Warning] Unknown parameter: global_max_steps\n"
          ]
        },
        {
          "output_type": "stream",
          "name": "stderr",
          "text": [
            "[flaml.automl: 11-26 06:29:55] {2482} INFO -  at 1.4s,\testimator lgbm's best error=0.1811,\tbest estimator lgbm's best error=0.1811\n",
            "[flaml.automl: 11-26 06:29:55] {2288} INFO - iteration 18, current learner lgbm\n",
            "[flaml.automl: 11-26 06:29:55] {2482} INFO -  at 1.5s,\testimator lgbm's best error=0.1811,\tbest estimator lgbm's best error=0.1811\n",
            "[flaml.automl: 11-26 06:29:55] {2288} INFO - iteration 19, current learner lgbm\n"
          ]
        },
        {
          "output_type": "stream",
          "name": "stdout",
          "text": [
            "[LightGBM] [Warning] Unknown parameter: global_max_steps\n",
            "[LightGBM] [Warning] Unknown parameter: global_max_steps\n",
            "[LightGBM] [Warning] Unknown parameter: global_max_steps\n",
            "[LightGBM] [Warning] Unknown parameter: global_max_steps\n",
            "[LightGBM] [Warning] Unknown parameter: global_max_steps\n",
            "[LightGBM] [Warning] Unknown parameter: global_max_steps\n",
            "[LightGBM] [Warning] Unknown parameter: global_max_steps\n",
            "[LightGBM] [Warning] Unknown parameter: global_max_steps\n",
            "[LightGBM] [Warning] Unknown parameter: global_max_steps\n",
            "[LightGBM] [Warning] Unknown parameter: global_max_steps\n",
            "[LightGBM] [Warning] Unknown parameter: global_max_steps\n",
            "[LightGBM] [Warning] Unknown parameter: global_max_steps\n",
            "[LightGBM] [Warning] Unknown parameter: global_max_steps\n",
            "[LightGBM] [Warning] Unknown parameter: global_max_steps\n"
          ]
        },
        {
          "output_type": "stream",
          "name": "stderr",
          "text": [
            "[flaml.automl: 11-26 06:29:55] {2482} INFO -  at 1.6s,\testimator lgbm's best error=0.1811,\tbest estimator lgbm's best error=0.1811\n",
            "[flaml.automl: 11-26 06:29:55] {2288} INFO - iteration 20, current learner lgbm\n",
            "[flaml.automl: 11-26 06:29:55] {2482} INFO -  at 1.6s,\testimator lgbm's best error=0.1811,\tbest estimator lgbm's best error=0.1811\n",
            "[flaml.automl: 11-26 06:29:55] {2288} INFO - iteration 21, current learner lgbm\n",
            "[flaml.automl: 11-26 06:29:55] {2482} INFO -  at 1.7s,\testimator lgbm's best error=0.1811,\tbest estimator lgbm's best error=0.1811\n",
            "[flaml.automl: 11-26 06:29:55] {2288} INFO - iteration 22, current learner lgbm\n"
          ]
        },
        {
          "output_type": "stream",
          "name": "stdout",
          "text": [
            "[LightGBM] [Warning] Unknown parameter: global_max_steps\n",
            "[LightGBM] [Warning] Unknown parameter: global_max_steps\n",
            "[LightGBM] [Warning] Unknown parameter: global_max_steps\n",
            "[LightGBM] [Warning] Unknown parameter: global_max_steps\n",
            "[LightGBM] [Warning] Unknown parameter: global_max_steps\n",
            "[LightGBM] [Warning] Unknown parameter: global_max_steps\n",
            "[LightGBM] [Warning] Unknown parameter: global_max_steps\n",
            "[LightGBM] [Warning] Unknown parameter: global_max_steps\n",
            "[LightGBM] [Warning] Unknown parameter: global_max_steps\n",
            "[LightGBM] [Warning] Unknown parameter: global_max_steps\n",
            "[LightGBM] [Warning] Unknown parameter: global_max_steps\n",
            "[LightGBM] [Warning] Unknown parameter: global_max_steps\n",
            "[LightGBM] [Warning] Unknown parameter: global_max_steps\n",
            "[LightGBM] [Warning] Unknown parameter: global_max_steps\n",
            "[LightGBM] [Warning] Unknown parameter: global_max_steps\n"
          ]
        },
        {
          "output_type": "stream",
          "name": "stderr",
          "text": [
            "[flaml.automl: 11-26 06:29:55] {2482} INFO -  at 1.8s,\testimator lgbm's best error=0.1811,\tbest estimator lgbm's best error=0.1811\n",
            "[flaml.automl: 11-26 06:29:55] {2288} INFO - iteration 23, current learner lgbm\n",
            "[flaml.automl: 11-26 06:29:55] {2482} INFO -  at 1.8s,\testimator lgbm's best error=0.1811,\tbest estimator lgbm's best error=0.1811\n",
            "[flaml.automl: 11-26 06:29:55] {2288} INFO - iteration 24, current learner lgbm\n",
            "[flaml.automl: 11-26 06:29:55] {2482} INFO -  at 1.9s,\testimator lgbm's best error=0.1811,\tbest estimator lgbm's best error=0.1811\n",
            "[flaml.automl: 11-26 06:29:55] {2288} INFO - iteration 25, current learner lgbm\n"
          ]
        },
        {
          "output_type": "stream",
          "name": "stdout",
          "text": [
            "[LightGBM] [Warning] Unknown parameter: global_max_steps\n",
            "[LightGBM] [Warning] Unknown parameter: global_max_steps\n",
            "[LightGBM] [Warning] Unknown parameter: global_max_steps\n",
            "[LightGBM] [Warning] Unknown parameter: global_max_steps\n",
            "[LightGBM] [Warning] Unknown parameter: global_max_steps\n",
            "[LightGBM] [Warning] Unknown parameter: global_max_steps\n",
            "[LightGBM] [Warning] Unknown parameter: global_max_steps\n",
            "[LightGBM] [Warning] Unknown parameter: global_max_steps\n",
            "[LightGBM] [Warning] Unknown parameter: global_max_steps\n",
            "[LightGBM] [Warning] Unknown parameter: global_max_steps\n",
            "[LightGBM] [Warning] Unknown parameter: global_max_steps\n",
            "[LightGBM] [Warning] Unknown parameter: global_max_steps\n",
            "[LightGBM] [Warning] Unknown parameter: global_max_steps\n",
            "[LightGBM] [Warning] Unknown parameter: global_max_steps\n"
          ]
        },
        {
          "output_type": "stream",
          "name": "stderr",
          "text": [
            "[flaml.automl: 11-26 06:29:55] {2482} INFO -  at 2.0s,\testimator lgbm's best error=0.1811,\tbest estimator lgbm's best error=0.1811\n",
            "[flaml.automl: 11-26 06:29:55] {2288} INFO - iteration 26, current learner lgbm\n",
            "[flaml.automl: 11-26 06:29:56] {2482} INFO -  at 2.1s,\testimator lgbm's best error=0.1811,\tbest estimator lgbm's best error=0.1811\n",
            "[flaml.automl: 11-26 06:29:56] {2288} INFO - iteration 27, current learner lgbm\n",
            "[flaml.automl: 11-26 06:29:56] {2482} INFO -  at 2.2s,\testimator lgbm's best error=0.1811,\tbest estimator lgbm's best error=0.1811\n",
            "[flaml.automl: 11-26 06:29:56] {2288} INFO - iteration 28, current learner lgbm\n"
          ]
        },
        {
          "output_type": "stream",
          "name": "stdout",
          "text": [
            "[LightGBM] [Warning] Unknown parameter: global_max_steps\n",
            "[LightGBM] [Warning] Unknown parameter: global_max_steps\n",
            "[LightGBM] [Warning] Unknown parameter: global_max_steps\n",
            "[LightGBM] [Warning] Unknown parameter: global_max_steps\n",
            "[LightGBM] [Warning] Unknown parameter: global_max_steps\n",
            "[LightGBM] [Warning] Unknown parameter: global_max_steps\n",
            "[LightGBM] [Warning] Unknown parameter: global_max_steps\n",
            "[LightGBM] [Warning] Unknown parameter: global_max_steps\n",
            "[LightGBM] [Warning] Unknown parameter: global_max_steps\n",
            "[LightGBM] [Warning] Unknown parameter: global_max_steps\n",
            "[LightGBM] [Warning] Unknown parameter: global_max_steps\n",
            "[LightGBM] [Warning] Unknown parameter: global_max_steps\n",
            "[LightGBM] [Warning] Unknown parameter: global_max_steps\n",
            "[LightGBM] [Warning] Unknown parameter: global_max_steps\n"
          ]
        },
        {
          "output_type": "stream",
          "name": "stderr",
          "text": [
            "[flaml.automl: 11-26 06:29:56] {2482} INFO -  at 2.2s,\testimator lgbm's best error=0.1811,\tbest estimator lgbm's best error=0.1811\n",
            "[flaml.automl: 11-26 06:29:56] {2288} INFO - iteration 29, current learner lgbm\n",
            "[flaml.automl: 11-26 06:29:56] {2482} INFO -  at 2.3s,\testimator lgbm's best error=0.1811,\tbest estimator lgbm's best error=0.1811\n",
            "[flaml.automl: 11-26 06:29:56] {2288} INFO - iteration 30, current learner lgbm\n",
            "[flaml.automl: 11-26 06:29:56] {2482} INFO -  at 2.4s,\testimator lgbm's best error=0.1811,\tbest estimator lgbm's best error=0.1811\n",
            "[flaml.automl: 11-26 06:29:56] {2288} INFO - iteration 31, current learner lgbm\n"
          ]
        },
        {
          "output_type": "stream",
          "name": "stdout",
          "text": [
            "[LightGBM] [Warning] Unknown parameter: global_max_steps\n",
            "[LightGBM] [Warning] Unknown parameter: global_max_steps\n",
            "[LightGBM] [Warning] Unknown parameter: global_max_steps\n",
            "[LightGBM] [Warning] Unknown parameter: global_max_steps\n",
            "[LightGBM] [Warning] Unknown parameter: global_max_steps\n",
            "[LightGBM] [Warning] Unknown parameter: global_max_steps\n",
            "[LightGBM] [Warning] Unknown parameter: global_max_steps\n",
            "[LightGBM] [Warning] Unknown parameter: global_max_steps\n",
            "[LightGBM] [Warning] Unknown parameter: global_max_steps\n",
            "[LightGBM] [Warning] Unknown parameter: global_max_steps\n",
            "[LightGBM] [Warning] Unknown parameter: global_max_steps\n",
            "[LightGBM] [Warning] Unknown parameter: global_max_steps\n",
            "[LightGBM] [Warning] Unknown parameter: global_max_steps\n",
            "[LightGBM] [Warning] Unknown parameter: global_max_steps\n"
          ]
        },
        {
          "output_type": "stream",
          "name": "stderr",
          "text": [
            "[flaml.automl: 11-26 06:29:56] {2482} INFO -  at 2.5s,\testimator lgbm's best error=0.1811,\tbest estimator lgbm's best error=0.1811\n",
            "[flaml.automl: 11-26 06:29:56] {2288} INFO - iteration 32, current learner lgbm\n",
            "[flaml.automl: 11-26 06:29:56] {2482} INFO -  at 2.5s,\testimator lgbm's best error=0.1811,\tbest estimator lgbm's best error=0.1811\n",
            "[flaml.automl: 11-26 06:29:56] {2288} INFO - iteration 33, current learner lgbm\n",
            "[flaml.automl: 11-26 06:29:56] {2482} INFO -  at 2.6s,\testimator lgbm's best error=0.1811,\tbest estimator lgbm's best error=0.1811\n",
            "[flaml.automl: 11-26 06:29:56] {2288} INFO - iteration 34, current learner lgbm\n"
          ]
        },
        {
          "output_type": "stream",
          "name": "stdout",
          "text": [
            "[LightGBM] [Warning] Unknown parameter: global_max_steps\n",
            "[LightGBM] [Warning] Unknown parameter: global_max_steps\n",
            "[LightGBM] [Warning] Unknown parameter: global_max_steps\n",
            "[LightGBM] [Warning] Unknown parameter: global_max_steps\n",
            "[LightGBM] [Warning] Unknown parameter: global_max_steps\n",
            "[LightGBM] [Warning] Unknown parameter: global_max_steps\n",
            "[LightGBM] [Warning] Unknown parameter: global_max_steps\n",
            "[LightGBM] [Warning] Unknown parameter: global_max_steps\n",
            "[LightGBM] [Warning] Unknown parameter: global_max_steps\n",
            "[LightGBM] [Warning] Unknown parameter: global_max_steps\n",
            "[LightGBM] [Warning] Unknown parameter: global_max_steps\n",
            "[LightGBM] [Warning] Unknown parameter: global_max_steps\n",
            "[LightGBM] [Warning] Unknown parameter: global_max_steps\n",
            "[LightGBM] [Warning] Unknown parameter: global_max_steps\n",
            "[LightGBM] [Warning] Unknown parameter: global_max_steps\n"
          ]
        },
        {
          "output_type": "stream",
          "name": "stderr",
          "text": [
            "[flaml.automl: 11-26 06:29:56] {2482} INFO -  at 2.7s,\testimator lgbm's best error=0.1811,\tbest estimator lgbm's best error=0.1811\n",
            "[flaml.automl: 11-26 06:29:56] {2288} INFO - iteration 35, current learner lgbm\n",
            "[flaml.automl: 11-26 06:29:56] {2482} INFO -  at 2.8s,\testimator lgbm's best error=0.1811,\tbest estimator lgbm's best error=0.1811\n",
            "[flaml.automl: 11-26 06:29:56] {2288} INFO - iteration 36, current learner lgbm\n",
            "[flaml.automl: 11-26 06:29:56] {2482} INFO -  at 2.8s,\testimator lgbm's best error=0.1811,\tbest estimator lgbm's best error=0.1811\n",
            "[flaml.automl: 11-26 06:29:56] {2288} INFO - iteration 37, current learner lgbm\n"
          ]
        },
        {
          "output_type": "stream",
          "name": "stdout",
          "text": [
            "[LightGBM] [Warning] Unknown parameter: global_max_steps\n",
            "[LightGBM] [Warning] Unknown parameter: global_max_steps\n",
            "[LightGBM] [Warning] Unknown parameter: global_max_steps\n",
            "[LightGBM] [Warning] Unknown parameter: global_max_steps\n",
            "[LightGBM] [Warning] Unknown parameter: global_max_steps\n",
            "[LightGBM] [Warning] Unknown parameter: global_max_steps\n",
            "[LightGBM] [Warning] Unknown parameter: global_max_steps\n",
            "[LightGBM] [Warning] Unknown parameter: global_max_steps\n",
            "[LightGBM] [Warning] Unknown parameter: global_max_steps\n",
            "[LightGBM] [Warning] Unknown parameter: global_max_steps\n",
            "[LightGBM] [Warning] Unknown parameter: global_max_steps\n",
            "[LightGBM] [Warning] Unknown parameter: global_max_steps\n",
            "[LightGBM] [Warning] Unknown parameter: global_max_steps\n",
            "[LightGBM] [Warning] Unknown parameter: global_max_steps\n"
          ]
        },
        {
          "output_type": "stream",
          "name": "stderr",
          "text": [
            "[flaml.automl: 11-26 06:29:56] {2482} INFO -  at 2.9s,\testimator lgbm's best error=0.1811,\tbest estimator lgbm's best error=0.1811\n",
            "[flaml.automl: 11-26 06:29:56] {2288} INFO - iteration 38, current learner lgbm\n",
            "[flaml.automl: 11-26 06:29:56] {2482} INFO -  at 3.0s,\testimator lgbm's best error=0.1811,\tbest estimator lgbm's best error=0.1811\n",
            "[flaml.automl: 11-26 06:29:56] {2288} INFO - iteration 39, current learner lgbm\n"
          ]
        },
        {
          "output_type": "stream",
          "name": "stdout",
          "text": [
            "[LightGBM] [Warning] Unknown parameter: global_max_steps\n",
            "[LightGBM] [Warning] Unknown parameter: global_max_steps\n",
            "[LightGBM] [Warning] Unknown parameter: global_max_steps\n",
            "[LightGBM] [Warning] Unknown parameter: global_max_steps\n",
            "[LightGBM] [Warning] Unknown parameter: global_max_steps\n",
            "[LightGBM] [Warning] Unknown parameter: global_max_steps\n",
            "[LightGBM] [Warning] Unknown parameter: global_max_steps\n",
            "[LightGBM] [Warning] Unknown parameter: global_max_steps\n",
            "[LightGBM] [Warning] Unknown parameter: global_max_steps\n",
            "[LightGBM] [Warning] Unknown parameter: global_max_steps\n",
            "[LightGBM] [Warning] Unknown parameter: global_max_steps\n",
            "[LightGBM] [Warning] Unknown parameter: global_max_steps\n",
            "[LightGBM] [Warning] Unknown parameter: global_max_steps\n",
            "[LightGBM] [Warning] Unknown parameter: global_max_steps\n"
          ]
        },
        {
          "output_type": "stream",
          "name": "stderr",
          "text": [
            "[flaml.automl: 11-26 06:29:57] {2482} INFO -  at 3.1s,\testimator lgbm's best error=0.1811,\tbest estimator lgbm's best error=0.1811\n",
            "[flaml.automl: 11-26 06:29:57] {2288} INFO - iteration 40, current learner lgbm\n",
            "[flaml.automl: 11-26 06:29:57] {2482} INFO -  at 3.2s,\testimator lgbm's best error=0.1811,\tbest estimator lgbm's best error=0.1811\n",
            "[flaml.automl: 11-26 06:29:57] {2288} INFO - iteration 41, current learner lgbm\n",
            "[flaml.automl: 11-26 06:29:57] {2482} INFO -  at 3.2s,\testimator lgbm's best error=0.1811,\tbest estimator lgbm's best error=0.1811\n",
            "[flaml.automl: 11-26 06:29:57] {2288} INFO - iteration 42, current learner lgbm\n"
          ]
        },
        {
          "output_type": "stream",
          "name": "stdout",
          "text": [
            "[LightGBM] [Warning] Unknown parameter: global_max_steps\n",
            "[LightGBM] [Warning] Unknown parameter: global_max_steps\n",
            "[LightGBM] [Warning] Unknown parameter: global_max_steps\n",
            "[LightGBM] [Warning] Unknown parameter: global_max_steps\n",
            "[LightGBM] [Warning] Unknown parameter: global_max_steps\n",
            "[LightGBM] [Warning] Unknown parameter: global_max_steps\n",
            "[LightGBM] [Warning] Unknown parameter: global_max_steps\n",
            "[LightGBM] [Warning] Unknown parameter: global_max_steps\n",
            "[LightGBM] [Warning] Unknown parameter: global_max_steps\n",
            "[LightGBM] [Warning] Unknown parameter: global_max_steps\n",
            "[LightGBM] [Warning] Unknown parameter: global_max_steps\n",
            "[LightGBM] [Warning] Unknown parameter: global_max_steps\n",
            "[LightGBM] [Warning] Unknown parameter: global_max_steps\n",
            "[LightGBM] [Warning] Unknown parameter: global_max_steps\n",
            "[LightGBM] [Warning] Unknown parameter: global_max_steps"
          ]
        },
        {
          "output_type": "stream",
          "name": "stderr",
          "text": [
            "[flaml.automl: 11-26 06:29:57] {2482} INFO -  at 3.3s,\testimator lgbm's best error=0.1790,\tbest estimator lgbm's best error=0.1790\n",
            "[flaml.automl: 11-26 06:29:57] {2288} INFO - iteration 43, current learner lgbm\n",
            "[flaml.automl: 11-26 06:29:57] {2482} INFO -  at 3.4s,\testimator lgbm's best error=0.1769,\tbest estimator lgbm's best error=0.1769\n",
            "[flaml.automl: 11-26 06:29:57] {2288} INFO - iteration 44, current learner lgbm\n"
          ]
        },
        {
          "output_type": "stream",
          "name": "stdout",
          "text": [
            "\n",
            "[LightGBM] [Warning] Unknown parameter: global_max_steps\n",
            "[LightGBM] [Warning] Unknown parameter: global_max_steps\n",
            "[LightGBM] [Warning] Unknown parameter: global_max_steps\n",
            "[LightGBM] [Warning] Unknown parameter: global_max_steps\n",
            "[LightGBM] [Warning] Unknown parameter: global_max_steps\n",
            "[LightGBM] [Warning] Unknown parameter: global_max_steps\n",
            "[LightGBM] [Warning] Unknown parameter: global_max_steps\n",
            "[LightGBM] [Warning] Unknown parameter: global_max_steps\n",
            "[LightGBM] [Warning] Unknown parameter: global_max_steps\n",
            "[LightGBM] [Warning] Unknown parameter: global_max_steps\n",
            "[LightGBM] [Warning] Unknown parameter: global_max_steps\n"
          ]
        },
        {
          "output_type": "stream",
          "name": "stderr",
          "text": [
            "[flaml.automl: 11-26 06:29:57] {2482} INFO -  at 3.5s,\testimator lgbm's best error=0.1769,\tbest estimator lgbm's best error=0.1769\n",
            "[flaml.automl: 11-26 06:29:57] {2288} INFO - iteration 45, current learner lgbm\n",
            "[flaml.automl: 11-26 06:29:57] {2482} INFO -  at 3.6s,\testimator lgbm's best error=0.1769,\tbest estimator lgbm's best error=0.1769\n",
            "[flaml.automl: 11-26 06:29:57] {2288} INFO - iteration 46, current learner lgbm\n",
            "[flaml.automl: 11-26 06:29:57] {2482} INFO -  at 3.7s,\testimator lgbm's best error=0.1769,\tbest estimator lgbm's best error=0.1769\n",
            "[flaml.automl: 11-26 06:29:57] {2288} INFO - iteration 47, current learner lgbm\n"
          ]
        },
        {
          "output_type": "stream",
          "name": "stdout",
          "text": [
            "[LightGBM] [Warning] Unknown parameter: global_max_steps\n",
            "[LightGBM] [Warning] Unknown parameter: global_max_steps\n",
            "[LightGBM] [Warning] Unknown parameter: global_max_steps\n",
            "[LightGBM] [Warning] Unknown parameter: global_max_steps\n",
            "[LightGBM] [Warning] Unknown parameter: global_max_steps\n",
            "[LightGBM] [Warning] Unknown parameter: global_max_steps\n",
            "[LightGBM] [Warning] Unknown parameter: global_max_steps\n",
            "[LightGBM] [Warning] Unknown parameter: global_max_steps\n",
            "[LightGBM] [Warning] Unknown parameter: global_max_steps\n",
            "[LightGBM] [Warning] Unknown parameter: global_max_steps\n",
            "[LightGBM] [Warning] Unknown parameter: global_max_steps\n"
          ]
        },
        {
          "output_type": "stream",
          "name": "stderr",
          "text": [
            "[flaml.automl: 11-26 06:29:57] {2482} INFO -  at 3.8s,\testimator lgbm's best error=0.1769,\tbest estimator lgbm's best error=0.1769\n",
            "[flaml.automl: 11-26 06:29:57] {2288} INFO - iteration 48, current learner lgbm\n",
            "[flaml.automl: 11-26 06:29:57] {2482} INFO -  at 3.9s,\testimator lgbm's best error=0.1769,\tbest estimator lgbm's best error=0.1769\n",
            "[flaml.automl: 11-26 06:29:57] {2288} INFO - iteration 49, current learner lgbm\n"
          ]
        },
        {
          "output_type": "stream",
          "name": "stdout",
          "text": [
            "[LightGBM] [Warning] Unknown parameter: global_max_steps\n",
            "[LightGBM] [Warning] Unknown parameter: global_max_steps\n",
            "[LightGBM] [Warning] Unknown parameter: global_max_steps\n",
            "[LightGBM] [Warning] Unknown parameter: global_max_steps\n",
            "[LightGBM] [Warning] Unknown parameter: global_max_steps\n",
            "[LightGBM] [Warning] Unknown parameter: global_max_steps\n",
            "[LightGBM] [Warning] Unknown parameter: global_max_steps\n",
            "[LightGBM] [Warning] Unknown parameter: global_max_steps\n",
            "[LightGBM] [Warning] Unknown parameter: global_max_steps\n",
            "[LightGBM] [Warning] Unknown parameter: global_max_steps\n",
            "[LightGBM] [Warning] Unknown parameter: global_max_steps\n"
          ]
        },
        {
          "output_type": "stream",
          "name": "stderr",
          "text": [
            "[flaml.automl: 11-26 06:29:57] {2482} INFO -  at 4.0s,\testimator lgbm's best error=0.1769,\tbest estimator lgbm's best error=0.1769\n",
            "[flaml.automl: 11-26 06:29:57] {2288} INFO - iteration 50, current learner lgbm\n",
            "[flaml.automl: 11-26 06:29:58] {2482} INFO -  at 4.1s,\testimator lgbm's best error=0.1769,\tbest estimator lgbm's best error=0.1769\n",
            "[flaml.automl: 11-26 06:29:58] {2288} INFO - iteration 51, current learner lgbm\n"
          ]
        },
        {
          "output_type": "stream",
          "name": "stdout",
          "text": [
            "[LightGBM] [Warning] Unknown parameter: global_max_steps\n",
            "[LightGBM] [Warning] Unknown parameter: global_max_steps\n",
            "[LightGBM] [Warning] Unknown parameter: global_max_steps\n",
            "[LightGBM] [Warning] Unknown parameter: global_max_steps\n",
            "[LightGBM] [Warning] Unknown parameter: global_max_steps\n",
            "[LightGBM] [Warning] Unknown parameter: global_max_steps\n",
            "[LightGBM] [Warning] Unknown parameter: global_max_steps\n",
            "[LightGBM] [Warning] Unknown parameter: global_max_steps\n",
            "[LightGBM] [Warning] Unknown parameter: global_max_steps\n"
          ]
        },
        {
          "output_type": "stream",
          "name": "stderr",
          "text": [
            "[flaml.automl: 11-26 06:29:58] {2482} INFO -  at 4.2s,\testimator lgbm's best error=0.1769,\tbest estimator lgbm's best error=0.1769\n",
            "[flaml.automl: 11-26 06:29:58] {2288} INFO - iteration 52, current learner lgbm\n",
            "[flaml.automl: 11-26 06:29:58] {2482} INFO -  at 4.3s,\testimator lgbm's best error=0.1769,\tbest estimator lgbm's best error=0.1769\n",
            "[flaml.automl: 11-26 06:29:58] {2288} INFO - iteration 53, current learner lgbm\n"
          ]
        },
        {
          "output_type": "stream",
          "name": "stdout",
          "text": [
            "[LightGBM] [Warning] Unknown parameter: global_max_steps\n",
            "[LightGBM] [Warning] Unknown parameter: global_max_steps\n",
            "[LightGBM] [Warning] Unknown parameter: global_max_steps\n",
            "[LightGBM] [Warning] Unknown parameter: global_max_steps\n",
            "[LightGBM] [Warning] Unknown parameter: global_max_steps\n",
            "[LightGBM] [Warning] Unknown parameter: global_max_steps\n",
            "[LightGBM] [Warning] Unknown parameter: global_max_steps\n",
            "[LightGBM] [Warning] Unknown parameter: global_max_steps\n",
            "[LightGBM] [Warning] Unknown parameter: global_max_steps\n",
            "[LightGBM] [Warning] Unknown parameter: global_max_steps\n",
            "[LightGBM] [Warning] Unknown parameter: global_max_steps\n"
          ]
        },
        {
          "output_type": "stream",
          "name": "stderr",
          "text": [
            "[flaml.automl: 11-26 06:29:58] {2482} INFO -  at 4.4s,\testimator lgbm's best error=0.1769,\tbest estimator lgbm's best error=0.1769\n",
            "[flaml.automl: 11-26 06:29:58] {2288} INFO - iteration 54, current learner lgbm\n",
            "[flaml.automl: 11-26 06:29:58] {2482} INFO -  at 4.5s,\testimator lgbm's best error=0.1769,\tbest estimator lgbm's best error=0.1769\n",
            "[flaml.automl: 11-26 06:29:58] {2288} INFO - iteration 55, current learner lgbm\n"
          ]
        },
        {
          "output_type": "stream",
          "name": "stdout",
          "text": [
            "[LightGBM] [Warning] Unknown parameter: global_max_steps\n",
            "[LightGBM] [Warning] Unknown parameter: global_max_steps\n",
            "[LightGBM] [Warning] Unknown parameter: global_max_steps\n",
            "[LightGBM] [Warning] Unknown parameter: global_max_steps\n",
            "[LightGBM] [Warning] Unknown parameter: global_max_steps\n",
            "[LightGBM] [Warning] Unknown parameter: global_max_steps\n",
            "[LightGBM] [Warning] Unknown parameter: global_max_steps\n",
            "[LightGBM] [Warning] Unknown parameter: global_max_steps\n",
            "[LightGBM] [Warning] Unknown parameter: global_max_steps\n",
            "[LightGBM] [Warning] Unknown parameter: global_max_steps\n",
            "[LightGBM] [Warning] Unknown parameter: global_max_steps\n",
            "[LightGBM] [Warning] Unknown parameter: global_max_steps\n"
          ]
        },
        {
          "output_type": "stream",
          "name": "stderr",
          "text": [
            "[flaml.automl: 11-26 06:29:58] {2482} INFO -  at 4.6s,\testimator lgbm's best error=0.1769,\tbest estimator lgbm's best error=0.1769\n",
            "[flaml.automl: 11-26 06:29:58] {2288} INFO - iteration 56, current learner lgbm\n",
            "[flaml.automl: 11-26 06:29:58] {2482} INFO -  at 4.7s,\testimator lgbm's best error=0.1769,\tbest estimator lgbm's best error=0.1769\n",
            "[flaml.automl: 11-26 06:29:58] {2288} INFO - iteration 57, current learner lgbm\n",
            "[flaml.automl: 11-26 06:29:58] {2482} INFO -  at 4.8s,\testimator lgbm's best error=0.1769,\tbest estimator lgbm's best error=0.1769\n",
            "[flaml.automl: 11-26 06:29:58] {2288} INFO - iteration 58, current learner lgbm\n"
          ]
        },
        {
          "output_type": "stream",
          "name": "stdout",
          "text": [
            "[LightGBM] [Warning] Unknown parameter: global_max_steps\n",
            "[LightGBM] [Warning] Unknown parameter: global_max_steps\n",
            "[LightGBM] [Warning] Unknown parameter: global_max_steps\n",
            "[LightGBM] [Warning] Unknown parameter: global_max_steps\n",
            "[LightGBM] [Warning] Unknown parameter: global_max_steps\n",
            "[LightGBM] [Warning] Unknown parameter: global_max_steps\n",
            "[LightGBM] [Warning] Unknown parameter: global_max_steps\n",
            "[LightGBM] [Warning] Unknown parameter: global_max_steps\n",
            "[LightGBM] [Warning] Unknown parameter: global_max_steps\n",
            "[LightGBM] [Warning] Unknown parameter: global_max_steps\n",
            "[LightGBM] [Warning] Unknown parameter: global_max_steps\n",
            "[LightGBM] [Warning] Unknown parameter: global_max_steps"
          ]
        },
        {
          "output_type": "stream",
          "name": "stderr",
          "text": [
            "[flaml.automl: 11-26 06:29:58] {2482} INFO -  at 4.9s,\testimator lgbm's best error=0.1769,\tbest estimator lgbm's best error=0.1769\n",
            "[flaml.automl: 11-26 06:29:58] {2288} INFO - iteration 59, current learner lgbm\n",
            "[flaml.automl: 11-26 06:29:58] {2482} INFO -  at 5.0s,\testimator lgbm's best error=0.1769,\tbest estimator lgbm's best error=0.1769\n",
            "[flaml.automl: 11-26 06:29:58] {2288} INFO - iteration 60, current learner lgbm\n"
          ]
        },
        {
          "output_type": "stream",
          "name": "stdout",
          "text": [
            "\n",
            "[LightGBM] [Warning] Unknown parameter: global_max_steps\n",
            "[LightGBM] [Warning] Unknown parameter: global_max_steps\n",
            "[LightGBM] [Warning] Unknown parameter: global_max_steps\n",
            "[LightGBM] [Warning] Unknown parameter: global_max_steps\n",
            "[LightGBM] [Warning] Unknown parameter: global_max_steps\n",
            "[LightGBM] [Warning] Unknown parameter: global_max_steps\n",
            "[LightGBM] [Warning] Unknown parameter: global_max_steps\n",
            "[LightGBM] [Warning] Unknown parameter: global_max_steps\n",
            "[LightGBM] [Warning] Unknown parameter: global_max_steps\n",
            "[LightGBM] [Warning] Unknown parameter: global_max_steps\n",
            "[LightGBM] [Warning] Unknown parameter: global_max_steps\n"
          ]
        },
        {
          "output_type": "stream",
          "name": "stderr",
          "text": [
            "[flaml.automl: 11-26 06:29:59] {2482} INFO -  at 5.1s,\testimator lgbm's best error=0.1769,\tbest estimator lgbm's best error=0.1769\n",
            "[flaml.automl: 11-26 06:29:59] {2288} INFO - iteration 61, current learner lgbm\n",
            "[flaml.automl: 11-26 06:29:59] {2482} INFO -  at 5.2s,\testimator lgbm's best error=0.1769,\tbest estimator lgbm's best error=0.1769\n",
            "[flaml.automl: 11-26 06:29:59] {2288} INFO - iteration 62, current learner lgbm\n"
          ]
        },
        {
          "output_type": "stream",
          "name": "stdout",
          "text": [
            "[LightGBM] [Warning] Unknown parameter: global_max_steps\n",
            "[LightGBM] [Warning] Unknown parameter: global_max_steps\n",
            "[LightGBM] [Warning] Unknown parameter: global_max_steps\n",
            "[LightGBM] [Warning] Unknown parameter: global_max_steps\n",
            "[LightGBM] [Warning] Unknown parameter: global_max_steps\n",
            "[LightGBM] [Warning] Unknown parameter: global_max_steps\n",
            "[LightGBM] [Warning] Unknown parameter: global_max_steps\n",
            "[LightGBM] [Warning] Unknown parameter: global_max_steps\n",
            "[LightGBM] [Warning] Unknown parameter: global_max_steps\n",
            "[LightGBM] [Warning] Unknown parameter: global_max_steps\n"
          ]
        },
        {
          "output_type": "stream",
          "name": "stderr",
          "text": [
            "[flaml.automl: 11-26 06:29:59] {2482} INFO -  at 5.3s,\testimator lgbm's best error=0.1769,\tbest estimator lgbm's best error=0.1769\n",
            "[flaml.automl: 11-26 06:29:59] {2288} INFO - iteration 63, current learner lgbm\n",
            "[flaml.automl: 11-26 06:29:59] {2482} INFO -  at 5.4s,\testimator lgbm's best error=0.1769,\tbest estimator lgbm's best error=0.1769\n",
            "[flaml.automl: 11-26 06:29:59] {2288} INFO - iteration 64, current learner lgbm\n"
          ]
        },
        {
          "output_type": "stream",
          "name": "stdout",
          "text": [
            "[LightGBM] [Warning] Unknown parameter: global_max_steps\n",
            "[LightGBM] [Warning] Unknown parameter: global_max_steps\n",
            "[LightGBM] [Warning] Unknown parameter: global_max_steps\n",
            "[LightGBM] [Warning] Unknown parameter: global_max_steps\n",
            "[LightGBM] [Warning] Unknown parameter: global_max_steps\n",
            "[LightGBM] [Warning] Unknown parameter: global_max_steps\n",
            "[LightGBM] [Warning] Unknown parameter: global_max_steps\n",
            "[LightGBM] [Warning] Unknown parameter: global_max_steps\n",
            "[LightGBM] [Warning] Unknown parameter: global_max_steps\n",
            "[LightGBM] [Warning] Unknown parameter: global_max_steps\n",
            "[LightGBM] [Warning] Unknown parameter: global_max_steps\n",
            "[LightGBM] [Warning] Unknown parameter: global_max_steps\n",
            "[LightGBM] [Warning] Unknown parameter: global_max_steps\n"
          ]
        },
        {
          "output_type": "stream",
          "name": "stderr",
          "text": [
            "[flaml.automl: 11-26 06:29:59] {2482} INFO -  at 5.5s,\testimator lgbm's best error=0.1769,\tbest estimator lgbm's best error=0.1769\n",
            "[flaml.automl: 11-26 06:29:59] {2288} INFO - iteration 65, current learner lgbm\n",
            "[flaml.automl: 11-26 06:29:59] {2482} INFO -  at 5.5s,\testimator lgbm's best error=0.1768,\tbest estimator lgbm's best error=0.1768\n",
            "[flaml.automl: 11-26 06:29:59] {2288} INFO - iteration 66, current learner lgbm\n",
            "[flaml.automl: 11-26 06:29:59] {2482} INFO -  at 5.6s,\testimator lgbm's best error=0.1768,\tbest estimator lgbm's best error=0.1768\n",
            "[flaml.automl: 11-26 06:29:59] {2288} INFO - iteration 67, current learner lgbm\n"
          ]
        },
        {
          "output_type": "stream",
          "name": "stdout",
          "text": [
            "[LightGBM] [Warning] Unknown parameter: global_max_steps\n",
            "[LightGBM] [Warning] Unknown parameter: global_max_steps\n",
            "[LightGBM] [Warning] Unknown parameter: global_max_steps\n",
            "[LightGBM] [Warning] Unknown parameter: global_max_steps\n",
            "[LightGBM] [Warning] Unknown parameter: global_max_steps\n",
            "[LightGBM] [Warning] Unknown parameter: global_max_steps\n",
            "[LightGBM] [Warning] Unknown parameter: global_max_steps\n",
            "[LightGBM] [Warning] Unknown parameter: global_max_steps\n",
            "[LightGBM] [Warning] Unknown parameter: global_max_steps\n",
            "[LightGBM] [Warning] Unknown parameter: global_max_steps\n",
            "[LightGBM] [Warning] Unknown parameter: global_max_steps\n"
          ]
        },
        {
          "output_type": "stream",
          "name": "stderr",
          "text": [
            "[flaml.automl: 11-26 06:29:59] {2482} INFO -  at 5.8s,\testimator lgbm's best error=0.1768,\tbest estimator lgbm's best error=0.1768\n",
            "[flaml.automl: 11-26 06:29:59] {2288} INFO - iteration 68, current learner lgbm\n",
            "[flaml.automl: 11-26 06:29:59] {2482} INFO -  at 5.9s,\testimator lgbm's best error=0.1768,\tbest estimator lgbm's best error=0.1768\n",
            "[flaml.automl: 11-26 06:29:59] {2288} INFO - iteration 69, current learner lgbm\n"
          ]
        },
        {
          "output_type": "stream",
          "name": "stdout",
          "text": [
            "[LightGBM] [Warning] Unknown parameter: global_max_steps\n",
            "[LightGBM] [Warning] Unknown parameter: global_max_steps\n",
            "[LightGBM] [Warning] Unknown parameter: global_max_steps\n",
            "[LightGBM] [Warning] Unknown parameter: global_max_steps\n",
            "[LightGBM] [Warning] Unknown parameter: global_max_steps\n",
            "[LightGBM] [Warning] Unknown parameter: global_max_steps\n",
            "[LightGBM] [Warning] Unknown parameter: global_max_steps\n",
            "[LightGBM] [Warning] Unknown parameter: global_max_steps\n",
            "[LightGBM] [Warning] Unknown parameter: global_max_steps\n",
            "[LightGBM] [Warning] Unknown parameter: global_max_steps\n"
          ]
        },
        {
          "output_type": "stream",
          "name": "stderr",
          "text": [
            "[flaml.automl: 11-26 06:29:59] {2482} INFO -  at 6.0s,\testimator lgbm's best error=0.1768,\tbest estimator lgbm's best error=0.1768\n",
            "[flaml.automl: 11-26 06:29:59] {2288} INFO - iteration 70, current learner lgbm\n",
            "[flaml.automl: 11-26 06:30:00] {2482} INFO -  at 6.1s,\testimator lgbm's best error=0.1755,\tbest estimator lgbm's best error=0.1755\n",
            "[flaml.automl: 11-26 06:30:00] {2288} INFO - iteration 71, current learner lgbm\n"
          ]
        },
        {
          "output_type": "stream",
          "name": "stdout",
          "text": [
            "[LightGBM] [Warning] Unknown parameter: global_max_steps\n",
            "[LightGBM] [Warning] Unknown parameter: global_max_steps\n",
            "[LightGBM] [Warning] Unknown parameter: global_max_steps\n",
            "[LightGBM] [Warning] Unknown parameter: global_max_steps\n",
            "[LightGBM] [Warning] Unknown parameter: global_max_steps\n",
            "[LightGBM] [Warning] Unknown parameter: global_max_steps\n",
            "[LightGBM] [Warning] Unknown parameter: global_max_steps\n",
            "[LightGBM] [Warning] Unknown parameter: global_max_steps\n",
            "[LightGBM] [Warning] Unknown parameter: global_max_steps\n"
          ]
        },
        {
          "output_type": "stream",
          "name": "stderr",
          "text": [
            "[flaml.automl: 11-26 06:30:00] {2482} INFO -  at 6.2s,\testimator lgbm's best error=0.1755,\tbest estimator lgbm's best error=0.1755\n",
            "[flaml.automl: 11-26 06:30:00] {2288} INFO - iteration 72, current learner lgbm\n",
            "[flaml.automl: 11-26 06:30:00] {2482} INFO -  at 6.3s,\testimator lgbm's best error=0.1755,\tbest estimator lgbm's best error=0.1755\n",
            "[flaml.automl: 11-26 06:30:00] {2288} INFO - iteration 73, current learner lgbm\n"
          ]
        },
        {
          "output_type": "stream",
          "name": "stdout",
          "text": [
            "[LightGBM] [Warning] Unknown parameter: global_max_steps\n",
            "[LightGBM] [Warning] Unknown parameter: global_max_steps\n",
            "[LightGBM] [Warning] Unknown parameter: global_max_steps\n",
            "[LightGBM] [Warning] Unknown parameter: global_max_steps\n",
            "[LightGBM] [Warning] Unknown parameter: global_max_steps\n",
            "[LightGBM] [Warning] Unknown parameter: global_max_steps\n",
            "[LightGBM] [Warning] Unknown parameter: global_max_steps\n",
            "[LightGBM] [Warning] Unknown parameter: global_max_steps\n",
            "[LightGBM] [Warning] Unknown parameter: global_max_steps\n",
            "[LightGBM] [Warning] Unknown parameter: global_max_steps\n",
            "[LightGBM] [Warning] Unknown parameter: global_max_steps\n",
            "[LightGBM] [Warning] Unknown parameter: global_max_steps\n",
            "[LightGBM] [Warning] Unknown parameter: global_max_steps\n",
            "[LightGBM] [Warning] Unknown parameter: global_max_steps\n"
          ]
        },
        {
          "output_type": "stream",
          "name": "stderr",
          "text": [
            "[flaml.automl: 11-26 06:30:00] {2482} INFO -  at 6.4s,\testimator lgbm's best error=0.1755,\tbest estimator lgbm's best error=0.1755\n",
            "[flaml.automl: 11-26 06:30:00] {2288} INFO - iteration 74, current learner lgbm\n",
            "[flaml.automl: 11-26 06:30:00] {2482} INFO -  at 6.5s,\testimator lgbm's best error=0.1755,\tbest estimator lgbm's best error=0.1755\n",
            "[flaml.automl: 11-26 06:30:00] {2288} INFO - iteration 75, current learner lgbm\n"
          ]
        },
        {
          "output_type": "stream",
          "name": "stdout",
          "text": [
            "[LightGBM] [Warning] Unknown parameter: global_max_steps\n",
            "[LightGBM] [Warning] Unknown parameter: global_max_steps\n",
            "[LightGBM] [Warning] Unknown parameter: global_max_steps\n",
            "[LightGBM] [Warning] Unknown parameter: global_max_steps\n",
            "[LightGBM] [Warning] Unknown parameter: global_max_steps\n",
            "[LightGBM] [Warning] Unknown parameter: global_max_steps\n",
            "[LightGBM] [Warning] Unknown parameter: global_max_steps\n",
            "[LightGBM] [Warning] Unknown parameter: global_max_steps\n",
            "[LightGBM] [Warning] Unknown parameter: global_max_steps\n",
            "[LightGBM] [Warning] Unknown parameter: global_max_steps\n",
            "[LightGBM] [Warning] Unknown parameter: global_max_steps\n"
          ]
        },
        {
          "output_type": "stream",
          "name": "stderr",
          "text": [
            "[flaml.automl: 11-26 06:30:00] {2482} INFO -  at 6.6s,\testimator lgbm's best error=0.1755,\tbest estimator lgbm's best error=0.1755\n",
            "[flaml.automl: 11-26 06:30:00] {2288} INFO - iteration 76, current learner lgbm\n",
            "[flaml.automl: 11-26 06:30:00] {2482} INFO -  at 6.6s,\testimator lgbm's best error=0.1755,\tbest estimator lgbm's best error=0.1755\n",
            "[flaml.automl: 11-26 06:30:00] {2288} INFO - iteration 77, current learner lgbm\n",
            "[flaml.automl: 11-26 06:30:00] {2482} INFO -  at 6.7s,\testimator lgbm's best error=0.1755,\tbest estimator lgbm's best error=0.1755\n",
            "[flaml.automl: 11-26 06:30:00] {2288} INFO - iteration 78, current learner lgbm\n"
          ]
        },
        {
          "output_type": "stream",
          "name": "stdout",
          "text": [
            "[LightGBM] [Warning] Unknown parameter: global_max_steps\n",
            "[LightGBM] [Warning] Unknown parameter: global_max_steps\n",
            "[LightGBM] [Warning] Unknown parameter: global_max_steps\n",
            "[LightGBM] [Warning] Unknown parameter: global_max_steps\n",
            "[LightGBM] [Warning] Unknown parameter: global_max_steps\n",
            "[LightGBM] [Warning] Unknown parameter: global_max_steps\n",
            "[LightGBM] [Warning] Unknown parameter: global_max_steps\n",
            "[LightGBM] [Warning] Unknown parameter: global_max_steps\n",
            "[LightGBM] [Warning] Unknown parameter: global_max_steps\n",
            "[LightGBM] [Warning] Unknown parameter: global_max_steps\n",
            "[LightGBM] [Warning] Unknown parameter: global_max_steps\n",
            "[LightGBM] [Warning] Unknown parameter: global_max_steps\n",
            "[LightGBM] [Warning] Unknown parameter: global_max_steps\n",
            "[LightGBM] [Warning] Unknown parameter: global_max_steps\n"
          ]
        },
        {
          "output_type": "stream",
          "name": "stderr",
          "text": [
            "[flaml.automl: 11-26 06:30:00] {2482} INFO -  at 6.8s,\testimator lgbm's best error=0.1755,\tbest estimator lgbm's best error=0.1755\n",
            "[flaml.automl: 11-26 06:30:00] {2288} INFO - iteration 79, current learner lgbm\n",
            "[flaml.automl: 11-26 06:30:00] {2482} INFO -  at 6.9s,\testimator lgbm's best error=0.1707,\tbest estimator lgbm's best error=0.1707\n",
            "[flaml.automl: 11-26 06:30:00] {2288} INFO - iteration 80, current learner lgbm\n",
            "[flaml.automl: 11-26 06:30:00] {2482} INFO -  at 7.0s,\testimator lgbm's best error=0.1707,\tbest estimator lgbm's best error=0.1707\n",
            "[flaml.automl: 11-26 06:30:00] {2288} INFO - iteration 81, current learner lgbm\n"
          ]
        },
        {
          "output_type": "stream",
          "name": "stdout",
          "text": [
            "[LightGBM] [Warning] Unknown parameter: global_max_steps\n",
            "[LightGBM] [Warning] Unknown parameter: global_max_steps\n",
            "[LightGBM] [Warning] Unknown parameter: global_max_steps\n",
            "[LightGBM] [Warning] Unknown parameter: global_max_steps\n",
            "[LightGBM] [Warning] Unknown parameter: global_max_steps\n",
            "[LightGBM] [Warning] Unknown parameter: global_max_steps\n",
            "[LightGBM] [Warning] Unknown parameter: global_max_steps\n",
            "[LightGBM] [Warning] Unknown parameter: global_max_steps\n",
            "[LightGBM] [Warning] Unknown parameter: global_max_steps\n",
            "[LightGBM] [Warning] Unknown parameter: global_max_steps\n",
            "[LightGBM] [Warning] Unknown parameter: global_max_steps\n",
            "[LightGBM] [Warning] Unknown parameter: global_max_steps\n"
          ]
        },
        {
          "output_type": "stream",
          "name": "stderr",
          "text": [
            "[flaml.automl: 11-26 06:30:01] {2482} INFO -  at 7.1s,\testimator lgbm's best error=0.1707,\tbest estimator lgbm's best error=0.1707\n",
            "[flaml.automl: 11-26 06:30:01] {2288} INFO - iteration 82, current learner lgbm\n",
            "[flaml.automl: 11-26 06:30:01] {2482} INFO -  at 7.2s,\testimator lgbm's best error=0.1707,\tbest estimator lgbm's best error=0.1707\n",
            "[flaml.automl: 11-26 06:30:01] {2288} INFO - iteration 83, current learner lgbm\n"
          ]
        },
        {
          "output_type": "stream",
          "name": "stdout",
          "text": [
            "[LightGBM] [Warning] Unknown parameter: global_max_steps\n",
            "[LightGBM] [Warning] Unknown parameter: global_max_steps\n",
            "[LightGBM] [Warning] Unknown parameter: global_max_steps\n",
            "[LightGBM] [Warning] Unknown parameter: global_max_steps\n",
            "[LightGBM] [Warning] Unknown parameter: global_max_steps\n",
            "[LightGBM] [Warning] Unknown parameter: global_max_steps\n",
            "[LightGBM] [Warning] Unknown parameter: global_max_steps\n",
            "[LightGBM] [Warning] Unknown parameter: global_max_steps\n",
            "[LightGBM] [Warning] Unknown parameter: global_max_steps\n",
            "[LightGBM] [Warning] Unknown parameter: global_max_steps\n",
            "[LightGBM] [Warning] Unknown parameter: global_max_steps\n"
          ]
        },
        {
          "output_type": "stream",
          "name": "stderr",
          "text": [
            "[flaml.automl: 11-26 06:30:01] {2482} INFO -  at 7.3s,\testimator lgbm's best error=0.1707,\tbest estimator lgbm's best error=0.1707\n",
            "[flaml.automl: 11-26 06:30:01] {2288} INFO - iteration 84, current learner lgbm\n",
            "[flaml.automl: 11-26 06:30:01] {2482} INFO -  at 7.4s,\testimator lgbm's best error=0.1707,\tbest estimator lgbm's best error=0.1707\n",
            "[flaml.automl: 11-26 06:30:01] {2288} INFO - iteration 85, current learner lgbm\n"
          ]
        },
        {
          "output_type": "stream",
          "name": "stdout",
          "text": [
            "[LightGBM] [Warning] Unknown parameter: global_max_steps\n",
            "[LightGBM] [Warning] Unknown parameter: global_max_steps\n",
            "[LightGBM] [Warning] Unknown parameter: global_max_steps\n",
            "[LightGBM] [Warning] Unknown parameter: global_max_steps\n",
            "[LightGBM] [Warning] Unknown parameter: global_max_steps\n",
            "[LightGBM] [Warning] Unknown parameter: global_max_steps\n",
            "[LightGBM] [Warning] Unknown parameter: global_max_steps\n",
            "[LightGBM] [Warning] Unknown parameter: global_max_steps\n",
            "[LightGBM] [Warning] Unknown parameter: global_max_steps\n",
            "[LightGBM] [Warning] Unknown parameter: global_max_steps\n",
            "[LightGBM] [Warning] Unknown parameter: global_max_steps\n",
            "[LightGBM] [Warning] Unknown parameter: global_max_steps\n"
          ]
        },
        {
          "output_type": "stream",
          "name": "stderr",
          "text": [
            "[flaml.automl: 11-26 06:30:01] {2482} INFO -  at 7.5s,\testimator lgbm's best error=0.1707,\tbest estimator lgbm's best error=0.1707\n",
            "[flaml.automl: 11-26 06:30:01] {2288} INFO - iteration 86, current learner lgbm\n",
            "[flaml.automl: 11-26 06:30:01] {2482} INFO -  at 7.6s,\testimator lgbm's best error=0.1707,\tbest estimator lgbm's best error=0.1707\n",
            "[flaml.automl: 11-26 06:30:01] {2288} INFO - iteration 87, current learner lgbm\n",
            "[flaml.automl: 11-26 06:30:01] {2482} INFO -  at 7.7s,\testimator lgbm's best error=0.1707,\tbest estimator lgbm's best error=0.1707\n",
            "[flaml.automl: 11-26 06:30:01] {2288} INFO - iteration 88, current learner lgbm\n"
          ]
        },
        {
          "output_type": "stream",
          "name": "stdout",
          "text": [
            "[LightGBM] [Warning] Unknown parameter: global_max_steps\n",
            "[LightGBM] [Warning] Unknown parameter: global_max_steps\n",
            "[LightGBM] [Warning] Unknown parameter: global_max_steps\n",
            "[LightGBM] [Warning] Unknown parameter: global_max_steps\n",
            "[LightGBM] [Warning] Unknown parameter: global_max_steps\n",
            "[LightGBM] [Warning] Unknown parameter: global_max_steps\n",
            "[LightGBM] [Warning] Unknown parameter: global_max_steps\n",
            "[LightGBM] [Warning] Unknown parameter: global_max_steps\n",
            "[LightGBM] [Warning] Unknown parameter: global_max_steps\n",
            "[LightGBM] [Warning] Unknown parameter: global_max_steps\n",
            "[LightGBM] [Warning] Unknown parameter: global_max_steps\n"
          ]
        },
        {
          "output_type": "stream",
          "name": "stderr",
          "text": [
            "[flaml.automl: 11-26 06:30:01] {2482} INFO -  at 7.7s,\testimator lgbm's best error=0.1707,\tbest estimator lgbm's best error=0.1707\n",
            "[flaml.automl: 11-26 06:30:01] {2288} INFO - iteration 89, current learner lgbm\n",
            "[flaml.automl: 11-26 06:30:01] {2482} INFO -  at 7.8s,\testimator lgbm's best error=0.1707,\tbest estimator lgbm's best error=0.1707\n",
            "[flaml.automl: 11-26 06:30:01] {2288} INFO - iteration 90, current learner lgbm\n"
          ]
        },
        {
          "output_type": "stream",
          "name": "stdout",
          "text": [
            "[LightGBM] [Warning] Unknown parameter: global_max_steps\n",
            "[LightGBM] [Warning] Unknown parameter: global_max_steps\n",
            "[LightGBM] [Warning] Unknown parameter: global_max_steps\n",
            "[LightGBM] [Warning] Unknown parameter: global_max_steps\n",
            "[LightGBM] [Warning] Unknown parameter: global_max_steps\n",
            "[LightGBM] [Warning] Unknown parameter: global_max_steps\n",
            "[LightGBM] [Warning] Unknown parameter: global_max_steps\n",
            "[LightGBM] [Warning] Unknown parameter: global_max_steps\n",
            "[LightGBM] [Warning] Unknown parameter: global_max_steps\n",
            "[LightGBM] [Warning] Unknown parameter: global_max_steps\n",
            "[LightGBM] [Warning] Unknown parameter: global_max_steps\n",
            "[LightGBM] [Warning] Unknown parameter: global_max_steps\n"
          ]
        },
        {
          "output_type": "stream",
          "name": "stderr",
          "text": [
            "[flaml.automl: 11-26 06:30:01] {2482} INFO -  at 7.9s,\testimator lgbm's best error=0.1707,\tbest estimator lgbm's best error=0.1707\n",
            "[flaml.automl: 11-26 06:30:01] {2288} INFO - iteration 91, current learner lgbm\n",
            "[flaml.automl: 11-26 06:30:01] {2482} INFO -  at 8.0s,\testimator lgbm's best error=0.1707,\tbest estimator lgbm's best error=0.1707\n",
            "[flaml.automl: 11-26 06:30:01] {2288} INFO - iteration 92, current learner lgbm\n"
          ]
        },
        {
          "output_type": "stream",
          "name": "stdout",
          "text": [
            "[LightGBM] [Warning] Unknown parameter: global_max_steps\n",
            "[LightGBM] [Warning] Unknown parameter: global_max_steps\n",
            "[LightGBM] [Warning] Unknown parameter: global_max_steps\n",
            "[LightGBM] [Warning] Unknown parameter: global_max_steps\n",
            "[LightGBM] [Warning] Unknown parameter: global_max_steps\n",
            "[LightGBM] [Warning] Unknown parameter: global_max_steps\n",
            "[LightGBM] [Warning] Unknown parameter: global_max_steps\n",
            "[LightGBM] [Warning] Unknown parameter: global_max_steps\n",
            "[LightGBM] [Warning] Unknown parameter: global_max_steps\n",
            "[LightGBM] [Warning] Unknown parameter: global_max_steps\n",
            "[LightGBM] [Warning] Unknown parameter: global_max_steps\n",
            "[LightGBM] [Warning] Unknown parameter: global_max_steps\n"
          ]
        },
        {
          "output_type": "stream",
          "name": "stderr",
          "text": [
            "[flaml.automl: 11-26 06:30:02] {2482} INFO -  at 8.1s,\testimator lgbm's best error=0.1707,\tbest estimator lgbm's best error=0.1707\n",
            "[flaml.automl: 11-26 06:30:02] {2288} INFO - iteration 93, current learner lgbm\n",
            "[flaml.automl: 11-26 06:30:02] {2482} INFO -  at 8.2s,\testimator lgbm's best error=0.1707,\tbest estimator lgbm's best error=0.1707\n",
            "[flaml.automl: 11-26 06:30:02] {2288} INFO - iteration 94, current learner lgbm\n"
          ]
        },
        {
          "output_type": "stream",
          "name": "stdout",
          "text": [
            "[LightGBM] [Warning] Unknown parameter: global_max_steps\n",
            "[LightGBM] [Warning] Unknown parameter: global_max_steps\n",
            "[LightGBM] [Warning] Unknown parameter: global_max_steps\n",
            "[LightGBM] [Warning] Unknown parameter: global_max_steps\n",
            "[LightGBM] [Warning] Unknown parameter: global_max_steps\n",
            "[LightGBM] [Warning] Unknown parameter: global_max_steps\n",
            "[LightGBM] [Warning] Unknown parameter: global_max_steps\n",
            "[LightGBM] [Warning] Unknown parameter: global_max_steps\n",
            "[LightGBM] [Warning] Unknown parameter: global_max_steps\n",
            "[LightGBM] [Warning] Unknown parameter: global_max_steps\n",
            "[LightGBM] [Warning] Unknown parameter: global_max_steps\n"
          ]
        },
        {
          "output_type": "stream",
          "name": "stderr",
          "text": [
            "[flaml.automl: 11-26 06:30:02] {2482} INFO -  at 8.3s,\testimator lgbm's best error=0.1707,\tbest estimator lgbm's best error=0.1707\n",
            "[flaml.automl: 11-26 06:30:02] {2288} INFO - iteration 95, current learner lgbm\n",
            "[flaml.automl: 11-26 06:30:02] {2482} INFO -  at 8.4s,\testimator lgbm's best error=0.1707,\tbest estimator lgbm's best error=0.1707\n",
            "[flaml.automl: 11-26 06:30:02] {2288} INFO - iteration 96, current learner lgbm\n",
            "[flaml.automl: 11-26 06:30:02] {2482} INFO -  at 8.5s,\testimator lgbm's best error=0.1707,\tbest estimator lgbm's best error=0.1707\n",
            "[flaml.automl: 11-26 06:30:02] {2288} INFO - iteration 97, current learner lgbm\n"
          ]
        },
        {
          "output_type": "stream",
          "name": "stdout",
          "text": [
            "[LightGBM] [Warning] Unknown parameter: global_max_steps\n",
            "[LightGBM] [Warning] Unknown parameter: global_max_steps\n",
            "[LightGBM] [Warning] Unknown parameter: global_max_steps\n",
            "[LightGBM] [Warning] Unknown parameter: global_max_steps\n",
            "[LightGBM] [Warning] Unknown parameter: global_max_steps\n",
            "[LightGBM] [Warning] Unknown parameter: global_max_steps\n",
            "[LightGBM] [Warning] Unknown parameter: global_max_steps\n",
            "[LightGBM] [Warning] Unknown parameter: global_max_steps\n",
            "[LightGBM] [Warning] Unknown parameter: global_max_steps\n",
            "[LightGBM] [Warning] Unknown parameter: global_max_steps\n",
            "[LightGBM] [Warning] Unknown parameter: global_max_steps\n",
            "[LightGBM] [Warning] Unknown parameter: global_max_steps\n"
          ]
        },
        {
          "output_type": "stream",
          "name": "stderr",
          "text": [
            "[flaml.automl: 11-26 06:30:02] {2482} INFO -  at 8.6s,\testimator lgbm's best error=0.1707,\tbest estimator lgbm's best error=0.1707\n",
            "[flaml.automl: 11-26 06:30:02] {2288} INFO - iteration 98, current learner lgbm\n",
            "[flaml.automl: 11-26 06:30:02] {2482} INFO -  at 8.7s,\testimator lgbm's best error=0.1707,\tbest estimator lgbm's best error=0.1707\n",
            "[flaml.automl: 11-26 06:30:02] {2288} INFO - iteration 99, current learner lgbm\n"
          ]
        },
        {
          "output_type": "stream",
          "name": "stdout",
          "text": [
            "[LightGBM] [Warning] Unknown parameter: global_max_steps\n",
            "[LightGBM] [Warning] Unknown parameter: global_max_steps\n",
            "[LightGBM] [Warning] Unknown parameter: global_max_steps\n",
            "[LightGBM] [Warning] Unknown parameter: global_max_steps\n",
            "[LightGBM] [Warning] Unknown parameter: global_max_steps\n",
            "[LightGBM] [Warning] Unknown parameter: global_max_steps\n",
            "[LightGBM] [Warning] Unknown parameter: global_max_steps\n",
            "[LightGBM] [Warning] Unknown parameter: global_max_steps\n",
            "[LightGBM] [Warning] Unknown parameter: global_max_steps\n",
            "[LightGBM] [Warning] Unknown parameter: global_max_steps\n",
            "[LightGBM] [Warning] Unknown parameter: global_max_steps\n",
            "[LightGBM] [Warning] Unknown parameter: global_max_steps\n",
            "[LightGBM] [Warning] Unknown parameter: global_max_steps\n"
          ]
        },
        {
          "output_type": "stream",
          "name": "stderr",
          "text": [
            "[flaml.automl: 11-26 06:30:02] {2482} INFO -  at 8.8s,\testimator lgbm's best error=0.1707,\tbest estimator lgbm's best error=0.1707\n",
            "[flaml.automl: 11-26 06:30:02] {2288} INFO - iteration 100, current learner lgbm\n",
            "[flaml.automl: 11-26 06:30:02] {2482} INFO -  at 8.8s,\testimator lgbm's best error=0.1707,\tbest estimator lgbm's best error=0.1707\n",
            "[flaml.automl: 11-26 06:30:02] {2288} INFO - iteration 101, current learner lgbm\n",
            "[flaml.automl: 11-26 06:30:02] {2482} INFO -  at 9.0s,\testimator lgbm's best error=0.1707,\tbest estimator lgbm's best error=0.1707\n",
            "[flaml.automl: 11-26 06:30:02] {2288} INFO - iteration 102, current learner lgbm\n"
          ]
        },
        {
          "output_type": "stream",
          "name": "stdout",
          "text": [
            "[LightGBM] [Warning] Unknown parameter: global_max_steps\n",
            "[LightGBM] [Warning] Unknown parameter: global_max_steps\n",
            "[LightGBM] [Warning] Unknown parameter: global_max_steps\n",
            "[LightGBM] [Warning] Unknown parameter: global_max_steps\n",
            "[LightGBM] [Warning] Unknown parameter: global_max_steps\n",
            "[LightGBM] [Warning] Unknown parameter: global_max_steps\n",
            "[LightGBM] [Warning] Unknown parameter: global_max_steps\n",
            "[LightGBM] [Warning] Unknown parameter: global_max_steps\n",
            "[LightGBM] [Warning] Unknown parameter: global_max_steps\n",
            "[LightGBM] [Warning] Unknown parameter: global_max_steps\n"
          ]
        },
        {
          "output_type": "stream",
          "name": "stderr",
          "text": [
            "[flaml.automl: 11-26 06:30:02] {2482} INFO -  at 9.0s,\testimator lgbm's best error=0.1707,\tbest estimator lgbm's best error=0.1707\n",
            "[flaml.automl: 11-26 06:30:02] {2288} INFO - iteration 103, current learner lgbm\n",
            "[flaml.automl: 11-26 06:30:03] {2482} INFO -  at 9.1s,\testimator lgbm's best error=0.1707,\tbest estimator lgbm's best error=0.1707\n",
            "[flaml.automl: 11-26 06:30:03] {2288} INFO - iteration 104, current learner lgbm\n"
          ]
        },
        {
          "output_type": "stream",
          "name": "stdout",
          "text": [
            "[LightGBM] [Warning] Unknown parameter: global_max_steps\n",
            "[LightGBM] [Warning] Unknown parameter: global_max_steps\n",
            "[LightGBM] [Warning] Unknown parameter: global_max_steps\n",
            "[LightGBM] [Warning] Unknown parameter: global_max_steps\n",
            "[LightGBM] [Warning] Unknown parameter: global_max_steps\n",
            "[LightGBM] [Warning] Unknown parameter: global_max_steps\n",
            "[LightGBM] [Warning] Unknown parameter: global_max_steps\n",
            "[LightGBM] [Warning] Unknown parameter: global_max_steps\n",
            "[LightGBM] [Warning] Unknown parameter: global_max_steps\n",
            "[LightGBM] [Warning] Unknown parameter: global_max_steps\n",
            "[LightGBM] [Warning] Unknown parameter: global_max_steps\n"
          ]
        },
        {
          "output_type": "stream",
          "name": "stderr",
          "text": [
            "[flaml.automl: 11-26 06:30:03] {2482} INFO -  at 9.2s,\testimator lgbm's best error=0.1707,\tbest estimator lgbm's best error=0.1707\n",
            "[flaml.automl: 11-26 06:30:03] {2288} INFO - iteration 105, current learner lgbm\n",
            "[flaml.automl: 11-26 06:30:03] {2482} INFO -  at 9.3s,\testimator lgbm's best error=0.1707,\tbest estimator lgbm's best error=0.1707\n",
            "[flaml.automl: 11-26 06:30:03] {2288} INFO - iteration 106, current learner lgbm\n"
          ]
        },
        {
          "output_type": "stream",
          "name": "stdout",
          "text": [
            "[LightGBM] [Warning] Unknown parameter: global_max_steps\n",
            "[LightGBM] [Warning] Unknown parameter: global_max_steps\n",
            "[LightGBM] [Warning] Unknown parameter: global_max_steps\n",
            "[LightGBM] [Warning] Unknown parameter: global_max_steps\n",
            "[LightGBM] [Warning] Unknown parameter: global_max_steps\n",
            "[LightGBM] [Warning] Unknown parameter: global_max_steps\n",
            "[LightGBM] [Warning] Unknown parameter: global_max_steps\n",
            "[LightGBM] [Warning] Unknown parameter: global_max_steps\n",
            "[LightGBM] [Warning] Unknown parameter: global_max_steps\n",
            "[LightGBM] [Warning] Unknown parameter: global_max_steps\n",
            "[LightGBM] [Warning] Unknown parameter: global_max_steps\n",
            "[LightGBM] [Warning] Unknown parameter: global_max_steps\n",
            "[LightGBM] [Warning] Unknown parameter: global_max_steps\n"
          ]
        },
        {
          "output_type": "stream",
          "name": "stderr",
          "text": [
            "[flaml.automl: 11-26 06:30:03] {2482} INFO -  at 9.4s,\testimator lgbm's best error=0.1707,\tbest estimator lgbm's best error=0.1707\n",
            "[flaml.automl: 11-26 06:30:03] {2288} INFO - iteration 107, current learner lgbm\n",
            "[flaml.automl: 11-26 06:30:03] {2482} INFO -  at 9.5s,\testimator lgbm's best error=0.1707,\tbest estimator lgbm's best error=0.1707\n",
            "[flaml.automl: 11-26 06:30:03] {2288} INFO - iteration 108, current learner lgbm\n"
          ]
        },
        {
          "output_type": "stream",
          "name": "stdout",
          "text": [
            "[LightGBM] [Warning] Unknown parameter: global_max_steps\n",
            "[LightGBM] [Warning] Unknown parameter: global_max_steps\n",
            "[LightGBM] [Warning] Unknown parameter: global_max_steps\n",
            "[LightGBM] [Warning] Unknown parameter: global_max_steps\n",
            "[LightGBM] [Warning] Unknown parameter: global_max_steps\n",
            "[LightGBM] [Warning] Unknown parameter: global_max_steps\n",
            "[LightGBM] [Warning] Unknown parameter: global_max_steps\n",
            "[LightGBM] [Warning] Unknown parameter: global_max_steps\n",
            "[LightGBM] [Warning] Unknown parameter: global_max_steps\n",
            "[LightGBM] [Warning] Unknown parameter: global_max_steps\n"
          ]
        },
        {
          "output_type": "stream",
          "name": "stderr",
          "text": [
            "[flaml.automl: 11-26 06:30:03] {2482} INFO -  at 9.6s,\testimator lgbm's best error=0.1707,\tbest estimator lgbm's best error=0.1707\n",
            "[flaml.automl: 11-26 06:30:03] {2288} INFO - iteration 109, current learner lgbm\n",
            "[flaml.automl: 11-26 06:30:03] {2482} INFO -  at 9.7s,\testimator lgbm's best error=0.1707,\tbest estimator lgbm's best error=0.1707\n",
            "[flaml.automl: 11-26 06:30:03] {2288} INFO - iteration 110, current learner lgbm\n",
            "[flaml.automl: 11-26 06:30:03] {2482} INFO -  at 9.8s,\testimator lgbm's best error=0.1707,\tbest estimator lgbm's best error=0.1707\n",
            "[flaml.automl: 11-26 06:30:03] {2288} INFO - iteration 111, current learner lgbm\n"
          ]
        },
        {
          "output_type": "stream",
          "name": "stdout",
          "text": [
            "[LightGBM] [Warning] Unknown parameter: global_max_steps\n",
            "[LightGBM] [Warning] Unknown parameter: global_max_steps\n",
            "[LightGBM] [Warning] Unknown parameter: global_max_steps\n",
            "[LightGBM] [Warning] Unknown parameter: global_max_steps\n",
            "[LightGBM] [Warning] Unknown parameter: global_max_steps\n",
            "[LightGBM] [Warning] Unknown parameter: global_max_steps\n",
            "[LightGBM] [Warning] Unknown parameter: global_max_steps\n",
            "[LightGBM] [Warning] Unknown parameter: global_max_steps\n",
            "[LightGBM] [Warning] Unknown parameter: global_max_steps\n",
            "[LightGBM] [Warning] Unknown parameter: global_max_steps\n",
            "[LightGBM] [Warning] Unknown parameter: global_max_steps\n",
            "[LightGBM] [Warning] Unknown parameter: global_max_steps\n"
          ]
        },
        {
          "output_type": "stream",
          "name": "stderr",
          "text": [
            "[flaml.automl: 11-26 06:30:03] {2482} INFO -  at 9.9s,\testimator lgbm's best error=0.1707,\tbest estimator lgbm's best error=0.1707\n",
            "[flaml.automl: 11-26 06:30:03] {2694} INFO - retrain lgbm for 0.0s\n",
            "[flaml.automl: 11-26 06:30:03] {2699} INFO - retrained model: LGBMClassifier(colsample_bytree=0.9059036548131386,\n",
            "               global_max_steps=9223372036854775807,\n",
            "               learning_rate=0.49200399698931196, max_bin=255,\n",
            "               min_child_samples=12, n_estimators=14, num_leaves=5,\n",
            "               reg_alpha=0.004558917759404429, reg_lambda=5.081388219675573,\n",
            "               verbose=-1)\n",
            "[flaml.automl: 11-26 06:30:03] {2077} INFO - fit succeeded\n",
            "[flaml.automl: 11-26 06:30:03] {2079} INFO - Time taken to find the best model: 6.902140855789185\n"
          ]
        },
        {
          "output_type": "stream",
          "name": "stdout",
          "text": [
            "[LightGBM] [Warning] Unknown parameter: global_max_steps\n",
            "[LightGBM] [Warning] Unknown parameter: global_max_steps\n",
            "[LightGBM] [Warning] Unknown parameter: global_max_steps\n",
            "[LightGBM] [Warning] Unknown parameter: global_max_steps\n",
            "[LightGBM] [Warning] Unknown parameter: global_max_steps\n"
          ]
        }
      ]
    },
    {
      "cell_type": "code",
      "metadata": {
        "colab": {
          "base_uri": "https://localhost:8080/"
        },
        "id": "fpcuGbDopG7F",
        "outputId": "e0f4263a-2726-4c4f-a81a-75f8c67d7d9e"
      },
      "source": [
        "print('Best ML leaner:', clf.best_estimator)\n",
        "print('Best hyperparmeter config:', clf.best_config)"
      ],
      "execution_count": null,
      "outputs": [
        {
          "output_type": "stream",
          "name": "stdout",
          "text": [
            "Best ML leaner: lgbm\n",
            "Best hyperparmeter config: {'n_estimators': 14, 'num_leaves': 5, 'min_child_samples': 12, 'learning_rate': 0.49200399698931196, 'log_max_bin': 8, 'colsample_bytree': 0.9059036548131386, 'reg_alpha': 0.004558917759404429, 'reg_lambda': 5.081388219675573}\n"
          ]
        }
      ]
    },
    {
      "cell_type": "code",
      "metadata": {
        "id": "KToTAukPfno0"
      },
      "source": [
        "predicted = clf.predict(x_test)"
      ],
      "execution_count": null,
      "outputs": []
    },
    {
      "cell_type": "code",
      "metadata": {
        "colab": {
          "base_uri": "https://localhost:8080/"
        },
        "id": "rPk5lrrLvYXM",
        "outputId": "053d1df1-b74b-49ec-9c3d-302d45722e13"
      },
      "source": [
        "from sklearn.metrics import classification_report\n",
        "\n",
        "print(classification_report(y_test, predicted, target_names=labels))"
      ],
      "execution_count": null,
      "outputs": [
        {
          "output_type": "stream",
          "name": "stdout",
          "text": [
            "                 precision    recall  f1-score   support\n",
            "\n",
            "    Iris-setosa       1.00      1.00      1.00        10\n",
            "Iris-versicolor       1.00      1.00      1.00         9\n",
            " Iris-virginica       1.00      1.00      1.00        11\n",
            "\n",
            "       accuracy                           1.00        30\n",
            "      macro avg       1.00      1.00      1.00        30\n",
            "   weighted avg       1.00      1.00      1.00        30\n",
            "\n"
          ]
        }
      ]
    },
    {
      "cell_type": "markdown",
      "metadata": {
        "id": "x36EsMh6Z2vK"
      },
      "source": [
        "## Regressor"
      ]
    },
    {
      "cell_type": "code",
      "metadata": {
        "colab": {
          "base_uri": "https://localhost:8080/",
          "height": 424
        },
        "id": "4zlMbapvjHIf",
        "outputId": "7ed40972-5520-47bb-985e-83db0d1b644a"
      },
      "source": [
        "import pandas as pd\n",
        "\n",
        "df = pd.read_csv('https://github.com/PacktPublishing/Automated-Machine-Learning-with-AutoKeras/raw/main/boston.csv')\n",
        "df"
      ],
      "execution_count": null,
      "outputs": [
        {
          "output_type": "execute_result",
          "data": {
            "text/html": [
              "<div>\n",
              "<style scoped>\n",
              "    .dataframe tbody tr th:only-of-type {\n",
              "        vertical-align: middle;\n",
              "    }\n",
              "\n",
              "    .dataframe tbody tr th {\n",
              "        vertical-align: top;\n",
              "    }\n",
              "\n",
              "    .dataframe thead th {\n",
              "        text-align: right;\n",
              "    }\n",
              "</style>\n",
              "<table border=\"1\" class=\"dataframe\">\n",
              "  <thead>\n",
              "    <tr style=\"text-align: right;\">\n",
              "      <th></th>\n",
              "      <th>CRIM</th>\n",
              "      <th>ZN</th>\n",
              "      <th>INDUS</th>\n",
              "      <th>CHAS</th>\n",
              "      <th>NOX</th>\n",
              "      <th>RM</th>\n",
              "      <th>AGE</th>\n",
              "      <th>DIS</th>\n",
              "      <th>RAD</th>\n",
              "      <th>TAX</th>\n",
              "      <th>PTRATIO</th>\n",
              "      <th>LSTAT</th>\n",
              "      <th>MEDV</th>\n",
              "    </tr>\n",
              "  </thead>\n",
              "  <tbody>\n",
              "    <tr>\n",
              "      <th>0</th>\n",
              "      <td>0.00632</td>\n",
              "      <td>18.0</td>\n",
              "      <td>2.31</td>\n",
              "      <td>0</td>\n",
              "      <td>0.538</td>\n",
              "      <td>6.575</td>\n",
              "      <td>65.2</td>\n",
              "      <td>4.0900</td>\n",
              "      <td>1</td>\n",
              "      <td>296</td>\n",
              "      <td>15.3</td>\n",
              "      <td>4.98</td>\n",
              "      <td>24.0</td>\n",
              "    </tr>\n",
              "    <tr>\n",
              "      <th>1</th>\n",
              "      <td>0.02731</td>\n",
              "      <td>0.0</td>\n",
              "      <td>7.07</td>\n",
              "      <td>0</td>\n",
              "      <td>0.469</td>\n",
              "      <td>6.421</td>\n",
              "      <td>78.9</td>\n",
              "      <td>4.9671</td>\n",
              "      <td>2</td>\n",
              "      <td>242</td>\n",
              "      <td>17.8</td>\n",
              "      <td>9.14</td>\n",
              "      <td>21.6</td>\n",
              "    </tr>\n",
              "    <tr>\n",
              "      <th>2</th>\n",
              "      <td>0.02729</td>\n",
              "      <td>0.0</td>\n",
              "      <td>7.07</td>\n",
              "      <td>0</td>\n",
              "      <td>0.469</td>\n",
              "      <td>7.185</td>\n",
              "      <td>61.1</td>\n",
              "      <td>4.9671</td>\n",
              "      <td>2</td>\n",
              "      <td>242</td>\n",
              "      <td>17.8</td>\n",
              "      <td>4.03</td>\n",
              "      <td>34.7</td>\n",
              "    </tr>\n",
              "    <tr>\n",
              "      <th>3</th>\n",
              "      <td>0.03237</td>\n",
              "      <td>0.0</td>\n",
              "      <td>2.18</td>\n",
              "      <td>0</td>\n",
              "      <td>0.458</td>\n",
              "      <td>6.998</td>\n",
              "      <td>45.8</td>\n",
              "      <td>6.0622</td>\n",
              "      <td>3</td>\n",
              "      <td>222</td>\n",
              "      <td>18.7</td>\n",
              "      <td>2.94</td>\n",
              "      <td>33.4</td>\n",
              "    </tr>\n",
              "    <tr>\n",
              "      <th>4</th>\n",
              "      <td>0.06905</td>\n",
              "      <td>0.0</td>\n",
              "      <td>2.18</td>\n",
              "      <td>0</td>\n",
              "      <td>0.458</td>\n",
              "      <td>7.147</td>\n",
              "      <td>54.2</td>\n",
              "      <td>6.0622</td>\n",
              "      <td>3</td>\n",
              "      <td>222</td>\n",
              "      <td>18.7</td>\n",
              "      <td>5.33</td>\n",
              "      <td>36.2</td>\n",
              "    </tr>\n",
              "    <tr>\n",
              "      <th>...</th>\n",
              "      <td>...</td>\n",
              "      <td>...</td>\n",
              "      <td>...</td>\n",
              "      <td>...</td>\n",
              "      <td>...</td>\n",
              "      <td>...</td>\n",
              "      <td>...</td>\n",
              "      <td>...</td>\n",
              "      <td>...</td>\n",
              "      <td>...</td>\n",
              "      <td>...</td>\n",
              "      <td>...</td>\n",
              "      <td>...</td>\n",
              "    </tr>\n",
              "    <tr>\n",
              "      <th>501</th>\n",
              "      <td>0.06263</td>\n",
              "      <td>0.0</td>\n",
              "      <td>11.93</td>\n",
              "      <td>0</td>\n",
              "      <td>0.573</td>\n",
              "      <td>6.593</td>\n",
              "      <td>69.1</td>\n",
              "      <td>2.4786</td>\n",
              "      <td>1</td>\n",
              "      <td>273</td>\n",
              "      <td>21.0</td>\n",
              "      <td>9.67</td>\n",
              "      <td>22.4</td>\n",
              "    </tr>\n",
              "    <tr>\n",
              "      <th>502</th>\n",
              "      <td>0.04527</td>\n",
              "      <td>0.0</td>\n",
              "      <td>11.93</td>\n",
              "      <td>0</td>\n",
              "      <td>0.573</td>\n",
              "      <td>6.120</td>\n",
              "      <td>76.7</td>\n",
              "      <td>2.2875</td>\n",
              "      <td>1</td>\n",
              "      <td>273</td>\n",
              "      <td>21.0</td>\n",
              "      <td>9.08</td>\n",
              "      <td>20.6</td>\n",
              "    </tr>\n",
              "    <tr>\n",
              "      <th>503</th>\n",
              "      <td>0.06076</td>\n",
              "      <td>0.0</td>\n",
              "      <td>11.93</td>\n",
              "      <td>0</td>\n",
              "      <td>0.573</td>\n",
              "      <td>6.976</td>\n",
              "      <td>91.0</td>\n",
              "      <td>2.1675</td>\n",
              "      <td>1</td>\n",
              "      <td>273</td>\n",
              "      <td>21.0</td>\n",
              "      <td>5.64</td>\n",
              "      <td>23.9</td>\n",
              "    </tr>\n",
              "    <tr>\n",
              "      <th>504</th>\n",
              "      <td>0.10959</td>\n",
              "      <td>0.0</td>\n",
              "      <td>11.93</td>\n",
              "      <td>0</td>\n",
              "      <td>0.573</td>\n",
              "      <td>6.794</td>\n",
              "      <td>89.3</td>\n",
              "      <td>2.3889</td>\n",
              "      <td>1</td>\n",
              "      <td>273</td>\n",
              "      <td>21.0</td>\n",
              "      <td>6.48</td>\n",
              "      <td>22.0</td>\n",
              "    </tr>\n",
              "    <tr>\n",
              "      <th>505</th>\n",
              "      <td>0.04741</td>\n",
              "      <td>0.0</td>\n",
              "      <td>11.93</td>\n",
              "      <td>0</td>\n",
              "      <td>0.573</td>\n",
              "      <td>6.030</td>\n",
              "      <td>80.8</td>\n",
              "      <td>2.5050</td>\n",
              "      <td>1</td>\n",
              "      <td>273</td>\n",
              "      <td>21.0</td>\n",
              "      <td>7.88</td>\n",
              "      <td>11.9</td>\n",
              "    </tr>\n",
              "  </tbody>\n",
              "</table>\n",
              "<p>506 rows × 13 columns</p>\n",
              "</div>"
            ],
            "text/plain": [
              "        CRIM   ZN   INDUS   CHAS    NOX  ...  RAD  TAX  PTRATIO  LSTAT  MEDV\n",
              "0    0.00632  18.0    2.31     0  0.538  ...    1  296     15.3   4.98  24.0\n",
              "1    0.02731   0.0    7.07     0  0.469  ...    2  242     17.8   9.14  21.6\n",
              "2    0.02729   0.0    7.07     0  0.469  ...    2  242     17.8   4.03  34.7\n",
              "3    0.03237   0.0    2.18     0  0.458  ...    3  222     18.7   2.94  33.4\n",
              "4    0.06905   0.0    2.18     0  0.458  ...    3  222     18.7   5.33  36.2\n",
              "..       ...   ...     ...   ...    ...  ...  ...  ...      ...    ...   ...\n",
              "501  0.06263   0.0   11.93     0  0.573  ...    1  273     21.0   9.67  22.4\n",
              "502  0.04527   0.0   11.93     0  0.573  ...    1  273     21.0   9.08  20.6\n",
              "503  0.06076   0.0   11.93     0  0.573  ...    1  273     21.0   5.64  23.9\n",
              "504  0.10959   0.0   11.93     0  0.573  ...    1  273     21.0   6.48  22.0\n",
              "505  0.04741   0.0   11.93     0  0.573  ...    1  273     21.0   7.88  11.9\n",
              "\n",
              "[506 rows x 13 columns]"
            ]
          },
          "metadata": {},
          "execution_count": 18
        }
      ]
    },
    {
      "cell_type": "code",
      "metadata": {
        "id": "kE-zDGBpnx-B"
      },
      "source": [
        "from sklearn.model_selection import train_test_split\n",
        "\n",
        "train, test = train_test_split(df, test_size=0.2, random_state=42)"
      ],
      "execution_count": null,
      "outputs": []
    },
    {
      "cell_type": "code",
      "metadata": {
        "colab": {
          "base_uri": "https://localhost:8080/"
        },
        "id": "SCgrVKOvn92J",
        "outputId": "5c341fba-2ca1-4a71-ee96-01d75a904a6c"
      },
      "source": [
        "from flaml import AutoML\n",
        "\n",
        "reg = AutoML()\n",
        "reg.fit(dataframe=train, label='MEDV', task='regression', time_budget=180)"
      ],
      "execution_count": null,
      "outputs": [
        {
          "output_type": "stream",
          "name": "stderr",
          "text": [
            "[flaml.automl: 11-26 06:20:30] {1923} INFO - task = regression\n",
            "[flaml.automl: 11-26 06:20:30] {1925} INFO - Data split method: uniform\n",
            "[flaml.automl: 11-26 06:20:30] {1929} INFO - Evaluation method: cv\n",
            "[flaml.automl: 11-26 06:20:30] {1996} INFO - Minimizing error metric: 1-r2\n",
            "[flaml.automl: 11-26 06:20:30] {2048} INFO - List of ML learners in AutoML Run: ['lgbm', 'rf', 'xgboost', 'extra_tree', 'xgb_limitdepth']\n",
            "[flaml.automl: 11-26 06:20:30] {2288} INFO - iteration 0, current learner lgbm\n",
            "[flaml.automl: 11-26 06:20:30] {2402} INFO - Estimated sufficient time budget=645s. Estimated necessary time budget=5s.\n",
            "[flaml.automl: 11-26 06:20:30] {2482} INFO -  at 0.1s,\testimator lgbm's best error=0.6264,\tbest estimator lgbm's best error=0.6264\n",
            "[flaml.automl: 11-26 06:20:30] {2288} INFO - iteration 1, current learner lgbm\n",
            "[flaml.automl: 11-26 06:20:30] {2482} INFO -  at 0.2s,\testimator lgbm's best error=0.6264,\tbest estimator lgbm's best error=0.6264\n",
            "[flaml.automl: 11-26 06:20:30] {2288} INFO - iteration 2, current learner lgbm\n",
            "[flaml.automl: 11-26 06:20:30] {2482} INFO -  at 0.3s,\testimator lgbm's best error=0.3450,\tbest estimator lgbm's best error=0.3450\n",
            "[flaml.automl: 11-26 06:20:30] {2288} INFO - iteration 3, current learner xgboost\n"
          ]
        },
        {
          "output_type": "stream",
          "name": "stdout",
          "text": [
            "[LightGBM] [Warning] Unknown parameter: global_max_steps\n",
            "[LightGBM] [Warning] Unknown parameter: global_max_steps\n",
            "[LightGBM] [Warning] Unknown parameter: global_max_steps\n",
            "[LightGBM] [Warning] Unknown parameter: global_max_steps\n",
            "[LightGBM] [Warning] Unknown parameter: global_max_steps\n",
            "[LightGBM] [Warning] Unknown parameter: global_max_steps\n",
            "[LightGBM] [Warning] Unknown parameter: global_max_steps\n",
            "[LightGBM] [Warning] Unknown parameter: global_max_steps\n",
            "[LightGBM] [Warning] Unknown parameter: global_max_steps\n",
            "[LightGBM] [Warning] Unknown parameter: global_max_steps\n",
            "[LightGBM] [Warning] Unknown parameter: global_max_steps\n",
            "[LightGBM] [Warning] Unknown parameter: global_max_steps\n",
            "[LightGBM] [Warning] Unknown parameter: global_max_steps\n",
            "[LightGBM] [Warning] Unknown parameter: global_max_steps\n",
            "[LightGBM] [Warning] Unknown parameter: global_max_steps\n"
          ]
        },
        {
          "output_type": "stream",
          "name": "stderr",
          "text": [
            "[flaml.automl: 11-26 06:20:30] {2482} INFO -  at 0.3s,\testimator xgboost's best error=3.1639,\tbest estimator lgbm's best error=0.3450\n",
            "[flaml.automl: 11-26 06:20:30] {2288} INFO - iteration 4, current learner lgbm\n",
            "[flaml.automl: 11-26 06:20:30] {2482} INFO -  at 0.4s,\testimator lgbm's best error=0.1950,\tbest estimator lgbm's best error=0.1950\n",
            "[flaml.automl: 11-26 06:20:30] {2288} INFO - iteration 5, current learner lgbm\n",
            "[flaml.automl: 11-26 06:20:30] {2482} INFO -  at 0.5s,\testimator lgbm's best error=0.1950,\tbest estimator lgbm's best error=0.1950\n",
            "[flaml.automl: 11-26 06:20:30] {2288} INFO - iteration 6, current learner lgbm\n"
          ]
        },
        {
          "output_type": "stream",
          "name": "stdout",
          "text": [
            "[LightGBM] [Warning] Unknown parameter: global_max_steps\n",
            "[LightGBM] [Warning] Unknown parameter: global_max_steps\n",
            "[LightGBM] [Warning] Unknown parameter: global_max_steps\n",
            "[LightGBM] [Warning] Unknown parameter: global_max_steps\n",
            "[LightGBM] [Warning] Unknown parameter: global_max_steps\n",
            "[LightGBM] [Warning] Unknown parameter: global_max_steps\n",
            "[LightGBM] [Warning] Unknown parameter: global_max_steps\n",
            "[LightGBM] [Warning] Unknown parameter: global_max_steps\n",
            "[LightGBM] [Warning] Unknown parameter: global_max_steps\n",
            "[LightGBM] [Warning] Unknown parameter: global_max_steps\n",
            "[LightGBM] [Warning] Unknown parameter: global_max_steps\n",
            "[LightGBM] [Warning] Unknown parameter: global_max_steps\n",
            "[LightGBM] [Warning] Unknown parameter: global_max_steps\n",
            "[LightGBM] [Warning] Unknown parameter: global_max_steps\n"
          ]
        },
        {
          "output_type": "stream",
          "name": "stderr",
          "text": [
            "[flaml.automl: 11-26 06:20:30] {2482} INFO -  at 0.6s,\testimator lgbm's best error=0.1950,\tbest estimator lgbm's best error=0.1950\n",
            "[flaml.automl: 11-26 06:20:30] {2288} INFO - iteration 7, current learner extra_tree\n"
          ]
        },
        {
          "output_type": "stream",
          "name": "stdout",
          "text": [
            "[LightGBM] [Warning] Unknown parameter: global_max_steps\n"
          ]
        },
        {
          "output_type": "stream",
          "name": "stderr",
          "text": [
            "[flaml.automl: 11-26 06:20:32] {2482} INFO -  at 1.9s,\testimator extra_tree's best error=0.3440,\tbest estimator lgbm's best error=0.1950\n",
            "[flaml.automl: 11-26 06:20:32] {2288} INFO - iteration 8, current learner lgbm\n",
            "[flaml.automl: 11-26 06:20:32] {2482} INFO -  at 2.0s,\testimator lgbm's best error=0.1950,\tbest estimator lgbm's best error=0.1950\n",
            "[flaml.automl: 11-26 06:20:32] {2288} INFO - iteration 9, current learner lgbm\n",
            "[flaml.automl: 11-26 06:20:32] {2482} INFO -  at 2.0s,\testimator lgbm's best error=0.1950,\tbest estimator lgbm's best error=0.1950\n",
            "[flaml.automl: 11-26 06:20:32] {2288} INFO - iteration 10, current learner xgboost\n"
          ]
        },
        {
          "output_type": "stream",
          "name": "stdout",
          "text": [
            "[LightGBM] [Warning] Unknown parameter: global_max_steps\n",
            "[LightGBM] [Warning] Unknown parameter: global_max_steps\n",
            "[LightGBM] [Warning] Unknown parameter: global_max_steps\n",
            "[LightGBM] [Warning] Unknown parameter: global_max_steps\n",
            "[LightGBM] [Warning] Unknown parameter: global_max_steps\n",
            "[LightGBM] [Warning] Unknown parameter: global_max_steps\n",
            "[LightGBM] [Warning] Unknown parameter: global_max_steps\n",
            "[LightGBM] [Warning] Unknown parameter: global_max_steps\n",
            "[LightGBM] [Warning] Unknown parameter: global_max_steps\n",
            "[LightGBM] [Warning] Unknown parameter: global_max_steps\n"
          ]
        },
        {
          "output_type": "stream",
          "name": "stderr",
          "text": [
            "[flaml.automl: 11-26 06:20:32] {2482} INFO -  at 2.1s,\testimator xgboost's best error=3.1639,\tbest estimator lgbm's best error=0.1950\n",
            "[flaml.automl: 11-26 06:20:32] {2288} INFO - iteration 11, current learner rf\n",
            "[flaml.automl: 11-26 06:20:33] {2482} INFO -  at 3.5s,\testimator rf's best error=0.2752,\tbest estimator lgbm's best error=0.1950\n",
            "[flaml.automl: 11-26 06:20:33] {2288} INFO - iteration 12, current learner lgbm\n",
            "[flaml.automl: 11-26 06:20:33] {2482} INFO -  at 3.6s,\testimator lgbm's best error=0.1653,\tbest estimator lgbm's best error=0.1653\n",
            "[flaml.automl: 11-26 06:20:33] {2288} INFO - iteration 13, current learner xgboost\n",
            "[flaml.automl: 11-26 06:20:34] {2482} INFO -  at 3.7s,\testimator xgboost's best error=0.8858,\tbest estimator lgbm's best error=0.1653\n",
            "[flaml.automl: 11-26 06:20:34] {2288} INFO - iteration 14, current learner xgboost\n"
          ]
        },
        {
          "output_type": "stream",
          "name": "stdout",
          "text": [
            "[LightGBM] [Warning] Unknown parameter: global_max_steps\n",
            "[LightGBM] [Warning] Unknown parameter: global_max_steps\n",
            "[LightGBM] [Warning] Unknown parameter: global_max_steps\n",
            "[LightGBM] [Warning] Unknown parameter: global_max_steps\n",
            "[LightGBM] [Warning] Unknown parameter: global_max_steps\n"
          ]
        },
        {
          "output_type": "stream",
          "name": "stderr",
          "text": [
            "[flaml.automl: 11-26 06:20:34] {2482} INFO -  at 3.8s,\testimator xgboost's best error=0.3677,\tbest estimator lgbm's best error=0.1653\n",
            "[flaml.automl: 11-26 06:20:34] {2288} INFO - iteration 15, current learner xgboost\n",
            "[flaml.automl: 11-26 06:20:34] {2482} INFO -  at 3.9s,\testimator xgboost's best error=0.3677,\tbest estimator lgbm's best error=0.1653\n",
            "[flaml.automl: 11-26 06:20:34] {2288} INFO - iteration 16, current learner lgbm\n",
            "[flaml.automl: 11-26 06:20:34] {2482} INFO -  at 4.0s,\testimator lgbm's best error=0.1653,\tbest estimator lgbm's best error=0.1653\n",
            "[flaml.automl: 11-26 06:20:34] {2288} INFO - iteration 17, current learner xgboost\n",
            "[flaml.automl: 11-26 06:20:34] {2482} INFO -  at 4.1s,\testimator xgboost's best error=0.2448,\tbest estimator lgbm's best error=0.1653\n",
            "[flaml.automl: 11-26 06:20:34] {2288} INFO - iteration 18, current learner lgbm\n"
          ]
        },
        {
          "output_type": "stream",
          "name": "stdout",
          "text": [
            "[LightGBM] [Warning] Unknown parameter: global_max_steps\n",
            "[LightGBM] [Warning] Unknown parameter: global_max_steps\n",
            "[LightGBM] [Warning] Unknown parameter: global_max_steps\n",
            "[LightGBM] [Warning] Unknown parameter: global_max_steps\n",
            "[LightGBM] [Warning] Unknown parameter: global_max_steps\n",
            "[LightGBM] [Warning] Unknown parameter: global_max_steps\n",
            "[LightGBM] [Warning] Unknown parameter: global_max_steps\n"
          ]
        },
        {
          "output_type": "stream",
          "name": "stderr",
          "text": [
            "[flaml.automl: 11-26 06:20:34] {2482} INFO -  at 4.2s,\testimator lgbm's best error=0.1440,\tbest estimator lgbm's best error=0.1440\n",
            "[flaml.automl: 11-26 06:20:34] {2288} INFO - iteration 19, current learner xgboost\n",
            "[flaml.automl: 11-26 06:20:34] {2482} INFO -  at 4.3s,\testimator xgboost's best error=0.2448,\tbest estimator lgbm's best error=0.1440\n",
            "[flaml.automl: 11-26 06:20:34] {2288} INFO - iteration 20, current learner lgbm\n"
          ]
        },
        {
          "output_type": "stream",
          "name": "stdout",
          "text": [
            "[LightGBM] [Warning] Unknown parameter: global_max_steps\n",
            "[LightGBM] [Warning] Unknown parameter: global_max_steps\n",
            "[LightGBM] [Warning] Unknown parameter: global_max_steps\n",
            "[LightGBM] [Warning] Unknown parameter: global_max_steps\n",
            "[LightGBM] [Warning] Unknown parameter: global_max_steps\n"
          ]
        },
        {
          "output_type": "stream",
          "name": "stderr",
          "text": [
            "[flaml.automl: 11-26 06:20:34] {2482} INFO -  at 4.5s,\testimator lgbm's best error=0.1440,\tbest estimator lgbm's best error=0.1440\n",
            "[flaml.automl: 11-26 06:20:34] {2288} INFO - iteration 21, current learner lgbm\n",
            "[flaml.automl: 11-26 06:20:34] {2482} INFO -  at 4.6s,\testimator lgbm's best error=0.1440,\tbest estimator lgbm's best error=0.1440\n",
            "[flaml.automl: 11-26 06:20:34] {2288} INFO - iteration 22, current learner lgbm\n"
          ]
        },
        {
          "output_type": "stream",
          "name": "stdout",
          "text": [
            "[LightGBM] [Warning] Unknown parameter: global_max_steps\n",
            "[LightGBM] [Warning] Unknown parameter: global_max_steps\n",
            "[LightGBM] [Warning] Unknown parameter: global_max_steps\n",
            "[LightGBM] [Warning] Unknown parameter: global_max_steps\n",
            "[LightGBM] [Warning] Unknown parameter: global_max_steps\n",
            "[LightGBM] [Warning] Unknown parameter: global_max_steps\n",
            "[LightGBM] [Warning] Unknown parameter: global_max_steps\n",
            "[LightGBM] [Warning] Unknown parameter: global_max_steps\n",
            "[LightGBM] [Warning] Unknown parameter: global_max_steps\n"
          ]
        },
        {
          "output_type": "stream",
          "name": "stderr",
          "text": [
            "[flaml.automl: 11-26 06:20:35] {2482} INFO -  at 4.7s,\testimator lgbm's best error=0.1440,\tbest estimator lgbm's best error=0.1440\n",
            "[flaml.automl: 11-26 06:20:35] {2288} INFO - iteration 23, current learner lgbm\n"
          ]
        },
        {
          "output_type": "stream",
          "name": "stdout",
          "text": [
            "[LightGBM] [Warning] Unknown parameter: global_max_steps\n",
            "[LightGBM] [Warning] Unknown parameter: global_max_steps\n",
            "[LightGBM] [Warning] Unknown parameter: global_max_steps\n",
            "[LightGBM] [Warning] Unknown parameter: global_max_steps\n",
            "[LightGBM] [Warning] Unknown parameter: global_max_steps\n",
            "[LightGBM] [Warning] Unknown parameter: global_max_steps\n",
            "[LightGBM] [Warning] Unknown parameter: global_max_steps\n",
            "[LightGBM] [Warning] Unknown parameter: global_max_steps\n",
            "[LightGBM] [Warning] Unknown parameter: global_max_steps\n"
          ]
        },
        {
          "output_type": "stream",
          "name": "stderr",
          "text": [
            "[flaml.automl: 11-26 06:20:35] {2482} INFO -  at 4.8s,\testimator lgbm's best error=0.1440,\tbest estimator lgbm's best error=0.1440\n",
            "[flaml.automl: 11-26 06:20:35] {2288} INFO - iteration 24, current learner xgboost\n",
            "[flaml.automl: 11-26 06:20:35] {2482} INFO -  at 4.9s,\testimator xgboost's best error=0.2448,\tbest estimator lgbm's best error=0.1440\n",
            "[flaml.automl: 11-26 06:20:35] {2288} INFO - iteration 25, current learner extra_tree\n",
            "[flaml.automl: 11-26 06:20:36] {2482} INFO -  at 6.1s,\testimator extra_tree's best error=0.2484,\tbest estimator lgbm's best error=0.1440\n",
            "[flaml.automl: 11-26 06:20:36] {2288} INFO - iteration 26, current learner lgbm\n",
            "[flaml.automl: 11-26 06:20:36] {2482} INFO -  at 6.3s,\testimator lgbm's best error=0.1440,\tbest estimator lgbm's best error=0.1440\n",
            "[flaml.automl: 11-26 06:20:36] {2288} INFO - iteration 27, current learner xgboost\n"
          ]
        },
        {
          "output_type": "stream",
          "name": "stdout",
          "text": [
            "[LightGBM] [Warning] Unknown parameter: global_max_steps\n",
            "[LightGBM] [Warning] Unknown parameter: global_max_steps\n",
            "[LightGBM] [Warning] Unknown parameter: global_max_steps\n",
            "[LightGBM] [Warning] Unknown parameter: global_max_steps\n",
            "[LightGBM] [Warning] Unknown parameter: global_max_steps\n"
          ]
        },
        {
          "output_type": "stream",
          "name": "stderr",
          "text": [
            "[flaml.automl: 11-26 06:20:36] {2482} INFO -  at 6.4s,\testimator xgboost's best error=0.2448,\tbest estimator lgbm's best error=0.1440\n",
            "[flaml.automl: 11-26 06:20:36] {2288} INFO - iteration 28, current learner xgboost\n",
            "[flaml.automl: 11-26 06:20:36] {2482} INFO -  at 6.5s,\testimator xgboost's best error=0.2127,\tbest estimator lgbm's best error=0.1440\n",
            "[flaml.automl: 11-26 06:20:36] {2288} INFO - iteration 29, current learner extra_tree\n",
            "[flaml.automl: 11-26 06:20:37] {2482} INFO -  at 7.6s,\testimator extra_tree's best error=0.2484,\tbest estimator lgbm's best error=0.1440\n",
            "[flaml.automl: 11-26 06:20:37] {2288} INFO - iteration 30, current learner lgbm\n",
            "[flaml.automl: 11-26 06:20:38] {2482} INFO -  at 7.8s,\testimator lgbm's best error=0.1440,\tbest estimator lgbm's best error=0.1440\n",
            "[flaml.automl: 11-26 06:20:38] {2288} INFO - iteration 31, current learner lgbm\n"
          ]
        },
        {
          "output_type": "stream",
          "name": "stdout",
          "text": [
            "[LightGBM] [Warning] Unknown parameter: global_max_steps\n",
            "[LightGBM] [Warning] Unknown parameter: global_max_steps\n",
            "[LightGBM] [Warning] Unknown parameter: global_max_steps\n",
            "[LightGBM] [Warning] Unknown parameter: global_max_steps\n",
            "[LightGBM] [Warning] Unknown parameter: global_max_steps\n",
            "[LightGBM] [Warning] Unknown parameter: global_max_steps\n",
            "[LightGBM] [Warning] Unknown parameter: global_max_steps\n",
            "[LightGBM] [Warning] Unknown parameter: global_max_steps\n"
          ]
        },
        {
          "output_type": "stream",
          "name": "stderr",
          "text": [
            "[flaml.automl: 11-26 06:20:38] {2482} INFO -  at 7.9s,\testimator lgbm's best error=0.1440,\tbest estimator lgbm's best error=0.1440\n",
            "[flaml.automl: 11-26 06:20:38] {2288} INFO - iteration 32, current learner lgbm\n",
            "[flaml.automl: 11-26 06:20:38] {2482} INFO -  at 8.1s,\testimator lgbm's best error=0.1440,\tbest estimator lgbm's best error=0.1440\n",
            "[flaml.automl: 11-26 06:20:38] {2288} INFO - iteration 33, current learner xgboost\n"
          ]
        },
        {
          "output_type": "stream",
          "name": "stdout",
          "text": [
            "[LightGBM] [Warning] Unknown parameter: global_max_steps\n",
            "[LightGBM] [Warning] Unknown parameter: global_max_steps\n",
            "[LightGBM] [Warning] Unknown parameter: global_max_steps\n",
            "[LightGBM] [Warning] Unknown parameter: global_max_steps\n",
            "[LightGBM] [Warning] Unknown parameter: global_max_steps\n",
            "[LightGBM] [Warning] Unknown parameter: global_max_steps\n",
            "[LightGBM] [Warning] Unknown parameter: global_max_steps\n"
          ]
        },
        {
          "output_type": "stream",
          "name": "stderr",
          "text": [
            "[flaml.automl: 11-26 06:20:38] {2482} INFO -  at 8.2s,\testimator xgboost's best error=0.2127,\tbest estimator lgbm's best error=0.1440\n",
            "[flaml.automl: 11-26 06:20:38] {2288} INFO - iteration 34, current learner lgbm\n",
            "[flaml.automl: 11-26 06:20:38] {2482} INFO -  at 8.3s,\testimator lgbm's best error=0.1440,\tbest estimator lgbm's best error=0.1440\n",
            "[flaml.automl: 11-26 06:20:38] {2288} INFO - iteration 35, current learner rf\n"
          ]
        },
        {
          "output_type": "stream",
          "name": "stdout",
          "text": [
            "[LightGBM] [Warning] Unknown parameter: global_max_steps\n",
            "[LightGBM] [Warning] Unknown parameter: global_max_steps\n",
            "[LightGBM] [Warning] Unknown parameter: global_max_steps\n",
            "[LightGBM] [Warning] Unknown parameter: global_max_steps\n",
            "[LightGBM] [Warning] Unknown parameter: global_max_steps\n"
          ]
        },
        {
          "output_type": "stream",
          "name": "stderr",
          "text": [
            "[flaml.automl: 11-26 06:20:40] {2482} INFO -  at 9.9s,\testimator rf's best error=0.2146,\tbest estimator lgbm's best error=0.1440\n",
            "[flaml.automl: 11-26 06:20:40] {2288} INFO - iteration 36, current learner extra_tree\n",
            "[flaml.automl: 11-26 06:20:41] {2482} INFO -  at 11.4s,\testimator extra_tree's best error=0.2050,\tbest estimator lgbm's best error=0.1440\n",
            "[flaml.automl: 11-26 06:20:41] {2288} INFO - iteration 37, current learner rf\n",
            "[flaml.automl: 11-26 06:20:43] {2482} INFO -  at 12.9s,\testimator rf's best error=0.2146,\tbest estimator lgbm's best error=0.1440\n",
            "[flaml.automl: 11-26 06:20:43] {2288} INFO - iteration 38, current learner xgboost\n",
            "[flaml.automl: 11-26 06:20:43] {2482} INFO -  at 13.0s,\testimator xgboost's best error=0.2127,\tbest estimator lgbm's best error=0.1440\n",
            "[flaml.automl: 11-26 06:20:43] {2288} INFO - iteration 39, current learner lgbm\n",
            "[flaml.automl: 11-26 06:20:43] {2482} INFO -  at 13.2s,\testimator lgbm's best error=0.1440,\tbest estimator lgbm's best error=0.1440\n",
            "[flaml.automl: 11-26 06:20:43] {2288} INFO - iteration 40, current learner xgboost\n"
          ]
        },
        {
          "output_type": "stream",
          "name": "stdout",
          "text": [
            "[LightGBM] [Warning] Unknown parameter: global_max_steps\n",
            "[LightGBM] [Warning] Unknown parameter: global_max_steps\n",
            "[LightGBM] [Warning] Unknown parameter: global_max_steps\n",
            "[LightGBM] [Warning] Unknown parameter: global_max_steps\n",
            "[LightGBM] [Warning] Unknown parameter: global_max_steps\n"
          ]
        },
        {
          "output_type": "stream",
          "name": "stderr",
          "text": [
            "[flaml.automl: 11-26 06:20:43] {2482} INFO -  at 13.3s,\testimator xgboost's best error=0.2127,\tbest estimator lgbm's best error=0.1440\n",
            "[flaml.automl: 11-26 06:20:43] {2288} INFO - iteration 41, current learner xgboost\n",
            "[flaml.automl: 11-26 06:20:43] {2482} INFO -  at 13.4s,\testimator xgboost's best error=0.2127,\tbest estimator lgbm's best error=0.1440\n",
            "[flaml.automl: 11-26 06:20:43] {2288} INFO - iteration 42, current learner lgbm\n",
            "[flaml.automl: 11-26 06:20:43] {2482} INFO -  at 13.6s,\testimator lgbm's best error=0.1440,\tbest estimator lgbm's best error=0.1440\n",
            "[flaml.automl: 11-26 06:20:43] {2288} INFO - iteration 43, current learner xgboost\n"
          ]
        },
        {
          "output_type": "stream",
          "name": "stdout",
          "text": [
            "[LightGBM] [Warning] Unknown parameter: global_max_steps\n",
            "[LightGBM] [Warning] Unknown parameter: global_max_steps\n",
            "[LightGBM] [Warning] Unknown parameter: global_max_steps\n",
            "[LightGBM] [Warning] Unknown parameter: global_max_steps\n",
            "[LightGBM] [Warning] Unknown parameter: global_max_steps\n"
          ]
        },
        {
          "output_type": "stream",
          "name": "stderr",
          "text": [
            "[flaml.automl: 11-26 06:20:43] {2482} INFO -  at 13.6s,\testimator xgboost's best error=0.2127,\tbest estimator lgbm's best error=0.1440\n",
            "[flaml.automl: 11-26 06:20:43] {2288} INFO - iteration 44, current learner extra_tree\n",
            "[flaml.automl: 11-26 06:20:45] {2482} INFO -  at 15.3s,\testimator extra_tree's best error=0.1770,\tbest estimator lgbm's best error=0.1440\n",
            "[flaml.automl: 11-26 06:20:45] {2288} INFO - iteration 45, current learner xgboost\n",
            "[flaml.automl: 11-26 06:20:45] {2482} INFO -  at 15.4s,\testimator xgboost's best error=0.2127,\tbest estimator lgbm's best error=0.1440\n",
            "[flaml.automl: 11-26 06:20:45] {2288} INFO - iteration 46, current learner lgbm\n",
            "[flaml.automl: 11-26 06:20:45] {2482} INFO -  at 15.5s,\testimator lgbm's best error=0.1440,\tbest estimator lgbm's best error=0.1440\n",
            "[flaml.automl: 11-26 06:20:45] {2288} INFO - iteration 47, current learner xgboost\n",
            "[flaml.automl: 11-26 06:20:45] {2482} INFO -  at 15.6s,\testimator xgboost's best error=0.2127,\tbest estimator lgbm's best error=0.1440\n"
          ]
        },
        {
          "output_type": "stream",
          "name": "stdout",
          "text": [
            "[LightGBM] [Warning] Unknown parameter: global_max_steps\n",
            "[LightGBM] [Warning] Unknown parameter: global_max_steps\n",
            "[LightGBM] [Warning] Unknown parameter: global_max_steps\n",
            "[LightGBM] [Warning] Unknown parameter: global_max_steps\n",
            "[LightGBM] [Warning] Unknown parameter: global_max_steps\n"
          ]
        },
        {
          "output_type": "stream",
          "name": "stderr",
          "text": [
            "[flaml.automl: 11-26 06:20:45] {2288} INFO - iteration 48, current learner lgbm\n",
            "[flaml.automl: 11-26 06:20:46] {2482} INFO -  at 15.7s,\testimator lgbm's best error=0.1440,\tbest estimator lgbm's best error=0.1440\n",
            "[flaml.automl: 11-26 06:20:46] {2288} INFO - iteration 49, current learner lgbm\n"
          ]
        },
        {
          "output_type": "stream",
          "name": "stdout",
          "text": [
            "[LightGBM] [Warning] Unknown parameter: global_max_steps\n",
            "[LightGBM] [Warning] Unknown parameter: global_max_steps\n",
            "[LightGBM] [Warning] Unknown parameter: global_max_steps\n",
            "[LightGBM] [Warning] Unknown parameter: global_max_steps\n",
            "[LightGBM] [Warning] Unknown parameter: global_max_steps\n",
            "[LightGBM] [Warning] Unknown parameter: global_max_steps\n",
            "[LightGBM] [Warning] Unknown parameter: global_max_steps\n",
            "[LightGBM] [Warning] Unknown parameter: global_max_steps\n",
            "[LightGBM] [Warning] Unknown parameter: global_max_steps\n"
          ]
        },
        {
          "output_type": "stream",
          "name": "stderr",
          "text": [
            "[flaml.automl: 11-26 06:20:46] {2482} INFO -  at 15.8s,\testimator lgbm's best error=0.1440,\tbest estimator lgbm's best error=0.1440\n",
            "[flaml.automl: 11-26 06:20:46] {2288} INFO - iteration 50, current learner extra_tree\n"
          ]
        },
        {
          "output_type": "stream",
          "name": "stdout",
          "text": [
            "[LightGBM] [Warning] Unknown parameter: global_max_steps\n"
          ]
        },
        {
          "output_type": "stream",
          "name": "stderr",
          "text": [
            "[flaml.automl: 11-26 06:20:47] {2482} INFO -  at 17.4s,\testimator extra_tree's best error=0.1770,\tbest estimator lgbm's best error=0.1440\n",
            "[flaml.automl: 11-26 06:20:47] {2288} INFO - iteration 51, current learner lgbm\n",
            "[flaml.automl: 11-26 06:20:47] {2482} INFO -  at 17.6s,\testimator lgbm's best error=0.1440,\tbest estimator lgbm's best error=0.1440\n",
            "[flaml.automl: 11-26 06:20:47] {2288} INFO - iteration 52, current learner lgbm\n"
          ]
        },
        {
          "output_type": "stream",
          "name": "stdout",
          "text": [
            "[LightGBM] [Warning] Unknown parameter: global_max_steps\n",
            "[LightGBM] [Warning] Unknown parameter: global_max_steps\n",
            "[LightGBM] [Warning] Unknown parameter: global_max_steps\n",
            "[LightGBM] [Warning] Unknown parameter: global_max_steps\n",
            "[LightGBM] [Warning] Unknown parameter: global_max_steps\n",
            "[LightGBM] [Warning] Unknown parameter: global_max_steps\n",
            "[LightGBM] [Warning] Unknown parameter: global_max_steps\n",
            "[LightGBM] [Warning] Unknown parameter: global_max_steps\n"
          ]
        },
        {
          "output_type": "stream",
          "name": "stderr",
          "text": [
            "[flaml.automl: 11-26 06:20:48] {2482} INFO -  at 17.7s,\testimator lgbm's best error=0.1440,\tbest estimator lgbm's best error=0.1440\n",
            "[flaml.automl: 11-26 06:20:48] {2288} INFO - iteration 53, current learner lgbm\n"
          ]
        },
        {
          "output_type": "stream",
          "name": "stdout",
          "text": [
            "[LightGBM] [Warning] Unknown parameter: global_max_steps\n",
            "[LightGBM] [Warning] Unknown parameter: global_max_steps\n",
            "[LightGBM] [Warning] Unknown parameter: global_max_steps\n",
            "[LightGBM] [Warning] Unknown parameter: global_max_steps\n",
            "[LightGBM] [Warning] Unknown parameter: global_max_steps\n",
            "[LightGBM] [Warning] Unknown parameter: global_max_steps\n",
            "[LightGBM] [Warning] Unknown parameter: global_max_steps\n"
          ]
        },
        {
          "output_type": "stream",
          "name": "stderr",
          "text": [
            "[flaml.automl: 11-26 06:20:48] {2482} INFO -  at 17.9s,\testimator lgbm's best error=0.1440,\tbest estimator lgbm's best error=0.1440\n",
            "[flaml.automl: 11-26 06:20:48] {2288} INFO - iteration 54, current learner lgbm\n",
            "[flaml.automl: 11-26 06:20:48] {2482} INFO -  at 18.0s,\testimator lgbm's best error=0.1440,\tbest estimator lgbm's best error=0.1440\n",
            "[flaml.automl: 11-26 06:20:48] {2288} INFO - iteration 55, current learner xgboost\n",
            "[flaml.automl: 11-26 06:20:48] {2482} INFO -  at 18.1s,\testimator xgboost's best error=0.2127,\tbest estimator lgbm's best error=0.1440\n",
            "[flaml.automl: 11-26 06:20:48] {2288} INFO - iteration 56, current learner lgbm\n"
          ]
        },
        {
          "output_type": "stream",
          "name": "stdout",
          "text": [
            "[LightGBM] [Warning] Unknown parameter: global_max_steps\n",
            "[LightGBM] [Warning] Unknown parameter: global_max_steps\n",
            "[LightGBM] [Warning] Unknown parameter: global_max_steps\n",
            "[LightGBM] [Warning] Unknown parameter: global_max_steps\n",
            "[LightGBM] [Warning] Unknown parameter: global_max_steps\n"
          ]
        },
        {
          "output_type": "stream",
          "name": "stderr",
          "text": [
            "[flaml.automl: 11-26 06:20:48] {2482} INFO -  at 18.2s,\testimator lgbm's best error=0.1440,\tbest estimator lgbm's best error=0.1440\n",
            "[flaml.automl: 11-26 06:20:48] {2288} INFO - iteration 57, current learner lgbm\n"
          ]
        },
        {
          "output_type": "stream",
          "name": "stdout",
          "text": [
            "[LightGBM] [Warning] Unknown parameter: global_max_steps\n",
            "[LightGBM] [Warning] Unknown parameter: global_max_steps\n",
            "[LightGBM] [Warning] Unknown parameter: global_max_steps\n",
            "[LightGBM] [Warning] Unknown parameter: global_max_steps\n",
            "[LightGBM] [Warning] Unknown parameter: global_max_steps\n",
            "[LightGBM] [Warning] Unknown parameter: global_max_steps\n",
            "[LightGBM] [Warning] Unknown parameter: global_max_steps\n",
            "[LightGBM] [Warning] Unknown parameter: global_max_steps\n",
            "[LightGBM] [Warning] Unknown parameter: global_max_steps\n"
          ]
        },
        {
          "output_type": "stream",
          "name": "stderr",
          "text": [
            "[flaml.automl: 11-26 06:20:48] {2482} INFO -  at 18.4s,\testimator lgbm's best error=0.1440,\tbest estimator lgbm's best error=0.1440\n",
            "[flaml.automl: 11-26 06:20:48] {2288} INFO - iteration 58, current learner rf\n"
          ]
        },
        {
          "output_type": "stream",
          "name": "stdout",
          "text": [
            "[LightGBM] [Warning] Unknown parameter: global_max_steps\n"
          ]
        },
        {
          "output_type": "stream",
          "name": "stderr",
          "text": [
            "[flaml.automl: 11-26 06:20:50] {2482} INFO -  at 19.8s,\testimator rf's best error=0.2025,\tbest estimator lgbm's best error=0.1440\n",
            "[flaml.automl: 11-26 06:20:50] {2288} INFO - iteration 59, current learner lgbm\n",
            "[flaml.automl: 11-26 06:20:50] {2482} INFO -  at 19.9s,\testimator lgbm's best error=0.1440,\tbest estimator lgbm's best error=0.1440\n",
            "[flaml.automl: 11-26 06:20:50] {2288} INFO - iteration 60, current learner xgboost\n",
            "[flaml.automl: 11-26 06:20:50] {2482} INFO -  at 20.0s,\testimator xgboost's best error=0.2127,\tbest estimator lgbm's best error=0.1440\n",
            "[flaml.automl: 11-26 06:20:50] {2288} INFO - iteration 61, current learner lgbm\n"
          ]
        },
        {
          "output_type": "stream",
          "name": "stdout",
          "text": [
            "[LightGBM] [Warning] Unknown parameter: global_max_steps\n",
            "[LightGBM] [Warning] Unknown parameter: global_max_steps\n",
            "[LightGBM] [Warning] Unknown parameter: global_max_steps\n",
            "[LightGBM] [Warning] Unknown parameter: global_max_steps\n",
            "[LightGBM] [Warning] Unknown parameter: global_max_steps\n"
          ]
        },
        {
          "output_type": "stream",
          "name": "stderr",
          "text": [
            "[flaml.automl: 11-26 06:20:50] {2482} INFO -  at 20.2s,\testimator lgbm's best error=0.1440,\tbest estimator lgbm's best error=0.1440\n",
            "[flaml.automl: 11-26 06:20:50] {2288} INFO - iteration 62, current learner xgboost\n"
          ]
        },
        {
          "output_type": "stream",
          "name": "stdout",
          "text": [
            "[LightGBM] [Warning] Unknown parameter: global_max_steps\n",
            "[LightGBM] [Warning] Unknown parameter: global_max_steps\n",
            "[LightGBM] [Warning] Unknown parameter: global_max_steps\n",
            "[LightGBM] [Warning] Unknown parameter: global_max_steps\n",
            "[LightGBM] [Warning] Unknown parameter: global_max_steps\n"
          ]
        },
        {
          "output_type": "stream",
          "name": "stderr",
          "text": [
            "[flaml.automl: 11-26 06:20:50] {2482} INFO -  at 20.3s,\testimator xgboost's best error=0.2127,\tbest estimator lgbm's best error=0.1440\n",
            "[flaml.automl: 11-26 06:20:50] {2288} INFO - iteration 63, current learner xgboost\n",
            "[flaml.automl: 11-26 06:20:50] {2482} INFO -  at 20.3s,\testimator xgboost's best error=0.2127,\tbest estimator lgbm's best error=0.1440\n",
            "[flaml.automl: 11-26 06:20:50] {2288} INFO - iteration 64, current learner lgbm\n",
            "[flaml.automl: 11-26 06:20:50] {2482} INFO -  at 20.5s,\testimator lgbm's best error=0.1440,\tbest estimator lgbm's best error=0.1440\n",
            "[flaml.automl: 11-26 06:20:50] {2288} INFO - iteration 65, current learner lgbm\n"
          ]
        },
        {
          "output_type": "stream",
          "name": "stdout",
          "text": [
            "[LightGBM] [Warning] Unknown parameter: global_max_steps\n",
            "[LightGBM] [Warning] Unknown parameter: global_max_steps\n",
            "[LightGBM] [Warning] Unknown parameter: global_max_steps\n",
            "[LightGBM] [Warning] Unknown parameter: global_max_steps\n",
            "[LightGBM] [Warning] Unknown parameter: global_max_steps\n",
            "[LightGBM] [Warning] Unknown parameter: global_max_steps\n",
            "[LightGBM] [Warning] Unknown parameter: global_max_steps\n",
            "[LightGBM] [Warning] Unknown parameter: global_max_steps\n",
            "[LightGBM] [Warning] Unknown parameter: global_max_steps\n"
          ]
        },
        {
          "output_type": "stream",
          "name": "stderr",
          "text": [
            "[flaml.automl: 11-26 06:20:50] {2482} INFO -  at 20.6s,\testimator lgbm's best error=0.1440,\tbest estimator lgbm's best error=0.1440\n",
            "[flaml.automl: 11-26 06:20:50] {2288} INFO - iteration 66, current learner xgboost\n",
            "[flaml.automl: 11-26 06:20:51] {2482} INFO -  at 20.7s,\testimator xgboost's best error=0.2127,\tbest estimator lgbm's best error=0.1440\n",
            "[flaml.automl: 11-26 06:20:51] {2288} INFO - iteration 67, current learner lgbm\n"
          ]
        },
        {
          "output_type": "stream",
          "name": "stdout",
          "text": [
            "[LightGBM] [Warning] Unknown parameter: global_max_steps\n",
            "[LightGBM] [Warning] Unknown parameter: global_max_steps\n",
            "[LightGBM] [Warning] Unknown parameter: global_max_steps\n"
          ]
        },
        {
          "output_type": "stream",
          "name": "stderr",
          "text": [
            "[flaml.automl: 11-26 06:20:51] {2482} INFO -  at 20.9s,\testimator lgbm's best error=0.1405,\tbest estimator lgbm's best error=0.1405\n",
            "[flaml.automl: 11-26 06:20:51] {2288} INFO - iteration 68, current learner lgbm\n"
          ]
        },
        {
          "output_type": "stream",
          "name": "stdout",
          "text": [
            "[LightGBM] [Warning] Unknown parameter: global_max_steps\n",
            "[LightGBM] [Warning] Unknown parameter: global_max_steps\n",
            "[LightGBM] [Warning] Unknown parameter: global_max_steps\n",
            "[LightGBM] [Warning] Unknown parameter: global_max_steps\n",
            "[LightGBM] [Warning] Unknown parameter: global_max_steps\n",
            "[LightGBM] [Warning] Unknown parameter: global_max_steps\n"
          ]
        },
        {
          "output_type": "stream",
          "name": "stderr",
          "text": [
            "[flaml.automl: 11-26 06:20:51] {2482} INFO -  at 21.0s,\testimator lgbm's best error=0.1405,\tbest estimator lgbm's best error=0.1405\n",
            "[flaml.automl: 11-26 06:20:51] {2288} INFO - iteration 69, current learner rf\n"
          ]
        },
        {
          "output_type": "stream",
          "name": "stdout",
          "text": [
            "[LightGBM] [Warning] Unknown parameter: global_max_steps\n",
            "[LightGBM] [Warning] Unknown parameter: global_max_steps\n"
          ]
        },
        {
          "output_type": "stream",
          "name": "stderr",
          "text": [
            "[flaml.automl: 11-26 06:20:52] {2482} INFO -  at 22.4s,\testimator rf's best error=0.1725,\tbest estimator lgbm's best error=0.1405\n",
            "[flaml.automl: 11-26 06:20:52] {2288} INFO - iteration 70, current learner rf\n",
            "[flaml.automl: 11-26 06:20:54] {2482} INFO -  at 24.0s,\testimator rf's best error=0.1725,\tbest estimator lgbm's best error=0.1405\n",
            "[flaml.automl: 11-26 06:20:54] {2288} INFO - iteration 71, current learner rf\n",
            "[flaml.automl: 11-26 06:20:55] {2482} INFO -  at 25.3s,\testimator rf's best error=0.1725,\tbest estimator lgbm's best error=0.1405\n",
            "[flaml.automl: 11-26 06:20:55] {2288} INFO - iteration 72, current learner extra_tree\n",
            "[flaml.automl: 11-26 06:20:56] {2482} INFO -  at 26.6s,\testimator extra_tree's best error=0.1602,\tbest estimator lgbm's best error=0.1405\n",
            "[flaml.automl: 11-26 06:20:56] {2288} INFO - iteration 73, current learner xgboost\n",
            "[flaml.automl: 11-26 06:20:57] {2482} INFO -  at 26.7s,\testimator xgboost's best error=0.2127,\tbest estimator lgbm's best error=0.1405\n",
            "[flaml.automl: 11-26 06:20:57] {2288} INFO - iteration 74, current learner extra_tree\n",
            "[flaml.automl: 11-26 06:20:58] {2482} INFO -  at 28.0s,\testimator extra_tree's best error=0.1602,\tbest estimator lgbm's best error=0.1405\n",
            "[flaml.automl: 11-26 06:20:58] {2288} INFO - iteration 75, current learner lgbm\n"
          ]
        },
        {
          "output_type": "stream",
          "name": "stdout",
          "text": [
            "[LightGBM] [Warning] Unknown parameter: global_max_steps\n",
            "[LightGBM] [Warning] Unknown parameter: global_max_steps\n",
            "[LightGBM] [Warning] Unknown parameter: global_max_steps\n",
            "[LightGBM] [Warning] Unknown parameter: global_max_steps\n"
          ]
        },
        {
          "output_type": "stream",
          "name": "stderr",
          "text": [
            "[flaml.automl: 11-26 06:20:58] {2482} INFO -  at 28.3s,\testimator lgbm's best error=0.1394,\tbest estimator lgbm's best error=0.1394\n",
            "[flaml.automl: 11-26 06:20:58] {2288} INFO - iteration 76, current learner lgbm\n"
          ]
        },
        {
          "output_type": "stream",
          "name": "stdout",
          "text": [
            "[LightGBM] [Warning] Unknown parameter: global_max_steps\n",
            "[LightGBM] [Warning] Unknown parameter: global_max_steps\n",
            "[LightGBM] [Warning] Unknown parameter: global_max_steps\n",
            "[LightGBM] [Warning] Unknown parameter: global_max_steps\n",
            "[LightGBM] [Warning] Unknown parameter: global_max_steps\n"
          ]
        },
        {
          "output_type": "stream",
          "name": "stderr",
          "text": [
            "[flaml.automl: 11-26 06:20:58] {2482} INFO -  at 28.5s,\testimator lgbm's best error=0.1394,\tbest estimator lgbm's best error=0.1394\n",
            "[flaml.automl: 11-26 06:20:58] {2288} INFO - iteration 77, current learner lgbm\n"
          ]
        },
        {
          "output_type": "stream",
          "name": "stdout",
          "text": [
            "[LightGBM] [Warning] Unknown parameter: global_max_steps\n",
            "[LightGBM] [Warning] Unknown parameter: global_max_steps\n",
            "[LightGBM] [Warning] Unknown parameter: global_max_steps\n",
            "[LightGBM] [Warning] Unknown parameter: global_max_steps\n",
            "[LightGBM] [Warning] Unknown parameter: global_max_steps\n"
          ]
        },
        {
          "output_type": "stream",
          "name": "stderr",
          "text": [
            "[flaml.automl: 11-26 06:20:59] {2482} INFO -  at 29.1s,\testimator lgbm's best error=0.1394,\tbest estimator lgbm's best error=0.1394\n",
            "[flaml.automl: 11-26 06:20:59] {2288} INFO - iteration 78, current learner lgbm\n"
          ]
        },
        {
          "output_type": "stream",
          "name": "stdout",
          "text": [
            "[LightGBM] [Warning] Unknown parameter: global_max_steps\n",
            "[LightGBM] [Warning] Unknown parameter: global_max_steps\n",
            "[LightGBM] [Warning] Unknown parameter: global_max_steps\n",
            "[LightGBM] [Warning] Unknown parameter: global_max_steps\n"
          ]
        },
        {
          "output_type": "stream",
          "name": "stderr",
          "text": [
            "[flaml.automl: 11-26 06:20:59] {2482} INFO -  at 29.3s,\testimator lgbm's best error=0.1394,\tbest estimator lgbm's best error=0.1394\n",
            "[flaml.automl: 11-26 06:20:59] {2288} INFO - iteration 79, current learner lgbm\n"
          ]
        },
        {
          "output_type": "stream",
          "name": "stdout",
          "text": [
            "[LightGBM] [Warning] Unknown parameter: global_max_steps\n",
            "[LightGBM] [Warning] Unknown parameter: global_max_steps\n",
            "[LightGBM] [Warning] Unknown parameter: global_max_steps\n",
            "[LightGBM] [Warning] Unknown parameter: global_max_steps\n",
            "[LightGBM] [Warning] Unknown parameter: global_max_steps\n",
            "[LightGBM] [Warning] Unknown parameter: global_max_steps\n",
            "[LightGBM] [Warning] Unknown parameter: global_max_steps\n"
          ]
        },
        {
          "output_type": "stream",
          "name": "stderr",
          "text": [
            "[flaml.automl: 11-26 06:20:59] {2482} INFO -  at 29.5s,\testimator lgbm's best error=0.1394,\tbest estimator lgbm's best error=0.1394\n",
            "[flaml.automl: 11-26 06:20:59] {2288} INFO - iteration 80, current learner extra_tree\n",
            "[flaml.automl: 11-26 06:21:01] {2482} INFO -  at 30.8s,\testimator extra_tree's best error=0.1419,\tbest estimator lgbm's best error=0.1394\n",
            "[flaml.automl: 11-26 06:21:01] {2288} INFO - iteration 81, current learner lgbm\n"
          ]
        },
        {
          "output_type": "stream",
          "name": "stdout",
          "text": [
            "[LightGBM] [Warning] Unknown parameter: global_max_steps\n",
            "[LightGBM] [Warning] Unknown parameter: global_max_steps\n",
            "[LightGBM] [Warning] Unknown parameter: global_max_steps\n",
            "[LightGBM] [Warning] Unknown parameter: global_max_steps\n"
          ]
        },
        {
          "output_type": "stream",
          "name": "stderr",
          "text": [
            "[flaml.automl: 11-26 06:21:01] {2482} INFO -  at 31.3s,\testimator lgbm's best error=0.1365,\tbest estimator lgbm's best error=0.1365\n",
            "[flaml.automl: 11-26 06:21:01] {2288} INFO - iteration 82, current learner extra_tree\n"
          ]
        },
        {
          "output_type": "stream",
          "name": "stdout",
          "text": [
            "[LightGBM] [Warning] Unknown parameter: global_max_steps\n"
          ]
        },
        {
          "output_type": "stream",
          "name": "stderr",
          "text": [
            "[flaml.automl: 11-26 06:21:03] {2482} INFO -  at 32.7s,\testimator extra_tree's best error=0.1419,\tbest estimator lgbm's best error=0.1365\n",
            "[flaml.automl: 11-26 06:21:03] {2288} INFO - iteration 83, current learner extra_tree\n",
            "[flaml.automl: 11-26 06:21:04] {2482} INFO -  at 34.4s,\testimator extra_tree's best error=0.1419,\tbest estimator lgbm's best error=0.1365\n",
            "[flaml.automl: 11-26 06:21:04] {2288} INFO - iteration 84, current learner extra_tree\n",
            "[flaml.automl: 11-26 06:21:06] {2482} INFO -  at 35.7s,\testimator extra_tree's best error=0.1419,\tbest estimator lgbm's best error=0.1365\n",
            "[flaml.automl: 11-26 06:21:06] {2288} INFO - iteration 85, current learner rf\n",
            "[flaml.automl: 11-26 06:21:07] {2482} INFO -  at 37.3s,\testimator rf's best error=0.1725,\tbest estimator lgbm's best error=0.1365\n",
            "[flaml.automl: 11-26 06:21:07] {2288} INFO - iteration 86, current learner xgboost\n",
            "[flaml.automl: 11-26 06:21:07] {2482} INFO -  at 37.4s,\testimator xgboost's best error=0.2127,\tbest estimator lgbm's best error=0.1365\n",
            "[flaml.automl: 11-26 06:21:07] {2288} INFO - iteration 87, current learner lgbm\n"
          ]
        },
        {
          "output_type": "stream",
          "name": "stdout",
          "text": [
            "[LightGBM] [Warning] Unknown parameter: global_max_steps\n",
            "[LightGBM] [Warning] Unknown parameter: global_max_steps\n",
            "[LightGBM] [Warning] Unknown parameter: global_max_steps\n",
            "[LightGBM] [Warning] Unknown parameter: global_max_steps\n"
          ]
        },
        {
          "output_type": "stream",
          "name": "stderr",
          "text": [
            "[flaml.automl: 11-26 06:21:08] {2482} INFO -  at 38.2s,\testimator lgbm's best error=0.1365,\tbest estimator lgbm's best error=0.1365\n",
            "[flaml.automl: 11-26 06:21:08] {2288} INFO - iteration 88, current learner lgbm\n"
          ]
        },
        {
          "output_type": "stream",
          "name": "stdout",
          "text": [
            "[LightGBM] [Warning] Unknown parameter: global_max_steps\n",
            "[LightGBM] [Warning] Unknown parameter: global_max_steps\n",
            "[LightGBM] [Warning] Unknown parameter: global_max_steps\n",
            "[LightGBM] [Warning] Unknown parameter: global_max_steps\n",
            "[LightGBM] [Warning] Unknown parameter: global_max_steps\n",
            "[LightGBM] [Warning] Unknown parameter: global_max_steps"
          ]
        },
        {
          "output_type": "stream",
          "name": "stderr",
          "text": [
            "[flaml.automl: 11-26 06:21:08] {2482} INFO -  at 38.6s,\testimator lgbm's best error=0.1365,\tbest estimator lgbm's best error=0.1365\n",
            "[flaml.automl: 11-26 06:21:08] {2288} INFO - iteration 89, current learner extra_tree\n"
          ]
        },
        {
          "output_type": "stream",
          "name": "stdout",
          "text": [
            "\n"
          ]
        },
        {
          "output_type": "stream",
          "name": "stderr",
          "text": [
            "[flaml.automl: 11-26 06:21:10] {2482} INFO -  at 39.9s,\testimator extra_tree's best error=0.1419,\tbest estimator lgbm's best error=0.1365\n",
            "[flaml.automl: 11-26 06:21:10] {2288} INFO - iteration 90, current learner lgbm\n"
          ]
        },
        {
          "output_type": "stream",
          "name": "stdout",
          "text": [
            "[LightGBM] [Warning] Unknown parameter: global_max_steps\n",
            "[LightGBM] [Warning] Unknown parameter: global_max_steps\n",
            "[LightGBM] [Warning] Unknown parameter: global_max_steps\n",
            "[LightGBM] [Warning] Unknown parameter: global_max_steps\n"
          ]
        },
        {
          "output_type": "stream",
          "name": "stderr",
          "text": [
            "[flaml.automl: 11-26 06:21:10] {2482} INFO -  at 40.2s,\testimator lgbm's best error=0.1365,\tbest estimator lgbm's best error=0.1365\n",
            "[flaml.automl: 11-26 06:21:10] {2288} INFO - iteration 91, current learner extra_tree\n"
          ]
        },
        {
          "output_type": "stream",
          "name": "stdout",
          "text": [
            "[LightGBM] [Warning] Unknown parameter: global_max_steps\n"
          ]
        },
        {
          "output_type": "stream",
          "name": "stderr",
          "text": [
            "[flaml.automl: 11-26 06:21:11] {2482} INFO -  at 41.5s,\testimator extra_tree's best error=0.1334,\tbest estimator extra_tree's best error=0.1334\n",
            "[flaml.automl: 11-26 06:21:11] {2288} INFO - iteration 92, current learner xgb_limitdepth\n",
            "[flaml.automl: 11-26 06:21:11] {2482} INFO -  at 41.6s,\testimator xgb_limitdepth's best error=0.6362,\tbest estimator extra_tree's best error=0.1334\n",
            "[flaml.automl: 11-26 06:21:11] {2288} INFO - iteration 93, current learner xgb_limitdepth\n",
            "[flaml.automl: 11-26 06:21:12] {2482} INFO -  at 41.7s,\testimator xgb_limitdepth's best error=0.6362,\tbest estimator extra_tree's best error=0.1334\n",
            "[flaml.automl: 11-26 06:21:12] {2288} INFO - iteration 94, current learner xgb_limitdepth\n",
            "[flaml.automl: 11-26 06:21:12] {2482} INFO -  at 41.9s,\testimator xgb_limitdepth's best error=0.2053,\tbest estimator extra_tree's best error=0.1334\n",
            "[flaml.automl: 11-26 06:21:12] {2288} INFO - iteration 95, current learner xgb_limitdepth\n",
            "[flaml.automl: 11-26 06:21:12] {2482} INFO -  at 42.0s,\testimator xgb_limitdepth's best error=0.2053,\tbest estimator extra_tree's best error=0.1334\n",
            "[flaml.automl: 11-26 06:21:12] {2288} INFO - iteration 96, current learner xgb_limitdepth\n",
            "[flaml.automl: 11-26 06:21:12] {2482} INFO -  at 42.1s,\testimator xgb_limitdepth's best error=0.2053,\tbest estimator extra_tree's best error=0.1334\n",
            "[flaml.automl: 11-26 06:21:12] {2288} INFO - iteration 97, current learner xgb_limitdepth\n",
            "[flaml.automl: 11-26 06:21:12] {2482} INFO -  at 42.3s,\testimator xgb_limitdepth's best error=0.2053,\tbest estimator extra_tree's best error=0.1334\n",
            "[flaml.automl: 11-26 06:21:12] {2288} INFO - iteration 98, current learner xgb_limitdepth\n",
            "[flaml.automl: 11-26 06:21:12] {2482} INFO -  at 42.4s,\testimator xgb_limitdepth's best error=0.2053,\tbest estimator extra_tree's best error=0.1334\n",
            "[flaml.automl: 11-26 06:21:12] {2288} INFO - iteration 99, current learner xgb_limitdepth\n",
            "[flaml.automl: 11-26 06:21:12] {2482} INFO -  at 42.6s,\testimator xgb_limitdepth's best error=0.2053,\tbest estimator extra_tree's best error=0.1334\n",
            "[flaml.automl: 11-26 06:21:12] {2288} INFO - iteration 100, current learner extra_tree\n",
            "[flaml.automl: 11-26 06:21:14] {2482} INFO -  at 43.9s,\testimator extra_tree's best error=0.1334,\tbest estimator extra_tree's best error=0.1334\n",
            "[flaml.automl: 11-26 06:21:14] {2288} INFO - iteration 101, current learner xgb_limitdepth\n",
            "[flaml.automl: 11-26 06:21:14] {2482} INFO -  at 44.0s,\testimator xgb_limitdepth's best error=0.2053,\tbest estimator extra_tree's best error=0.1334\n",
            "[flaml.automl: 11-26 06:21:14] {2288} INFO - iteration 102, current learner xgb_limitdepth\n",
            "[flaml.automl: 11-26 06:21:14] {2482} INFO -  at 44.1s,\testimator xgb_limitdepth's best error=0.2053,\tbest estimator extra_tree's best error=0.1334\n",
            "[flaml.automl: 11-26 06:21:14] {2288} INFO - iteration 103, current learner lgbm\n"
          ]
        },
        {
          "output_type": "stream",
          "name": "stdout",
          "text": [
            "[LightGBM] [Warning] Unknown parameter: global_max_steps\n",
            "[LightGBM] [Warning] Unknown parameter: global_max_steps\n",
            "[LightGBM] [Warning] Unknown parameter: global_max_steps\n",
            "[LightGBM] [Warning] Unknown parameter: global_max_steps\n",
            "[LightGBM] [Warning] Unknown parameter: global_max_steps\n"
          ]
        },
        {
          "output_type": "stream",
          "name": "stderr",
          "text": [
            "[flaml.automl: 11-26 06:21:15] {2482} INFO -  at 45.4s,\testimator lgbm's best error=0.1365,\tbest estimator extra_tree's best error=0.1334\n",
            "[flaml.automl: 11-26 06:21:15] {2288} INFO - iteration 104, current learner xgb_limitdepth\n",
            "[flaml.automl: 11-26 06:21:15] {2482} INFO -  at 45.5s,\testimator xgb_limitdepth's best error=0.2053,\tbest estimator extra_tree's best error=0.1334\n",
            "[flaml.automl: 11-26 06:21:15] {2288} INFO - iteration 105, current learner xgb_limitdepth\n",
            "[flaml.automl: 11-26 06:21:15] {2482} INFO -  at 45.6s,\testimator xgb_limitdepth's best error=0.2053,\tbest estimator extra_tree's best error=0.1334\n",
            "[flaml.automl: 11-26 06:21:15] {2288} INFO - iteration 106, current learner xgb_limitdepth\n",
            "[flaml.automl: 11-26 06:21:16] {2482} INFO -  at 45.7s,\testimator xgb_limitdepth's best error=0.2053,\tbest estimator extra_tree's best error=0.1334\n",
            "[flaml.automl: 11-26 06:21:16] {2288} INFO - iteration 107, current learner xgb_limitdepth\n",
            "[flaml.automl: 11-26 06:21:16] {2482} INFO -  at 45.9s,\testimator xgb_limitdepth's best error=0.2053,\tbest estimator extra_tree's best error=0.1334\n",
            "[flaml.automl: 11-26 06:21:16] {2288} INFO - iteration 108, current learner extra_tree\n",
            "[flaml.automl: 11-26 06:21:17] {2482} INFO -  at 47.3s,\testimator extra_tree's best error=0.1334,\tbest estimator extra_tree's best error=0.1334\n",
            "[flaml.automl: 11-26 06:21:17] {2288} INFO - iteration 109, current learner xgb_limitdepth\n",
            "[flaml.automl: 11-26 06:21:17] {2482} INFO -  at 47.4s,\testimator xgb_limitdepth's best error=0.2053,\tbest estimator extra_tree's best error=0.1334\n",
            "[flaml.automl: 11-26 06:21:17] {2288} INFO - iteration 110, current learner xgb_limitdepth\n",
            "[flaml.automl: 11-26 06:21:17] {2482} INFO -  at 47.5s,\testimator xgb_limitdepth's best error=0.2053,\tbest estimator extra_tree's best error=0.1334\n",
            "[flaml.automl: 11-26 06:21:17] {2288} INFO - iteration 111, current learner lgbm\n"
          ]
        },
        {
          "output_type": "stream",
          "name": "stdout",
          "text": [
            "[LightGBM] [Warning] Unknown parameter: global_max_steps\n",
            "[LightGBM] [Warning] Unknown parameter: global_max_steps\n",
            "[LightGBM] [Warning] Unknown parameter: global_max_steps\n",
            "[LightGBM] [Warning] Unknown parameter: global_max_steps\n",
            "[LightGBM] [Warning] Unknown parameter: global_max_steps\n"
          ]
        },
        {
          "output_type": "stream",
          "name": "stderr",
          "text": [
            "[flaml.automl: 11-26 06:21:18] {2482} INFO -  at 47.8s,\testimator lgbm's best error=0.1365,\tbest estimator extra_tree's best error=0.1334\n",
            "[flaml.automl: 11-26 06:21:18] {2288} INFO - iteration 112, current learner xgb_limitdepth\n",
            "[flaml.automl: 11-26 06:21:18] {2482} INFO -  at 47.9s,\testimator xgb_limitdepth's best error=0.2053,\tbest estimator extra_tree's best error=0.1334\n",
            "[flaml.automl: 11-26 06:21:18] {2288} INFO - iteration 113, current learner xgb_limitdepth\n",
            "[flaml.automl: 11-26 06:21:18] {2482} INFO -  at 48.0s,\testimator xgb_limitdepth's best error=0.2053,\tbest estimator extra_tree's best error=0.1334\n",
            "[flaml.automl: 11-26 06:21:18] {2288} INFO - iteration 114, current learner xgb_limitdepth\n",
            "[flaml.automl: 11-26 06:21:18] {2482} INFO -  at 48.2s,\testimator xgb_limitdepth's best error=0.2053,\tbest estimator extra_tree's best error=0.1334\n",
            "[flaml.automl: 11-26 06:21:18] {2288} INFO - iteration 115, current learner rf\n",
            "[flaml.automl: 11-26 06:21:19] {2482} INFO -  at 49.5s,\testimator rf's best error=0.1725,\tbest estimator extra_tree's best error=0.1334\n",
            "[flaml.automl: 11-26 06:21:19] {2288} INFO - iteration 116, current learner rf\n",
            "[flaml.automl: 11-26 06:21:21] {2482} INFO -  at 50.8s,\testimator rf's best error=0.1725,\tbest estimator extra_tree's best error=0.1334\n",
            "[flaml.automl: 11-26 06:21:21] {2288} INFO - iteration 117, current learner xgb_limitdepth\n",
            "[flaml.automl: 11-26 06:21:21] {2482} INFO -  at 50.9s,\testimator xgb_limitdepth's best error=0.2053,\tbest estimator extra_tree's best error=0.1334\n",
            "[flaml.automl: 11-26 06:21:21] {2288} INFO - iteration 118, current learner xgb_limitdepth\n",
            "[flaml.automl: 11-26 06:21:21] {2482} INFO -  at 51.0s,\testimator xgb_limitdepth's best error=0.2053,\tbest estimator extra_tree's best error=0.1334\n",
            "[flaml.automl: 11-26 06:21:21] {2288} INFO - iteration 119, current learner lgbm\n"
          ]
        },
        {
          "output_type": "stream",
          "name": "stdout",
          "text": [
            "[LightGBM] [Warning] Unknown parameter: global_max_steps\n",
            "[LightGBM] [Warning] Unknown parameter: global_max_steps\n",
            "[LightGBM] [Warning] Unknown parameter: global_max_steps\n",
            "[LightGBM] [Warning] Unknown parameter: global_max_steps\n",
            "[LightGBM] [Warning] Unknown parameter: global_max_steps\n"
          ]
        },
        {
          "output_type": "stream",
          "name": "stderr",
          "text": [
            "[flaml.automl: 11-26 06:21:22] {2482} INFO -  at 52.1s,\testimator lgbm's best error=0.1314,\tbest estimator lgbm's best error=0.1314\n",
            "[flaml.automl: 11-26 06:21:22] {2288} INFO - iteration 120, current learner xgb_limitdepth\n",
            "[flaml.automl: 11-26 06:21:22] {2482} INFO -  at 52.2s,\testimator xgb_limitdepth's best error=0.2053,\tbest estimator lgbm's best error=0.1314\n",
            "[flaml.automl: 11-26 06:21:22] {2288} INFO - iteration 121, current learner xgb_limitdepth\n",
            "[flaml.automl: 11-26 06:21:22] {2482} INFO -  at 52.4s,\testimator xgb_limitdepth's best error=0.2053,\tbest estimator lgbm's best error=0.1314\n",
            "[flaml.automl: 11-26 06:21:22] {2288} INFO - iteration 122, current learner xgb_limitdepth\n",
            "[flaml.automl: 11-26 06:21:22] {2482} INFO -  at 52.5s,\testimator xgb_limitdepth's best error=0.2053,\tbest estimator lgbm's best error=0.1314\n",
            "[flaml.automl: 11-26 06:21:22] {2288} INFO - iteration 123, current learner xgb_limitdepth\n",
            "[flaml.automl: 11-26 06:21:22] {2482} INFO -  at 52.6s,\testimator xgb_limitdepth's best error=0.2053,\tbest estimator lgbm's best error=0.1314\n",
            "[flaml.automl: 11-26 06:21:22] {2288} INFO - iteration 124, current learner lgbm\n"
          ]
        },
        {
          "output_type": "stream",
          "name": "stdout",
          "text": [
            "[LightGBM] [Warning] Unknown parameter: global_max_steps\n",
            "[LightGBM] [Warning] Unknown parameter: global_max_steps\n",
            "[LightGBM] [Warning] Unknown parameter: global_max_steps\n"
          ]
        },
        {
          "output_type": "stream",
          "name": "stderr",
          "text": [
            "[flaml.automl: 11-26 06:21:23] {2482} INFO -  at 53.0s,\testimator lgbm's best error=0.1314,\tbest estimator lgbm's best error=0.1314\n",
            "[flaml.automl: 11-26 06:21:23] {2288} INFO - iteration 125, current learner lgbm\n"
          ]
        },
        {
          "output_type": "stream",
          "name": "stdout",
          "text": [
            "[LightGBM] [Warning] Unknown parameter: global_max_steps\n",
            "[LightGBM] [Warning] Unknown parameter: global_max_steps\n",
            "[LightGBM] [Warning] Unknown parameter: global_max_steps\n",
            "[LightGBM] [Warning] Unknown parameter: global_max_steps\n",
            "[LightGBM] [Warning] Unknown parameter: global_max_steps\n",
            "[LightGBM] [Warning] Unknown parameter: global_max_steps\n",
            "[LightGBM] [Warning] Unknown parameter: global_max_steps\n"
          ]
        },
        {
          "output_type": "stream",
          "name": "stderr",
          "text": [
            "[flaml.automl: 11-26 06:21:24] {2482} INFO -  at 54.3s,\testimator lgbm's best error=0.1314,\tbest estimator lgbm's best error=0.1314\n",
            "[flaml.automl: 11-26 06:21:24] {2288} INFO - iteration 126, current learner lgbm\n"
          ]
        },
        {
          "output_type": "stream",
          "name": "stdout",
          "text": [
            "[LightGBM] [Warning] Unknown parameter: global_max_steps\n",
            "[LightGBM] [Warning] Unknown parameter: global_max_steps\n",
            "[LightGBM] [Warning] Unknown parameter: global_max_steps\n",
            "[LightGBM] [Warning] Unknown parameter: global_max_steps\n"
          ]
        },
        {
          "output_type": "stream",
          "name": "stderr",
          "text": [
            "[flaml.automl: 11-26 06:21:25] {2482} INFO -  at 55.3s,\testimator lgbm's best error=0.1314,\tbest estimator lgbm's best error=0.1314\n",
            "[flaml.automl: 11-26 06:21:25] {2288} INFO - iteration 127, current learner lgbm\n"
          ]
        },
        {
          "output_type": "stream",
          "name": "stdout",
          "text": [
            "[LightGBM] [Warning] Unknown parameter: global_max_steps\n",
            "[LightGBM] [Warning] Unknown parameter: global_max_steps\n",
            "[LightGBM] [Warning] Unknown parameter: global_max_steps\n",
            "[LightGBM] [Warning] Unknown parameter: global_max_steps\n",
            "[LightGBM] [Warning] Unknown parameter: global_max_steps\n"
          ]
        },
        {
          "output_type": "stream",
          "name": "stderr",
          "text": [
            "[flaml.automl: 11-26 06:21:26] {2482} INFO -  at 55.8s,\testimator lgbm's best error=0.1314,\tbest estimator lgbm's best error=0.1314\n",
            "[flaml.automl: 11-26 06:21:26] {2288} INFO - iteration 128, current learner lgbm\n"
          ]
        },
        {
          "output_type": "stream",
          "name": "stdout",
          "text": [
            "[LightGBM] [Warning] Unknown parameter: global_max_steps\n",
            "[LightGBM] [Warning] Unknown parameter: global_max_steps\n",
            "[LightGBM] [Warning] Unknown parameter: global_max_steps\n",
            "[LightGBM] [Warning] Unknown parameter: global_max_steps\n",
            "[LightGBM] [Warning] Unknown parameter: global_max_steps\n",
            "[LightGBM] [Warning] Unknown parameter: global_max_steps\n"
          ]
        },
        {
          "output_type": "stream",
          "name": "stderr",
          "text": [
            "[flaml.automl: 11-26 06:21:27] {2482} INFO -  at 56.9s,\testimator lgbm's best error=0.1314,\tbest estimator lgbm's best error=0.1314\n",
            "[flaml.automl: 11-26 06:21:27] {2288} INFO - iteration 129, current learner xgb_limitdepth\n",
            "[flaml.automl: 11-26 06:21:27] {2482} INFO -  at 57.1s,\testimator xgb_limitdepth's best error=0.2053,\tbest estimator lgbm's best error=0.1314\n",
            "[flaml.automl: 11-26 06:21:27] {2288} INFO - iteration 130, current learner extra_tree\n",
            "[flaml.automl: 11-26 06:21:28] {2482} INFO -  at 58.4s,\testimator extra_tree's best error=0.1334,\tbest estimator lgbm's best error=0.1314\n",
            "[flaml.automl: 11-26 06:21:28] {2288} INFO - iteration 131, current learner extra_tree\n",
            "[flaml.automl: 11-26 06:21:30] {2482} INFO -  at 60.0s,\testimator extra_tree's best error=0.1334,\tbest estimator lgbm's best error=0.1314\n",
            "[flaml.automl: 11-26 06:21:30] {2288} INFO - iteration 132, current learner xgb_limitdepth\n",
            "[flaml.automl: 11-26 06:21:30] {2482} INFO -  at 60.1s,\testimator xgb_limitdepth's best error=0.1933,\tbest estimator lgbm's best error=0.1314\n",
            "[flaml.automl: 11-26 06:21:30] {2288} INFO - iteration 133, current learner lgbm\n"
          ]
        },
        {
          "output_type": "stream",
          "name": "stdout",
          "text": [
            "[LightGBM] [Warning] Unknown parameter: global_max_steps\n",
            "[LightGBM] [Warning] Unknown parameter: global_max_steps\n",
            "[LightGBM] [Warning] Unknown parameter: global_max_steps\n"
          ]
        },
        {
          "output_type": "stream",
          "name": "stderr",
          "text": [
            "[flaml.automl: 11-26 06:21:30] {2482} INFO -  at 60.6s,\testimator lgbm's best error=0.1314,\tbest estimator lgbm's best error=0.1314\n",
            "[flaml.automl: 11-26 06:21:30] {2288} INFO - iteration 134, current learner lgbm\n"
          ]
        },
        {
          "output_type": "stream",
          "name": "stdout",
          "text": [
            "[LightGBM] [Warning] Unknown parameter: global_max_steps\n",
            "[LightGBM] [Warning] Unknown parameter: global_max_steps\n",
            "[LightGBM] [Warning] Unknown parameter: global_max_steps\n",
            "[LightGBM] [Warning] Unknown parameter: global_max_steps\n",
            "[LightGBM] [Warning] Unknown parameter: global_max_steps\n",
            "[LightGBM] [Warning] Unknown parameter: global_max_steps\n",
            "[LightGBM] [Warning] Unknown parameter: global_max_steps\n"
          ]
        },
        {
          "output_type": "stream",
          "name": "stderr",
          "text": [
            "[flaml.automl: 11-26 06:21:31] {2482} INFO -  at 61.3s,\testimator lgbm's best error=0.1314,\tbest estimator lgbm's best error=0.1314\n",
            "[flaml.automl: 11-26 06:21:31] {2288} INFO - iteration 135, current learner xgboost\n",
            "[flaml.automl: 11-26 06:21:31] {2482} INFO -  at 61.4s,\testimator xgboost's best error=0.2127,\tbest estimator lgbm's best error=0.1314\n",
            "[flaml.automl: 11-26 06:21:31] {2288} INFO - iteration 136, current learner xgb_limitdepth\n",
            "[flaml.automl: 11-26 06:21:31] {2482} INFO -  at 61.6s,\testimator xgb_limitdepth's best error=0.1933,\tbest estimator lgbm's best error=0.1314\n",
            "[flaml.automl: 11-26 06:21:31] {2288} INFO - iteration 137, current learner xgboost\n",
            "[flaml.automl: 11-26 06:21:32] {2482} INFO -  at 61.7s,\testimator xgboost's best error=0.2127,\tbest estimator lgbm's best error=0.1314\n",
            "[flaml.automl: 11-26 06:21:32] {2288} INFO - iteration 138, current learner lgbm\n"
          ]
        },
        {
          "output_type": "stream",
          "name": "stdout",
          "text": [
            "[LightGBM] [Warning] Unknown parameter: global_max_steps\n",
            "[LightGBM] [Warning] Unknown parameter: global_max_steps\n",
            "[LightGBM] [Warning] Unknown parameter: global_max_steps\n",
            "[LightGBM] [Warning] Unknown parameter: global_max_steps\n"
          ]
        },
        {
          "output_type": "stream",
          "name": "stderr",
          "text": [
            "[flaml.automl: 11-26 06:21:32] {2482} INFO -  at 62.6s,\testimator lgbm's best error=0.1314,\tbest estimator lgbm's best error=0.1314\n",
            "[flaml.automl: 11-26 06:21:32] {2288} INFO - iteration 139, current learner extra_tree\n"
          ]
        },
        {
          "output_type": "stream",
          "name": "stdout",
          "text": [
            "[LightGBM] [Warning] Unknown parameter: global_max_steps\n"
          ]
        },
        {
          "output_type": "stream",
          "name": "stderr",
          "text": [
            "[flaml.automl: 11-26 06:21:34] {2482} INFO -  at 64.0s,\testimator extra_tree's best error=0.1248,\tbest estimator extra_tree's best error=0.1248\n",
            "[flaml.automl: 11-26 06:21:34] {2288} INFO - iteration 140, current learner xgboost\n",
            "[flaml.automl: 11-26 06:21:34] {2482} INFO -  at 64.0s,\testimator xgboost's best error=0.2127,\tbest estimator extra_tree's best error=0.1248\n",
            "[flaml.automl: 11-26 06:21:34] {2288} INFO - iteration 141, current learner extra_tree\n",
            "[flaml.automl: 11-26 06:21:36] {2482} INFO -  at 65.7s,\testimator extra_tree's best error=0.1248,\tbest estimator extra_tree's best error=0.1248\n",
            "[flaml.automl: 11-26 06:21:36] {2288} INFO - iteration 142, current learner xgboost\n",
            "[flaml.automl: 11-26 06:21:36] {2482} INFO -  at 65.8s,\testimator xgboost's best error=0.2127,\tbest estimator extra_tree's best error=0.1248\n",
            "[flaml.automl: 11-26 06:21:36] {2288} INFO - iteration 143, current learner extra_tree\n",
            "[flaml.automl: 11-26 06:21:37] {2482} INFO -  at 67.4s,\testimator extra_tree's best error=0.1248,\tbest estimator extra_tree's best error=0.1248\n",
            "[flaml.automl: 11-26 06:21:37] {2288} INFO - iteration 144, current learner extra_tree\n",
            "[flaml.automl: 11-26 06:21:39] {2482} INFO -  at 69.0s,\testimator extra_tree's best error=0.1248,\tbest estimator extra_tree's best error=0.1248\n",
            "[flaml.automl: 11-26 06:21:39] {2288} INFO - iteration 145, current learner extra_tree\n",
            "[flaml.automl: 11-26 06:21:40] {2482} INFO -  at 70.6s,\testimator extra_tree's best error=0.1248,\tbest estimator extra_tree's best error=0.1248\n",
            "[flaml.automl: 11-26 06:21:40] {2288} INFO - iteration 146, current learner rf\n",
            "[flaml.automl: 11-26 06:21:42] {2482} INFO -  at 72.3s,\testimator rf's best error=0.1725,\tbest estimator extra_tree's best error=0.1248\n",
            "[flaml.automl: 11-26 06:21:42] {2288} INFO - iteration 147, current learner lgbm\n"
          ]
        },
        {
          "output_type": "stream",
          "name": "stdout",
          "text": [
            "[LightGBM] [Warning] Unknown parameter: global_max_steps\n",
            "[LightGBM] [Warning] Unknown parameter: global_max_steps\n",
            "[LightGBM] [Warning] Unknown parameter: global_max_steps\n",
            "[LightGBM] [Warning] Unknown parameter: global_max_steps\n"
          ]
        },
        {
          "output_type": "stream",
          "name": "stderr",
          "text": [
            "[flaml.automl: 11-26 06:21:43] {2482} INFO -  at 73.3s,\testimator lgbm's best error=0.1314,\tbest estimator extra_tree's best error=0.1248\n",
            "[flaml.automl: 11-26 06:21:43] {2288} INFO - iteration 148, current learner rf\n"
          ]
        },
        {
          "output_type": "stream",
          "name": "stdout",
          "text": [
            "[LightGBM] [Warning] Unknown parameter: global_max_steps\n"
          ]
        },
        {
          "output_type": "stream",
          "name": "stderr",
          "text": [
            "[flaml.automl: 11-26 06:21:44] {2482} INFO -  at 74.6s,\testimator rf's best error=0.1725,\tbest estimator extra_tree's best error=0.1248\n",
            "[flaml.automl: 11-26 06:21:44] {2288} INFO - iteration 149, current learner lgbm\n"
          ]
        },
        {
          "output_type": "stream",
          "name": "stdout",
          "text": [
            "[LightGBM] [Warning] Unknown parameter: global_max_steps\n",
            "[LightGBM] [Warning] Unknown parameter: global_max_steps\n",
            "[LightGBM] [Warning] Unknown parameter: global_max_steps\n",
            "[LightGBM] [Warning] Unknown parameter: global_max_steps\n"
          ]
        },
        {
          "output_type": "stream",
          "name": "stderr",
          "text": [
            "[flaml.automl: 11-26 06:21:45] {2482} INFO -  at 75.5s,\testimator lgbm's best error=0.1314,\tbest estimator extra_tree's best error=0.1248\n",
            "[flaml.automl: 11-26 06:21:45] {2288} INFO - iteration 150, current learner rf\n"
          ]
        },
        {
          "output_type": "stream",
          "name": "stdout",
          "text": [
            "[LightGBM] [Warning] Unknown parameter: global_max_steps\n"
          ]
        },
        {
          "output_type": "stream",
          "name": "stderr",
          "text": [
            "[flaml.automl: 11-26 06:21:47] {2482} INFO -  at 77.1s,\testimator rf's best error=0.1725,\tbest estimator extra_tree's best error=0.1248\n",
            "[flaml.automl: 11-26 06:21:47] {2288} INFO - iteration 151, current learner xgboost\n",
            "[flaml.automl: 11-26 06:21:47] {2482} INFO -  at 77.1s,\testimator xgboost's best error=0.2127,\tbest estimator extra_tree's best error=0.1248\n",
            "[flaml.automl: 11-26 06:21:47] {2288} INFO - iteration 152, current learner extra_tree\n",
            "[flaml.automl: 11-26 06:21:48] {2482} INFO -  at 78.4s,\testimator extra_tree's best error=0.1248,\tbest estimator extra_tree's best error=0.1248\n",
            "[flaml.automl: 11-26 06:21:48] {2288} INFO - iteration 153, current learner extra_tree\n",
            "[flaml.automl: 11-26 06:21:50] {2482} INFO -  at 79.8s,\testimator extra_tree's best error=0.1248,\tbest estimator extra_tree's best error=0.1248\n",
            "[flaml.automl: 11-26 06:21:50] {2288} INFO - iteration 154, current learner lgbm\n"
          ]
        },
        {
          "output_type": "stream",
          "name": "stdout",
          "text": [
            "[LightGBM] [Warning] Unknown parameter: global_max_steps\n",
            "[LightGBM] [Warning] Unknown parameter: global_max_steps\n",
            "[LightGBM] [Warning] Unknown parameter: global_max_steps\n",
            "[LightGBM] [Warning] Unknown parameter: global_max_steps\n"
          ]
        },
        {
          "output_type": "stream",
          "name": "stderr",
          "text": [
            "[flaml.automl: 11-26 06:21:50] {2482} INFO -  at 80.5s,\testimator lgbm's best error=0.1314,\tbest estimator extra_tree's best error=0.1248\n",
            "[flaml.automl: 11-26 06:21:50] {2288} INFO - iteration 155, current learner lgbm\n"
          ]
        },
        {
          "output_type": "stream",
          "name": "stdout",
          "text": [
            "[LightGBM] [Warning] Unknown parameter: global_max_steps\n",
            "[LightGBM] [Warning] Unknown parameter: global_max_steps\n",
            "[LightGBM] [Warning] Unknown parameter: global_max_steps\n",
            "[LightGBM] [Warning] Unknown parameter: global_max_steps\n",
            "[LightGBM] [Warning] Unknown parameter: global_max_steps\n",
            "[LightGBM] [Warning] Unknown parameter: global_max_steps\n"
          ]
        },
        {
          "output_type": "stream",
          "name": "stderr",
          "text": [
            "[flaml.automl: 11-26 06:21:52] {2482} INFO -  at 82.0s,\testimator lgbm's best error=0.1314,\tbest estimator extra_tree's best error=0.1248\n",
            "[flaml.automl: 11-26 06:21:52] {2288} INFO - iteration 156, current learner xgb_limitdepth\n",
            "[flaml.automl: 11-26 06:21:52] {2482} INFO -  at 82.2s,\testimator xgb_limitdepth's best error=0.1933,\tbest estimator extra_tree's best error=0.1248\n",
            "[flaml.automl: 11-26 06:21:52] {2288} INFO - iteration 157, current learner extra_tree\n",
            "[flaml.automl: 11-26 06:21:54] {2482} INFO -  at 83.8s,\testimator extra_tree's best error=0.1248,\tbest estimator extra_tree's best error=0.1248\n",
            "[flaml.automl: 11-26 06:21:54] {2288} INFO - iteration 158, current learner xgboost\n",
            "[flaml.automl: 11-26 06:21:54] {2482} INFO -  at 83.9s,\testimator xgboost's best error=0.2127,\tbest estimator extra_tree's best error=0.1248\n",
            "[flaml.automl: 11-26 06:21:54] {2288} INFO - iteration 159, current learner xgboost\n",
            "[flaml.automl: 11-26 06:21:54] {2482} INFO -  at 84.0s,\testimator xgboost's best error=0.2127,\tbest estimator extra_tree's best error=0.1248\n",
            "[flaml.automl: 11-26 06:21:54] {2288} INFO - iteration 160, current learner extra_tree\n",
            "[flaml.automl: 11-26 06:21:55] {2482} INFO -  at 85.3s,\testimator extra_tree's best error=0.1248,\tbest estimator extra_tree's best error=0.1248\n",
            "[flaml.automl: 11-26 06:21:55] {2288} INFO - iteration 161, current learner rf\n",
            "[flaml.automl: 11-26 06:21:57] {2482} INFO -  at 86.9s,\testimator rf's best error=0.1725,\tbest estimator extra_tree's best error=0.1248\n",
            "[flaml.automl: 11-26 06:21:57] {2288} INFO - iteration 162, current learner extra_tree\n",
            "[flaml.automl: 11-26 06:21:58] {2482} INFO -  at 88.3s,\testimator extra_tree's best error=0.1248,\tbest estimator extra_tree's best error=0.1248\n",
            "[flaml.automl: 11-26 06:21:58] {2288} INFO - iteration 163, current learner xgb_limitdepth\n",
            "[flaml.automl: 11-26 06:21:58] {2482} INFO -  at 88.4s,\testimator xgb_limitdepth's best error=0.1933,\tbest estimator extra_tree's best error=0.1248\n",
            "[flaml.automl: 11-26 06:21:58] {2288} INFO - iteration 164, current learner extra_tree\n",
            "[flaml.automl: 11-26 06:22:00] {2482} INFO -  at 89.8s,\testimator extra_tree's best error=0.1248,\tbest estimator extra_tree's best error=0.1248\n",
            "[flaml.automl: 11-26 06:22:00] {2288} INFO - iteration 165, current learner xgboost\n",
            "[flaml.automl: 11-26 06:22:00] {2482} INFO -  at 89.9s,\testimator xgboost's best error=0.2127,\tbest estimator extra_tree's best error=0.1248\n",
            "[flaml.automl: 11-26 06:22:00] {2288} INFO - iteration 166, current learner xgboost\n",
            "[flaml.automl: 11-26 06:22:00] {2482} INFO -  at 90.0s,\testimator xgboost's best error=0.2127,\tbest estimator extra_tree's best error=0.1248\n",
            "[flaml.automl: 11-26 06:22:00] {2288} INFO - iteration 167, current learner extra_tree\n",
            "[flaml.automl: 11-26 06:22:01] {2482} INFO -  at 91.6s,\testimator extra_tree's best error=0.1248,\tbest estimator extra_tree's best error=0.1248\n",
            "[flaml.automl: 11-26 06:22:01] {2288} INFO - iteration 168, current learner extra_tree\n",
            "[flaml.automl: 11-26 06:22:03] {2482} INFO -  at 93.2s,\testimator extra_tree's best error=0.1248,\tbest estimator extra_tree's best error=0.1248\n",
            "[flaml.automl: 11-26 06:22:03] {2288} INFO - iteration 169, current learner rf\n",
            "[flaml.automl: 11-26 06:22:04] {2482} INFO -  at 94.4s,\testimator rf's best error=0.1725,\tbest estimator extra_tree's best error=0.1248\n",
            "[flaml.automl: 11-26 06:22:04] {2288} INFO - iteration 170, current learner lgbm\n"
          ]
        },
        {
          "output_type": "stream",
          "name": "stdout",
          "text": [
            "[LightGBM] [Warning] Unknown parameter: global_max_steps\n",
            "[LightGBM] [Warning] Unknown parameter: global_max_steps\n",
            "[LightGBM] [Warning] Unknown parameter: global_max_steps\n",
            "[LightGBM] [Warning] Unknown parameter: global_max_steps\n",
            "[LightGBM] [Warning] Unknown parameter: global_max_steps\n"
          ]
        },
        {
          "output_type": "stream",
          "name": "stderr",
          "text": [
            "[flaml.automl: 11-26 06:22:05] {2482} INFO -  at 95.6s,\testimator lgbm's best error=0.1314,\tbest estimator extra_tree's best error=0.1248\n",
            "[flaml.automl: 11-26 06:22:05] {2288} INFO - iteration 171, current learner lgbm\n"
          ]
        },
        {
          "output_type": "stream",
          "name": "stdout",
          "text": [
            "[LightGBM] [Warning] Unknown parameter: global_max_steps\n",
            "[LightGBM] [Warning] Unknown parameter: global_max_steps\n",
            "[LightGBM] [Warning] Unknown parameter: global_max_steps\n"
          ]
        },
        {
          "output_type": "stream",
          "name": "stderr",
          "text": [
            "[flaml.automl: 11-26 06:22:06] {2482} INFO -  at 96.1s,\testimator lgbm's best error=0.1314,\tbest estimator extra_tree's best error=0.1248\n",
            "[flaml.automl: 11-26 06:22:06] {2288} INFO - iteration 172, current learner xgboost\n"
          ]
        },
        {
          "output_type": "stream",
          "name": "stdout",
          "text": [
            "[LightGBM] [Warning] Unknown parameter: global_max_steps\n",
            "[LightGBM] [Warning] Unknown parameter: global_max_steps\n"
          ]
        },
        {
          "output_type": "stream",
          "name": "stderr",
          "text": [
            "[flaml.automl: 11-26 06:22:06] {2482} INFO -  at 96.2s,\testimator xgboost's best error=0.2127,\tbest estimator extra_tree's best error=0.1248\n",
            "[flaml.automl: 11-26 06:22:06] {2288} INFO - iteration 173, current learner extra_tree\n",
            "[flaml.automl: 11-26 06:22:07] {2482} INFO -  at 97.5s,\testimator extra_tree's best error=0.1248,\tbest estimator extra_tree's best error=0.1248\n",
            "[flaml.automl: 11-26 06:22:07] {2288} INFO - iteration 174, current learner xgboost\n",
            "[flaml.automl: 11-26 06:22:08] {2482} INFO -  at 97.7s,\testimator xgboost's best error=0.2127,\tbest estimator extra_tree's best error=0.1248\n",
            "[flaml.automl: 11-26 06:22:08] {2288} INFO - iteration 175, current learner xgboost\n",
            "[flaml.automl: 11-26 06:22:08] {2482} INFO -  at 97.8s,\testimator xgboost's best error=0.2127,\tbest estimator extra_tree's best error=0.1248\n",
            "[flaml.automl: 11-26 06:22:08] {2288} INFO - iteration 176, current learner xgb_limitdepth\n",
            "[flaml.automl: 11-26 06:22:08] {2482} INFO -  at 97.9s,\testimator xgb_limitdepth's best error=0.1933,\tbest estimator extra_tree's best error=0.1248\n",
            "[flaml.automl: 11-26 06:22:08] {2288} INFO - iteration 177, current learner xgboost\n",
            "[flaml.automl: 11-26 06:22:08] {2482} INFO -  at 98.1s,\testimator xgboost's best error=0.2127,\tbest estimator extra_tree's best error=0.1248\n",
            "[flaml.automl: 11-26 06:22:08] {2288} INFO - iteration 178, current learner xgboost\n",
            "[flaml.automl: 11-26 06:22:08] {2482} INFO -  at 98.2s,\testimator xgboost's best error=0.2127,\tbest estimator extra_tree's best error=0.1248\n",
            "[flaml.automl: 11-26 06:22:08] {2288} INFO - iteration 179, current learner xgboost\n",
            "[flaml.automl: 11-26 06:22:08] {2482} INFO -  at 98.2s,\testimator xgboost's best error=0.2127,\tbest estimator extra_tree's best error=0.1248\n",
            "[flaml.automl: 11-26 06:22:08] {2288} INFO - iteration 180, current learner extra_tree\n",
            "[flaml.automl: 11-26 06:22:10] {2482} INFO -  at 99.9s,\testimator extra_tree's best error=0.1248,\tbest estimator extra_tree's best error=0.1248\n",
            "[flaml.automl: 11-26 06:22:10] {2288} INFO - iteration 181, current learner extra_tree\n",
            "[flaml.automl: 11-26 06:22:11] {2482} INFO -  at 101.2s,\testimator extra_tree's best error=0.1248,\tbest estimator extra_tree's best error=0.1248\n",
            "[flaml.automl: 11-26 06:22:11] {2288} INFO - iteration 182, current learner xgboost\n",
            "[flaml.automl: 11-26 06:22:11] {2482} INFO -  at 101.3s,\testimator xgboost's best error=0.2127,\tbest estimator extra_tree's best error=0.1248\n",
            "[flaml.automl: 11-26 06:22:11] {2288} INFO - iteration 183, current learner lgbm\n"
          ]
        },
        {
          "output_type": "stream",
          "name": "stdout",
          "text": [
            "[LightGBM] [Warning] Unknown parameter: global_max_steps\n",
            "[LightGBM] [Warning] Unknown parameter: global_max_steps\n",
            "[LightGBM] [Warning] Unknown parameter: global_max_steps\n",
            "[LightGBM] [Warning] Unknown parameter: global_max_steps\n",
            "[LightGBM] [Warning] Unknown parameter: global_max_steps\n"
          ]
        },
        {
          "output_type": "stream",
          "name": "stderr",
          "text": [
            "[flaml.automl: 11-26 06:22:13] {2482} INFO -  at 102.7s,\testimator lgbm's best error=0.1314,\tbest estimator extra_tree's best error=0.1248\n",
            "[flaml.automl: 11-26 06:22:13] {2288} INFO - iteration 184, current learner xgboost\n",
            "[flaml.automl: 11-26 06:22:13] {2482} INFO -  at 102.8s,\testimator xgboost's best error=0.2127,\tbest estimator extra_tree's best error=0.1248\n",
            "[flaml.automl: 11-26 06:22:13] {2288} INFO - iteration 185, current learner extra_tree\n",
            "[flaml.automl: 11-26 06:22:14] {2482} INFO -  at 104.4s,\testimator extra_tree's best error=0.1248,\tbest estimator extra_tree's best error=0.1248\n",
            "[flaml.automl: 11-26 06:22:14] {2288} INFO - iteration 186, current learner rf\n",
            "[flaml.automl: 11-26 06:22:16] {2482} INFO -  at 105.8s,\testimator rf's best error=0.1684,\tbest estimator extra_tree's best error=0.1248\n",
            "[flaml.automl: 11-26 06:22:16] {2288} INFO - iteration 187, current learner extra_tree\n",
            "[flaml.automl: 11-26 06:22:17] {2482} INFO -  at 107.2s,\testimator extra_tree's best error=0.1248,\tbest estimator extra_tree's best error=0.1248\n",
            "[flaml.automl: 11-26 06:22:17] {2288} INFO - iteration 188, current learner lgbm\n"
          ]
        },
        {
          "output_type": "stream",
          "name": "stdout",
          "text": [
            "[LightGBM] [Warning] Unknown parameter: global_max_steps\n",
            "[LightGBM] [Warning] Unknown parameter: global_max_steps\n",
            "[LightGBM] [Warning] Unknown parameter: global_max_steps\n",
            "[LightGBM] [Warning] Unknown parameter: global_max_steps\n"
          ]
        },
        {
          "output_type": "stream",
          "name": "stderr",
          "text": [
            "[flaml.automl: 11-26 06:22:18] {2482} INFO -  at 108.0s,\testimator lgbm's best error=0.1314,\tbest estimator extra_tree's best error=0.1248\n",
            "[flaml.automl: 11-26 06:22:18] {2288} INFO - iteration 189, current learner xgboost\n"
          ]
        },
        {
          "output_type": "stream",
          "name": "stdout",
          "text": [
            "[LightGBM] [Warning] Unknown parameter: global_max_steps\n"
          ]
        },
        {
          "output_type": "stream",
          "name": "stderr",
          "text": [
            "[flaml.automl: 11-26 06:22:18] {2482} INFO -  at 108.1s,\testimator xgboost's best error=0.2127,\tbest estimator extra_tree's best error=0.1248\n",
            "[flaml.automl: 11-26 06:22:18] {2288} INFO - iteration 190, current learner extra_tree\n",
            "[flaml.automl: 11-26 06:22:20] {2482} INFO -  at 109.7s,\testimator extra_tree's best error=0.1248,\tbest estimator extra_tree's best error=0.1248\n",
            "[flaml.automl: 11-26 06:22:20] {2288} INFO - iteration 191, current learner xgboost\n",
            "[flaml.automl: 11-26 06:22:20] {2482} INFO -  at 109.9s,\testimator xgboost's best error=0.2127,\tbest estimator extra_tree's best error=0.1248\n",
            "[flaml.automl: 11-26 06:22:20] {2288} INFO - iteration 192, current learner extra_tree\n",
            "[flaml.automl: 11-26 06:22:21] {2482} INFO -  at 111.5s,\testimator extra_tree's best error=0.1248,\tbest estimator extra_tree's best error=0.1248\n",
            "[flaml.automl: 11-26 06:22:21] {2288} INFO - iteration 193, current learner xgboost\n",
            "[flaml.automl: 11-26 06:22:21] {2482} INFO -  at 111.6s,\testimator xgboost's best error=0.2127,\tbest estimator extra_tree's best error=0.1248\n",
            "[flaml.automl: 11-26 06:22:21] {2288} INFO - iteration 194, current learner xgb_limitdepth\n",
            "[flaml.automl: 11-26 06:22:22] {2482} INFO -  at 111.7s,\testimator xgb_limitdepth's best error=0.1933,\tbest estimator extra_tree's best error=0.1248\n",
            "[flaml.automl: 11-26 06:22:22] {2288} INFO - iteration 195, current learner xgboost\n",
            "[flaml.automl: 11-26 06:22:22] {2482} INFO -  at 111.8s,\testimator xgboost's best error=0.2127,\tbest estimator extra_tree's best error=0.1248\n",
            "[flaml.automl: 11-26 06:22:22] {2288} INFO - iteration 196, current learner lgbm\n"
          ]
        },
        {
          "output_type": "stream",
          "name": "stdout",
          "text": [
            "[LightGBM] [Warning] Unknown parameter: global_max_steps\n",
            "[LightGBM] [Warning] Unknown parameter: global_max_steps\n",
            "[LightGBM] [Warning] Unknown parameter: global_max_steps\n",
            "[LightGBM] [Warning] Unknown parameter: global_max_steps\n"
          ]
        },
        {
          "output_type": "stream",
          "name": "stderr",
          "text": [
            "[flaml.automl: 11-26 06:22:22] {2482} INFO -  at 112.6s,\testimator lgbm's best error=0.1314,\tbest estimator extra_tree's best error=0.1248\n",
            "[flaml.automl: 11-26 06:22:22] {2288} INFO - iteration 197, current learner extra_tree\n"
          ]
        },
        {
          "output_type": "stream",
          "name": "stdout",
          "text": [
            "[LightGBM] [Warning] Unknown parameter: global_max_steps\n"
          ]
        },
        {
          "output_type": "stream",
          "name": "stderr",
          "text": [
            "[flaml.automl: 11-26 06:22:24] {2482} INFO -  at 114.2s,\testimator extra_tree's best error=0.1248,\tbest estimator extra_tree's best error=0.1248\n",
            "[flaml.automl: 11-26 06:22:24] {2288} INFO - iteration 198, current learner extra_tree\n",
            "[flaml.automl: 11-26 06:22:25] {2482} INFO -  at 115.5s,\testimator extra_tree's best error=0.1248,\tbest estimator extra_tree's best error=0.1248\n",
            "[flaml.automl: 11-26 06:22:25] {2288} INFO - iteration 199, current learner xgb_limitdepth\n",
            "[flaml.automl: 11-26 06:22:25] {2482} INFO -  at 115.6s,\testimator xgb_limitdepth's best error=0.1933,\tbest estimator extra_tree's best error=0.1248\n",
            "[flaml.automl: 11-26 06:22:25] {2288} INFO - iteration 200, current learner xgb_limitdepth\n",
            "[flaml.automl: 11-26 06:22:26] {2482} INFO -  at 115.8s,\testimator xgb_limitdepth's best error=0.1933,\tbest estimator extra_tree's best error=0.1248\n",
            "[flaml.automl: 11-26 06:22:26] {2288} INFO - iteration 201, current learner lgbm\n"
          ]
        },
        {
          "output_type": "stream",
          "name": "stdout",
          "text": [
            "[LightGBM] [Warning] Unknown parameter: global_max_steps\n",
            "[LightGBM] [Warning] Unknown parameter: global_max_steps\n",
            "[LightGBM] [Warning] Unknown parameter: global_max_steps\n",
            "[LightGBM] [Warning] Unknown parameter: global_max_steps\n",
            "[LightGBM] [Warning] Unknown parameter: global_max_steps\n"
          ]
        },
        {
          "output_type": "stream",
          "name": "stderr",
          "text": [
            "[flaml.automl: 11-26 06:22:27] {2482} INFO -  at 116.9s,\testimator lgbm's best error=0.1314,\tbest estimator extra_tree's best error=0.1248\n",
            "[flaml.automl: 11-26 06:22:27] {2288} INFO - iteration 202, current learner xgboost\n",
            "[flaml.automl: 11-26 06:22:27] {2482} INFO -  at 117.0s,\testimator xgboost's best error=0.2127,\tbest estimator extra_tree's best error=0.1248\n",
            "[flaml.automl: 11-26 06:22:27] {2288} INFO - iteration 203, current learner extra_tree\n",
            "[flaml.automl: 11-26 06:22:28] {2482} INFO -  at 118.4s,\testimator extra_tree's best error=0.1248,\tbest estimator extra_tree's best error=0.1248\n",
            "[flaml.automl: 11-26 06:22:28] {2288} INFO - iteration 204, current learner xgb_limitdepth\n",
            "[flaml.automl: 11-26 06:22:28] {2482} INFO -  at 118.5s,\testimator xgb_limitdepth's best error=0.1933,\tbest estimator extra_tree's best error=0.1248\n",
            "[flaml.automl: 11-26 06:22:28] {2288} INFO - iteration 205, current learner xgb_limitdepth\n",
            "[flaml.automl: 11-26 06:22:28] {2482} INFO -  at 118.6s,\testimator xgb_limitdepth's best error=0.1933,\tbest estimator extra_tree's best error=0.1248\n",
            "[flaml.automl: 11-26 06:22:28] {2288} INFO - iteration 206, current learner xgboost\n",
            "[flaml.automl: 11-26 06:22:29] {2482} INFO -  at 118.7s,\testimator xgboost's best error=0.2127,\tbest estimator extra_tree's best error=0.1248\n",
            "[flaml.automl: 11-26 06:22:29] {2288} INFO - iteration 207, current learner xgb_limitdepth\n",
            "[flaml.automl: 11-26 06:22:29] {2482} INFO -  at 118.8s,\testimator xgb_limitdepth's best error=0.1933,\tbest estimator extra_tree's best error=0.1248\n",
            "[flaml.automl: 11-26 06:22:29] {2288} INFO - iteration 208, current learner extra_tree\n",
            "[flaml.automl: 11-26 06:22:30] {2482} INFO -  at 120.1s,\testimator extra_tree's best error=0.1248,\tbest estimator extra_tree's best error=0.1248\n",
            "[flaml.automl: 11-26 06:22:30] {2288} INFO - iteration 209, current learner xgboost\n",
            "[flaml.automl: 11-26 06:22:30] {2482} INFO -  at 120.2s,\testimator xgboost's best error=0.2127,\tbest estimator extra_tree's best error=0.1248\n",
            "[flaml.automl: 11-26 06:22:30] {2288} INFO - iteration 210, current learner xgboost\n",
            "[flaml.automl: 11-26 06:22:30] {2482} INFO -  at 120.3s,\testimator xgboost's best error=0.2127,\tbest estimator extra_tree's best error=0.1248\n",
            "[flaml.automl: 11-26 06:22:30] {2288} INFO - iteration 211, current learner extra_tree\n",
            "[flaml.automl: 11-26 06:22:32] {2482} INFO -  at 121.7s,\testimator extra_tree's best error=0.1248,\tbest estimator extra_tree's best error=0.1248\n",
            "[flaml.automl: 11-26 06:22:32] {2288} INFO - iteration 212, current learner xgboost\n",
            "[flaml.automl: 11-26 06:22:32] {2482} INFO -  at 121.8s,\testimator xgboost's best error=0.2127,\tbest estimator extra_tree's best error=0.1248\n",
            "[flaml.automl: 11-26 06:22:32] {2288} INFO - iteration 213, current learner xgb_limitdepth\n",
            "[flaml.automl: 11-26 06:22:32] {2482} INFO -  at 122.0s,\testimator xgb_limitdepth's best error=0.1933,\tbest estimator extra_tree's best error=0.1248\n",
            "[flaml.automl: 11-26 06:22:32] {2288} INFO - iteration 214, current learner xgb_limitdepth\n",
            "[flaml.automl: 11-26 06:22:32] {2482} INFO -  at 122.1s,\testimator xgb_limitdepth's best error=0.1933,\tbest estimator extra_tree's best error=0.1248\n",
            "[flaml.automl: 11-26 06:22:32] {2288} INFO - iteration 215, current learner xgboost\n",
            "[flaml.automl: 11-26 06:22:32] {2482} INFO -  at 122.2s,\testimator xgboost's best error=0.2127,\tbest estimator extra_tree's best error=0.1248\n",
            "[flaml.automl: 11-26 06:22:32] {2288} INFO - iteration 216, current learner xgb_limitdepth\n",
            "[flaml.automl: 11-26 06:22:32] {2482} INFO -  at 122.3s,\testimator xgb_limitdepth's best error=0.1933,\tbest estimator extra_tree's best error=0.1248\n",
            "[flaml.automl: 11-26 06:22:32] {2288} INFO - iteration 217, current learner rf\n",
            "[flaml.automl: 11-26 06:22:34] {2482} INFO -  at 124.0s,\testimator rf's best error=0.1684,\tbest estimator extra_tree's best error=0.1248\n",
            "[flaml.automl: 11-26 06:22:34] {2288} INFO - iteration 218, current learner lgbm\n"
          ]
        },
        {
          "output_type": "stream",
          "name": "stdout",
          "text": [
            "[LightGBM] [Warning] Unknown parameter: global_max_steps\n",
            "[LightGBM] [Warning] Unknown parameter: global_max_steps\n",
            "[LightGBM] [Warning] Unknown parameter: global_max_steps\n",
            "[LightGBM] [Warning] Unknown parameter: global_max_steps\n"
          ]
        },
        {
          "output_type": "stream",
          "name": "stderr",
          "text": [
            "[flaml.automl: 11-26 06:22:35] {2482} INFO -  at 124.8s,\testimator lgbm's best error=0.1314,\tbest estimator extra_tree's best error=0.1248\n",
            "[flaml.automl: 11-26 06:22:35] {2288} INFO - iteration 219, current learner lgbm\n"
          ]
        },
        {
          "output_type": "stream",
          "name": "stdout",
          "text": [
            "[LightGBM] [Warning] Unknown parameter: global_max_steps\n",
            "[LightGBM] [Warning] Unknown parameter: global_max_steps\n",
            "[LightGBM] [Warning] Unknown parameter: global_max_steps\n",
            "[LightGBM] [Warning] Unknown parameter: global_max_steps\n",
            "[LightGBM] [Warning] Unknown parameter: global_max_steps\n",
            "[LightGBM] [Warning] Unknown parameter: global_max_steps\n"
          ]
        },
        {
          "output_type": "stream",
          "name": "stderr",
          "text": [
            "[flaml.automl: 11-26 06:22:36] {2482} INFO -  at 126.2s,\testimator lgbm's best error=0.1314,\tbest estimator extra_tree's best error=0.1248\n",
            "[flaml.automl: 11-26 06:22:36] {2288} INFO - iteration 220, current learner xgboost\n",
            "[flaml.automl: 11-26 06:22:36] {2482} INFO -  at 126.3s,\testimator xgboost's best error=0.2127,\tbest estimator extra_tree's best error=0.1248\n",
            "[flaml.automl: 11-26 06:22:36] {2288} INFO - iteration 221, current learner lgbm\n"
          ]
        },
        {
          "output_type": "stream",
          "name": "stdout",
          "text": [
            "[LightGBM] [Warning] Unknown parameter: global_max_steps\n",
            "[LightGBM] [Warning] Unknown parameter: global_max_steps\n",
            "[LightGBM] [Warning] Unknown parameter: global_max_steps\n",
            "[LightGBM] [Warning] Unknown parameter: global_max_steps\n"
          ]
        },
        {
          "output_type": "stream",
          "name": "stderr",
          "text": [
            "[flaml.automl: 11-26 06:22:37] {2482} INFO -  at 127.3s,\testimator lgbm's best error=0.1314,\tbest estimator extra_tree's best error=0.1248\n",
            "[flaml.automl: 11-26 06:22:37] {2288} INFO - iteration 222, current learner xgb_limitdepth\n"
          ]
        },
        {
          "output_type": "stream",
          "name": "stdout",
          "text": [
            "[LightGBM] [Warning] Unknown parameter: global_max_steps\n"
          ]
        },
        {
          "output_type": "stream",
          "name": "stderr",
          "text": [
            "[flaml.automl: 11-26 06:22:37] {2482} INFO -  at 127.4s,\testimator xgb_limitdepth's best error=0.1933,\tbest estimator extra_tree's best error=0.1248\n",
            "[flaml.automl: 11-26 06:22:37] {2288} INFO - iteration 223, current learner extra_tree\n",
            "[flaml.automl: 11-26 06:22:39] {2482} INFO -  at 129.1s,\testimator extra_tree's best error=0.1248,\tbest estimator extra_tree's best error=0.1248\n",
            "[flaml.automl: 11-26 06:22:39] {2288} INFO - iteration 224, current learner lgbm\n"
          ]
        },
        {
          "output_type": "stream",
          "name": "stdout",
          "text": [
            "[LightGBM] [Warning] Unknown parameter: global_max_steps\n",
            "[LightGBM] [Warning] Unknown parameter: global_max_steps\n",
            "[LightGBM] [Warning] Unknown parameter: global_max_steps\n"
          ]
        },
        {
          "output_type": "stream",
          "name": "stderr",
          "text": [
            "[flaml.automl: 11-26 06:22:39] {2482} INFO -  at 129.5s,\testimator lgbm's best error=0.1314,\tbest estimator extra_tree's best error=0.1248\n",
            "[flaml.automl: 11-26 06:22:39] {2288} INFO - iteration 225, current learner xgboost\n"
          ]
        },
        {
          "output_type": "stream",
          "name": "stdout",
          "text": [
            "[LightGBM] [Warning] Unknown parameter: global_max_steps\n",
            "[LightGBM] [Warning] Unknown parameter: global_max_steps\n"
          ]
        },
        {
          "output_type": "stream",
          "name": "stderr",
          "text": [
            "[flaml.automl: 11-26 06:22:39] {2482} INFO -  at 129.6s,\testimator xgboost's best error=0.2127,\tbest estimator extra_tree's best error=0.1248\n",
            "[flaml.automl: 11-26 06:22:39] {2288} INFO - iteration 226, current learner xgboost\n",
            "[flaml.automl: 11-26 06:22:40] {2482} INFO -  at 129.7s,\testimator xgboost's best error=0.2127,\tbest estimator extra_tree's best error=0.1248\n",
            "[flaml.automl: 11-26 06:22:40] {2288} INFO - iteration 227, current learner lgbm\n"
          ]
        },
        {
          "output_type": "stream",
          "name": "stdout",
          "text": [
            "[LightGBM] [Warning] Unknown parameter: global_max_steps\n",
            "[LightGBM] [Warning] Unknown parameter: global_max_steps\n",
            "[LightGBM] [Warning] Unknown parameter: global_max_steps\n",
            "[LightGBM] [Warning] Unknown parameter: global_max_steps\n"
          ]
        },
        {
          "output_type": "stream",
          "name": "stderr",
          "text": [
            "[flaml.automl: 11-26 06:22:41] {2482} INFO -  at 130.8s,\testimator lgbm's best error=0.1314,\tbest estimator extra_tree's best error=0.1248\n"
          ]
        },
        {
          "output_type": "stream",
          "name": "stdout",
          "text": [
            "[LightGBM] [Warning] Unknown parameter: global_max_steps\n"
          ]
        },
        {
          "output_type": "stream",
          "name": "stderr",
          "text": [
            "[flaml.automl: 11-26 06:22:41] {2288} INFO - iteration 228, current learner extra_tree\n",
            "[flaml.automl: 11-26 06:22:42] {2482} INFO -  at 132.1s,\testimator extra_tree's best error=0.1248,\tbest estimator extra_tree's best error=0.1248\n",
            "[flaml.automl: 11-26 06:22:42] {2288} INFO - iteration 229, current learner xgboost\n",
            "[flaml.automl: 11-26 06:22:42] {2482} INFO -  at 132.2s,\testimator xgboost's best error=0.2127,\tbest estimator extra_tree's best error=0.1248\n",
            "[flaml.automl: 11-26 06:22:42] {2288} INFO - iteration 230, current learner xgb_limitdepth\n",
            "[flaml.automl: 11-26 06:22:42] {2482} INFO -  at 132.4s,\testimator xgb_limitdepth's best error=0.1933,\tbest estimator extra_tree's best error=0.1248\n",
            "[flaml.automl: 11-26 06:22:42] {2288} INFO - iteration 231, current learner extra_tree\n",
            "[flaml.automl: 11-26 06:22:44] {2482} INFO -  at 134.0s,\testimator extra_tree's best error=0.1248,\tbest estimator extra_tree's best error=0.1248\n",
            "[flaml.automl: 11-26 06:22:44] {2288} INFO - iteration 232, current learner xgb_limitdepth\n",
            "[flaml.automl: 11-26 06:22:44] {2482} INFO -  at 134.1s,\testimator xgb_limitdepth's best error=0.1933,\tbest estimator extra_tree's best error=0.1248\n",
            "[flaml.automl: 11-26 06:22:44] {2288} INFO - iteration 233, current learner xgb_limitdepth\n",
            "[flaml.automl: 11-26 06:22:44] {2482} INFO -  at 134.3s,\testimator xgb_limitdepth's best error=0.1906,\tbest estimator extra_tree's best error=0.1248\n",
            "[flaml.automl: 11-26 06:22:44] {2288} INFO - iteration 234, current learner xgb_limitdepth\n",
            "[flaml.automl: 11-26 06:22:44] {2482} INFO -  at 134.4s,\testimator xgb_limitdepth's best error=0.1786,\tbest estimator extra_tree's best error=0.1248\n",
            "[flaml.automl: 11-26 06:22:44] {2288} INFO - iteration 235, current learner xgb_limitdepth\n",
            "[flaml.automl: 11-26 06:22:44] {2482} INFO -  at 134.6s,\testimator xgb_limitdepth's best error=0.1786,\tbest estimator extra_tree's best error=0.1248\n",
            "[flaml.automl: 11-26 06:22:44] {2288} INFO - iteration 236, current learner xgb_limitdepth\n",
            "[flaml.automl: 11-26 06:22:45] {2482} INFO -  at 134.7s,\testimator xgb_limitdepth's best error=0.1786,\tbest estimator extra_tree's best error=0.1248\n",
            "[flaml.automl: 11-26 06:22:45] {2288} INFO - iteration 237, current learner xgb_limitdepth\n",
            "[flaml.automl: 11-26 06:22:45] {2482} INFO -  at 134.8s,\testimator xgb_limitdepth's best error=0.1786,\tbest estimator extra_tree's best error=0.1248\n",
            "[flaml.automl: 11-26 06:22:45] {2288} INFO - iteration 238, current learner xgb_limitdepth\n",
            "[flaml.automl: 11-26 06:22:45] {2482} INFO -  at 134.9s,\testimator xgb_limitdepth's best error=0.1786,\tbest estimator extra_tree's best error=0.1248\n",
            "[flaml.automl: 11-26 06:22:45] {2288} INFO - iteration 239, current learner xgb_limitdepth\n",
            "[flaml.automl: 11-26 06:22:45] {2482} INFO -  at 135.1s,\testimator xgb_limitdepth's best error=0.1786,\tbest estimator extra_tree's best error=0.1248\n",
            "[flaml.automl: 11-26 06:22:45] {2288} INFO - iteration 240, current learner xgb_limitdepth\n",
            "[flaml.automl: 11-26 06:22:45] {2482} INFO -  at 135.3s,\testimator xgb_limitdepth's best error=0.1786,\tbest estimator extra_tree's best error=0.1248\n",
            "[flaml.automl: 11-26 06:22:45] {2288} INFO - iteration 241, current learner lgbm\n"
          ]
        },
        {
          "output_type": "stream",
          "name": "stdout",
          "text": [
            "[LightGBM] [Warning] Unknown parameter: global_max_steps\n",
            "[LightGBM] [Warning] Unknown parameter: global_max_steps\n",
            "[LightGBM] [Warning] Unknown parameter: global_max_steps\n",
            "[LightGBM] [Warning] Unknown parameter: global_max_steps\n"
          ]
        },
        {
          "output_type": "stream",
          "name": "stderr",
          "text": [
            "[flaml.automl: 11-26 06:22:46] {2482} INFO -  at 136.2s,\testimator lgbm's best error=0.1314,\tbest estimator extra_tree's best error=0.1248\n",
            "[flaml.automl: 11-26 06:22:46] {2288} INFO - iteration 242, current learner xgb_limitdepth\n"
          ]
        },
        {
          "output_type": "stream",
          "name": "stdout",
          "text": [
            "[LightGBM] [Warning] Unknown parameter: global_max_steps\n"
          ]
        },
        {
          "output_type": "stream",
          "name": "stderr",
          "text": [
            "[flaml.automl: 11-26 06:22:46] {2482} INFO -  at 136.3s,\testimator xgb_limitdepth's best error=0.1786,\tbest estimator extra_tree's best error=0.1248\n",
            "[flaml.automl: 11-26 06:22:46] {2288} INFO - iteration 243, current learner extra_tree\n",
            "[flaml.automl: 11-26 06:22:47] {2482} INFO -  at 137.6s,\testimator extra_tree's best error=0.1248,\tbest estimator extra_tree's best error=0.1248\n",
            "[flaml.automl: 11-26 06:22:47] {2288} INFO - iteration 244, current learner xgb_limitdepth\n",
            "[flaml.automl: 11-26 06:22:48] {2482} INFO -  at 137.7s,\testimator xgb_limitdepth's best error=0.1786,\tbest estimator extra_tree's best error=0.1248\n",
            "[flaml.automl: 11-26 06:22:48] {2288} INFO - iteration 245, current learner xgboost\n",
            "[flaml.automl: 11-26 06:22:48] {2482} INFO -  at 137.8s,\testimator xgboost's best error=0.2127,\tbest estimator extra_tree's best error=0.1248\n",
            "[flaml.automl: 11-26 06:22:48] {2288} INFO - iteration 246, current learner xgb_limitdepth\n",
            "[flaml.automl: 11-26 06:22:48] {2482} INFO -  at 138.0s,\testimator xgb_limitdepth's best error=0.1786,\tbest estimator extra_tree's best error=0.1248\n",
            "[flaml.automl: 11-26 06:22:48] {2288} INFO - iteration 247, current learner xgb_limitdepth\n",
            "[flaml.automl: 11-26 06:22:48] {2482} INFO -  at 138.1s,\testimator xgb_limitdepth's best error=0.1786,\tbest estimator extra_tree's best error=0.1248\n",
            "[flaml.automl: 11-26 06:22:48] {2288} INFO - iteration 248, current learner xgboost\n",
            "[flaml.automl: 11-26 06:22:48] {2482} INFO -  at 138.2s,\testimator xgboost's best error=0.2127,\tbest estimator extra_tree's best error=0.1248\n",
            "[flaml.automl: 11-26 06:22:48] {2288} INFO - iteration 249, current learner xgb_limitdepth\n",
            "[flaml.automl: 11-26 06:22:48] {2482} INFO -  at 138.3s,\testimator xgb_limitdepth's best error=0.1786,\tbest estimator extra_tree's best error=0.1248\n",
            "[flaml.automl: 11-26 06:22:48] {2288} INFO - iteration 250, current learner xgb_limitdepth\n",
            "[flaml.automl: 11-26 06:22:48] {2482} INFO -  at 138.5s,\testimator xgb_limitdepth's best error=0.1526,\tbest estimator extra_tree's best error=0.1248\n",
            "[flaml.automl: 11-26 06:22:48] {2288} INFO - iteration 251, current learner xgboost\n",
            "[flaml.automl: 11-26 06:22:48] {2482} INFO -  at 138.6s,\testimator xgboost's best error=0.2127,\tbest estimator extra_tree's best error=0.1248\n",
            "[flaml.automl: 11-26 06:22:48] {2288} INFO - iteration 252, current learner xgb_limitdepth\n",
            "[flaml.automl: 11-26 06:22:49] {2482} INFO -  at 138.7s,\testimator xgb_limitdepth's best error=0.1526,\tbest estimator extra_tree's best error=0.1248\n",
            "[flaml.automl: 11-26 06:22:49] {2288} INFO - iteration 253, current learner xgb_limitdepth\n",
            "[flaml.automl: 11-26 06:22:49] {2482} INFO -  at 138.8s,\testimator xgb_limitdepth's best error=0.1526,\tbest estimator extra_tree's best error=0.1248\n",
            "[flaml.automl: 11-26 06:22:49] {2288} INFO - iteration 254, current learner xgb_limitdepth\n",
            "[flaml.automl: 11-26 06:22:49] {2482} INFO -  at 139.0s,\testimator xgb_limitdepth's best error=0.1526,\tbest estimator extra_tree's best error=0.1248\n",
            "[flaml.automl: 11-26 06:22:49] {2288} INFO - iteration 255, current learner lgbm\n"
          ]
        },
        {
          "output_type": "stream",
          "name": "stdout",
          "text": [
            "[LightGBM] [Warning] Unknown parameter: global_max_steps\n",
            "[LightGBM] [Warning] Unknown parameter: global_max_steps\n",
            "[LightGBM] [Warning] Unknown parameter: global_max_steps\n"
          ]
        },
        {
          "output_type": "stream",
          "name": "stderr",
          "text": [
            "[flaml.automl: 11-26 06:22:49] {2482} INFO -  at 139.5s,\testimator lgbm's best error=0.1314,\tbest estimator extra_tree's best error=0.1248\n",
            "[flaml.automl: 11-26 06:22:49] {2288} INFO - iteration 256, current learner xgb_limitdepth\n"
          ]
        },
        {
          "output_type": "stream",
          "name": "stdout",
          "text": [
            "[LightGBM] [Warning] Unknown parameter: global_max_steps\n",
            "[LightGBM] [Warning] Unknown parameter: global_max_steps\n"
          ]
        },
        {
          "output_type": "stream",
          "name": "stderr",
          "text": [
            "[flaml.automl: 11-26 06:22:49] {2482} INFO -  at 139.6s,\testimator xgb_limitdepth's best error=0.1526,\tbest estimator extra_tree's best error=0.1248\n",
            "[flaml.automl: 11-26 06:22:49] {2288} INFO - iteration 257, current learner xgb_limitdepth\n",
            "[flaml.automl: 11-26 06:22:50] {2482} INFO -  at 139.7s,\testimator xgb_limitdepth's best error=0.1526,\tbest estimator extra_tree's best error=0.1248\n",
            "[flaml.automl: 11-26 06:22:50] {2288} INFO - iteration 258, current learner xgb_limitdepth\n",
            "[flaml.automl: 11-26 06:22:50] {2482} INFO -  at 139.8s,\testimator xgb_limitdepth's best error=0.1526,\tbest estimator extra_tree's best error=0.1248\n",
            "[flaml.automl: 11-26 06:22:50] {2288} INFO - iteration 259, current learner xgb_limitdepth\n",
            "[flaml.automl: 11-26 06:22:50] {2482} INFO -  at 140.0s,\testimator xgb_limitdepth's best error=0.1526,\tbest estimator extra_tree's best error=0.1248\n",
            "[flaml.automl: 11-26 06:22:50] {2288} INFO - iteration 260, current learner xgb_limitdepth\n",
            "[flaml.automl: 11-26 06:22:50] {2482} INFO -  at 140.1s,\testimator xgb_limitdepth's best error=0.1526,\tbest estimator extra_tree's best error=0.1248\n",
            "[flaml.automl: 11-26 06:22:50] {2288} INFO - iteration 261, current learner xgb_limitdepth\n",
            "[flaml.automl: 11-26 06:22:50] {2482} INFO -  at 140.2s,\testimator xgb_limitdepth's best error=0.1526,\tbest estimator extra_tree's best error=0.1248\n",
            "[flaml.automl: 11-26 06:22:50] {2288} INFO - iteration 262, current learner xgb_limitdepth\n",
            "[flaml.automl: 11-26 06:22:50] {2482} INFO -  at 140.3s,\testimator xgb_limitdepth's best error=0.1526,\tbest estimator extra_tree's best error=0.1248\n",
            "[flaml.automl: 11-26 06:22:50] {2288} INFO - iteration 263, current learner extra_tree\n",
            "[flaml.automl: 11-26 06:22:52] {2482} INFO -  at 141.7s,\testimator extra_tree's best error=0.1248,\tbest estimator extra_tree's best error=0.1248\n",
            "[flaml.automl: 11-26 06:22:52] {2288} INFO - iteration 264, current learner xgb_limitdepth\n",
            "[flaml.automl: 11-26 06:22:52] {2482} INFO -  at 141.8s,\testimator xgb_limitdepth's best error=0.1526,\tbest estimator extra_tree's best error=0.1248\n",
            "[flaml.automl: 11-26 06:22:52] {2288} INFO - iteration 265, current learner xgb_limitdepth\n",
            "[flaml.automl: 11-26 06:22:52] {2482} INFO -  at 141.9s,\testimator xgb_limitdepth's best error=0.1526,\tbest estimator extra_tree's best error=0.1248\n",
            "[flaml.automl: 11-26 06:22:52] {2288} INFO - iteration 266, current learner xgb_limitdepth\n",
            "[flaml.automl: 11-26 06:22:52] {2482} INFO -  at 142.1s,\testimator xgb_limitdepth's best error=0.1526,\tbest estimator extra_tree's best error=0.1248\n",
            "[flaml.automl: 11-26 06:22:52] {2288} INFO - iteration 267, current learner xgb_limitdepth\n",
            "[flaml.automl: 11-26 06:22:52] {2482} INFO -  at 142.2s,\testimator xgb_limitdepth's best error=0.1526,\tbest estimator extra_tree's best error=0.1248\n",
            "[flaml.automl: 11-26 06:22:52] {2288} INFO - iteration 268, current learner xgb_limitdepth\n",
            "[flaml.automl: 11-26 06:22:52] {2482} INFO -  at 142.3s,\testimator xgb_limitdepth's best error=0.1526,\tbest estimator extra_tree's best error=0.1248\n",
            "[flaml.automl: 11-26 06:22:52] {2288} INFO - iteration 269, current learner xgb_limitdepth\n",
            "[flaml.automl: 11-26 06:22:52] {2482} INFO -  at 142.5s,\testimator xgb_limitdepth's best error=0.1526,\tbest estimator extra_tree's best error=0.1248\n",
            "[flaml.automl: 11-26 06:22:52] {2288} INFO - iteration 270, current learner extra_tree\n",
            "[flaml.automl: 11-26 06:22:54] {2482} INFO -  at 144.1s,\testimator extra_tree's best error=0.1248,\tbest estimator extra_tree's best error=0.1248\n",
            "[flaml.automl: 11-26 06:22:54] {2288} INFO - iteration 271, current learner xgb_limitdepth\n",
            "[flaml.automl: 11-26 06:22:54] {2482} INFO -  at 144.2s,\testimator xgb_limitdepth's best error=0.1526,\tbest estimator extra_tree's best error=0.1248\n",
            "[flaml.automl: 11-26 06:22:54] {2288} INFO - iteration 272, current learner xgb_limitdepth\n",
            "[flaml.automl: 11-26 06:22:54] {2482} INFO -  at 144.4s,\testimator xgb_limitdepth's best error=0.1526,\tbest estimator extra_tree's best error=0.1248\n",
            "[flaml.automl: 11-26 06:22:54] {2288} INFO - iteration 273, current learner extra_tree\n",
            "[flaml.automl: 11-26 06:22:56] {2482} INFO -  at 145.8s,\testimator extra_tree's best error=0.1177,\tbest estimator extra_tree's best error=0.1177\n",
            "[flaml.automl: 11-26 06:22:56] {2288} INFO - iteration 274, current learner xgb_limitdepth\n",
            "[flaml.automl: 11-26 06:22:56] {2482} INFO -  at 145.9s,\testimator xgb_limitdepth's best error=0.1526,\tbest estimator extra_tree's best error=0.1177\n",
            "[flaml.automl: 11-26 06:22:56] {2288} INFO - iteration 275, current learner extra_tree\n",
            "[flaml.automl: 11-26 06:22:57] {2482} INFO -  at 147.3s,\testimator extra_tree's best error=0.1177,\tbest estimator extra_tree's best error=0.1177\n",
            "[flaml.automl: 11-26 06:22:57] {2288} INFO - iteration 276, current learner extra_tree\n",
            "[flaml.automl: 11-26 06:22:59] {2482} INFO -  at 148.7s,\testimator extra_tree's best error=0.1177,\tbest estimator extra_tree's best error=0.1177\n",
            "[flaml.automl: 11-26 06:22:59] {2288} INFO - iteration 277, current learner xgb_limitdepth\n",
            "[flaml.automl: 11-26 06:22:59] {2482} INFO -  at 148.8s,\testimator xgb_limitdepth's best error=0.1526,\tbest estimator extra_tree's best error=0.1177\n",
            "[flaml.automl: 11-26 06:22:59] {2288} INFO - iteration 278, current learner xgb_limitdepth\n",
            "[flaml.automl: 11-26 06:22:59] {2482} INFO -  at 149.0s,\testimator xgb_limitdepth's best error=0.1526,\tbest estimator extra_tree's best error=0.1177\n",
            "[flaml.automl: 11-26 06:22:59] {2288} INFO - iteration 279, current learner xgb_limitdepth\n",
            "[flaml.automl: 11-26 06:22:59] {2482} INFO -  at 149.1s,\testimator xgb_limitdepth's best error=0.1526,\tbest estimator extra_tree's best error=0.1177\n",
            "[flaml.automl: 11-26 06:22:59] {2288} INFO - iteration 280, current learner xgb_limitdepth\n",
            "[flaml.automl: 11-26 06:22:59] {2482} INFO -  at 149.2s,\testimator xgb_limitdepth's best error=0.1526,\tbest estimator extra_tree's best error=0.1177\n",
            "[flaml.automl: 11-26 06:22:59] {2288} INFO - iteration 281, current learner xgboost\n",
            "[flaml.automl: 11-26 06:22:59] {2482} INFO -  at 149.3s,\testimator xgboost's best error=0.2127,\tbest estimator extra_tree's best error=0.1177\n",
            "[flaml.automl: 11-26 06:22:59] {2288} INFO - iteration 282, current learner extra_tree\n",
            "[flaml.automl: 11-26 06:23:01] {2482} INFO -  at 150.9s,\testimator extra_tree's best error=0.1177,\tbest estimator extra_tree's best error=0.1177\n",
            "[flaml.automl: 11-26 06:23:01] {2288} INFO - iteration 283, current learner extra_tree\n",
            "[flaml.automl: 11-26 06:23:02] {2482} INFO -  at 152.5s,\testimator extra_tree's best error=0.1177,\tbest estimator extra_tree's best error=0.1177\n",
            "[flaml.automl: 11-26 06:23:02] {2288} INFO - iteration 284, current learner xgb_limitdepth\n",
            "[flaml.automl: 11-26 06:23:02] {2482} INFO -  at 152.6s,\testimator xgb_limitdepth's best error=0.1526,\tbest estimator extra_tree's best error=0.1177\n",
            "[flaml.automl: 11-26 06:23:02] {2288} INFO - iteration 285, current learner xgb_limitdepth\n",
            "[flaml.automl: 11-26 06:23:03] {2482} INFO -  at 152.7s,\testimator xgb_limitdepth's best error=0.1526,\tbest estimator extra_tree's best error=0.1177\n",
            "[flaml.automl: 11-26 06:23:03] {2288} INFO - iteration 286, current learner xgb_limitdepth\n",
            "[flaml.automl: 11-26 06:23:03] {2482} INFO -  at 152.9s,\testimator xgb_limitdepth's best error=0.1526,\tbest estimator extra_tree's best error=0.1177\n",
            "[flaml.automl: 11-26 06:23:03] {2288} INFO - iteration 287, current learner xgb_limitdepth\n",
            "[flaml.automl: 11-26 06:23:03] {2482} INFO -  at 153.0s,\testimator xgb_limitdepth's best error=0.1526,\tbest estimator extra_tree's best error=0.1177\n",
            "[flaml.automl: 11-26 06:23:03] {2288} INFO - iteration 288, current learner xgboost\n",
            "[flaml.automl: 11-26 06:23:03] {2482} INFO -  at 153.1s,\testimator xgboost's best error=0.2127,\tbest estimator extra_tree's best error=0.1177\n",
            "[flaml.automl: 11-26 06:23:03] {2288} INFO - iteration 289, current learner xgboost\n",
            "[flaml.automl: 11-26 06:23:03] {2482} INFO -  at 153.2s,\testimator xgboost's best error=0.2127,\tbest estimator extra_tree's best error=0.1177\n",
            "[flaml.automl: 11-26 06:23:03] {2288} INFO - iteration 290, current learner xgb_limitdepth\n",
            "[flaml.automl: 11-26 06:23:03] {2482} INFO -  at 153.3s,\testimator xgb_limitdepth's best error=0.1526,\tbest estimator extra_tree's best error=0.1177\n",
            "[flaml.automl: 11-26 06:23:03] {2288} INFO - iteration 291, current learner xgb_limitdepth\n",
            "[flaml.automl: 11-26 06:23:03] {2482} INFO -  at 153.4s,\testimator xgb_limitdepth's best error=0.1526,\tbest estimator extra_tree's best error=0.1177\n",
            "[flaml.automl: 11-26 06:23:03] {2288} INFO - iteration 292, current learner xgb_limitdepth\n",
            "[flaml.automl: 11-26 06:23:03] {2482} INFO -  at 153.6s,\testimator xgb_limitdepth's best error=0.1526,\tbest estimator extra_tree's best error=0.1177\n",
            "[flaml.automl: 11-26 06:23:03] {2288} INFO - iteration 293, current learner xgb_limitdepth\n",
            "[flaml.automl: 11-26 06:23:04] {2482} INFO -  at 153.7s,\testimator xgb_limitdepth's best error=0.1526,\tbest estimator extra_tree's best error=0.1177\n",
            "[flaml.automl: 11-26 06:23:04] {2288} INFO - iteration 294, current learner xgb_limitdepth\n",
            "[flaml.automl: 11-26 06:23:04] {2482} INFO -  at 153.8s,\testimator xgb_limitdepth's best error=0.1526,\tbest estimator extra_tree's best error=0.1177\n",
            "[flaml.automl: 11-26 06:23:04] {2288} INFO - iteration 295, current learner xgb_limitdepth\n",
            "[flaml.automl: 11-26 06:23:04] {2482} INFO -  at 153.9s,\testimator xgb_limitdepth's best error=0.1526,\tbest estimator extra_tree's best error=0.1177\n",
            "[flaml.automl: 11-26 06:23:04] {2288} INFO - iteration 296, current learner xgb_limitdepth\n",
            "[flaml.automl: 11-26 06:23:04] {2482} INFO -  at 154.1s,\testimator xgb_limitdepth's best error=0.1526,\tbest estimator extra_tree's best error=0.1177\n",
            "[flaml.automl: 11-26 06:23:04] {2288} INFO - iteration 297, current learner xgb_limitdepth\n",
            "[flaml.automl: 11-26 06:23:04] {2482} INFO -  at 154.2s,\testimator xgb_limitdepth's best error=0.1526,\tbest estimator extra_tree's best error=0.1177\n",
            "[flaml.automl: 11-26 06:23:04] {2288} INFO - iteration 298, current learner extra_tree\n",
            "[flaml.automl: 11-26 06:23:05] {2482} INFO -  at 155.6s,\testimator extra_tree's best error=0.1177,\tbest estimator extra_tree's best error=0.1177\n",
            "[flaml.automl: 11-26 06:23:05] {2288} INFO - iteration 299, current learner extra_tree\n",
            "[flaml.automl: 11-26 06:23:07] {2482} INFO -  at 157.2s,\testimator extra_tree's best error=0.1177,\tbest estimator extra_tree's best error=0.1177\n",
            "[flaml.automl: 11-26 06:23:07] {2288} INFO - iteration 300, current learner rf\n",
            "[flaml.automl: 11-26 06:23:09] {2482} INFO -  at 158.8s,\testimator rf's best error=0.1684,\tbest estimator extra_tree's best error=0.1177\n",
            "[flaml.automl: 11-26 06:23:09] {2288} INFO - iteration 301, current learner extra_tree\n",
            "[flaml.automl: 11-26 06:23:10] {2482} INFO -  at 160.1s,\testimator extra_tree's best error=0.1177,\tbest estimator extra_tree's best error=0.1177\n",
            "[flaml.automl: 11-26 06:23:10] {2288} INFO - iteration 302, current learner xgboost\n",
            "[flaml.automl: 11-26 06:23:10] {2482} INFO -  at 160.2s,\testimator xgboost's best error=0.2127,\tbest estimator extra_tree's best error=0.1177\n",
            "[flaml.automl: 11-26 06:23:10] {2288} INFO - iteration 303, current learner xgb_limitdepth\n",
            "[flaml.automl: 11-26 06:23:10] {2482} INFO -  at 160.3s,\testimator xgb_limitdepth's best error=0.1526,\tbest estimator extra_tree's best error=0.1177\n",
            "[flaml.automl: 11-26 06:23:10] {2288} INFO - iteration 304, current learner xgboost\n",
            "[flaml.automl: 11-26 06:23:10] {2482} INFO -  at 160.4s,\testimator xgboost's best error=0.2127,\tbest estimator extra_tree's best error=0.1177\n",
            "[flaml.automl: 11-26 06:23:10] {2288} INFO - iteration 305, current learner xgb_limitdepth\n",
            "[flaml.automl: 11-26 06:23:10] {2482} INFO -  at 160.5s,\testimator xgb_limitdepth's best error=0.1526,\tbest estimator extra_tree's best error=0.1177\n",
            "[flaml.automl: 11-26 06:23:10] {2288} INFO - iteration 306, current learner xgb_limitdepth\n",
            "[flaml.automl: 11-26 06:23:10] {2482} INFO -  at 160.6s,\testimator xgb_limitdepth's best error=0.1526,\tbest estimator extra_tree's best error=0.1177\n",
            "[flaml.automl: 11-26 06:23:10] {2288} INFO - iteration 307, current learner xgb_limitdepth\n",
            "[flaml.automl: 11-26 06:23:11] {2482} INFO -  at 160.8s,\testimator xgb_limitdepth's best error=0.1526,\tbest estimator extra_tree's best error=0.1177\n",
            "[flaml.automl: 11-26 06:23:11] {2288} INFO - iteration 308, current learner xgb_limitdepth\n",
            "[flaml.automl: 11-26 06:23:11] {2482} INFO -  at 161.0s,\testimator xgb_limitdepth's best error=0.1526,\tbest estimator extra_tree's best error=0.1177\n",
            "[flaml.automl: 11-26 06:23:11] {2288} INFO - iteration 309, current learner xgboost\n",
            "[flaml.automl: 11-26 06:23:11] {2482} INFO -  at 161.1s,\testimator xgboost's best error=0.2127,\tbest estimator extra_tree's best error=0.1177\n",
            "[flaml.automl: 11-26 06:23:11] {2288} INFO - iteration 310, current learner extra_tree\n",
            "[flaml.automl: 11-26 06:23:13] {2482} INFO -  at 162.8s,\testimator extra_tree's best error=0.1177,\tbest estimator extra_tree's best error=0.1177\n",
            "[flaml.automl: 11-26 06:23:13] {2288} INFO - iteration 311, current learner extra_tree\n",
            "[flaml.automl: 11-26 06:23:14] {2482} INFO -  at 164.4s,\testimator extra_tree's best error=0.1177,\tbest estimator extra_tree's best error=0.1177\n",
            "[flaml.automl: 11-26 06:23:14] {2288} INFO - iteration 312, current learner xgboost\n",
            "[flaml.automl: 11-26 06:23:14] {2482} INFO -  at 164.5s,\testimator xgboost's best error=0.2127,\tbest estimator extra_tree's best error=0.1177\n",
            "[flaml.automl: 11-26 06:23:14] {2288} INFO - iteration 313, current learner xgb_limitdepth\n",
            "[flaml.automl: 11-26 06:23:14] {2482} INFO -  at 164.6s,\testimator xgb_limitdepth's best error=0.1526,\tbest estimator extra_tree's best error=0.1177\n",
            "[flaml.automl: 11-26 06:23:14] {2288} INFO - iteration 314, current learner xgboost\n",
            "[flaml.automl: 11-26 06:23:15] {2482} INFO -  at 164.7s,\testimator xgboost's best error=0.2127,\tbest estimator extra_tree's best error=0.1177\n",
            "[flaml.automl: 11-26 06:23:15] {2288} INFO - iteration 315, current learner xgb_limitdepth\n",
            "[flaml.automl: 11-26 06:23:15] {2482} INFO -  at 164.8s,\testimator xgb_limitdepth's best error=0.1526,\tbest estimator extra_tree's best error=0.1177\n",
            "[flaml.automl: 11-26 06:23:15] {2288} INFO - iteration 316, current learner xgb_limitdepth\n",
            "[flaml.automl: 11-26 06:23:15] {2482} INFO -  at 165.0s,\testimator xgb_limitdepth's best error=0.1526,\tbest estimator extra_tree's best error=0.1177\n",
            "[flaml.automl: 11-26 06:23:15] {2288} INFO - iteration 317, current learner xgboost\n",
            "[flaml.automl: 11-26 06:23:15] {2482} INFO -  at 165.1s,\testimator xgboost's best error=0.2127,\tbest estimator extra_tree's best error=0.1177\n",
            "[flaml.automl: 11-26 06:23:15] {2288} INFO - iteration 318, current learner xgboost\n",
            "[flaml.automl: 11-26 06:23:15] {2482} INFO -  at 165.2s,\testimator xgboost's best error=0.2127,\tbest estimator extra_tree's best error=0.1177\n",
            "[flaml.automl: 11-26 06:23:15] {2288} INFO - iteration 319, current learner xgboost\n",
            "[flaml.automl: 11-26 06:23:15] {2482} INFO -  at 165.3s,\testimator xgboost's best error=0.2127,\tbest estimator extra_tree's best error=0.1177\n",
            "[flaml.automl: 11-26 06:23:15] {2288} INFO - iteration 320, current learner extra_tree\n",
            "[flaml.automl: 11-26 06:23:16] {2482} INFO -  at 166.6s,\testimator extra_tree's best error=0.1177,\tbest estimator extra_tree's best error=0.1177\n",
            "[flaml.automl: 11-26 06:23:16] {2288} INFO - iteration 321, current learner xgb_limitdepth\n",
            "[flaml.automl: 11-26 06:23:17] {2482} INFO -  at 166.8s,\testimator xgb_limitdepth's best error=0.1526,\tbest estimator extra_tree's best error=0.1177\n",
            "[flaml.automl: 11-26 06:23:17] {2288} INFO - iteration 322, current learner xgboost\n",
            "[flaml.automl: 11-26 06:23:17] {2482} INFO -  at 166.9s,\testimator xgboost's best error=0.2105,\tbest estimator extra_tree's best error=0.1177\n",
            "[flaml.automl: 11-26 06:23:17] {2288} INFO - iteration 323, current learner extra_tree\n",
            "[flaml.automl: 11-26 06:23:18] {2482} INFO -  at 168.5s,\testimator extra_tree's best error=0.1177,\tbest estimator extra_tree's best error=0.1177\n",
            "[flaml.automl: 11-26 06:23:18] {2288} INFO - iteration 324, current learner xgb_limitdepth\n",
            "[flaml.automl: 11-26 06:23:18] {2482} INFO -  at 168.6s,\testimator xgb_limitdepth's best error=0.1526,\tbest estimator extra_tree's best error=0.1177\n",
            "[flaml.automl: 11-26 06:23:18] {2288} INFO - iteration 325, current learner xgb_limitdepth\n",
            "[flaml.automl: 11-26 06:23:19] {2482} INFO -  at 168.8s,\testimator xgb_limitdepth's best error=0.1526,\tbest estimator extra_tree's best error=0.1177\n",
            "[flaml.automl: 11-26 06:23:19] {2288} INFO - iteration 326, current learner xgb_limitdepth\n",
            "[flaml.automl: 11-26 06:23:19] {2482} INFO -  at 168.9s,\testimator xgb_limitdepth's best error=0.1526,\tbest estimator extra_tree's best error=0.1177\n",
            "[flaml.automl: 11-26 06:23:19] {2288} INFO - iteration 327, current learner extra_tree\n",
            "[flaml.automl: 11-26 06:23:20] {2482} INFO -  at 170.5s,\testimator extra_tree's best error=0.1177,\tbest estimator extra_tree's best error=0.1177\n",
            "[flaml.automl: 11-26 06:23:20] {2288} INFO - iteration 328, current learner rf\n",
            "[flaml.automl: 11-26 06:23:22] {2482} INFO -  at 172.2s,\testimator rf's best error=0.1684,\tbest estimator extra_tree's best error=0.1177\n",
            "[flaml.automl: 11-26 06:23:22] {2288} INFO - iteration 329, current learner xgb_limitdepth\n",
            "[flaml.automl: 11-26 06:23:22] {2482} INFO -  at 172.3s,\testimator xgb_limitdepth's best error=0.1526,\tbest estimator extra_tree's best error=0.1177\n",
            "[flaml.automl: 11-26 06:23:22] {2288} INFO - iteration 330, current learner xgb_limitdepth\n",
            "[flaml.automl: 11-26 06:23:22] {2482} INFO -  at 172.4s,\testimator xgb_limitdepth's best error=0.1526,\tbest estimator extra_tree's best error=0.1177\n",
            "[flaml.automl: 11-26 06:23:22] {2288} INFO - iteration 331, current learner extra_tree\n",
            "[flaml.automl: 11-26 06:23:24] {2482} INFO -  at 174.0s,\testimator extra_tree's best error=0.1177,\tbest estimator extra_tree's best error=0.1177\n",
            "[flaml.automl: 11-26 06:23:24] {2288} INFO - iteration 332, current learner xgb_limitdepth\n",
            "[flaml.automl: 11-26 06:23:24] {2482} INFO -  at 174.1s,\testimator xgb_limitdepth's best error=0.1526,\tbest estimator extra_tree's best error=0.1177\n",
            "[flaml.automl: 11-26 06:23:24] {2288} INFO - iteration 333, current learner xgb_limitdepth\n",
            "[flaml.automl: 11-26 06:23:24] {2482} INFO -  at 174.2s,\testimator xgb_limitdepth's best error=0.1526,\tbest estimator extra_tree's best error=0.1177\n",
            "[flaml.automl: 11-26 06:23:24] {2288} INFO - iteration 334, current learner xgb_limitdepth\n",
            "[flaml.automl: 11-26 06:23:24] {2482} INFO -  at 174.4s,\testimator xgb_limitdepth's best error=0.1526,\tbest estimator extra_tree's best error=0.1177\n",
            "[flaml.automl: 11-26 06:23:24] {2288} INFO - iteration 335, current learner extra_tree\n",
            "[flaml.automl: 11-26 06:23:26] {2482} INFO -  at 175.7s,\testimator extra_tree's best error=0.1177,\tbest estimator extra_tree's best error=0.1177\n",
            "[flaml.automl: 11-26 06:23:26] {2288} INFO - iteration 336, current learner xgb_limitdepth\n",
            "[flaml.automl: 11-26 06:23:26] {2482} INFO -  at 175.8s,\testimator xgb_limitdepth's best error=0.1526,\tbest estimator extra_tree's best error=0.1177\n",
            "[flaml.automl: 11-26 06:23:26] {2288} INFO - iteration 337, current learner extra_tree\n",
            "[flaml.automl: 11-26 06:23:27] {2482} INFO -  at 177.1s,\testimator extra_tree's best error=0.1177,\tbest estimator extra_tree's best error=0.1177\n",
            "[flaml.automl: 11-26 06:23:27] {2288} INFO - iteration 338, current learner xgb_limitdepth\n",
            "[flaml.automl: 11-26 06:23:27] {2482} INFO -  at 177.3s,\testimator xgb_limitdepth's best error=0.1526,\tbest estimator extra_tree's best error=0.1177\n",
            "[flaml.automl: 11-26 06:23:27] {2288} INFO - iteration 339, current learner xgb_limitdepth\n",
            "[flaml.automl: 11-26 06:23:27] {2482} INFO -  at 177.4s,\testimator xgb_limitdepth's best error=0.1526,\tbest estimator extra_tree's best error=0.1177\n",
            "[flaml.automl: 11-26 06:23:27] {2288} INFO - iteration 340, current learner lgbm\n"
          ]
        },
        {
          "output_type": "stream",
          "name": "stdout",
          "text": [
            "[LightGBM] [Warning] Unknown parameter: global_max_steps\n",
            "[LightGBM] [Warning] Unknown parameter: global_max_steps\n",
            "[LightGBM] [Warning] Unknown parameter: global_max_steps\n",
            "[LightGBM] [Warning] Unknown parameter: global_max_steps\n",
            "[LightGBM] [Warning] Unknown parameter: global_max_steps\n"
          ]
        },
        {
          "output_type": "stream",
          "name": "stderr",
          "text": [
            "[flaml.automl: 11-26 06:23:29] {2482} INFO -  at 178.8s,\testimator lgbm's best error=0.1314,\tbest estimator extra_tree's best error=0.1177\n",
            "[flaml.automl: 11-26 06:23:29] {2288} INFO - iteration 341, current learner xgb_limitdepth\n",
            "[flaml.automl: 11-26 06:23:29] {2482} INFO -  at 178.9s,\testimator xgb_limitdepth's best error=0.1526,\tbest estimator extra_tree's best error=0.1177\n",
            "[flaml.automl: 11-26 06:23:29] {2288} INFO - iteration 342, current learner xgb_limitdepth\n",
            "[flaml.automl: 11-26 06:23:29] {2482} INFO -  at 179.1s,\testimator xgb_limitdepth's best error=0.1526,\tbest estimator extra_tree's best error=0.1177\n",
            "[flaml.automl: 11-26 06:23:29] {2288} INFO - iteration 343, current learner xgb_limitdepth\n",
            "[flaml.automl: 11-26 06:23:29] {2482} INFO -  at 179.2s,\testimator xgb_limitdepth's best error=0.1526,\tbest estimator extra_tree's best error=0.1177\n",
            "[flaml.automl: 11-26 06:23:29] {2288} INFO - iteration 344, current learner xgb_limitdepth\n",
            "[flaml.automl: 11-26 06:23:29] {2482} INFO -  at 179.3s,\testimator xgb_limitdepth's best error=0.1526,\tbest estimator extra_tree's best error=0.1177\n",
            "[flaml.automl: 11-26 06:23:29] {2288} INFO - iteration 345, current learner xgb_limitdepth\n",
            "[flaml.automl: 11-26 06:23:29] {2482} INFO -  at 179.5s,\testimator xgb_limitdepth's best error=0.1526,\tbest estimator extra_tree's best error=0.1177\n",
            "[flaml.automl: 11-26 06:23:29] {2288} INFO - iteration 346, current learner xgb_limitdepth\n",
            "[flaml.automl: 11-26 06:23:29] {2482} INFO -  at 179.6s,\testimator xgb_limitdepth's best error=0.1526,\tbest estimator extra_tree's best error=0.1177\n",
            "[flaml.automl: 11-26 06:23:29] {2288} INFO - iteration 347, current learner xgb_limitdepth\n",
            "[flaml.automl: 11-26 06:23:30] {2482} INFO -  at 179.7s,\testimator xgb_limitdepth's best error=0.1526,\tbest estimator extra_tree's best error=0.1177\n",
            "[flaml.automl: 11-26 06:23:30] {2288} INFO - iteration 348, current learner xgb_limitdepth\n",
            "[flaml.automl: 11-26 06:23:30] {2482} INFO -  at 179.8s,\testimator xgb_limitdepth's best error=0.1526,\tbest estimator extra_tree's best error=0.1177\n",
            "[flaml.automl: 11-26 06:23:30] {2288} INFO - iteration 349, current learner xgb_limitdepth\n",
            "[flaml.automl: 11-26 06:23:30] {2482} INFO -  at 180.0s,\testimator xgb_limitdepth's best error=0.1526,\tbest estimator extra_tree's best error=0.1177\n",
            "[flaml.automl: 11-26 06:23:30] {2694} INFO - retrain extra_tree for 0.2s\n",
            "[flaml.automl: 11-26 06:23:30] {2699} INFO - retrained model: ExtraTreesRegressor(max_features=0.5766353592621293, max_leaf_nodes=247,\n",
            "                    n_estimators=4, n_jobs=-1)\n",
            "[flaml.automl: 11-26 06:23:30] {2077} INFO - fit succeeded\n",
            "[flaml.automl: 11-26 06:23:30] {2079} INFO - Time taken to find the best model: 145.78621459007263\n",
            "[flaml.automl: 11-26 06:23:30] {2093} WARNING - Time taken to find the best model is 81% of the provided time budget and not all estimators' hyperparameter search converged. Consider increasing the time budget.\n"
          ]
        }
      ]
    },
    {
      "cell_type": "code",
      "metadata": {
        "colab": {
          "base_uri": "https://localhost:8080/"
        },
        "id": "Z8yjMBVJ40o-",
        "outputId": "0e4f59ad-def3-4a91-b7f5-64042cc50d6f"
      },
      "source": [
        "print('Best ML leaner:', reg.best_estimator)\n",
        "print('Best hyperparmeter config:', reg.best_config)"
      ],
      "execution_count": null,
      "outputs": [
        {
          "output_type": "stream",
          "name": "stdout",
          "text": [
            "Best ML leaner: extra_tree\n",
            "Best hyperparmeter config: {'n_estimators': 45, 'max_features': 0.5766353592621293, 'max_leaves': 247}\n"
          ]
        }
      ]
    },
    {
      "cell_type": "code",
      "metadata": {
        "id": "Amili69flu9k"
      },
      "source": [
        "x_test = test.drop('MEDV', axis=1)\n",
        "y_test = test.MEDV\n",
        "\n",
        "predicted = reg.predict(x_test)"
      ],
      "execution_count": null,
      "outputs": []
    },
    {
      "cell_type": "code",
      "metadata": {
        "colab": {
          "base_uri": "https://localhost:8080/"
        },
        "id": "kROYHIVrllWc",
        "outputId": "56a218ba-b952-4e4a-abf9-4e08399c93e6"
      },
      "source": [
        "from sklearn.metrics import r2_score, mean_absolute_error\n",
        "\n",
        "print('Prection R2:', r2_score(y_test, predicted).round(3))\n",
        "print('Prection MAE:', mean_absolute_error(y_test, predicted).round(3))"
      ],
      "execution_count": null,
      "outputs": [
        {
          "output_type": "stream",
          "name": "stdout",
          "text": [
            "Prection R2: 0.83\n",
            "Prection MAE: 2.405\n"
          ]
        }
      ]
    }
  ]
}